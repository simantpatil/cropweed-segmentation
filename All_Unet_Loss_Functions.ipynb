{
 "cells": [
  {
   "cell_type": "markdown",
   "metadata": {},
   "source": [
    "# Dice Loss"
   ]
  },
  {
   "cell_type": "code",
   "execution_count": 1,
   "metadata": {},
   "outputs": [],
   "source": [
    "import torch\n",
    "import torch.nn as nn\n",
    "import torch.nn.functional as F\n",
    "\n",
    "class UNet_DL(nn.Module):\n",
    "    def __init__(self, in_channels=3, out_channels=3):\n",
    "        super(UNet_DL, self).__init__()\n",
    "        \n",
    "        # Encoder\n",
    "        self.enc1 = self.conv_block(in_channels, 64)\n",
    "        self.enc2 = self.conv_block(64, 128)\n",
    "        self.enc3 = self.conv_block(128, 256)\n",
    "        self.enc4 = self.conv_block(256, 512)\n",
    "        \n",
    "        # Bridge\n",
    "        self.bridge = self.conv_block(512, 1024)\n",
    "        \n",
    "        # Decoder\n",
    "        self.up4 = nn.ConvTranspose2d(1024, 512, kernel_size=2, stride=2)\n",
    "        self.dec4 = self.conv_block(1024, 512)\n",
    "        \n",
    "        self.up3 = nn.ConvTranspose2d(512, 256, kernel_size=2, stride=2)\n",
    "        self.dec3 = self.conv_block(512, 256)\n",
    "        \n",
    "        self.up2 = nn.ConvTranspose2d(256, 128, kernel_size=2, stride=2)\n",
    "        self.dec2 = self.conv_block(256, 128)\n",
    "        \n",
    "        self.up1 = nn.ConvTranspose2d(128, 64, kernel_size=2, stride=2)\n",
    "        self.dec1 = self.conv_block(128, 64)\n",
    "        \n",
    "        # Final output layer\n",
    "        self.out = nn.Conv2d(64, out_channels, kernel_size=1)\n",
    "\n",
    "    def conv_block(self, in_channels, out_channels):\n",
    "        return nn.Sequential(\n",
    "            nn.Conv2d(in_channels, out_channels, kernel_size=3, padding=1),\n",
    "            nn.ReLU(inplace=True),\n",
    "\n",
    "            nn.Conv2d(out_channels, out_channels, kernel_size=3, padding=1),\n",
    "            nn.ReLU(inplace=True)\n",
    "        )\n",
    "\n",
    "    def forward(self, x):\n",
    "        # ---------------- Encoder ----------------\n",
    "        enc1 = self.enc1(x)                      # (B,64,H,W)\n",
    "        enc2 = self.enc2(F.max_pool2d(enc1, 2))   # (B,128,H/2,W/2)\n",
    "        enc3 = self.enc3(F.max_pool2d(enc2, 2))   # (B,256,H/4,W/4)\n",
    "        enc4 = self.enc4(F.max_pool2d(enc3, 2))   # (B,512,H/8,W/8)\n",
    "\n",
    "        # ---------------- Bridge ----------------\n",
    "        bridge = self.bridge(F.max_pool2d(enc4, 2))  # (B,1024,H/16,W/16)\n",
    "\n",
    "        # ---------------- Decoder ----------------\n",
    "        # Up4\n",
    "        dec4 = self.up4(bridge)                    # (B,512,H/8,W/8)\n",
    "        dec4 = torch.cat([enc4, dec4], dim=1)      # (B,1024,H/8,W/8)\n",
    "        dec4 = self.dec4(dec4)                     # (B,512,H/8,W/8)\n",
    "\n",
    "        # Up3\n",
    "        dec3 = self.up3(dec4)                      # (B,256,H/4,W/4)\n",
    "        dec3 = torch.cat([enc3, dec3], dim=1)      # (B,512,H/4,W/4)\n",
    "        dec3 = self.dec3(dec3)                     # (B,256,H/4,W/4)\n",
    "\n",
    "        # Up2\n",
    "        dec2 = self.up2(dec3)                      # (B,128,H/2,W/2)\n",
    "        dec2 = torch.cat([enc2, dec2], dim=1)      # (B,256,H/2,W/2)\n",
    "        dec2 = self.dec2(dec2)                     # (B,128,H/2,W/2)\n",
    "\n",
    "        # Up1\n",
    "        dec1 = self.up1(dec2)                      # (B,64,H,W)\n",
    "        dec1 = torch.cat([enc1, dec1], dim=1)      # (B,128,H,W)\n",
    "        dec1 = self.dec1(dec1)                     # (B,64,H,W)\n",
    "\n",
    "        # Output\n",
    "        out = self.out(dec1)                       # (B,out_channels,H,W)\n",
    "        return out\n",
    "\n",
    "def dice_loss(pred, target, smooth=1.0):\n",
    "    \"\"\"\n",
    "    Compute Dice Loss for multi-class segmentation.\n",
    "    \n",
    "    Parameters:\n",
    "      - pred: logits tensor of shape (B, C, H, W)\n",
    "      - target: tensor of shape (B, H, W) with class indices\n",
    "      - smooth: smoothing factor to avoid division by zero\n",
    "    \n",
    "    Returns:\n",
    "      - dice loss (1 - average dice score)\n",
    "    \"\"\"\n",
    "    # Apply softmax to logits to get class probabilities\n",
    "    pred_probs = F.softmax(pred, dim=1)  # (B, C, H, W)\n",
    "    \n",
    "    # One-hot encode the target\n",
    "    target_one_hot = F.one_hot(target, num_classes=pred.shape[1])  # (B, H, W, C)\n",
    "    target_one_hot = target_one_hot.permute(0, 3, 1, 2).float()      # (B, C, H, W)\n",
    "    \n",
    "    # Flatten the tensors\n",
    "    pred_flat = pred_probs.contiguous().view(pred_probs.shape[0], pred_probs.shape[1], -1)\n",
    "    target_flat = target_one_hot.contiguous().view(target_one_hot.shape[0], target_one_hot.shape[1], -1)\n",
    "    \n",
    "    intersection = (pred_flat * target_flat).sum(dim=2)\n",
    "    denominator = pred_flat.sum(dim=2) + target_flat.sum(dim=2)\n",
    "    \n",
    "    dice_score = (2 * intersection + smooth) / (denominator + smooth)\n",
    "    loss = 1 - dice_score.mean()\n",
    "    return loss\n"
   ]
  },
  {
   "cell_type": "markdown",
   "metadata": {},
   "source": [
    "# Jaccard Loss"
   ]
  },
  {
   "cell_type": "code",
   "execution_count": 2,
   "metadata": {},
   "outputs": [],
   "source": [
    "import torch\n",
    "import torch.nn as nn\n",
    "import torch.nn.functional as F\n",
    "\n",
    "class UNet_JL(nn.Module):\n",
    "    def __init__(self, in_channels=3, out_channels=3):\n",
    "        super(UNet_JL, self).__init__()\n",
    "        \n",
    "        # Encoder\n",
    "        self.enc1 = self.conv_block(in_channels, 64)\n",
    "        self.enc2 = self.conv_block(64, 128)\n",
    "        self.enc3 = self.conv_block(128, 256)\n",
    "        self.enc4 = self.conv_block(256, 512)\n",
    "        \n",
    "        # Bridge\n",
    "        self.bridge = self.conv_block(512, 1024)\n",
    "        \n",
    "        # Decoder\n",
    "        self.up4 = nn.ConvTranspose2d(1024, 512, kernel_size=2, stride=2)\n",
    "        self.dec4 = self.conv_block(1024, 512)\n",
    "        \n",
    "        self.up3 = nn.ConvTranspose2d(512, 256, kernel_size=2, stride=2)\n",
    "        self.dec3 = self.conv_block(512, 256)\n",
    "        \n",
    "        self.up2 = nn.ConvTranspose2d(256, 128, kernel_size=2, stride=2)\n",
    "        self.dec2 = self.conv_block(256, 128)\n",
    "        \n",
    "        self.up1 = nn.ConvTranspose2d(128, 64, kernel_size=2, stride=2)\n",
    "        self.dec1 = self.conv_block(128, 64)\n",
    "        \n",
    "        # Final output layer\n",
    "        self.out = nn.Conv2d(64, out_channels, kernel_size=1)\n",
    "\n",
    "    def conv_block(self, in_channels, out_channels):\n",
    "        return nn.Sequential(\n",
    "            nn.Conv2d(in_channels, out_channels, kernel_size=3, padding=1),\n",
    "            nn.ReLU(inplace=True),\n",
    "            nn.Conv2d(out_channels, out_channels, kernel_size=3, padding=1),\n",
    "            nn.ReLU(inplace=True)\n",
    "        )\n",
    "\n",
    "    def forward(self, x):\n",
    "        # ---------------- Encoder ----------------\n",
    "        enc1 = self.enc1(x)                      # (B,64,H,W)\n",
    "        enc2 = self.enc2(F.max_pool2d(enc1, 2))   # (B,128,H/2,W/2)\n",
    "        enc3 = self.enc3(F.max_pool2d(enc2, 2))   # (B,256,H/4,W/4)\n",
    "        enc4 = self.enc4(F.max_pool2d(enc3, 2))   # (B,512,H/8,W/8)\n",
    "\n",
    "        # ---------------- Bridge ----------------\n",
    "        bridge = self.bridge(F.max_pool2d(enc4, 2))  # (B,1024,H/16,W/16)\n",
    "\n",
    "        # ---------------- Decoder ----------------\n",
    "        # Up4\n",
    "        dec4 = self.up4(bridge)                    # (B,512,H/8,W/8)\n",
    "        dec4 = torch.cat([enc4, dec4], dim=1)      # (B,1024,H/8,W/8)\n",
    "        dec4 = self.dec4(dec4)                     # (B,512,H/8,W/8)\n",
    "\n",
    "        # Up3\n",
    "        dec3 = self.up3(dec4)                      # (B,256,H/4,W/4)\n",
    "        dec3 = torch.cat([enc3, dec3], dim=1)      # (B,512,H/4,W/4)\n",
    "        dec3 = self.dec3(dec3)                     # (B,256,H/4,W/4)\n",
    "\n",
    "        # Up2\n",
    "        dec2 = self.up2(dec3)                      # (B,128,H/2,W/2)\n",
    "        dec2 = torch.cat([enc2, dec2], dim=1)      # (B,256,H/2,W/2)\n",
    "        dec2 = self.dec2(dec2)                     # (B,128,H/2,W/2)\n",
    "\n",
    "        # Up1\n",
    "        dec1 = self.up1(dec2)                      # (B,64,H,W)\n",
    "        dec1 = torch.cat([enc1, dec1], dim=1)      # (B,128,H,W)\n",
    "        dec1 = self.dec1(dec1)                     # (B,64,H,W)\n",
    "\n",
    "        # Output\n",
    "        out = self.out(dec1)                       # (B,out_channels,H,W)\n",
    "        return out\n",
    "\n",
    "def jaccard_loss(pred, target, smooth=1e-6):\n",
    "    \"\"\"\n",
    "    Computes the Jaccard Loss (IoU loss) for multi-class segmentation.\n",
    "    \n",
    "    Parameters:\n",
    "      - pred: logits tensor of shape (B, C, H, W)\n",
    "      - target: tensor of shape (B, H, W) with class indices\n",
    "      - smooth: smoothing constant to avoid division by zero\n",
    "      \n",
    "    Returns:\n",
    "      - Jaccard loss (1 - average Jaccard index across classes)\n",
    "    \"\"\"\n",
    "    # Convert logits to probabilities using softmax\n",
    "    pred_probs = F.softmax(pred, dim=1)  # shape: (B, C, H, W)\n",
    "    \n",
    "    # One-hot encode the target tensor\n",
    "    target_one_hot = F.one_hot(target, num_classes=pred.shape[1])  # (B, H, W, C)\n",
    "    target_one_hot = target_one_hot.permute(0, 3, 1, 2).float()      # (B, C, H, W)\n",
    "    \n",
    "    # Flatten the tensors: shape (B, C, H*W)\n",
    "    pred_flat = pred_probs.view(pred_probs.shape[0], pred_probs.shape[1], -1)\n",
    "    target_flat = target_one_hot.view(target_one_hot.shape[0], target_one_hot.shape[1], -1)\n",
    "    \n",
    "    intersection = (pred_flat * target_flat).sum(dim=2)\n",
    "    total = (pred_flat + target_flat).sum(dim=2)\n",
    "    union = total - intersection\n",
    "    \n",
    "    jaccard_index = (intersection + smooth) / (union + smooth)\n",
    "    loss = 1 - jaccard_index.mean()\n",
    "    return loss\n"
   ]
  },
  {
   "cell_type": "markdown",
   "metadata": {},
   "source": [
    "# Focal Loss"
   ]
  },
  {
   "cell_type": "code",
   "execution_count": 3,
   "metadata": {},
   "outputs": [],
   "source": [
    "import torch\n",
    "import torch.nn as nn\n",
    "import torch.nn.functional as F\n",
    "\n",
    "class UNet_FL(nn.Module):\n",
    "    def __init__(self, in_channels=3, out_channels=3):\n",
    "        super(UNet_FL, self).__init__()\n",
    "        \n",
    "        # Encoder\n",
    "        self.enc1 = self.conv_block(in_channels, 64)\n",
    "        self.enc2 = self.conv_block(64, 128)\n",
    "        self.enc3 = self.conv_block(128, 256)\n",
    "        self.enc4 = self.conv_block(256, 512)\n",
    "        \n",
    "        # Bridge\n",
    "        self.bridge = self.conv_block(512, 1024)\n",
    "        \n",
    "        # Decoder\n",
    "        self.up4 = nn.ConvTranspose2d(1024, 512, kernel_size=2, stride=2)\n",
    "        self.dec4 = self.conv_block(1024, 512)\n",
    "        \n",
    "        self.up3 = nn.ConvTranspose2d(512, 256, kernel_size=2, stride=2)\n",
    "        self.dec3 = self.conv_block(512, 256)\n",
    "        \n",
    "        self.up2 = nn.ConvTranspose2d(256, 128, kernel_size=2, stride=2)\n",
    "        self.dec2 = self.conv_block(256, 128)\n",
    "        \n",
    "        self.up1 = nn.ConvTranspose2d(128, 64, kernel_size=2, stride=2)\n",
    "        self.dec1 = self.conv_block(128, 64)\n",
    "        \n",
    "        # Final output layer\n",
    "        self.out = nn.Conv2d(64, out_channels, kernel_size=1)\n",
    "\n",
    "    def conv_block(self, in_channels, out_channels):\n",
    "        return nn.Sequential(\n",
    "            nn.Conv2d(in_channels, out_channels, kernel_size=3, padding=1),\n",
    "            nn.ReLU(inplace=True),\n",
    "            nn.Conv2d(out_channels, out_channels, kernel_size=3, padding=1),\n",
    "            nn.ReLU(inplace=True)\n",
    "        )\n",
    "\n",
    "    def forward(self, x):\n",
    "        # ---------------- Encoder ----------------\n",
    "        enc1 = self.enc1(x)                      # (B,64,H,W)\n",
    "        enc2 = self.enc2(F.max_pool2d(enc1, 2))   # (B,128,H/2,W/2)\n",
    "        enc3 = self.enc3(F.max_pool2d(enc2, 2))   # (B,256,H/4,W/4)\n",
    "        enc4 = self.enc4(F.max_pool2d(enc3, 2))   # (B,512,H/8,W/8)\n",
    "\n",
    "        # ---------------- Bridge ----------------\n",
    "        bridge = self.bridge(F.max_pool2d(enc4, 2))  # (B,1024,H/16,W/16)\n",
    "\n",
    "        # ---------------- Decoder ----------------\n",
    "        # Up4\n",
    "        dec4 = self.up4(bridge)                    # (B,512,H/8,W/8)\n",
    "        dec4 = torch.cat([enc4, dec4], dim=1)      # (B,1024,H/8,W/8)\n",
    "        dec4 = self.dec4(dec4)                     # (B,512,H/8,W/8)\n",
    "\n",
    "        # Up3\n",
    "        dec3 = self.up3(dec4)                      # (B,256,H/4,W/4)\n",
    "        dec3 = torch.cat([enc3, dec3], dim=1)      # (B,512,H/4,W/4)\n",
    "        dec3 = self.dec3(dec3)                     # (B,256,H/4,W/4)\n",
    "\n",
    "        # Up2\n",
    "        dec2 = self.up2(dec3)                      # (B,128,H/2,W/2)\n",
    "        dec2 = torch.cat([enc2, dec2], dim=1)      # (B,256,H/2,W/2)\n",
    "        dec2 = self.dec2(dec2)                     # (B,128,H/2,W/2)\n",
    "\n",
    "        # Up1\n",
    "        dec1 = self.up1(dec2)                      # (B,64,H,W)\n",
    "        dec1 = torch.cat([enc1, dec1], dim=1)      # (B,128,H,W)\n",
    "        dec1 = self.dec1(dec1)                     # (B,64,H,W)\n",
    "\n",
    "        # Output\n",
    "        out = self.out(dec1)                       # (B,out_channels,H,W)\n",
    "        return out\n",
    "\n",
    "# ---------------- Focal Loss Implementation ----------------\n",
    "\n",
    "class FocalLoss(nn.Module):\n",
    "    \"\"\"\n",
    "    Focal Loss for multi-class classification.\n",
    "    \n",
    "    Args:\n",
    "        alpha (float): Weighting factor for the rare class. Default: 0.25.\n",
    "        gamma (float): Focusing parameter for modulating factor (1-p). Default: 2.0.\n",
    "        reduction (str): Specifies the reduction to apply to the output: 'none' | 'mean' | 'sum'. Default: 'mean'.\n",
    "    \"\"\"\n",
    "    def __init__(self, alpha=0.25, gamma=2.0, reduction='mean'):\n",
    "        super(FocalLoss, self).__init__()\n",
    "        self.alpha = alpha\n",
    "        self.gamma = gamma\n",
    "        self.reduction = reduction\n",
    "\n",
    "    def forward(self, inputs, targets):\n",
    "        \"\"\"\n",
    "        Args:\n",
    "            inputs (Tensor): Raw output logits from the model with shape (B, C, H, W).\n",
    "            targets (Tensor): Ground truth labels with shape (B, H, W) where each value is 0 ≤ targets[i] ≤ C-1.\n",
    "        \"\"\"\n",
    "        # Compute the standard cross entropy loss (without reduction)\n",
    "        ce_loss = F.cross_entropy(inputs, targets, reduction='none')\n",
    "        # Compute the probability for the true class\n",
    "        pt = torch.exp(-ce_loss)\n",
    "        # Compute the focal loss term\n",
    "        focal_loss = self.alpha * (1 - pt) ** self.gamma * ce_loss\n",
    "        \n",
    "        if self.reduction == 'mean':\n",
    "            return focal_loss.mean()\n",
    "        elif self.reduction == 'sum':\n",
    "            return focal_loss.sum()\n",
    "        else:\n",
    "            return focal_loss\n",
    "\n"
   ]
  },
  {
   "cell_type": "markdown",
   "metadata": {},
   "source": [
    "# Tversky Loss"
   ]
  },
  {
   "cell_type": "code",
   "execution_count": 4,
   "metadata": {},
   "outputs": [],
   "source": [
    "import torch\n",
    "import torch.nn as nn\n",
    "import torch.nn.functional as F\n",
    "\n",
    "class UNet_TL(nn.Module):\n",
    "    def __init__(self, in_channels=3, out_channels=3):\n",
    "        super(UNet_TL, self).__init__()\n",
    "        \n",
    "        # Encoder\n",
    "        self.enc1 = self.conv_block(in_channels, 64)\n",
    "        self.enc2 = self.conv_block(64, 128)\n",
    "        self.enc3 = self.conv_block(128, 256)\n",
    "        self.enc4 = self.conv_block(256, 512)\n",
    "        \n",
    "        # Bridge\n",
    "        self.bridge = self.conv_block(512, 1024)\n",
    "        \n",
    "        # Decoder\n",
    "        self.up4 = nn.ConvTranspose2d(1024, 512, kernel_size=2, stride=2)\n",
    "        self.dec4 = self.conv_block(1024, 512)\n",
    "        \n",
    "        self.up3 = nn.ConvTranspose2d(512, 256, kernel_size=2, stride=2)\n",
    "        self.dec3 = self.conv_block(512, 256)\n",
    "        \n",
    "        self.up2 = nn.ConvTranspose2d(256, 128, kernel_size=2, stride=2)\n",
    "        self.dec2 = self.conv_block(256, 128)\n",
    "        \n",
    "        self.up1 = nn.ConvTranspose2d(128, 64, kernel_size=2, stride=2)\n",
    "        self.dec1 = self.conv_block(128, 64)\n",
    "        \n",
    "        # Final output layer\n",
    "        self.out = nn.Conv2d(64, out_channels, kernel_size=1)\n",
    "\n",
    "    def conv_block(self, in_channels, out_channels):\n",
    "        return nn.Sequential(\n",
    "            nn.Conv2d(in_channels, out_channels, kernel_size=3, padding=1),\n",
    "            nn.ReLU(inplace=True),\n",
    "            nn.Conv2d(out_channels, out_channels, kernel_size=3, padding=1),\n",
    "            nn.ReLU(inplace=True)\n",
    "        )\n",
    "\n",
    "    def forward(self, x):\n",
    "        # ---------------- Encoder ----------------\n",
    "        enc1 = self.enc1(x)                      # (B,64,H,W)\n",
    "        enc2 = self.enc2(F.max_pool2d(enc1, 2))   # (B,128,H/2,W/2)\n",
    "        enc3 = self.enc3(F.max_pool2d(enc2, 2))   # (B,256,H/4,W/4)\n",
    "        enc4 = self.enc4(F.max_pool2d(enc3, 2))   # (B,512,H/8,W/8)\n",
    "\n",
    "        # ---------------- Bridge ----------------\n",
    "        bridge = self.bridge(F.max_pool2d(enc4, 2))  # (B,1024,H/16,W/16)\n",
    "\n",
    "        # ---------------- Decoder ----------------\n",
    "        # Up4\n",
    "        dec4 = self.up4(bridge)                    # (B,512,H/8,W/8)\n",
    "        dec4 = torch.cat([enc4, dec4], dim=1)      # (B,1024,H/8,W/8)\n",
    "        dec4 = self.dec4(dec4)                     # (B,512,H/8,W/8)\n",
    "\n",
    "        # Up3\n",
    "        dec3 = self.up3(dec4)                      # (B,256,H/4,W/4)\n",
    "        dec3 = torch.cat([enc3, dec3], dim=1)      # (B,512,H/4,W/4)\n",
    "        dec3 = self.dec3(dec3)                     # (B,256,H/4,W/4)\n",
    "\n",
    "        # Up2\n",
    "        dec2 = self.up2(dec3)                      # (B,128,H/2,W/2)\n",
    "        dec2 = torch.cat([enc2, dec2], dim=1)      # (B,256,H/2,W/2)\n",
    "        dec2 = self.dec2(dec2)                     # (B,128,H/2,W/2)\n",
    "\n",
    "        # Up1\n",
    "        dec1 = self.up1(dec2)                      # (B,64,H,W)\n",
    "        dec1 = torch.cat([enc1, dec1], dim=1)      # (B,128,H,W)\n",
    "        dec1 = self.dec1(dec1)                     # (B,64,H,W)\n",
    "\n",
    "        # Output\n",
    "        out = self.out(dec1)                       # (B,out_channels,H,W)\n",
    "        return out\n",
    "\n",
    "class TverskyLoss(nn.Module):\n",
    "    \"\"\"\n",
    "    Tversky Loss for multi-class segmentation.\n",
    "    \n",
    "    The Tversky index is defined as:\n",
    "    \n",
    "        TI = TP / (TP + α * FN + β * FP)\n",
    "    \n",
    "    and the Tversky loss is:\n",
    "    \n",
    "        Loss = 1 - TI\n",
    "    \n",
    "    where:\n",
    "      - TP: True Positives\n",
    "      - FN: False Negatives\n",
    "      - FP: False Positives\n",
    "      - α, β: weights that control the penalty for FN and FP respectively.\n",
    "      \n",
    "    Typically, α + β = 1.\n",
    "    \"\"\"\n",
    "    def __init__(self, alpha=0.5, beta=0.5, smooth=1e-6):\n",
    "        super(TverskyLoss, self).__init__()\n",
    "        self.alpha = alpha\n",
    "        self.beta = beta\n",
    "        self.smooth = smooth\n",
    "\n",
    "    def forward(self, inputs, targets):\n",
    "        \"\"\"\n",
    "        Args:\n",
    "            inputs (Tensor): Raw output logits from the model with shape (B, C, H, W).\n",
    "            targets (Tensor): Ground truth labels with shape (B, H, W) where each value is 0 ≤ targets[i] ≤ C-1.\n",
    "        \"\"\"\n",
    "        # Number of classes inferred from the model output\n",
    "        num_classes = inputs.size(1)\n",
    "        \n",
    "        # Convert targets to one-hot encoding with shape (B, C, H, W)\n",
    "        targets_one_hot = F.one_hot(targets, num_classes).permute(0, 3, 1, 2).float()\n",
    "        \n",
    "        # Apply softmax to get class probabilities\n",
    "        probs = F.softmax(inputs, dim=1)\n",
    "        \n",
    "        # Compute the true positives, false negatives, and false positives per class\n",
    "        dims = (0, 2, 3)  # Sum over batch and spatial dimensions\n",
    "        true_pos  = torch.sum(probs * targets_one_hot, dims)\n",
    "        false_neg = torch.sum(targets_one_hot * (1 - probs), dims)\n",
    "        false_pos = torch.sum((1 - targets_one_hot) * probs, dims)\n",
    "        \n",
    "        # Compute the Tversky index for each class\n",
    "        tversky_index = (true_pos + self.smooth) / (true_pos + self.alpha * false_neg + self.beta * false_pos + self.smooth)\n",
    "        \n",
    "        # Tversky loss is 1 minus the Tversky index\n",
    "        loss = 1 - tversky_index\n",
    "        return loss.mean()\n",
    "\n",
    "# ---------------- Example Usage ----------------\n"
   ]
  },
  {
   "cell_type": "markdown",
   "metadata": {},
   "source": [
    "# Lovász-Softmax Loss"
   ]
  },
  {
   "cell_type": "code",
   "execution_count": 5,
   "metadata": {},
   "outputs": [],
   "source": [
    "import torch\n",
    "import torch.nn as nn\n",
    "import torch.nn.functional as F\n",
    "\n",
    "# --------------------- U-Net Model ---------------------\n",
    "class UNet_LSL(nn.Module):\n",
    "    def __init__(self, in_channels=3, out_channels=3):\n",
    "        super(UNet_LSL, self).__init__()\n",
    "        \n",
    "        # Encoder\n",
    "        self.enc1 = self.conv_block(in_channels, 64)\n",
    "        self.enc2 = self.conv_block(64, 128)\n",
    "        self.enc3 = self.conv_block(128, 256)\n",
    "        self.enc4 = self.conv_block(256, 512)\n",
    "        \n",
    "        # Bridge\n",
    "        self.bridge = self.conv_block(512, 1024)\n",
    "        \n",
    "        # Decoder\n",
    "        self.up4 = nn.ConvTranspose2d(1024, 512, kernel_size=2, stride=2)\n",
    "        self.dec4 = self.conv_block(1024, 512)\n",
    "        \n",
    "        self.up3 = nn.ConvTranspose2d(512, 256, kernel_size=2, stride=2)\n",
    "        self.dec3 = self.conv_block(512, 256)\n",
    "        \n",
    "        self.up2 = nn.ConvTranspose2d(256, 128, kernel_size=2, stride=2)\n",
    "        self.dec2 = self.conv_block(256, 128)\n",
    "        \n",
    "        self.up1 = nn.ConvTranspose2d(128, 64, kernel_size=2, stride=2)\n",
    "        self.dec1 = self.conv_block(128, 64)\n",
    "        \n",
    "        # Final output layer\n",
    "        self.out = nn.Conv2d(64, out_channels, kernel_size=1)\n",
    "\n",
    "    def conv_block(self, in_channels, out_channels):\n",
    "        return nn.Sequential(\n",
    "            nn.Conv2d(in_channels, out_channels, kernel_size=3, padding=1),\n",
    "            nn.ReLU(inplace=True),\n",
    "\n",
    "            nn.Conv2d(out_channels, out_channels, kernel_size=3, padding=1),\n",
    "            nn.ReLU(inplace=True)\n",
    "        )\n",
    "\n",
    "    def forward(self, x):\n",
    "        # ---------------- Encoder ----------------\n",
    "        enc1 = self.enc1(x)                      # (B, 64, H, W)\n",
    "        enc2 = self.enc2(F.max_pool2d(enc1, 2))   # (B, 128, H/2, W/2)\n",
    "        enc3 = self.enc3(F.max_pool2d(enc2, 2))   # (B, 256, H/4, W/4)\n",
    "        enc4 = self.enc4(F.max_pool2d(enc3, 2))   # (B, 512, H/8, W/8)\n",
    "\n",
    "        # ---------------- Bridge ----------------\n",
    "        bridge = self.bridge(F.max_pool2d(enc4, 2))  # (B, 1024, H/16, W/16)\n",
    "\n",
    "        # ---------------- Decoder ----------------\n",
    "        # Up4\n",
    "        dec4 = self.up4(bridge)                    # (B, 512, H/8, W/8)\n",
    "        dec4 = torch.cat([enc4, dec4], dim=1)      # (B, 1024, H/8, W/8)\n",
    "        dec4 = self.dec4(dec4)                     # (B, 512, H/8, W/8)\n",
    "\n",
    "        # Up3\n",
    "        dec3 = self.up3(dec4)                      # (B, 256, H/4, W/4)\n",
    "        dec3 = torch.cat([enc3, dec3], dim=1)      # (B, 512, H/4, W/4)\n",
    "        dec3 = self.dec3(dec3)                     # (B, 256, H/4, W/4)\n",
    "\n",
    "        # Up2\n",
    "        dec2 = self.up2(dec3)                      # (B, 128, H/2, W/2)\n",
    "        dec2 = torch.cat([enc2, dec2], dim=1)      # (B, 256, H/2, W/2)\n",
    "        dec2 = self.dec2(dec2)                     # (B, 128, H/2, W/2)\n",
    "\n",
    "        # Up1\n",
    "        dec1 = self.up1(dec2)                      # (B, 64, H, W)\n",
    "        dec1 = torch.cat([enc1, dec1], dim=1)      # (B, 128, H, W)\n",
    "        dec1 = self.dec1(dec1)                     # (B, 64, H, W)\n",
    "\n",
    "        # Output\n",
    "        out = self.out(dec1)                       # (B, out_channels, H, W)\n",
    "        return out\n",
    "\n",
    "# ----------------- Lovász-Softmax Loss -----------------\n",
    "# Helper function: compute gradient of the Lovász extension w.r.t sorted errors\n",
    "def lovasz_grad(gt_sorted):\n",
    "    \"\"\"\n",
    "    Computes gradient of the Lovász extension.\n",
    "    \n",
    "    Args:\n",
    "        gt_sorted (Tensor): Ground truth labels sorted in descending order of prediction errors.\n",
    "    \n",
    "    Returns:\n",
    "        Tensor: Gradients.\n",
    "    \"\"\"\n",
    "    p = len(gt_sorted)\n",
    "    gts = gt_sorted.sum()\n",
    "    intersection = gts - gt_sorted.float().cumsum(0)\n",
    "    union = gts + (1 - gt_sorted).float().cumsum(0)\n",
    "    jaccard = 1. - intersection / union\n",
    "    if p > 1:\n",
    "        jaccard[1:p] = jaccard[1:p] - jaccard[:-1]\n",
    "    return jaccard\n",
    "\n",
    "def flatten_probas(probas, labels, ignore=None):\n",
    "    \"\"\"\n",
    "    Flattens predictions in shape [B, C, H, W] and labels in shape [B, H, W]\n",
    "    to [P, C] and [P] respectively.\n",
    "    \n",
    "    Args:\n",
    "        probas (Tensor): Class probabilities (after softmax) with shape (B, C, H, W).\n",
    "        labels (Tensor): Ground truth labels with shape (B, H, W).\n",
    "        ignore (int, optional): Label to ignore.\n",
    "    \n",
    "    Returns:\n",
    "        Tuple[Tensor, Tensor]: Flattened probabilities and labels.\n",
    "    \"\"\"\n",
    "    if ignore is None:\n",
    "        probas = probas.permute(0, 2, 3, 1).contiguous().view(-1, probas.size(1))\n",
    "        labels = labels.view(-1)\n",
    "    else:\n",
    "        mask = labels != ignore\n",
    "        probas = probas.permute(0, 2, 3, 1)[mask].contiguous().view(-1, probas.size(1))\n",
    "        labels = labels[mask]\n",
    "    return probas, labels\n",
    "\n",
    "def lovasz_softmax_flat(probas, labels, classes='present'):\n",
    "    \"\"\"\n",
    "    Computes the Lovász-Softmax loss from flattened predictions and labels.\n",
    "    \n",
    "    Args:\n",
    "        probas (Tensor): Flattened class probabilities, shape [P, C].\n",
    "        labels (Tensor): Flattened ground truth labels, shape [P].\n",
    "        classes (str or list): 'present' to compute loss only over classes present in labels,\n",
    "                               or a list of classes to average over.\n",
    "    \n",
    "    Returns:\n",
    "        Tensor: Lovász-Softmax loss.\n",
    "    \"\"\"\n",
    "    if probas.numel() == 0:\n",
    "        # Only void pixels, the loss is zero\n",
    "        return probas * 0.\n",
    "    C = probas.size(1)\n",
    "    losses = []\n",
    "    class_to_sum = list(range(C)) if classes in ['all', 'present'] else classes\n",
    "    for c in class_to_sum:\n",
    "        fg = (labels == c).float()  # foreground for class c\n",
    "        if classes == 'present' and fg.sum() == 0:\n",
    "            continue\n",
    "        errors = torch.abs(fg - probas[:, c])\n",
    "        errors_sorted, perm = torch.sort(errors, descending=True)\n",
    "        fg_sorted = fg[perm]\n",
    "        grad = lovasz_grad(fg_sorted)\n",
    "        losses.append(torch.dot(errors_sorted, grad))\n",
    "    if len(losses) == 0:\n",
    "        # If no class is present, return zero\n",
    "        return torch.tensor(0.).to(probas.device)\n",
    "    return sum(losses) / len(losses)\n",
    "\n",
    "def lovasz_softmax(probas, labels, classes='present', per_image=False, ignore=None):\n",
    "    \"\"\"\n",
    "    Multi-class Lovász-Softmax loss.\n",
    "    \n",
    "    Args:\n",
    "        probas (Tensor): Class probabilities at each pixel, shape [B, C, H, W].\n",
    "        labels (Tensor): Ground truth labels, shape [B, H, W].\n",
    "        classes (str or list): See lovasz_softmax_flat.\n",
    "        per_image (bool): Compute the loss per image instead of per batch.\n",
    "        ignore (int, optional): Label to ignore.\n",
    "    \n",
    "    Returns:\n",
    "        Tensor: Lovász-Softmax loss.\n",
    "    \"\"\"\n",
    "    if per_image:\n",
    "        loss = torch.mean(\n",
    "            torch.stack([\n",
    "                lovasz_softmax_flat(*flatten_probas(prob.unsqueeze(0), lab.unsqueeze(0), ignore), classes=classes)\n",
    "                for prob, lab in zip(probas, labels)\n",
    "            ])\n",
    "        )\n",
    "        return loss\n",
    "    else:\n",
    "        probas, labels = flatten_probas(probas, labels, ignore)\n",
    "        return lovasz_softmax_flat(probas, labels, classes=classes)\n",
    "\n",
    "class LovaszSoftmaxLoss(nn.Module):\n",
    "    \"\"\"\n",
    "    Lovász-Softmax loss module.\n",
    "    \n",
    "    Args:\n",
    "        per_image (bool): Whether to compute the loss per image.\n",
    "        ignore_index (int, optional): Label to ignore.\n",
    "        classes (str or list): Which classes to include in the loss computation.\n",
    "    \"\"\"\n",
    "    def __init__(self, per_image=False, ignore_index=None, classes='present'):\n",
    "        super(LovaszSoftmaxLoss, self).__init__()\n",
    "        self.per_image = per_image\n",
    "        self.ignore_index = ignore_index\n",
    "        self.classes = classes\n",
    "\n",
    "    def forward(self, logits, labels):\n",
    "        # Compute class probabilities\n",
    "        probas = F.softmax(logits, dim=1)\n",
    "        loss = lovasz_softmax(probas, labels, classes=self.classes,\n",
    "                              per_image=self.per_image, ignore=self.ignore_index)\n",
    "        return loss"
   ]
  },
  {
   "cell_type": "code",
   "execution_count": 6,
   "metadata": {},
   "outputs": [
    {
     "name": "stdout",
     "output_type": "stream",
     "text": [
      "\n",
      "[Unet-DL] Epoch 1/100\n"
     ]
    },
    {
     "name": "stderr",
     "output_type": "stream",
     "text": [
      "                                                           \r"
     ]
    },
    {
     "name": "stdout",
     "output_type": "stream",
     "text": [
      "Train Loss: 0.2951, Train Accuracy: 87.47%, Train IoU: 0.6199, Train IoU Loss: 0.3801\n"
     ]
    },
    {
     "name": "stderr",
     "output_type": "stream",
     "text": [
      "                                                             \r"
     ]
    },
    {
     "name": "stdout",
     "output_type": "stream",
     "text": [
      "Val Loss:   0.1884, Val Accuracy:   93.10%, Val IoU:   0.8202, Val IoU Loss:   0.1798\n",
      "  [*] Best model saved at Unet-DL/unet_best_model.pth\n",
      "\n",
      "[Unet-DL] Epoch 2/100\n"
     ]
    },
    {
     "name": "stderr",
     "output_type": "stream",
     "text": [
      "                                                           \r"
     ]
    },
    {
     "name": "stdout",
     "output_type": "stream",
     "text": [
      "Train Loss: 0.2007, Train Accuracy: 92.26%, Train IoU: 0.7325, Train IoU Loss: 0.2675\n"
     ]
    },
    {
     "name": "stderr",
     "output_type": "stream",
     "text": [
      "                                                             \r"
     ]
    },
    {
     "name": "stdout",
     "output_type": "stream",
     "text": [
      "Val Loss:   0.3186, Val Accuracy:   83.57%, Val IoU:   0.5191, Val IoU Loss:   0.4809\n",
      "\n",
      "[Unet-DL] Epoch 3/100\n"
     ]
    },
    {
     "name": "stderr",
     "output_type": "stream",
     "text": [
      "                                                           \r"
     ]
    },
    {
     "name": "stdout",
     "output_type": "stream",
     "text": [
      "Train Loss: 0.1927, Train Accuracy: 92.34%, Train IoU: 0.6844, Train IoU Loss: 0.3156\n"
     ]
    },
    {
     "name": "stderr",
     "output_type": "stream",
     "text": [
      "                                                             \r"
     ]
    },
    {
     "name": "stdout",
     "output_type": "stream",
     "text": [
      "Val Loss:   0.2073, Val Accuracy:   91.79%, Val IoU:   0.7484, Val IoU Loss:   0.2516\n",
      "\n",
      "[Unet-DL] Epoch 4/100\n"
     ]
    },
    {
     "name": "stderr",
     "output_type": "stream",
     "text": [
      "                                                           \r"
     ]
    },
    {
     "name": "stdout",
     "output_type": "stream",
     "text": [
      "Train Loss: 0.1697, Train Accuracy: 93.37%, Train IoU: 0.7124, Train IoU Loss: 0.2876\n"
     ]
    },
    {
     "name": "stderr",
     "output_type": "stream",
     "text": [
      "                                                             \r"
     ]
    },
    {
     "name": "stdout",
     "output_type": "stream",
     "text": [
      "Val Loss:   0.2046, Val Accuracy:   91.61%, Val IoU:   0.7315, Val IoU Loss:   0.2685\n",
      "\n",
      "[Unet-DL] Epoch 5/100\n"
     ]
    },
    {
     "name": "stderr",
     "output_type": "stream",
     "text": [
      "                                                           \r"
     ]
    },
    {
     "name": "stdout",
     "output_type": "stream",
     "text": [
      "Train Loss: 0.1574, Train Accuracy: 93.91%, Train IoU: 0.7241, Train IoU Loss: 0.2759\n"
     ]
    },
    {
     "name": "stderr",
     "output_type": "stream",
     "text": [
      "                                                             \r"
     ]
    },
    {
     "name": "stdout",
     "output_type": "stream",
     "text": [
      "Val Loss:   0.2167, Val Accuracy:   90.24%, Val IoU:   0.6830, Val IoU Loss:   0.3170\n",
      "\n",
      "[Unet-DL] Epoch 6/100\n"
     ]
    },
    {
     "name": "stderr",
     "output_type": "stream",
     "text": [
      "                                                           \r"
     ]
    },
    {
     "name": "stdout",
     "output_type": "stream",
     "text": [
      "Train Loss: 0.1531, Train Accuracy: 94.07%, Train IoU: 0.7295, Train IoU Loss: 0.2705\n"
     ]
    },
    {
     "name": "stderr",
     "output_type": "stream",
     "text": [
      "                                                             \r"
     ]
    },
    {
     "name": "stdout",
     "output_type": "stream",
     "text": [
      "Val Loss:   0.1675, Val Accuracy:   93.23%, Val IoU:   0.7871, Val IoU Loss:   0.2129\n",
      "  [*] Best model saved at Unet-DL/unet_best_model.pth\n",
      "\n",
      "[Unet-DL] Epoch 7/100\n"
     ]
    },
    {
     "name": "stderr",
     "output_type": "stream",
     "text": [
      "                                                           \r"
     ]
    },
    {
     "name": "stdout",
     "output_type": "stream",
     "text": [
      "Train Loss: 0.1474, Train Accuracy: 94.30%, Train IoU: 0.7417, Train IoU Loss: 0.2583\n"
     ]
    },
    {
     "name": "stderr",
     "output_type": "stream",
     "text": [
      "                                                             \r"
     ]
    },
    {
     "name": "stdout",
     "output_type": "stream",
     "text": [
      "Val Loss:   0.2176, Val Accuracy:   91.02%, Val IoU:   0.7481, Val IoU Loss:   0.2519\n",
      "\n",
      "[Unet-DL] Epoch 8/100\n"
     ]
    },
    {
     "name": "stderr",
     "output_type": "stream",
     "text": [
      "                                                           \r"
     ]
    },
    {
     "name": "stdout",
     "output_type": "stream",
     "text": [
      "Train Loss: 0.1439, Train Accuracy: 94.52%, Train IoU: 0.7515, Train IoU Loss: 0.2485\n"
     ]
    },
    {
     "name": "stderr",
     "output_type": "stream",
     "text": [
      "                                                             \r"
     ]
    },
    {
     "name": "stdout",
     "output_type": "stream",
     "text": [
      "Val Loss:   0.1713, Val Accuracy:   92.76%, Val IoU:   0.7629, Val IoU Loss:   0.2371\n",
      "\n",
      "[Unet-DL] Epoch 9/100\n"
     ]
    },
    {
     "name": "stderr",
     "output_type": "stream",
     "text": [
      "                                                           \r"
     ]
    },
    {
     "name": "stdout",
     "output_type": "stream",
     "text": [
      "Train Loss: 0.1391, Train Accuracy: 94.68%, Train IoU: 0.7568, Train IoU Loss: 0.2432\n"
     ]
    },
    {
     "name": "stderr",
     "output_type": "stream",
     "text": [
      "                                                             \r"
     ]
    },
    {
     "name": "stdout",
     "output_type": "stream",
     "text": [
      "Val Loss:   0.1693, Val Accuracy:   93.27%, Val IoU:   0.7833, Val IoU Loss:   0.2167\n",
      "\n",
      "[Unet-DL] Epoch 10/100\n"
     ]
    },
    {
     "name": "stderr",
     "output_type": "stream",
     "text": [
      "                                                           \r"
     ]
    },
    {
     "name": "stdout",
     "output_type": "stream",
     "text": [
      "Train Loss: 0.1352, Train Accuracy: 94.84%, Train IoU: 0.7637, Train IoU Loss: 0.2363\n"
     ]
    },
    {
     "name": "stderr",
     "output_type": "stream",
     "text": [
      "                                                             \r"
     ]
    },
    {
     "name": "stdout",
     "output_type": "stream",
     "text": [
      "Val Loss:   0.2072, Val Accuracy:   90.92%, Val IoU:   0.6927, Val IoU Loss:   0.3073\n",
      "\n",
      "[Unet-DL] Epoch 11/100\n"
     ]
    },
    {
     "name": "stderr",
     "output_type": "stream",
     "text": [
      "                                                           \r"
     ]
    },
    {
     "name": "stdout",
     "output_type": "stream",
     "text": [
      "Train Loss: 0.1375, Train Accuracy: 94.74%, Train IoU: 0.7612, Train IoU Loss: 0.2388\n"
     ]
    },
    {
     "name": "stderr",
     "output_type": "stream",
     "text": [
      "                                                             \r"
     ]
    },
    {
     "name": "stdout",
     "output_type": "stream",
     "text": [
      "Val Loss:   0.1720, Val Accuracy:   93.11%, Val IoU:   0.8022, Val IoU Loss:   0.1978\n",
      "\n",
      "[Unet-DL] Epoch 12/100\n"
     ]
    },
    {
     "name": "stderr",
     "output_type": "stream",
     "text": [
      "                                                           \r"
     ]
    },
    {
     "name": "stdout",
     "output_type": "stream",
     "text": [
      "Train Loss: 0.1315, Train Accuracy: 95.04%, Train IoU: 0.7709, Train IoU Loss: 0.2291\n"
     ]
    },
    {
     "name": "stderr",
     "output_type": "stream",
     "text": [
      "                                                             \r"
     ]
    },
    {
     "name": "stdout",
     "output_type": "stream",
     "text": [
      "Val Loss:   0.1566, Val Accuracy:   93.91%, Val IoU:   0.8066, Val IoU Loss:   0.1934\n",
      "  [*] Best model saved at Unet-DL/unet_best_model.pth\n",
      "\n",
      "[Unet-DL] Epoch 13/100\n"
     ]
    },
    {
     "name": "stderr",
     "output_type": "stream",
     "text": [
      "                                                           \r"
     ]
    },
    {
     "name": "stdout",
     "output_type": "stream",
     "text": [
      "Train Loss: 0.1288, Train Accuracy: 95.15%, Train IoU: 0.7770, Train IoU Loss: 0.2230\n"
     ]
    },
    {
     "name": "stderr",
     "output_type": "stream",
     "text": [
      "                                                             \r"
     ]
    },
    {
     "name": "stdout",
     "output_type": "stream",
     "text": [
      "Val Loss:   0.1499, Val Accuracy:   94.25%, Val IoU:   0.8154, Val IoU Loss:   0.1846\n",
      "  [*] Best model saved at Unet-DL/unet_best_model.pth\n",
      "\n",
      "[Unet-DL] Epoch 14/100\n"
     ]
    },
    {
     "name": "stderr",
     "output_type": "stream",
     "text": [
      "                                                           \r"
     ]
    },
    {
     "name": "stdout",
     "output_type": "stream",
     "text": [
      "Train Loss: 0.1243, Train Accuracy: 95.35%, Train IoU: 0.7818, Train IoU Loss: 0.2182\n"
     ]
    },
    {
     "name": "stderr",
     "output_type": "stream",
     "text": [
      "                                                             \r"
     ]
    },
    {
     "name": "stdout",
     "output_type": "stream",
     "text": [
      "Val Loss:   0.1948, Val Accuracy:   91.54%, Val IoU:   0.7273, Val IoU Loss:   0.2727\n",
      "\n",
      "[Unet-DL] Epoch 15/100\n"
     ]
    },
    {
     "name": "stderr",
     "output_type": "stream",
     "text": [
      "                                                           \r"
     ]
    },
    {
     "name": "stdout",
     "output_type": "stream",
     "text": [
      "Train Loss: 0.1302, Train Accuracy: 95.08%, Train IoU: 0.7724, Train IoU Loss: 0.2276\n"
     ]
    },
    {
     "name": "stderr",
     "output_type": "stream",
     "text": [
      "                                                             \r"
     ]
    },
    {
     "name": "stdout",
     "output_type": "stream",
     "text": [
      "Val Loss:   0.1581, Val Accuracy:   93.50%, Val IoU:   0.8055, Val IoU Loss:   0.1945\n",
      "\n",
      "[Unet-DL] Epoch 16/100\n"
     ]
    },
    {
     "name": "stderr",
     "output_type": "stream",
     "text": [
      "                                                           \r"
     ]
    },
    {
     "name": "stdout",
     "output_type": "stream",
     "text": [
      "Train Loss: 0.1214, Train Accuracy: 95.44%, Train IoU: 0.7843, Train IoU Loss: 0.2157\n"
     ]
    },
    {
     "name": "stderr",
     "output_type": "stream",
     "text": [
      "                                                             \r"
     ]
    },
    {
     "name": "stdout",
     "output_type": "stream",
     "text": [
      "Val Loss:   0.1865, Val Accuracy:   92.46%, Val IoU:   0.7540, Val IoU Loss:   0.2460\n",
      "\n",
      "[Unet-DL] Epoch 17/100\n"
     ]
    },
    {
     "name": "stderr",
     "output_type": "stream",
     "text": [
      "                                                           \r"
     ]
    },
    {
     "name": "stdout",
     "output_type": "stream",
     "text": [
      "Train Loss: 0.1267, Train Accuracy: 95.20%, Train IoU: 0.7784, Train IoU Loss: 0.2216\n"
     ]
    },
    {
     "name": "stderr",
     "output_type": "stream",
     "text": [
      "                                                             \r"
     ]
    },
    {
     "name": "stdout",
     "output_type": "stream",
     "text": [
      "Val Loss:   0.2068, Val Accuracy:   90.47%, Val IoU:   0.6892, Val IoU Loss:   0.3108\n",
      "\n",
      "[Unet-DL] Epoch 18/100\n"
     ]
    },
    {
     "name": "stderr",
     "output_type": "stream",
     "text": [
      "                                                           \r"
     ]
    },
    {
     "name": "stdout",
     "output_type": "stream",
     "text": [
      "Train Loss: 0.1206, Train Accuracy: 95.49%, Train IoU: 0.7871, Train IoU Loss: 0.2129\n"
     ]
    },
    {
     "name": "stderr",
     "output_type": "stream",
     "text": [
      "                                                             \r"
     ]
    },
    {
     "name": "stdout",
     "output_type": "stream",
     "text": [
      "Val Loss:   0.1611, Val Accuracy:   93.57%, Val IoU:   0.8134, Val IoU Loss:   0.1866\n",
      "\n",
      "[Unet-DL] Epoch 19/100\n"
     ]
    },
    {
     "name": "stderr",
     "output_type": "stream",
     "text": [
      "                                                           \r"
     ]
    },
    {
     "name": "stdout",
     "output_type": "stream",
     "text": [
      "Train Loss: 0.1198, Train Accuracy: 95.54%, Train IoU: 0.7880, Train IoU Loss: 0.2120\n"
     ]
    },
    {
     "name": "stderr",
     "output_type": "stream",
     "text": [
      "                                                             \r"
     ]
    },
    {
     "name": "stdout",
     "output_type": "stream",
     "text": [
      "Val Loss:   0.1800, Val Accuracy:   92.98%, Val IoU:   0.7627, Val IoU Loss:   0.2373\n",
      "\n",
      "[Unet-DL] Epoch 20/100\n"
     ]
    },
    {
     "name": "stderr",
     "output_type": "stream",
     "text": [
      "                                                           \r"
     ]
    },
    {
     "name": "stdout",
     "output_type": "stream",
     "text": [
      "Train Loss: 0.1215, Train Accuracy: 95.44%, Train IoU: 0.7862, Train IoU Loss: 0.2138\n"
     ]
    },
    {
     "name": "stderr",
     "output_type": "stream",
     "text": [
      "                                                             \r"
     ]
    },
    {
     "name": "stdout",
     "output_type": "stream",
     "text": [
      "Val Loss:   0.1441, Val Accuracy:   94.35%, Val IoU:   0.8240, Val IoU Loss:   0.1760\n",
      "  [*] Best model saved at Unet-DL/unet_best_model.pth\n",
      "\n",
      "[Unet-DL] Epoch 21/100\n"
     ]
    },
    {
     "name": "stderr",
     "output_type": "stream",
     "text": [
      "                                                           \r"
     ]
    },
    {
     "name": "stdout",
     "output_type": "stream",
     "text": [
      "Train Loss: 0.1183, Train Accuracy: 95.57%, Train IoU: 0.7869, Train IoU Loss: 0.2131\n"
     ]
    },
    {
     "name": "stderr",
     "output_type": "stream",
     "text": [
      "                                                             \r"
     ]
    },
    {
     "name": "stdout",
     "output_type": "stream",
     "text": [
      "Val Loss:   0.1404, Val Accuracy:   94.69%, Val IoU:   0.8304, Val IoU Loss:   0.1696\n",
      "  [*] Best model saved at Unet-DL/unet_best_model.pth\n",
      "\n",
      "[Unet-DL] Epoch 22/100\n"
     ]
    },
    {
     "name": "stderr",
     "output_type": "stream",
     "text": [
      "                                                           \r"
     ]
    },
    {
     "name": "stdout",
     "output_type": "stream",
     "text": [
      "Train Loss: 0.1162, Train Accuracy: 95.67%, Train IoU: 0.7915, Train IoU Loss: 0.2085\n"
     ]
    },
    {
     "name": "stderr",
     "output_type": "stream",
     "text": [
      "                                                             \r"
     ]
    },
    {
     "name": "stdout",
     "output_type": "stream",
     "text": [
      "Val Loss:   0.1415, Val Accuracy:   94.69%, Val IoU:   0.8235, Val IoU Loss:   0.1765\n",
      "\n",
      "[Unet-DL] Epoch 23/100\n"
     ]
    },
    {
     "name": "stderr",
     "output_type": "stream",
     "text": [
      "                                                           \r"
     ]
    },
    {
     "name": "stdout",
     "output_type": "stream",
     "text": [
      "Train Loss: 0.1121, Train Accuracy: 95.86%, Train IoU: 0.7984, Train IoU Loss: 0.2016\n"
     ]
    },
    {
     "name": "stderr",
     "output_type": "stream",
     "text": [
      "                                                             \r"
     ]
    },
    {
     "name": "stdout",
     "output_type": "stream",
     "text": [
      "Val Loss:   0.1349, Val Accuracy:   94.82%, Val IoU:   0.8386, Val IoU Loss:   0.1614\n",
      "  [*] Best model saved at Unet-DL/unet_best_model.pth\n",
      "\n",
      "[Unet-DL] Epoch 24/100\n"
     ]
    },
    {
     "name": "stderr",
     "output_type": "stream",
     "text": [
      "                                                           \r"
     ]
    },
    {
     "name": "stdout",
     "output_type": "stream",
     "text": [
      "Train Loss: 0.1123, Train Accuracy: 95.85%, Train IoU: 0.7994, Train IoU Loss: 0.2006\n"
     ]
    },
    {
     "name": "stderr",
     "output_type": "stream",
     "text": [
      "                                                             \r"
     ]
    },
    {
     "name": "stdout",
     "output_type": "stream",
     "text": [
      "Val Loss:   0.1406, Val Accuracy:   94.43%, Val IoU:   0.8135, Val IoU Loss:   0.1865\n",
      "\n",
      "[Unet-DL] Epoch 25/100\n"
     ]
    },
    {
     "name": "stderr",
     "output_type": "stream",
     "text": [
      "                                                           \r"
     ]
    },
    {
     "name": "stdout",
     "output_type": "stream",
     "text": [
      "Train Loss: 0.1122, Train Accuracy: 95.86%, Train IoU: 0.8007, Train IoU Loss: 0.1993\n"
     ]
    },
    {
     "name": "stderr",
     "output_type": "stream",
     "text": [
      "                                                             \r"
     ]
    },
    {
     "name": "stdout",
     "output_type": "stream",
     "text": [
      "Val Loss:   0.1237, Val Accuracy:   95.47%, Val IoU:   0.8479, Val IoU Loss:   0.1521\n",
      "  [*] Best model saved at Unet-DL/unet_best_model.pth\n",
      "\n",
      "[Unet-DL] Epoch 26/100\n"
     ]
    },
    {
     "name": "stderr",
     "output_type": "stream",
     "text": [
      "                                                           \r"
     ]
    },
    {
     "name": "stdout",
     "output_type": "stream",
     "text": [
      "Train Loss: 0.1101, Train Accuracy: 95.92%, Train IoU: 0.8000, Train IoU Loss: 0.2000\n"
     ]
    },
    {
     "name": "stderr",
     "output_type": "stream",
     "text": [
      "                                                             \r"
     ]
    },
    {
     "name": "stdout",
     "output_type": "stream",
     "text": [
      "Val Loss:   0.1411, Val Accuracy:   94.49%, Val IoU:   0.8241, Val IoU Loss:   0.1759\n",
      "\n",
      "[Unet-DL] Epoch 27/100\n"
     ]
    },
    {
     "name": "stderr",
     "output_type": "stream",
     "text": [
      "                                                           \r"
     ]
    },
    {
     "name": "stdout",
     "output_type": "stream",
     "text": [
      "Train Loss: 0.1106, Train Accuracy: 95.91%, Train IoU: 0.8015, Train IoU Loss: 0.1985\n"
     ]
    },
    {
     "name": "stderr",
     "output_type": "stream",
     "text": [
      "                                                             \r"
     ]
    },
    {
     "name": "stdout",
     "output_type": "stream",
     "text": [
      "Val Loss:   0.1482, Val Accuracy:   94.16%, Val IoU:   0.8214, Val IoU Loss:   0.1786\n",
      "\n",
      "[Unet-DL] Epoch 28/100\n"
     ]
    },
    {
     "name": "stderr",
     "output_type": "stream",
     "text": [
      "                                                           \r"
     ]
    },
    {
     "name": "stdout",
     "output_type": "stream",
     "text": [
      "Train Loss: 0.1108, Train Accuracy: 95.91%, Train IoU: 0.7983, Train IoU Loss: 0.2017\n"
     ]
    },
    {
     "name": "stderr",
     "output_type": "stream",
     "text": [
      "                                                             \r"
     ]
    },
    {
     "name": "stdout",
     "output_type": "stream",
     "text": [
      "Val Loss:   0.1458, Val Accuracy:   94.44%, Val IoU:   0.8210, Val IoU Loss:   0.1790\n",
      "\n",
      "[Unet-DL] Epoch 29/100\n"
     ]
    },
    {
     "name": "stderr",
     "output_type": "stream",
     "text": [
      "                                                           \r"
     ]
    },
    {
     "name": "stdout",
     "output_type": "stream",
     "text": [
      "Train Loss: 0.1063, Train Accuracy: 96.10%, Train IoU: 0.8060, Train IoU Loss: 0.1940\n"
     ]
    },
    {
     "name": "stderr",
     "output_type": "stream",
     "text": [
      "                                                             \r"
     ]
    },
    {
     "name": "stdout",
     "output_type": "stream",
     "text": [
      "Val Loss:   0.1277, Val Accuracy:   95.17%, Val IoU:   0.8420, Val IoU Loss:   0.1580\n",
      "\n",
      "[Unet-DL] Epoch 30/100\n"
     ]
    },
    {
     "name": "stderr",
     "output_type": "stream",
     "text": [
      "                                                           \r"
     ]
    },
    {
     "name": "stdout",
     "output_type": "stream",
     "text": [
      "Train Loss: 0.1145, Train Accuracy: 95.77%, Train IoU: 0.7975, Train IoU Loss: 0.2025\n"
     ]
    },
    {
     "name": "stderr",
     "output_type": "stream",
     "text": [
      "                                                             \r"
     ]
    },
    {
     "name": "stdout",
     "output_type": "stream",
     "text": [
      "Val Loss:   0.1357, Val Accuracy:   94.83%, Val IoU:   0.8318, Val IoU Loss:   0.1682\n",
      "\n",
      "[Unet-DL] Epoch 31/100\n"
     ]
    },
    {
     "name": "stderr",
     "output_type": "stream",
     "text": [
      "                                                           \r"
     ]
    },
    {
     "name": "stdout",
     "output_type": "stream",
     "text": [
      "Train Loss: 0.1089, Train Accuracy: 96.01%, Train IoU: 0.8049, Train IoU Loss: 0.1951\n"
     ]
    },
    {
     "name": "stderr",
     "output_type": "stream",
     "text": [
      "                                                             \r"
     ]
    },
    {
     "name": "stdout",
     "output_type": "stream",
     "text": [
      "Val Loss:   0.1305, Val Accuracy:   94.95%, Val IoU:   0.8386, Val IoU Loss:   0.1614\n",
      "\n",
      "[Unet-DL] Epoch 32/100\n"
     ]
    },
    {
     "name": "stderr",
     "output_type": "stream",
     "text": [
      "                                                           \r"
     ]
    },
    {
     "name": "stdout",
     "output_type": "stream",
     "text": [
      "Train Loss: 0.1058, Train Accuracy: 96.11%, Train IoU: 0.8071, Train IoU Loss: 0.1929\n"
     ]
    },
    {
     "name": "stderr",
     "output_type": "stream",
     "text": [
      "                                                             \r"
     ]
    },
    {
     "name": "stdout",
     "output_type": "stream",
     "text": [
      "Val Loss:   0.1202, Val Accuracy:   95.60%, Val IoU:   0.8533, Val IoU Loss:   0.1467\n",
      "  [*] Best model saved at Unet-DL/unet_best_model.pth\n",
      "\n",
      "[Unet-DL] Epoch 33/100\n"
     ]
    },
    {
     "name": "stderr",
     "output_type": "stream",
     "text": [
      "                                                           \r"
     ]
    },
    {
     "name": "stdout",
     "output_type": "stream",
     "text": [
      "Train Loss: 0.1041, Train Accuracy: 96.21%, Train IoU: 0.8104, Train IoU Loss: 0.1896\n"
     ]
    },
    {
     "name": "stderr",
     "output_type": "stream",
     "text": [
      "                                                             \r"
     ]
    },
    {
     "name": "stdout",
     "output_type": "stream",
     "text": [
      "Val Loss:   0.1262, Val Accuracy:   95.34%, Val IoU:   0.8450, Val IoU Loss:   0.1550\n",
      "\n",
      "[Unet-DL] Epoch 34/100\n"
     ]
    },
    {
     "name": "stderr",
     "output_type": "stream",
     "text": [
      "                                                           \r"
     ]
    },
    {
     "name": "stdout",
     "output_type": "stream",
     "text": [
      "Train Loss: 0.1039, Train Accuracy: 96.22%, Train IoU: 0.8104, Train IoU Loss: 0.1896\n"
     ]
    },
    {
     "name": "stderr",
     "output_type": "stream",
     "text": [
      "                                                             \r"
     ]
    },
    {
     "name": "stdout",
     "output_type": "stream",
     "text": [
      "Val Loss:   0.1499, Val Accuracy:   94.30%, Val IoU:   0.8117, Val IoU Loss:   0.1883\n",
      "\n",
      "[Unet-DL] Epoch 35/100\n"
     ]
    },
    {
     "name": "stderr",
     "output_type": "stream",
     "text": [
      "                                                           \r"
     ]
    },
    {
     "name": "stdout",
     "output_type": "stream",
     "text": [
      "Train Loss: 0.1050, Train Accuracy: 96.16%, Train IoU: 0.8065, Train IoU Loss: 0.1935\n"
     ]
    },
    {
     "name": "stderr",
     "output_type": "stream",
     "text": [
      "                                                             \r"
     ]
    },
    {
     "name": "stdout",
     "output_type": "stream",
     "text": [
      "Val Loss:   0.1357, Val Accuracy:   94.85%, Val IoU:   0.8329, Val IoU Loss:   0.1671\n",
      "\n",
      "[Unet-DL] Epoch 36/100\n"
     ]
    },
    {
     "name": "stderr",
     "output_type": "stream",
     "text": [
      "                                                           \r"
     ]
    },
    {
     "name": "stdout",
     "output_type": "stream",
     "text": [
      "Train Loss: 0.1084, Train Accuracy: 96.01%, Train IoU: 0.8078, Train IoU Loss: 0.1922\n"
     ]
    },
    {
     "name": "stderr",
     "output_type": "stream",
     "text": [
      "                                                             \r"
     ]
    },
    {
     "name": "stdout",
     "output_type": "stream",
     "text": [
      "Val Loss:   0.1282, Val Accuracy:   95.09%, Val IoU:   0.8427, Val IoU Loss:   0.1573\n",
      "\n",
      "[Unet-DL] Epoch 37/100\n"
     ]
    },
    {
     "name": "stderr",
     "output_type": "stream",
     "text": [
      "                                                           \r"
     ]
    },
    {
     "name": "stdout",
     "output_type": "stream",
     "text": [
      "Train Loss: 0.1045, Train Accuracy: 96.18%, Train IoU: 0.8105, Train IoU Loss: 0.1895\n"
     ]
    },
    {
     "name": "stderr",
     "output_type": "stream",
     "text": [
      "                                                             \r"
     ]
    },
    {
     "name": "stdout",
     "output_type": "stream",
     "text": [
      "Val Loss:   0.1272, Val Accuracy:   95.18%, Val IoU:   0.8418, Val IoU Loss:   0.1582\n",
      "\n",
      "[Unet-DL] Epoch 38/100\n"
     ]
    },
    {
     "name": "stderr",
     "output_type": "stream",
     "text": [
      "                                                           \r"
     ]
    },
    {
     "name": "stdout",
     "output_type": "stream",
     "text": [
      "Train Loss: 0.1025, Train Accuracy: 96.27%, Train IoU: 0.8124, Train IoU Loss: 0.1876\n"
     ]
    },
    {
     "name": "stderr",
     "output_type": "stream",
     "text": [
      "                                                             \r"
     ]
    },
    {
     "name": "stdout",
     "output_type": "stream",
     "text": [
      "Val Loss:   0.1376, Val Accuracy:   94.64%, Val IoU:   0.8343, Val IoU Loss:   0.1657\n",
      "\n",
      "[Unet-DL] Epoch 39/100\n"
     ]
    },
    {
     "name": "stderr",
     "output_type": "stream",
     "text": [
      "                                                           \r"
     ]
    },
    {
     "name": "stdout",
     "output_type": "stream",
     "text": [
      "Train Loss: 0.1015, Train Accuracy: 96.31%, Train IoU: 0.8141, Train IoU Loss: 0.1859\n"
     ]
    },
    {
     "name": "stderr",
     "output_type": "stream",
     "text": [
      "                                                             \r"
     ]
    },
    {
     "name": "stdout",
     "output_type": "stream",
     "text": [
      "Val Loss:   0.1248, Val Accuracy:   95.21%, Val IoU:   0.8415, Val IoU Loss:   0.1585\n",
      "\n",
      "[Unet-DL] Epoch 40/100\n"
     ]
    },
    {
     "name": "stderr",
     "output_type": "stream",
     "text": [
      "                                                           \r"
     ]
    },
    {
     "name": "stdout",
     "output_type": "stream",
     "text": [
      "Train Loss: 0.1009, Train Accuracy: 96.33%, Train IoU: 0.8154, Train IoU Loss: 0.1846\n"
     ]
    },
    {
     "name": "stderr",
     "output_type": "stream",
     "text": [
      "                                                             \r"
     ]
    },
    {
     "name": "stdout",
     "output_type": "stream",
     "text": [
      "Val Loss:   0.1291, Val Accuracy:   95.11%, Val IoU:   0.8399, Val IoU Loss:   0.1601\n",
      "\n",
      "[Unet-DL] Epoch 41/100\n"
     ]
    },
    {
     "name": "stderr",
     "output_type": "stream",
     "text": [
      "                                                           \r"
     ]
    },
    {
     "name": "stdout",
     "output_type": "stream",
     "text": [
      "Train Loss: 0.1034, Train Accuracy: 96.22%, Train IoU: 0.8124, Train IoU Loss: 0.1876\n"
     ]
    },
    {
     "name": "stderr",
     "output_type": "stream",
     "text": [
      "                                                             \r"
     ]
    },
    {
     "name": "stdout",
     "output_type": "stream",
     "text": [
      "Val Loss:   0.1312, Val Accuracy:   95.00%, Val IoU:   0.8371, Val IoU Loss:   0.1629\n",
      "\n",
      "[Unet-DL] Epoch 42/100\n"
     ]
    },
    {
     "name": "stderr",
     "output_type": "stream",
     "text": [
      "                                                           \r"
     ]
    },
    {
     "name": "stdout",
     "output_type": "stream",
     "text": [
      "Train Loss: 0.1013, Train Accuracy: 96.31%, Train IoU: 0.8139, Train IoU Loss: 0.1861\n"
     ]
    },
    {
     "name": "stderr",
     "output_type": "stream",
     "text": [
      "                                                             \r"
     ]
    },
    {
     "name": "stdout",
     "output_type": "stream",
     "text": [
      "Val Loss:   0.1384, Val Accuracy:   94.54%, Val IoU:   0.8114, Val IoU Loss:   0.1886\n",
      "  [!] Early stopping for Unet-DL\n",
      "  Metrics saved to Unet-DL/Training_Metrics.xlsx\n",
      "Done training Unet-DL.\n",
      "\n",
      "\n",
      "[Unet-JL] Epoch 1/100\n"
     ]
    },
    {
     "name": "stderr",
     "output_type": "stream",
     "text": [
      "                                                           \r"
     ]
    },
    {
     "name": "stdout",
     "output_type": "stream",
     "text": [
      "Train Loss: 0.5202, Train Accuracy: 80.46%, Train IoU: 0.5208, Train IoU Loss: 0.4792\n"
     ]
    },
    {
     "name": "stderr",
     "output_type": "stream",
     "text": [
      "                                                             \r"
     ]
    },
    {
     "name": "stdout",
     "output_type": "stream",
     "text": [
      "Val Loss:   0.2127, Val Accuracy:   91.88%, Val IoU:   0.8023, Val IoU Loss:   0.1977\n",
      "  [*] Best model saved at Unet-JL/unet_best_model.pth\n",
      "\n",
      "[Unet-JL] Epoch 2/100\n"
     ]
    },
    {
     "name": "stderr",
     "output_type": "stream",
     "text": [
      "                                                           \r"
     ]
    },
    {
     "name": "stdout",
     "output_type": "stream",
     "text": [
      "Train Loss: 0.3964, Train Accuracy: 89.09%, Train IoU: 0.6875, Train IoU Loss: 0.3125\n"
     ]
    },
    {
     "name": "stderr",
     "output_type": "stream",
     "text": [
      "                                                             \r"
     ]
    },
    {
     "name": "stdout",
     "output_type": "stream",
     "text": [
      "Val Loss:   0.2757, Val Accuracy:   88.45%, Val IoU:   0.6794, Val IoU Loss:   0.3206\n",
      "\n",
      "[Unet-JL] Epoch 3/100\n"
     ]
    },
    {
     "name": "stderr",
     "output_type": "stream",
     "text": [
      "                                                           \r"
     ]
    },
    {
     "name": "stdout",
     "output_type": "stream",
     "text": [
      "Train Loss: 0.2001, Train Accuracy: 91.98%, Train IoU: 0.7105, Train IoU Loss: 0.2895\n"
     ]
    },
    {
     "name": "stderr",
     "output_type": "stream",
     "text": [
      "                                                             \r"
     ]
    },
    {
     "name": "stdout",
     "output_type": "stream",
     "text": [
      "Val Loss:   0.1935, Val Accuracy:   92.11%, Val IoU:   0.7801, Val IoU Loss:   0.2199\n",
      "  [*] Best model saved at Unet-JL/unet_best_model.pth\n",
      "\n",
      "[Unet-JL] Epoch 4/100\n"
     ]
    },
    {
     "name": "stderr",
     "output_type": "stream",
     "text": [
      "                                                           \r"
     ]
    },
    {
     "name": "stdout",
     "output_type": "stream",
     "text": [
      "Train Loss: 0.1593, Train Accuracy: 93.90%, Train IoU: 0.7644, Train IoU Loss: 0.2356\n"
     ]
    },
    {
     "name": "stderr",
     "output_type": "stream",
     "text": [
      "                                                             \r"
     ]
    },
    {
     "name": "stdout",
     "output_type": "stream",
     "text": [
      "Val Loss:   0.1626, Val Accuracy:   93.59%, Val IoU:   0.8113, Val IoU Loss:   0.1887\n",
      "  [*] Best model saved at Unet-JL/unet_best_model.pth\n",
      "\n",
      "[Unet-JL] Epoch 5/100\n"
     ]
    },
    {
     "name": "stderr",
     "output_type": "stream",
     "text": [
      "                                                           \r"
     ]
    },
    {
     "name": "stdout",
     "output_type": "stream",
     "text": [
      "Train Loss: 0.1351, Train Accuracy: 94.93%, Train IoU: 0.7930, Train IoU Loss: 0.2070\n"
     ]
    },
    {
     "name": "stderr",
     "output_type": "stream",
     "text": [
      "                                                             \r"
     ]
    },
    {
     "name": "stdout",
     "output_type": "stream",
     "text": [
      "Val Loss:   0.1977, Val Accuracy:   91.79%, Val IoU:   0.7485, Val IoU Loss:   0.2515\n",
      "\n",
      "[Unet-JL] Epoch 6/100\n"
     ]
    },
    {
     "name": "stderr",
     "output_type": "stream",
     "text": [
      "                                                           \r"
     ]
    },
    {
     "name": "stdout",
     "output_type": "stream",
     "text": [
      "Train Loss: 0.1245, Train Accuracy: 95.34%, Train IoU: 0.8057, Train IoU Loss: 0.1943\n"
     ]
    },
    {
     "name": "stderr",
     "output_type": "stream",
     "text": [
      "                                                             \r"
     ]
    },
    {
     "name": "stdout",
     "output_type": "stream",
     "text": [
      "Val Loss:   0.1322, Val Accuracy:   95.00%, Val IoU:   0.8520, Val IoU Loss:   0.1480\n",
      "  [*] Best model saved at Unet-JL/unet_best_model.pth\n",
      "\n",
      "[Unet-JL] Epoch 7/100\n"
     ]
    },
    {
     "name": "stderr",
     "output_type": "stream",
     "text": [
      "                                                           \r"
     ]
    },
    {
     "name": "stdout",
     "output_type": "stream",
     "text": [
      "Train Loss: 0.1173, Train Accuracy: 95.61%, Train IoU: 0.8165, Train IoU Loss: 0.1835\n"
     ]
    },
    {
     "name": "stderr",
     "output_type": "stream",
     "text": [
      "                                                             \r"
     ]
    },
    {
     "name": "stdout",
     "output_type": "stream",
     "text": [
      "Val Loss:   0.1441, Val Accuracy:   94.47%, Val IoU:   0.8453, Val IoU Loss:   0.1547\n",
      "\n",
      "[Unet-JL] Epoch 8/100\n"
     ]
    },
    {
     "name": "stderr",
     "output_type": "stream",
     "text": [
      "                                                           \r"
     ]
    },
    {
     "name": "stdout",
     "output_type": "stream",
     "text": [
      "Train Loss: 0.1113, Train Accuracy: 95.87%, Train IoU: 0.8273, Train IoU Loss: 0.1727\n"
     ]
    },
    {
     "name": "stderr",
     "output_type": "stream",
     "text": [
      "                                                             \r"
     ]
    },
    {
     "name": "stdout",
     "output_type": "stream",
     "text": [
      "Val Loss:   0.1259, Val Accuracy:   95.35%, Val IoU:   0.8532, Val IoU Loss:   0.1468\n",
      "  [*] Best model saved at Unet-JL/unet_best_model.pth\n",
      "\n",
      "[Unet-JL] Epoch 9/100\n"
     ]
    },
    {
     "name": "stderr",
     "output_type": "stream",
     "text": [
      "                                                           \r"
     ]
    },
    {
     "name": "stdout",
     "output_type": "stream",
     "text": [
      "Train Loss: 0.1054, Train Accuracy: 96.10%, Train IoU: 0.8338, Train IoU Loss: 0.1662\n"
     ]
    },
    {
     "name": "stderr",
     "output_type": "stream",
     "text": [
      "                                                             \r"
     ]
    },
    {
     "name": "stdout",
     "output_type": "stream",
     "text": [
      "Val Loss:   0.1190, Val Accuracy:   95.31%, Val IoU:   0.8592, Val IoU Loss:   0.1408\n",
      "  [*] Best model saved at Unet-JL/unet_best_model.pth\n",
      "\n",
      "[Unet-JL] Epoch 10/100\n"
     ]
    },
    {
     "name": "stderr",
     "output_type": "stream",
     "text": [
      "                                                           \r"
     ]
    },
    {
     "name": "stdout",
     "output_type": "stream",
     "text": [
      "Train Loss: 0.0987, Train Accuracy: 96.37%, Train IoU: 0.8423, Train IoU Loss: 0.1577\n"
     ]
    },
    {
     "name": "stderr",
     "output_type": "stream",
     "text": [
      "                                                             \r"
     ]
    },
    {
     "name": "stdout",
     "output_type": "stream",
     "text": [
      "Val Loss:   0.1444, Val Accuracy:   94.58%, Val IoU:   0.8400, Val IoU Loss:   0.1600\n",
      "\n",
      "[Unet-JL] Epoch 11/100\n"
     ]
    },
    {
     "name": "stderr",
     "output_type": "stream",
     "text": [
      "                                                           \r"
     ]
    },
    {
     "name": "stdout",
     "output_type": "stream",
     "text": [
      "Train Loss: 0.1014, Train Accuracy: 96.24%, Train IoU: 0.8386, Train IoU Loss: 0.1614\n"
     ]
    },
    {
     "name": "stderr",
     "output_type": "stream",
     "text": [
      "                                                             \r"
     ]
    },
    {
     "name": "stdout",
     "output_type": "stream",
     "text": [
      "Val Loss:   0.1001, Val Accuracy:   96.20%, Val IoU:   0.8826, Val IoU Loss:   0.1174\n",
      "  [*] Best model saved at Unet-JL/unet_best_model.pth\n",
      "\n",
      "[Unet-JL] Epoch 12/100\n"
     ]
    },
    {
     "name": "stderr",
     "output_type": "stream",
     "text": [
      "                                                           \r"
     ]
    },
    {
     "name": "stdout",
     "output_type": "stream",
     "text": [
      "Train Loss: 0.0940, Train Accuracy: 96.56%, Train IoU: 0.8509, Train IoU Loss: 0.1491\n"
     ]
    },
    {
     "name": "stderr",
     "output_type": "stream",
     "text": [
      "                                                             \r"
     ]
    },
    {
     "name": "stdout",
     "output_type": "stream",
     "text": [
      "Val Loss:   0.0989, Val Accuracy:   96.32%, Val IoU:   0.8850, Val IoU Loss:   0.1150\n",
      "  [*] Best model saved at Unet-JL/unet_best_model.pth\n",
      "\n",
      "[Unet-JL] Epoch 13/100\n"
     ]
    },
    {
     "name": "stderr",
     "output_type": "stream",
     "text": [
      "                                                           \r"
     ]
    },
    {
     "name": "stdout",
     "output_type": "stream",
     "text": [
      "Train Loss: 0.0933, Train Accuracy: 96.57%, Train IoU: 0.8522, Train IoU Loss: 0.1478\n"
     ]
    },
    {
     "name": "stderr",
     "output_type": "stream",
     "text": [
      "                                                             \r"
     ]
    },
    {
     "name": "stdout",
     "output_type": "stream",
     "text": [
      "Val Loss:   0.1229, Val Accuracy:   95.07%, Val IoU:   0.8534, Val IoU Loss:   0.1466\n",
      "\n",
      "[Unet-JL] Epoch 14/100\n"
     ]
    },
    {
     "name": "stderr",
     "output_type": "stream",
     "text": [
      "                                                           \r"
     ]
    },
    {
     "name": "stdout",
     "output_type": "stream",
     "text": [
      "Train Loss: 0.0902, Train Accuracy: 96.70%, Train IoU: 0.8550, Train IoU Loss: 0.1450\n"
     ]
    },
    {
     "name": "stderr",
     "output_type": "stream",
     "text": [
      "                                                             \r"
     ]
    },
    {
     "name": "stdout",
     "output_type": "stream",
     "text": [
      "Val Loss:   0.1012, Val Accuracy:   96.10%, Val IoU:   0.8824, Val IoU Loss:   0.1176\n",
      "\n",
      "[Unet-JL] Epoch 15/100\n"
     ]
    },
    {
     "name": "stderr",
     "output_type": "stream",
     "text": [
      "                                                           \r"
     ]
    },
    {
     "name": "stdout",
     "output_type": "stream",
     "text": [
      "Train Loss: 0.0854, Train Accuracy: 96.89%, Train IoU: 0.8627, Train IoU Loss: 0.1373\n"
     ]
    },
    {
     "name": "stderr",
     "output_type": "stream",
     "text": [
      "                                                             \r"
     ]
    },
    {
     "name": "stdout",
     "output_type": "stream",
     "text": [
      "Val Loss:   0.1091, Val Accuracy:   95.66%, Val IoU:   0.8720, Val IoU Loss:   0.1280\n",
      "\n",
      "[Unet-JL] Epoch 16/100\n"
     ]
    },
    {
     "name": "stderr",
     "output_type": "stream",
     "text": [
      "                                                           \r"
     ]
    },
    {
     "name": "stdout",
     "output_type": "stream",
     "text": [
      "Train Loss: 0.0850, Train Accuracy: 96.91%, Train IoU: 0.8640, Train IoU Loss: 0.1360\n"
     ]
    },
    {
     "name": "stderr",
     "output_type": "stream",
     "text": [
      "                                                             \r"
     ]
    },
    {
     "name": "stdout",
     "output_type": "stream",
     "text": [
      "Val Loss:   0.0881, Val Accuracy:   96.69%, Val IoU:   0.8957, Val IoU Loss:   0.1043\n",
      "  [*] Best model saved at Unet-JL/unet_best_model.pth\n",
      "\n",
      "[Unet-JL] Epoch 17/100\n"
     ]
    },
    {
     "name": "stderr",
     "output_type": "stream",
     "text": [
      "                                                           \r"
     ]
    },
    {
     "name": "stdout",
     "output_type": "stream",
     "text": [
      "Train Loss: 0.0836, Train Accuracy: 96.97%, Train IoU: 0.8659, Train IoU Loss: 0.1341\n"
     ]
    },
    {
     "name": "stderr",
     "output_type": "stream",
     "text": [
      "                                                             \r"
     ]
    },
    {
     "name": "stdout",
     "output_type": "stream",
     "text": [
      "Val Loss:   0.0920, Val Accuracy:   96.50%, Val IoU:   0.8926, Val IoU Loss:   0.1074\n",
      "\n",
      "[Unet-JL] Epoch 18/100\n"
     ]
    },
    {
     "name": "stderr",
     "output_type": "stream",
     "text": [
      "                                                           \r"
     ]
    },
    {
     "name": "stdout",
     "output_type": "stream",
     "text": [
      "Train Loss: 0.0873, Train Accuracy: 96.82%, Train IoU: 0.8611, Train IoU Loss: 0.1389\n"
     ]
    },
    {
     "name": "stderr",
     "output_type": "stream",
     "text": [
      "                                                             \r"
     ]
    },
    {
     "name": "stdout",
     "output_type": "stream",
     "text": [
      "Val Loss:   0.0942, Val Accuracy:   96.47%, Val IoU:   0.8893, Val IoU Loss:   0.1107\n",
      "\n",
      "[Unet-JL] Epoch 19/100\n"
     ]
    },
    {
     "name": "stderr",
     "output_type": "stream",
     "text": [
      "                                                           \r"
     ]
    },
    {
     "name": "stdout",
     "output_type": "stream",
     "text": [
      "Train Loss: 0.0796, Train Accuracy: 97.13%, Train IoU: 0.8707, Train IoU Loss: 0.1293\n"
     ]
    },
    {
     "name": "stderr",
     "output_type": "stream",
     "text": [
      "                                                             \r"
     ]
    },
    {
     "name": "stdout",
     "output_type": "stream",
     "text": [
      "Val Loss:   0.0857, Val Accuracy:   96.76%, Val IoU:   0.8974, Val IoU Loss:   0.1026\n",
      "  [*] Best model saved at Unet-JL/unet_best_model.pth\n",
      "\n",
      "[Unet-JL] Epoch 20/100\n"
     ]
    },
    {
     "name": "stderr",
     "output_type": "stream",
     "text": [
      "                                                           \r"
     ]
    },
    {
     "name": "stdout",
     "output_type": "stream",
     "text": [
      "Train Loss: 0.0796, Train Accuracy: 97.12%, Train IoU: 0.8704, Train IoU Loss: 0.1296\n"
     ]
    },
    {
     "name": "stderr",
     "output_type": "stream",
     "text": [
      "                                                             \r"
     ]
    },
    {
     "name": "stdout",
     "output_type": "stream",
     "text": [
      "Val Loss:   0.0830, Val Accuracy:   96.90%, Val IoU:   0.9011, Val IoU Loss:   0.0989\n",
      "  [*] Best model saved at Unet-JL/unet_best_model.pth\n",
      "\n",
      "[Unet-JL] Epoch 21/100\n"
     ]
    },
    {
     "name": "stderr",
     "output_type": "stream",
     "text": [
      "                                                           \r"
     ]
    },
    {
     "name": "stdout",
     "output_type": "stream",
     "text": [
      "Train Loss: 0.0822, Train Accuracy: 97.02%, Train IoU: 0.8699, Train IoU Loss: 0.1301\n"
     ]
    },
    {
     "name": "stderr",
     "output_type": "stream",
     "text": [
      "                                                             \r"
     ]
    },
    {
     "name": "stdout",
     "output_type": "stream",
     "text": [
      "Val Loss:   0.0890, Val Accuracy:   96.68%, Val IoU:   0.8963, Val IoU Loss:   0.1037\n",
      "\n",
      "[Unet-JL] Epoch 22/100\n"
     ]
    },
    {
     "name": "stderr",
     "output_type": "stream",
     "text": [
      "                                                           \r"
     ]
    },
    {
     "name": "stdout",
     "output_type": "stream",
     "text": [
      "Train Loss: 0.0782, Train Accuracy: 97.18%, Train IoU: 0.8725, Train IoU Loss: 0.1275\n"
     ]
    },
    {
     "name": "stderr",
     "output_type": "stream",
     "text": [
      "                                                             \r"
     ]
    },
    {
     "name": "stdout",
     "output_type": "stream",
     "text": [
      "Val Loss:   0.0943, Val Accuracy:   96.38%, Val IoU:   0.8895, Val IoU Loss:   0.1105\n",
      "\n",
      "[Unet-JL] Epoch 23/100\n"
     ]
    },
    {
     "name": "stderr",
     "output_type": "stream",
     "text": [
      "                                                           \r"
     ]
    },
    {
     "name": "stdout",
     "output_type": "stream",
     "text": [
      "Train Loss: 0.0721, Train Accuracy: 97.42%, Train IoU: 0.8818, Train IoU Loss: 0.1182\n"
     ]
    },
    {
     "name": "stderr",
     "output_type": "stream",
     "text": [
      "                                                             \r"
     ]
    },
    {
     "name": "stdout",
     "output_type": "stream",
     "text": [
      "Val Loss:   0.0853, Val Accuracy:   96.79%, Val IoU:   0.8991, Val IoU Loss:   0.1009\n",
      "\n",
      "[Unet-JL] Epoch 24/100\n"
     ]
    },
    {
     "name": "stderr",
     "output_type": "stream",
     "text": [
      "                                                           \r"
     ]
    },
    {
     "name": "stdout",
     "output_type": "stream",
     "text": [
      "Train Loss: 0.0749, Train Accuracy: 97.30%, Train IoU: 0.8792, Train IoU Loss: 0.1208\n"
     ]
    },
    {
     "name": "stderr",
     "output_type": "stream",
     "text": [
      "                                                             \r"
     ]
    },
    {
     "name": "stdout",
     "output_type": "stream",
     "text": [
      "Val Loss:   0.0879, Val Accuracy:   96.67%, Val IoU:   0.8948, Val IoU Loss:   0.1052\n",
      "\n",
      "[Unet-JL] Epoch 25/100\n"
     ]
    },
    {
     "name": "stderr",
     "output_type": "stream",
     "text": [
      "                                                           \r"
     ]
    },
    {
     "name": "stdout",
     "output_type": "stream",
     "text": [
      "Train Loss: 0.0790, Train Accuracy: 97.17%, Train IoU: 0.8736, Train IoU Loss: 0.1264\n"
     ]
    },
    {
     "name": "stderr",
     "output_type": "stream",
     "text": [
      "                                                             \r"
     ]
    },
    {
     "name": "stdout",
     "output_type": "stream",
     "text": [
      "Val Loss:   0.0759, Val Accuracy:   97.22%, Val IoU:   0.9095, Val IoU Loss:   0.0905\n",
      "  [*] Best model saved at Unet-JL/unet_best_model.pth\n",
      "\n",
      "[Unet-JL] Epoch 26/100\n"
     ]
    },
    {
     "name": "stderr",
     "output_type": "stream",
     "text": [
      "                                                           \r"
     ]
    },
    {
     "name": "stdout",
     "output_type": "stream",
     "text": [
      "Train Loss: 0.0729, Train Accuracy: 97.40%, Train IoU: 0.8826, Train IoU Loss: 0.1174\n"
     ]
    },
    {
     "name": "stderr",
     "output_type": "stream",
     "text": [
      "                                                             \r"
     ]
    },
    {
     "name": "stdout",
     "output_type": "stream",
     "text": [
      "Val Loss:   0.0807, Val Accuracy:   96.99%, Val IoU:   0.9045, Val IoU Loss:   0.0955\n",
      "\n",
      "[Unet-JL] Epoch 27/100\n"
     ]
    },
    {
     "name": "stderr",
     "output_type": "stream",
     "text": [
      "                                                           \r"
     ]
    },
    {
     "name": "stdout",
     "output_type": "stream",
     "text": [
      "Train Loss: 0.0700, Train Accuracy: 97.51%, Train IoU: 0.8829, Train IoU Loss: 0.1171\n"
     ]
    },
    {
     "name": "stderr",
     "output_type": "stream",
     "text": [
      "                                                             \r"
     ]
    },
    {
     "name": "stdout",
     "output_type": "stream",
     "text": [
      "Val Loss:   0.0832, Val Accuracy:   96.99%, Val IoU:   0.9007, Val IoU Loss:   0.0993\n",
      "\n",
      "[Unet-JL] Epoch 28/100\n"
     ]
    },
    {
     "name": "stderr",
     "output_type": "stream",
     "text": [
      "                                                           \r"
     ]
    },
    {
     "name": "stdout",
     "output_type": "stream",
     "text": [
      "Train Loss: 0.0707, Train Accuracy: 97.47%, Train IoU: 0.8838, Train IoU Loss: 0.1162\n"
     ]
    },
    {
     "name": "stderr",
     "output_type": "stream",
     "text": [
      "                                                             \r"
     ]
    },
    {
     "name": "stdout",
     "output_type": "stream",
     "text": [
      "Val Loss:   0.0827, Val Accuracy:   97.03%, Val IoU:   0.9001, Val IoU Loss:   0.0999\n",
      "\n",
      "[Unet-JL] Epoch 29/100\n"
     ]
    },
    {
     "name": "stderr",
     "output_type": "stream",
     "text": [
      "                                                           \r"
     ]
    },
    {
     "name": "stdout",
     "output_type": "stream",
     "text": [
      "Train Loss: 0.0696, Train Accuracy: 97.52%, Train IoU: 0.8852, Train IoU Loss: 0.1148\n"
     ]
    },
    {
     "name": "stderr",
     "output_type": "stream",
     "text": [
      "                                                             \r"
     ]
    },
    {
     "name": "stdout",
     "output_type": "stream",
     "text": [
      "Val Loss:   0.1108, Val Accuracy:   95.74%, Val IoU:   0.8786, Val IoU Loss:   0.1214\n",
      "\n",
      "[Unet-JL] Epoch 30/100\n"
     ]
    },
    {
     "name": "stderr",
     "output_type": "stream",
     "text": [
      "                                                           \r"
     ]
    },
    {
     "name": "stdout",
     "output_type": "stream",
     "text": [
      "Train Loss: 0.0670, Train Accuracy: 97.62%, Train IoU: 0.8891, Train IoU Loss: 0.1109\n"
     ]
    },
    {
     "name": "stderr",
     "output_type": "stream",
     "text": [
      "                                                             \r"
     ]
    },
    {
     "name": "stdout",
     "output_type": "stream",
     "text": [
      "Val Loss:   0.0794, Val Accuracy:   97.18%, Val IoU:   0.9091, Val IoU Loss:   0.0909\n",
      "\n",
      "[Unet-JL] Epoch 31/100\n"
     ]
    },
    {
     "name": "stderr",
     "output_type": "stream",
     "text": [
      "                                                           \r"
     ]
    },
    {
     "name": "stdout",
     "output_type": "stream",
     "text": [
      "Train Loss: 0.0685, Train Accuracy: 97.57%, Train IoU: 0.8874, Train IoU Loss: 0.1126\n"
     ]
    },
    {
     "name": "stderr",
     "output_type": "stream",
     "text": [
      "                                                             \r"
     ]
    },
    {
     "name": "stdout",
     "output_type": "stream",
     "text": [
      "Val Loss:   0.0893, Val Accuracy:   96.63%, Val IoU:   0.8939, Val IoU Loss:   0.1061\n",
      "\n",
      "[Unet-JL] Epoch 32/100\n"
     ]
    },
    {
     "name": "stderr",
     "output_type": "stream",
     "text": [
      "                                                           \r"
     ]
    },
    {
     "name": "stdout",
     "output_type": "stream",
     "text": [
      "Train Loss: 0.0658, Train Accuracy: 97.68%, Train IoU: 0.8900, Train IoU Loss: 0.1100\n"
     ]
    },
    {
     "name": "stderr",
     "output_type": "stream",
     "text": [
      "                                                             \r"
     ]
    },
    {
     "name": "stdout",
     "output_type": "stream",
     "text": [
      "Val Loss:   0.0804, Val Accuracy:   97.06%, Val IoU:   0.9043, Val IoU Loss:   0.0957\n",
      "\n",
      "[Unet-JL] Epoch 33/100\n"
     ]
    },
    {
     "name": "stderr",
     "output_type": "stream",
     "text": [
      "                                                           \r"
     ]
    },
    {
     "name": "stdout",
     "output_type": "stream",
     "text": [
      "Train Loss: 0.0667, Train Accuracy: 97.64%, Train IoU: 0.8912, Train IoU Loss: 0.1088\n"
     ]
    },
    {
     "name": "stderr",
     "output_type": "stream",
     "text": [
      "                                                             \r"
     ]
    },
    {
     "name": "stdout",
     "output_type": "stream",
     "text": [
      "Val Loss:   0.0997, Val Accuracy:   96.44%, Val IoU:   0.8884, Val IoU Loss:   0.1116\n",
      "\n",
      "[Unet-JL] Epoch 34/100\n"
     ]
    },
    {
     "name": "stderr",
     "output_type": "stream",
     "text": [
      "                                                           \r"
     ]
    },
    {
     "name": "stdout",
     "output_type": "stream",
     "text": [
      "Train Loss: 0.0677, Train Accuracy: 97.59%, Train IoU: 0.8894, Train IoU Loss: 0.1106\n"
     ]
    },
    {
     "name": "stderr",
     "output_type": "stream",
     "text": [
      "                                                             \r"
     ]
    },
    {
     "name": "stdout",
     "output_type": "stream",
     "text": [
      "Val Loss:   0.0791, Val Accuracy:   97.20%, Val IoU:   0.9054, Val IoU Loss:   0.0946\n",
      "\n",
      "[Unet-JL] Epoch 35/100\n"
     ]
    },
    {
     "name": "stderr",
     "output_type": "stream",
     "text": [
      "                                                           \r"
     ]
    },
    {
     "name": "stdout",
     "output_type": "stream",
     "text": [
      "Train Loss: 0.0640, Train Accuracy: 97.76%, Train IoU: 0.8931, Train IoU Loss: 0.1069\n"
     ]
    },
    {
     "name": "stderr",
     "output_type": "stream",
     "text": [
      "                                                             \r"
     ]
    },
    {
     "name": "stdout",
     "output_type": "stream",
     "text": [
      "Val Loss:   0.0734, Val Accuracy:   97.36%, Val IoU:   0.9119, Val IoU Loss:   0.0881\n",
      "  [*] Best model saved at Unet-JL/unet_best_model.pth\n",
      "\n",
      "[Unet-JL] Epoch 36/100\n"
     ]
    },
    {
     "name": "stderr",
     "output_type": "stream",
     "text": [
      "                                                           \r"
     ]
    },
    {
     "name": "stdout",
     "output_type": "stream",
     "text": [
      "Train Loss: 0.0631, Train Accuracy: 97.78%, Train IoU: 0.8966, Train IoU Loss: 0.1034\n"
     ]
    },
    {
     "name": "stderr",
     "output_type": "stream",
     "text": [
      "                                                             \r"
     ]
    },
    {
     "name": "stdout",
     "output_type": "stream",
     "text": [
      "Val Loss:   0.0715, Val Accuracy:   97.36%, Val IoU:   0.9126, Val IoU Loss:   0.0874\n",
      "  [*] Best model saved at Unet-JL/unet_best_model.pth\n",
      "\n",
      "[Unet-JL] Epoch 37/100\n"
     ]
    },
    {
     "name": "stderr",
     "output_type": "stream",
     "text": [
      "                                                           \r"
     ]
    },
    {
     "name": "stdout",
     "output_type": "stream",
     "text": [
      "Train Loss: 0.0627, Train Accuracy: 97.81%, Train IoU: 0.8951, Train IoU Loss: 0.1049\n"
     ]
    },
    {
     "name": "stderr",
     "output_type": "stream",
     "text": [
      "                                                             \r"
     ]
    },
    {
     "name": "stdout",
     "output_type": "stream",
     "text": [
      "Val Loss:   0.0789, Val Accuracy:   97.29%, Val IoU:   0.9093, Val IoU Loss:   0.0907\n",
      "\n",
      "[Unet-JL] Epoch 38/100\n"
     ]
    },
    {
     "name": "stderr",
     "output_type": "stream",
     "text": [
      "                                                           \r"
     ]
    },
    {
     "name": "stdout",
     "output_type": "stream",
     "text": [
      "Train Loss: 0.0616, Train Accuracy: 97.86%, Train IoU: 0.8984, Train IoU Loss: 0.1016\n"
     ]
    },
    {
     "name": "stderr",
     "output_type": "stream",
     "text": [
      "                                                             \r"
     ]
    },
    {
     "name": "stdout",
     "output_type": "stream",
     "text": [
      "Val Loss:   0.0779, Val Accuracy:   97.19%, Val IoU:   0.9058, Val IoU Loss:   0.0942\n",
      "\n",
      "[Unet-JL] Epoch 39/100\n"
     ]
    },
    {
     "name": "stderr",
     "output_type": "stream",
     "text": [
      "                                                           \r"
     ]
    },
    {
     "name": "stdout",
     "output_type": "stream",
     "text": [
      "Train Loss: 0.0602, Train Accuracy: 97.91%, Train IoU: 0.8988, Train IoU Loss: 0.1012\n"
     ]
    },
    {
     "name": "stderr",
     "output_type": "stream",
     "text": [
      "                                                             \r"
     ]
    },
    {
     "name": "stdout",
     "output_type": "stream",
     "text": [
      "Val Loss:   0.0750, Val Accuracy:   97.26%, Val IoU:   0.9077, Val IoU Loss:   0.0923\n",
      "\n",
      "[Unet-JL] Epoch 40/100\n"
     ]
    },
    {
     "name": "stderr",
     "output_type": "stream",
     "text": [
      "                                                           \r"
     ]
    },
    {
     "name": "stdout",
     "output_type": "stream",
     "text": [
      "Train Loss: 0.0604, Train Accuracy: 97.91%, Train IoU: 0.9003, Train IoU Loss: 0.0997\n"
     ]
    },
    {
     "name": "stderr",
     "output_type": "stream",
     "text": [
      "                                                             \r"
     ]
    },
    {
     "name": "stdout",
     "output_type": "stream",
     "text": [
      "Val Loss:   0.0879, Val Accuracy:   96.72%, Val IoU:   0.8993, Val IoU Loss:   0.1007\n",
      "\n",
      "[Unet-JL] Epoch 41/100\n"
     ]
    },
    {
     "name": "stderr",
     "output_type": "stream",
     "text": [
      "                                                           \r"
     ]
    },
    {
     "name": "stdout",
     "output_type": "stream",
     "text": [
      "Train Loss: 0.0621, Train Accuracy: 97.84%, Train IoU: 0.8962, Train IoU Loss: 0.1038\n"
     ]
    },
    {
     "name": "stderr",
     "output_type": "stream",
     "text": [
      "                                                             \r"
     ]
    },
    {
     "name": "stdout",
     "output_type": "stream",
     "text": [
      "Val Loss:   0.0932, Val Accuracy:   96.57%, Val IoU:   0.8888, Val IoU Loss:   0.1112\n",
      "\n",
      "[Unet-JL] Epoch 42/100\n"
     ]
    },
    {
     "name": "stderr",
     "output_type": "stream",
     "text": [
      "                                                           \r"
     ]
    },
    {
     "name": "stdout",
     "output_type": "stream",
     "text": [
      "Train Loss: 0.0604, Train Accuracy: 97.90%, Train IoU: 0.8991, Train IoU Loss: 0.1009\n"
     ]
    },
    {
     "name": "stderr",
     "output_type": "stream",
     "text": [
      "                                                             \r"
     ]
    },
    {
     "name": "stdout",
     "output_type": "stream",
     "text": [
      "Val Loss:   0.0766, Val Accuracy:   97.17%, Val IoU:   0.9065, Val IoU Loss:   0.0935\n",
      "\n",
      "[Unet-JL] Epoch 43/100\n"
     ]
    },
    {
     "name": "stderr",
     "output_type": "stream",
     "text": [
      "                                                           \r"
     ]
    },
    {
     "name": "stdout",
     "output_type": "stream",
     "text": [
      "Train Loss: 0.0590, Train Accuracy: 97.96%, Train IoU: 0.9005, Train IoU Loss: 0.0995\n"
     ]
    },
    {
     "name": "stderr",
     "output_type": "stream",
     "text": [
      "                                                             \r"
     ]
    },
    {
     "name": "stdout",
     "output_type": "stream",
     "text": [
      "Val Loss:   0.0884, Val Accuracy:   96.58%, Val IoU:   0.8915, Val IoU Loss:   0.1085\n",
      "\n",
      "[Unet-JL] Epoch 44/100\n"
     ]
    },
    {
     "name": "stderr",
     "output_type": "stream",
     "text": [
      "                                                           \r"
     ]
    },
    {
     "name": "stdout",
     "output_type": "stream",
     "text": [
      "Train Loss: 0.0604, Train Accuracy: 97.91%, Train IoU: 0.9011, Train IoU Loss: 0.0989\n"
     ]
    },
    {
     "name": "stderr",
     "output_type": "stream",
     "text": [
      "                                                             \r"
     ]
    },
    {
     "name": "stdout",
     "output_type": "stream",
     "text": [
      "Val Loss:   0.0784, Val Accuracy:   97.06%, Val IoU:   0.9053, Val IoU Loss:   0.0947\n",
      "\n",
      "[Unet-JL] Epoch 45/100\n"
     ]
    },
    {
     "name": "stderr",
     "output_type": "stream",
     "text": [
      "                                                           \r"
     ]
    },
    {
     "name": "stdout",
     "output_type": "stream",
     "text": [
      "Train Loss: 0.0576, Train Accuracy: 98.00%, Train IoU: 0.9012, Train IoU Loss: 0.0988\n"
     ]
    },
    {
     "name": "stderr",
     "output_type": "stream",
     "text": [
      "                                                             \r"
     ]
    },
    {
     "name": "stdout",
     "output_type": "stream",
     "text": [
      "Val Loss:   0.0716, Val Accuracy:   97.49%, Val IoU:   0.9143, Val IoU Loss:   0.0857\n",
      "\n",
      "[Unet-JL] Epoch 46/100\n"
     ]
    },
    {
     "name": "stderr",
     "output_type": "stream",
     "text": [
      "                                                           \r"
     ]
    },
    {
     "name": "stdout",
     "output_type": "stream",
     "text": [
      "Train Loss: 0.0561, Train Accuracy: 98.07%, Train IoU: 0.9039, Train IoU Loss: 0.0961\n"
     ]
    },
    {
     "name": "stderr",
     "output_type": "stream",
     "text": [
      "                                                             \r"
     ]
    },
    {
     "name": "stdout",
     "output_type": "stream",
     "text": [
      "Val Loss:   0.1356, Val Accuracy:   94.68%, Val IoU:   0.8430, Val IoU Loss:   0.1570\n",
      "  [!] Early stopping for Unet-JL\n",
      "  Metrics saved to Unet-JL/Training_Metrics.xlsx\n",
      "Done training Unet-JL.\n",
      "\n",
      "\n",
      "[Unet-FL] Epoch 1/100\n"
     ]
    },
    {
     "name": "stderr",
     "output_type": "stream",
     "text": [
      "                                                           \r"
     ]
    },
    {
     "name": "stdout",
     "output_type": "stream",
     "text": [
      "Train Loss: 0.6844, Train Accuracy: 77.02%, Train IoU: 0.4409, Train IoU Loss: 0.5591\n"
     ]
    },
    {
     "name": "stderr",
     "output_type": "stream",
     "text": [
      "                                                             \r"
     ]
    },
    {
     "name": "stdout",
     "output_type": "stream",
     "text": [
      "Val Loss:   0.8667, Val Accuracy:   57.43%, Val IoU:   0.1976, Val IoU Loss:   0.8024\n",
      "  [*] Best model saved at Unet-FL/unet_best_model.pth\n",
      "\n",
      "[Unet-FL] Epoch 2/100\n"
     ]
    },
    {
     "name": "stderr",
     "output_type": "stream",
     "text": [
      "                                                           \r"
     ]
    },
    {
     "name": "stdout",
     "output_type": "stream",
     "text": [
      "Train Loss: 0.6777, Train Accuracy: 85.60%, Train IoU: 0.5379, Train IoU Loss: 0.4621\n"
     ]
    },
    {
     "name": "stderr",
     "output_type": "stream",
     "text": [
      "                                                             \r"
     ]
    },
    {
     "name": "stdout",
     "output_type": "stream",
     "text": [
      "Val Loss:   0.3212, Val Accuracy:   85.76%, Val IoU:   0.6132, Val IoU Loss:   0.3868\n",
      "  [*] Best model saved at Unet-FL/unet_best_model.pth\n",
      "\n",
      "[Unet-FL] Epoch 3/100\n"
     ]
    },
    {
     "name": "stderr",
     "output_type": "stream",
     "text": [
      "                                                           \r"
     ]
    },
    {
     "name": "stdout",
     "output_type": "stream",
     "text": [
      "Train Loss: 0.2682, Train Accuracy: 89.31%, Train IoU: 0.6281, Train IoU Loss: 0.3719\n"
     ]
    },
    {
     "name": "stderr",
     "output_type": "stream",
     "text": [
      "                                                             \r"
     ]
    },
    {
     "name": "stdout",
     "output_type": "stream",
     "text": [
      "Val Loss:   0.2820, Val Accuracy:   87.59%, Val IoU:   0.6959, Val IoU Loss:   0.3041\n",
      "  [*] Best model saved at Unet-FL/unet_best_model.pth\n",
      "\n",
      "[Unet-FL] Epoch 4/100\n"
     ]
    },
    {
     "name": "stderr",
     "output_type": "stream",
     "text": [
      "                                                           \r"
     ]
    },
    {
     "name": "stdout",
     "output_type": "stream",
     "text": [
      "Train Loss: 0.2351, Train Accuracy: 90.73%, Train IoU: 0.6583, Train IoU Loss: 0.3417\n"
     ]
    },
    {
     "name": "stderr",
     "output_type": "stream",
     "text": [
      "                                                             \r"
     ]
    },
    {
     "name": "stdout",
     "output_type": "stream",
     "text": [
      "Val Loss:   0.2567, Val Accuracy:   90.17%, Val IoU:   0.7234, Val IoU Loss:   0.2766\n",
      "  [*] Best model saved at Unet-FL/unet_best_model.pth\n",
      "\n",
      "[Unet-FL] Epoch 5/100\n"
     ]
    },
    {
     "name": "stderr",
     "output_type": "stream",
     "text": [
      "                                                           \r"
     ]
    },
    {
     "name": "stdout",
     "output_type": "stream",
     "text": [
      "Train Loss: 0.2191, Train Accuracy: 91.44%, Train IoU: 0.6700, Train IoU Loss: 0.3300\n"
     ]
    },
    {
     "name": "stderr",
     "output_type": "stream",
     "text": [
      "                                                             \r"
     ]
    },
    {
     "name": "stdout",
     "output_type": "stream",
     "text": [
      "Val Loss:   0.2529, Val Accuracy:   90.34%, Val IoU:   0.7190, Val IoU Loss:   0.2810\n",
      "  [*] Best model saved at Unet-FL/unet_best_model.pth\n",
      "\n",
      "[Unet-FL] Epoch 6/100\n"
     ]
    },
    {
     "name": "stderr",
     "output_type": "stream",
     "text": [
      "                                                           \r"
     ]
    },
    {
     "name": "stdout",
     "output_type": "stream",
     "text": [
      "Train Loss: 0.2084, Train Accuracy: 91.93%, Train IoU: 0.6854, Train IoU Loss: 0.3146\n"
     ]
    },
    {
     "name": "stderr",
     "output_type": "stream",
     "text": [
      "                                                             \r"
     ]
    },
    {
     "name": "stdout",
     "output_type": "stream",
     "text": [
      "Val Loss:   0.2554, Val Accuracy:   89.67%, Val IoU:   0.6915, Val IoU Loss:   0.3085\n",
      "\n",
      "[Unet-FL] Epoch 7/100\n"
     ]
    },
    {
     "name": "stderr",
     "output_type": "stream",
     "text": [
      "                                                           \r"
     ]
    },
    {
     "name": "stdout",
     "output_type": "stream",
     "text": [
      "Train Loss: 0.2054, Train Accuracy: 91.99%, Train IoU: 0.6818, Train IoU Loss: 0.3182\n"
     ]
    },
    {
     "name": "stderr",
     "output_type": "stream",
     "text": [
      "                                                             \r"
     ]
    },
    {
     "name": "stdout",
     "output_type": "stream",
     "text": [
      "Val Loss:   0.2258, Val Accuracy:   91.08%, Val IoU:   0.7433, Val IoU Loss:   0.2567\n",
      "  [*] Best model saved at Unet-FL/unet_best_model.pth\n",
      "\n",
      "[Unet-FL] Epoch 8/100\n"
     ]
    },
    {
     "name": "stderr",
     "output_type": "stream",
     "text": [
      "                                                           \r"
     ]
    },
    {
     "name": "stdout",
     "output_type": "stream",
     "text": [
      "Train Loss: 0.1967, Train Accuracy: 92.37%, Train IoU: 0.6929, Train IoU Loss: 0.3071\n"
     ]
    },
    {
     "name": "stderr",
     "output_type": "stream",
     "text": [
      "                                                             \r"
     ]
    },
    {
     "name": "stdout",
     "output_type": "stream",
     "text": [
      "Val Loss:   0.2656, Val Accuracy:   89.48%, Val IoU:   0.6800, Val IoU Loss:   0.3200\n",
      "\n",
      "[Unet-FL] Epoch 9/100\n"
     ]
    },
    {
     "name": "stderr",
     "output_type": "stream",
     "text": [
      "                                                           \r"
     ]
    },
    {
     "name": "stdout",
     "output_type": "stream",
     "text": [
      "Train Loss: 0.1899, Train Accuracy: 92.60%, Train IoU: 0.6944, Train IoU Loss: 0.3056\n"
     ]
    },
    {
     "name": "stderr",
     "output_type": "stream",
     "text": [
      "                                                             \r"
     ]
    },
    {
     "name": "stdout",
     "output_type": "stream",
     "text": [
      "Val Loss:   0.2202, Val Accuracy:   91.46%, Val IoU:   0.7441, Val IoU Loss:   0.2559\n",
      "  [*] Best model saved at Unet-FL/unet_best_model.pth\n",
      "\n",
      "[Unet-FL] Epoch 10/100\n"
     ]
    },
    {
     "name": "stderr",
     "output_type": "stream",
     "text": [
      "                                                           \r"
     ]
    },
    {
     "name": "stdout",
     "output_type": "stream",
     "text": [
      "Train Loss: 0.1841, Train Accuracy: 92.83%, Train IoU: 0.7005, Train IoU Loss: 0.2995\n"
     ]
    },
    {
     "name": "stderr",
     "output_type": "stream",
     "text": [
      "                                                             \r"
     ]
    },
    {
     "name": "stdout",
     "output_type": "stream",
     "text": [
      "Val Loss:   0.3246, Val Accuracy:   86.19%, Val IoU:   0.5617, Val IoU Loss:   0.4383\n",
      "\n",
      "[Unet-FL] Epoch 11/100\n"
     ]
    },
    {
     "name": "stderr",
     "output_type": "stream",
     "text": [
      "                                                           \r"
     ]
    },
    {
     "name": "stdout",
     "output_type": "stream",
     "text": [
      "Train Loss: 0.1781, Train Accuracy: 93.10%, Train IoU: 0.7070, Train IoU Loss: 0.2930\n"
     ]
    },
    {
     "name": "stderr",
     "output_type": "stream",
     "text": [
      "                                                             \r"
     ]
    },
    {
     "name": "stdout",
     "output_type": "stream",
     "text": [
      "Val Loss:   0.2237, Val Accuracy:   91.36%, Val IoU:   0.7282, Val IoU Loss:   0.2718\n",
      "\n",
      "[Unet-FL] Epoch 12/100\n"
     ]
    },
    {
     "name": "stderr",
     "output_type": "stream",
     "text": [
      "                                                           \r"
     ]
    },
    {
     "name": "stdout",
     "output_type": "stream",
     "text": [
      "Train Loss: 0.1742, Train Accuracy: 93.23%, Train IoU: 0.7087, Train IoU Loss: 0.2913\n"
     ]
    },
    {
     "name": "stderr",
     "output_type": "stream",
     "text": [
      "                                                             \r"
     ]
    },
    {
     "name": "stdout",
     "output_type": "stream",
     "text": [
      "Val Loss:   0.1949, Val Accuracy:   91.83%, Val IoU:   0.7571, Val IoU Loss:   0.2429\n",
      "  [*] Best model saved at Unet-FL/unet_best_model.pth\n",
      "\n",
      "[Unet-FL] Epoch 13/100\n"
     ]
    },
    {
     "name": "stderr",
     "output_type": "stream",
     "text": [
      "                                                           \r"
     ]
    },
    {
     "name": "stdout",
     "output_type": "stream",
     "text": [
      "Train Loss: 0.1673, Train Accuracy: 93.48%, Train IoU: 0.7152, Train IoU Loss: 0.2848\n"
     ]
    },
    {
     "name": "stderr",
     "output_type": "stream",
     "text": [
      "                                                             \r"
     ]
    },
    {
     "name": "stdout",
     "output_type": "stream",
     "text": [
      "Val Loss:   0.2110, Val Accuracy:   91.43%, Val IoU:   0.7364, Val IoU Loss:   0.2636\n",
      "\n",
      "[Unet-FL] Epoch 14/100\n"
     ]
    },
    {
     "name": "stderr",
     "output_type": "stream",
     "text": [
      "                                                           \r"
     ]
    },
    {
     "name": "stdout",
     "output_type": "stream",
     "text": [
      "Train Loss: 0.1640, Train Accuracy: 93.64%, Train IoU: 0.7176, Train IoU Loss: 0.2824\n"
     ]
    },
    {
     "name": "stderr",
     "output_type": "stream",
     "text": [
      "                                                             \r"
     ]
    },
    {
     "name": "stdout",
     "output_type": "stream",
     "text": [
      "Val Loss:   0.1941, Val Accuracy:   92.24%, Val IoU:   0.7583, Val IoU Loss:   0.2417\n",
      "  [*] Best model saved at Unet-FL/unet_best_model.pth\n",
      "\n",
      "[Unet-FL] Epoch 15/100\n"
     ]
    },
    {
     "name": "stderr",
     "output_type": "stream",
     "text": [
      "                                                           \r"
     ]
    },
    {
     "name": "stdout",
     "output_type": "stream",
     "text": [
      "Train Loss: 0.1584, Train Accuracy: 93.92%, Train IoU: 0.7287, Train IoU Loss: 0.2713\n"
     ]
    },
    {
     "name": "stderr",
     "output_type": "stream",
     "text": [
      "                                                             \r"
     ]
    },
    {
     "name": "stdout",
     "output_type": "stream",
     "text": [
      "Val Loss:   0.1843, Val Accuracy:   92.08%, Val IoU:   0.7675, Val IoU Loss:   0.2325\n",
      "  [*] Best model saved at Unet-FL/unet_best_model.pth\n",
      "\n",
      "[Unet-FL] Epoch 16/100\n"
     ]
    },
    {
     "name": "stderr",
     "output_type": "stream",
     "text": [
      "                                                           \r"
     ]
    },
    {
     "name": "stdout",
     "output_type": "stream",
     "text": [
      "Train Loss: 0.1547, Train Accuracy: 94.03%, Train IoU: 0.7345, Train IoU Loss: 0.2655\n"
     ]
    },
    {
     "name": "stderr",
     "output_type": "stream",
     "text": [
      "                                                             \r"
     ]
    },
    {
     "name": "stdout",
     "output_type": "stream",
     "text": [
      "Val Loss:   0.1825, Val Accuracy:   92.55%, Val IoU:   0.7624, Val IoU Loss:   0.2376\n",
      "  [*] Best model saved at Unet-FL/unet_best_model.pth\n",
      "\n",
      "[Unet-FL] Epoch 17/100\n"
     ]
    },
    {
     "name": "stderr",
     "output_type": "stream",
     "text": [
      "                                                           \r"
     ]
    },
    {
     "name": "stdout",
     "output_type": "stream",
     "text": [
      "Train Loss: 0.1508, Train Accuracy: 94.25%, Train IoU: 0.7447, Train IoU Loss: 0.2553\n"
     ]
    },
    {
     "name": "stderr",
     "output_type": "stream",
     "text": [
      "                                                             \r"
     ]
    },
    {
     "name": "stdout",
     "output_type": "stream",
     "text": [
      "Val Loss:   0.1736, Val Accuracy:   92.64%, Val IoU:   0.7825, Val IoU Loss:   0.2175\n",
      "  [*] Best model saved at Unet-FL/unet_best_model.pth\n",
      "\n",
      "[Unet-FL] Epoch 18/100\n"
     ]
    },
    {
     "name": "stderr",
     "output_type": "stream",
     "text": [
      "                                                           \r"
     ]
    },
    {
     "name": "stdout",
     "output_type": "stream",
     "text": [
      "Train Loss: 0.1507, Train Accuracy: 94.23%, Train IoU: 0.7433, Train IoU Loss: 0.2567\n"
     ]
    },
    {
     "name": "stderr",
     "output_type": "stream",
     "text": [
      "                                                             \r"
     ]
    },
    {
     "name": "stdout",
     "output_type": "stream",
     "text": [
      "Val Loss:   0.1805, Val Accuracy:   92.40%, Val IoU:   0.7734, Val IoU Loss:   0.2266\n",
      "\n",
      "[Unet-FL] Epoch 19/100\n"
     ]
    },
    {
     "name": "stderr",
     "output_type": "stream",
     "text": [
      "                                                           \r"
     ]
    },
    {
     "name": "stdout",
     "output_type": "stream",
     "text": [
      "Train Loss: 0.1467, Train Accuracy: 94.36%, Train IoU: 0.7486, Train IoU Loss: 0.2514\n"
     ]
    },
    {
     "name": "stderr",
     "output_type": "stream",
     "text": [
      "                                                             \r"
     ]
    },
    {
     "name": "stdout",
     "output_type": "stream",
     "text": [
      "Val Loss:   0.2115, Val Accuracy:   91.06%, Val IoU:   0.7049, Val IoU Loss:   0.2951\n",
      "\n",
      "[Unet-FL] Epoch 20/100\n"
     ]
    },
    {
     "name": "stderr",
     "output_type": "stream",
     "text": [
      "                                                           \r"
     ]
    },
    {
     "name": "stdout",
     "output_type": "stream",
     "text": [
      "Train Loss: 0.1450, Train Accuracy: 94.43%, Train IoU: 0.7507, Train IoU Loss: 0.2493\n"
     ]
    },
    {
     "name": "stderr",
     "output_type": "stream",
     "text": [
      "                                                             \r"
     ]
    },
    {
     "name": "stdout",
     "output_type": "stream",
     "text": [
      "Val Loss:   0.1943, Val Accuracy:   91.86%, Val IoU:   0.7466, Val IoU Loss:   0.2534\n",
      "\n",
      "[Unet-FL] Epoch 21/100\n"
     ]
    },
    {
     "name": "stderr",
     "output_type": "stream",
     "text": [
      "                                                           \r"
     ]
    },
    {
     "name": "stdout",
     "output_type": "stream",
     "text": [
      "Train Loss: 0.1431, Train Accuracy: 94.50%, Train IoU: 0.7525, Train IoU Loss: 0.2475\n"
     ]
    },
    {
     "name": "stderr",
     "output_type": "stream",
     "text": [
      "                                                             \r"
     ]
    },
    {
     "name": "stdout",
     "output_type": "stream",
     "text": [
      "Val Loss:   0.1642, Val Accuracy:   92.94%, Val IoU:   0.7935, Val IoU Loss:   0.2065\n",
      "  [*] Best model saved at Unet-FL/unet_best_model.pth\n",
      "\n",
      "[Unet-FL] Epoch 22/100\n"
     ]
    },
    {
     "name": "stderr",
     "output_type": "stream",
     "text": [
      "                                                           \r"
     ]
    },
    {
     "name": "stdout",
     "output_type": "stream",
     "text": [
      "Train Loss: 0.1410, Train Accuracy: 94.58%, Train IoU: 0.7573, Train IoU Loss: 0.2427\n"
     ]
    },
    {
     "name": "stderr",
     "output_type": "stream",
     "text": [
      "                                                             \r"
     ]
    },
    {
     "name": "stdout",
     "output_type": "stream",
     "text": [
      "Val Loss:   0.1581, Val Accuracy:   93.73%, Val IoU:   0.8017, Val IoU Loss:   0.1983\n",
      "  [*] Best model saved at Unet-FL/unet_best_model.pth\n",
      "\n",
      "[Unet-FL] Epoch 23/100\n"
     ]
    },
    {
     "name": "stderr",
     "output_type": "stream",
     "text": [
      "                                                           \r"
     ]
    },
    {
     "name": "stdout",
     "output_type": "stream",
     "text": [
      "Train Loss: 0.1379, Train Accuracy: 94.73%, Train IoU: 0.7627, Train IoU Loss: 0.2373\n"
     ]
    },
    {
     "name": "stderr",
     "output_type": "stream",
     "text": [
      "                                                             \r"
     ]
    },
    {
     "name": "stdout",
     "output_type": "stream",
     "text": [
      "Val Loss:   0.1569, Val Accuracy:   93.43%, Val IoU:   0.8033, Val IoU Loss:   0.1967\n",
      "  [*] Best model saved at Unet-FL/unet_best_model.pth\n",
      "\n",
      "[Unet-FL] Epoch 24/100\n"
     ]
    },
    {
     "name": "stderr",
     "output_type": "stream",
     "text": [
      "                                                           \r"
     ]
    },
    {
     "name": "stdout",
     "output_type": "stream",
     "text": [
      "Train Loss: 0.1347, Train Accuracy: 94.87%, Train IoU: 0.7677, Train IoU Loss: 0.2323\n"
     ]
    },
    {
     "name": "stderr",
     "output_type": "stream",
     "text": [
      "                                                             \r"
     ]
    },
    {
     "name": "stdout",
     "output_type": "stream",
     "text": [
      "Val Loss:   0.1570, Val Accuracy:   93.78%, Val IoU:   0.8019, Val IoU Loss:   0.1981\n",
      "\n",
      "[Unet-FL] Epoch 25/100\n"
     ]
    },
    {
     "name": "stderr",
     "output_type": "stream",
     "text": [
      "                                                           \r"
     ]
    },
    {
     "name": "stdout",
     "output_type": "stream",
     "text": [
      "Train Loss: 0.1337, Train Accuracy: 94.94%, Train IoU: 0.7698, Train IoU Loss: 0.2302\n"
     ]
    },
    {
     "name": "stderr",
     "output_type": "stream",
     "text": [
      "                                                             \r"
     ]
    },
    {
     "name": "stdout",
     "output_type": "stream",
     "text": [
      "Val Loss:   0.1461, Val Accuracy:   94.33%, Val IoU:   0.8223, Val IoU Loss:   0.1777\n",
      "  [*] Best model saved at Unet-FL/unet_best_model.pth\n",
      "\n",
      "[Unet-FL] Epoch 26/100\n"
     ]
    },
    {
     "name": "stderr",
     "output_type": "stream",
     "text": [
      "                                                           \r"
     ]
    },
    {
     "name": "stdout",
     "output_type": "stream",
     "text": [
      "Train Loss: 0.1348, Train Accuracy: 94.86%, Train IoU: 0.7669, Train IoU Loss: 0.2331\n"
     ]
    },
    {
     "name": "stderr",
     "output_type": "stream",
     "text": [
      "                                                             \r"
     ]
    },
    {
     "name": "stdout",
     "output_type": "stream",
     "text": [
      "Val Loss:   0.1668, Val Accuracy:   93.38%, Val IoU:   0.7819, Val IoU Loss:   0.2181\n",
      "\n",
      "[Unet-FL] Epoch 27/100\n"
     ]
    },
    {
     "name": "stderr",
     "output_type": "stream",
     "text": [
      "                                                           \r"
     ]
    },
    {
     "name": "stdout",
     "output_type": "stream",
     "text": [
      "Train Loss: 0.1343, Train Accuracy: 94.89%, Train IoU: 0.7695, Train IoU Loss: 0.2305\n"
     ]
    },
    {
     "name": "stderr",
     "output_type": "stream",
     "text": [
      "                                                             \r"
     ]
    },
    {
     "name": "stdout",
     "output_type": "stream",
     "text": [
      "Val Loss:   0.1512, Val Accuracy:   94.03%, Val IoU:   0.8131, Val IoU Loss:   0.1869\n",
      "\n",
      "[Unet-FL] Epoch 28/100\n"
     ]
    },
    {
     "name": "stderr",
     "output_type": "stream",
     "text": [
      "                                                           \r"
     ]
    },
    {
     "name": "stdout",
     "output_type": "stream",
     "text": [
      "Train Loss: 0.1300, Train Accuracy: 95.05%, Train IoU: 0.7717, Train IoU Loss: 0.2283\n"
     ]
    },
    {
     "name": "stderr",
     "output_type": "stream",
     "text": [
      "                                                             \r"
     ]
    },
    {
     "name": "stdout",
     "output_type": "stream",
     "text": [
      "Val Loss:   0.1888, Val Accuracy:   91.91%, Val IoU:   0.7408, Val IoU Loss:   0.2592\n",
      "\n",
      "[Unet-FL] Epoch 29/100\n"
     ]
    },
    {
     "name": "stderr",
     "output_type": "stream",
     "text": [
      "                                                           \r"
     ]
    },
    {
     "name": "stdout",
     "output_type": "stream",
     "text": [
      "Train Loss: 0.1311, Train Accuracy: 95.00%, Train IoU: 0.7733, Train IoU Loss: 0.2267\n"
     ]
    },
    {
     "name": "stderr",
     "output_type": "stream",
     "text": [
      "                                                             \r"
     ]
    },
    {
     "name": "stdout",
     "output_type": "stream",
     "text": [
      "Val Loss:   0.1431, Val Accuracy:   94.38%, Val IoU:   0.8231, Val IoU Loss:   0.1769\n",
      "  [*] Best model saved at Unet-FL/unet_best_model.pth\n",
      "\n",
      "[Unet-FL] Epoch 30/100\n"
     ]
    },
    {
     "name": "stderr",
     "output_type": "stream",
     "text": [
      "                                                           \r"
     ]
    },
    {
     "name": "stdout",
     "output_type": "stream",
     "text": [
      "Train Loss: 0.1255, Train Accuracy: 95.26%, Train IoU: 0.7814, Train IoU Loss: 0.2186\n"
     ]
    },
    {
     "name": "stderr",
     "output_type": "stream",
     "text": [
      "                                                             \r"
     ]
    },
    {
     "name": "stdout",
     "output_type": "stream",
     "text": [
      "Val Loss:   0.1587, Val Accuracy:   93.56%, Val IoU:   0.8084, Val IoU Loss:   0.1916\n",
      "\n",
      "[Unet-FL] Epoch 31/100\n"
     ]
    },
    {
     "name": "stderr",
     "output_type": "stream",
     "text": [
      "                                                           \r"
     ]
    },
    {
     "name": "stdout",
     "output_type": "stream",
     "text": [
      "Train Loss: 0.1267, Train Accuracy: 95.18%, Train IoU: 0.7771, Train IoU Loss: 0.2229\n"
     ]
    },
    {
     "name": "stderr",
     "output_type": "stream",
     "text": [
      "                                                             \r"
     ]
    },
    {
     "name": "stdout",
     "output_type": "stream",
     "text": [
      "Val Loss:   0.1707, Val Accuracy:   93.23%, Val IoU:   0.7777, Val IoU Loss:   0.2223\n",
      "\n",
      "[Unet-FL] Epoch 32/100\n"
     ]
    },
    {
     "name": "stderr",
     "output_type": "stream",
     "text": [
      "                                                           \r"
     ]
    },
    {
     "name": "stdout",
     "output_type": "stream",
     "text": [
      "Train Loss: 0.1263, Train Accuracy: 95.19%, Train IoU: 0.7789, Train IoU Loss: 0.2211\n"
     ]
    },
    {
     "name": "stderr",
     "output_type": "stream",
     "text": [
      "                                                             \r"
     ]
    },
    {
     "name": "stdout",
     "output_type": "stream",
     "text": [
      "Val Loss:   0.1453, Val Accuracy:   94.25%, Val IoU:   0.8220, Val IoU Loss:   0.1780\n",
      "\n",
      "[Unet-FL] Epoch 33/100\n"
     ]
    },
    {
     "name": "stderr",
     "output_type": "stream",
     "text": [
      "                                                           \r"
     ]
    },
    {
     "name": "stdout",
     "output_type": "stream",
     "text": [
      "Train Loss: 0.1260, Train Accuracy: 95.22%, Train IoU: 0.7789, Train IoU Loss: 0.2211\n"
     ]
    },
    {
     "name": "stderr",
     "output_type": "stream",
     "text": [
      "                                                             \r"
     ]
    },
    {
     "name": "stdout",
     "output_type": "stream",
     "text": [
      "Val Loss:   0.1721, Val Accuracy:   93.06%, Val IoU:   0.7770, Val IoU Loss:   0.2230\n",
      "\n",
      "[Unet-FL] Epoch 34/100\n"
     ]
    },
    {
     "name": "stderr",
     "output_type": "stream",
     "text": [
      "                                                           \r"
     ]
    },
    {
     "name": "stdout",
     "output_type": "stream",
     "text": [
      "Train Loss: 0.1240, Train Accuracy: 95.33%, Train IoU: 0.7835, Train IoU Loss: 0.2165\n"
     ]
    },
    {
     "name": "stderr",
     "output_type": "stream",
     "text": [
      "                                                             \r"
     ]
    },
    {
     "name": "stdout",
     "output_type": "stream",
     "text": [
      "Val Loss:   0.1619, Val Accuracy:   93.51%, Val IoU:   0.8079, Val IoU Loss:   0.1921\n",
      "\n",
      "[Unet-FL] Epoch 35/100\n"
     ]
    },
    {
     "name": "stderr",
     "output_type": "stream",
     "text": [
      "                                                           \r"
     ]
    },
    {
     "name": "stdout",
     "output_type": "stream",
     "text": [
      "Train Loss: 0.1225, Train Accuracy: 95.37%, Train IoU: 0.7864, Train IoU Loss: 0.2136\n"
     ]
    },
    {
     "name": "stderr",
     "output_type": "stream",
     "text": [
      "                                                             \r"
     ]
    },
    {
     "name": "stdout",
     "output_type": "stream",
     "text": [
      "Val Loss:   0.1456, Val Accuracy:   94.15%, Val IoU:   0.8202, Val IoU Loss:   0.1798\n",
      "\n",
      "[Unet-FL] Epoch 36/100\n"
     ]
    },
    {
     "name": "stderr",
     "output_type": "stream",
     "text": [
      "                                                           \r"
     ]
    },
    {
     "name": "stdout",
     "output_type": "stream",
     "text": [
      "Train Loss: 0.1235, Train Accuracy: 95.33%, Train IoU: 0.7844, Train IoU Loss: 0.2156\n"
     ]
    },
    {
     "name": "stderr",
     "output_type": "stream",
     "text": [
      "                                                             \r"
     ]
    },
    {
     "name": "stdout",
     "output_type": "stream",
     "text": [
      "Val Loss:   0.1476, Val Accuracy:   94.23%, Val IoU:   0.8171, Val IoU Loss:   0.1829\n",
      "\n",
      "[Unet-FL] Epoch 37/100\n"
     ]
    },
    {
     "name": "stderr",
     "output_type": "stream",
     "text": [
      "                                                           \r"
     ]
    },
    {
     "name": "stdout",
     "output_type": "stream",
     "text": [
      "Train Loss: 0.1207, Train Accuracy: 95.46%, Train IoU: 0.7891, Train IoU Loss: 0.2109\n"
     ]
    },
    {
     "name": "stderr",
     "output_type": "stream",
     "text": [
      "                                                             \r"
     ]
    },
    {
     "name": "stdout",
     "output_type": "stream",
     "text": [
      "Val Loss:   0.1534, Val Accuracy:   93.98%, Val IoU:   0.8007, Val IoU Loss:   0.1993\n",
      "\n",
      "[Unet-FL] Epoch 38/100\n"
     ]
    },
    {
     "name": "stderr",
     "output_type": "stream",
     "text": [
      "                                                           \r"
     ]
    },
    {
     "name": "stdout",
     "output_type": "stream",
     "text": [
      "Train Loss: 0.1205, Train Accuracy: 95.47%, Train IoU: 0.7897, Train IoU Loss: 0.2103\n"
     ]
    },
    {
     "name": "stderr",
     "output_type": "stream",
     "text": [
      "                                                             \r"
     ]
    },
    {
     "name": "stdout",
     "output_type": "stream",
     "text": [
      "Val Loss:   0.1401, Val Accuracy:   94.61%, Val IoU:   0.8268, Val IoU Loss:   0.1732\n",
      "  [*] Best model saved at Unet-FL/unet_best_model.pth\n",
      "\n",
      "[Unet-FL] Epoch 39/100\n"
     ]
    },
    {
     "name": "stderr",
     "output_type": "stream",
     "text": [
      "                                                           \r"
     ]
    },
    {
     "name": "stdout",
     "output_type": "stream",
     "text": [
      "Train Loss: 0.1235, Train Accuracy: 95.33%, Train IoU: 0.7837, Train IoU Loss: 0.2163\n"
     ]
    },
    {
     "name": "stderr",
     "output_type": "stream",
     "text": [
      "                                                             \r"
     ]
    },
    {
     "name": "stdout",
     "output_type": "stream",
     "text": [
      "Val Loss:   0.1585, Val Accuracy:   93.70%, Val IoU:   0.8005, Val IoU Loss:   0.1995\n",
      "\n",
      "[Unet-FL] Epoch 40/100\n"
     ]
    },
    {
     "name": "stderr",
     "output_type": "stream",
     "text": [
      "                                                           \r"
     ]
    },
    {
     "name": "stdout",
     "output_type": "stream",
     "text": [
      "Train Loss: 0.1215, Train Accuracy: 95.42%, Train IoU: 0.7872, Train IoU Loss: 0.2128\n"
     ]
    },
    {
     "name": "stderr",
     "output_type": "stream",
     "text": [
      "                                                             \r"
     ]
    },
    {
     "name": "stdout",
     "output_type": "stream",
     "text": [
      "Val Loss:   0.1920, Val Accuracy:   92.18%, Val IoU:   0.7496, Val IoU Loss:   0.2504\n",
      "\n",
      "[Unet-FL] Epoch 41/100\n"
     ]
    },
    {
     "name": "stderr",
     "output_type": "stream",
     "text": [
      "                                                           \r"
     ]
    },
    {
     "name": "stdout",
     "output_type": "stream",
     "text": [
      "Train Loss: 0.1170, Train Accuracy: 95.62%, Train IoU: 0.7944, Train IoU Loss: 0.2056\n"
     ]
    },
    {
     "name": "stderr",
     "output_type": "stream",
     "text": [
      "                                                             \r"
     ]
    },
    {
     "name": "stdout",
     "output_type": "stream",
     "text": [
      "Val Loss:   0.1402, Val Accuracy:   94.58%, Val IoU:   0.8274, Val IoU Loss:   0.1726\n",
      "\n",
      "[Unet-FL] Epoch 42/100\n"
     ]
    },
    {
     "name": "stderr",
     "output_type": "stream",
     "text": [
      "                                                           \r"
     ]
    },
    {
     "name": "stdout",
     "output_type": "stream",
     "text": [
      "Train Loss: 0.1167, Train Accuracy: 95.64%, Train IoU: 0.7948, Train IoU Loss: 0.2052\n"
     ]
    },
    {
     "name": "stderr",
     "output_type": "stream",
     "text": [
      "                                                             \r"
     ]
    },
    {
     "name": "stdout",
     "output_type": "stream",
     "text": [
      "Val Loss:   0.1373, Val Accuracy:   94.74%, Val IoU:   0.8300, Val IoU Loss:   0.1700\n",
      "  [*] Best model saved at Unet-FL/unet_best_model.pth\n",
      "\n",
      "[Unet-FL] Epoch 43/100\n"
     ]
    },
    {
     "name": "stderr",
     "output_type": "stream",
     "text": [
      "                                                           \r"
     ]
    },
    {
     "name": "stdout",
     "output_type": "stream",
     "text": [
      "Train Loss: 0.1191, Train Accuracy: 95.51%, Train IoU: 0.7913, Train IoU Loss: 0.2087\n"
     ]
    },
    {
     "name": "stderr",
     "output_type": "stream",
     "text": [
      "                                                             \r"
     ]
    },
    {
     "name": "stdout",
     "output_type": "stream",
     "text": [
      "Val Loss:   0.1343, Val Accuracy:   94.79%, Val IoU:   0.8350, Val IoU Loss:   0.1650\n",
      "  [*] Best model saved at Unet-FL/unet_best_model.pth\n",
      "\n",
      "[Unet-FL] Epoch 44/100\n"
     ]
    },
    {
     "name": "stderr",
     "output_type": "stream",
     "text": [
      "                                                           \r"
     ]
    },
    {
     "name": "stdout",
     "output_type": "stream",
     "text": [
      "Train Loss: 0.1150, Train Accuracy: 95.73%, Train IoU: 0.7988, Train IoU Loss: 0.2012\n"
     ]
    },
    {
     "name": "stderr",
     "output_type": "stream",
     "text": [
      "                                                             \r"
     ]
    },
    {
     "name": "stdout",
     "output_type": "stream",
     "text": [
      "Val Loss:   0.1497, Val Accuracy:   94.24%, Val IoU:   0.8161, Val IoU Loss:   0.1839\n",
      "\n",
      "[Unet-FL] Epoch 45/100\n"
     ]
    },
    {
     "name": "stderr",
     "output_type": "stream",
     "text": [
      "                                                           \r"
     ]
    },
    {
     "name": "stdout",
     "output_type": "stream",
     "text": [
      "Train Loss: 0.1139, Train Accuracy: 95.75%, Train IoU: 0.7981, Train IoU Loss: 0.2019\n"
     ]
    },
    {
     "name": "stderr",
     "output_type": "stream",
     "text": [
      "                                                             \r"
     ]
    },
    {
     "name": "stdout",
     "output_type": "stream",
     "text": [
      "Val Loss:   0.1470, Val Accuracy:   94.39%, Val IoU:   0.8240, Val IoU Loss:   0.1760\n",
      "\n",
      "[Unet-FL] Epoch 46/100\n"
     ]
    },
    {
     "name": "stderr",
     "output_type": "stream",
     "text": [
      "                                                           \r"
     ]
    },
    {
     "name": "stdout",
     "output_type": "stream",
     "text": [
      "Train Loss: 0.1151, Train Accuracy: 95.70%, Train IoU: 0.7966, Train IoU Loss: 0.2034\n"
     ]
    },
    {
     "name": "stderr",
     "output_type": "stream",
     "text": [
      "                                                             \r"
     ]
    },
    {
     "name": "stdout",
     "output_type": "stream",
     "text": [
      "Val Loss:   0.1345, Val Accuracy:   94.73%, Val IoU:   0.8360, Val IoU Loss:   0.1640\n",
      "\n",
      "[Unet-FL] Epoch 47/100\n"
     ]
    },
    {
     "name": "stderr",
     "output_type": "stream",
     "text": [
      "                                                           \r"
     ]
    },
    {
     "name": "stdout",
     "output_type": "stream",
     "text": [
      "Train Loss: 0.1132, Train Accuracy: 95.80%, Train IoU: 0.8001, Train IoU Loss: 0.1999\n"
     ]
    },
    {
     "name": "stderr",
     "output_type": "stream",
     "text": [
      "                                                             \r"
     ]
    },
    {
     "name": "stdout",
     "output_type": "stream",
     "text": [
      "Val Loss:   0.1351, Val Accuracy:   94.78%, Val IoU:   0.8331, Val IoU Loss:   0.1669\n",
      "\n",
      "[Unet-FL] Epoch 48/100\n"
     ]
    },
    {
     "name": "stderr",
     "output_type": "stream",
     "text": [
      "                                                           \r"
     ]
    },
    {
     "name": "stdout",
     "output_type": "stream",
     "text": [
      "Train Loss: 0.1152, Train Accuracy: 95.69%, Train IoU: 0.7970, Train IoU Loss: 0.2030\n"
     ]
    },
    {
     "name": "stderr",
     "output_type": "stream",
     "text": [
      "                                                             \r"
     ]
    },
    {
     "name": "stdout",
     "output_type": "stream",
     "text": [
      "Val Loss:   0.1410, Val Accuracy:   94.59%, Val IoU:   0.8292, Val IoU Loss:   0.1708\n",
      "\n",
      "[Unet-FL] Epoch 49/100\n"
     ]
    },
    {
     "name": "stderr",
     "output_type": "stream",
     "text": [
      "                                                           \r"
     ]
    },
    {
     "name": "stdout",
     "output_type": "stream",
     "text": [
      "Train Loss: 0.1147, Train Accuracy: 95.74%, Train IoU: 0.7971, Train IoU Loss: 0.2029\n"
     ]
    },
    {
     "name": "stderr",
     "output_type": "stream",
     "text": [
      "                                                             \r"
     ]
    },
    {
     "name": "stdout",
     "output_type": "stream",
     "text": [
      "Val Loss:   0.1290, Val Accuracy:   95.06%, Val IoU:   0.8433, Val IoU Loss:   0.1567\n",
      "  [*] Best model saved at Unet-FL/unet_best_model.pth\n",
      "\n",
      "[Unet-FL] Epoch 50/100\n"
     ]
    },
    {
     "name": "stderr",
     "output_type": "stream",
     "text": [
      "                                                           \r"
     ]
    },
    {
     "name": "stdout",
     "output_type": "stream",
     "text": [
      "Train Loss: 0.1131, Train Accuracy: 95.78%, Train IoU: 0.7984, Train IoU Loss: 0.2016\n"
     ]
    },
    {
     "name": "stderr",
     "output_type": "stream",
     "text": [
      "                                                             \r"
     ]
    },
    {
     "name": "stdout",
     "output_type": "stream",
     "text": [
      "Val Loss:   0.1329, Val Accuracy:   94.78%, Val IoU:   0.8352, Val IoU Loss:   0.1648\n",
      "\n",
      "[Unet-FL] Epoch 51/100\n"
     ]
    },
    {
     "name": "stderr",
     "output_type": "stream",
     "text": [
      "                                                           \r"
     ]
    },
    {
     "name": "stdout",
     "output_type": "stream",
     "text": [
      "Train Loss: 0.1122, Train Accuracy: 95.83%, Train IoU: 0.8026, Train IoU Loss: 0.1974\n"
     ]
    },
    {
     "name": "stderr",
     "output_type": "stream",
     "text": [
      "                                                             \r"
     ]
    },
    {
     "name": "stdout",
     "output_type": "stream",
     "text": [
      "Val Loss:   0.1387, Val Accuracy:   94.67%, Val IoU:   0.8334, Val IoU Loss:   0.1666\n",
      "\n",
      "[Unet-FL] Epoch 52/100\n"
     ]
    },
    {
     "name": "stderr",
     "output_type": "stream",
     "text": [
      "                                                           \r"
     ]
    },
    {
     "name": "stdout",
     "output_type": "stream",
     "text": [
      "Train Loss: 0.1091, Train Accuracy: 95.97%, Train IoU: 0.8061, Train IoU Loss: 0.1939\n"
     ]
    },
    {
     "name": "stderr",
     "output_type": "stream",
     "text": [
      "                                                             \r"
     ]
    },
    {
     "name": "stdout",
     "output_type": "stream",
     "text": [
      "Val Loss:   0.1705, Val Accuracy:   92.79%, Val IoU:   0.7598, Val IoU Loss:   0.2402\n",
      "\n",
      "[Unet-FL] Epoch 53/100\n"
     ]
    },
    {
     "name": "stderr",
     "output_type": "stream",
     "text": [
      "                                                           \r"
     ]
    },
    {
     "name": "stdout",
     "output_type": "stream",
     "text": [
      "Train Loss: 0.1096, Train Accuracy: 95.93%, Train IoU: 0.8044, Train IoU Loss: 0.1956\n"
     ]
    },
    {
     "name": "stderr",
     "output_type": "stream",
     "text": [
      "                                                             \r"
     ]
    },
    {
     "name": "stdout",
     "output_type": "stream",
     "text": [
      "Val Loss:   0.1365, Val Accuracy:   94.62%, Val IoU:   0.8255, Val IoU Loss:   0.1745\n",
      "\n",
      "[Unet-FL] Epoch 54/100\n"
     ]
    },
    {
     "name": "stderr",
     "output_type": "stream",
     "text": [
      "                                                           \r"
     ]
    },
    {
     "name": "stdout",
     "output_type": "stream",
     "text": [
      "Train Loss: 0.1108, Train Accuracy: 95.88%, Train IoU: 0.8012, Train IoU Loss: 0.1988\n"
     ]
    },
    {
     "name": "stderr",
     "output_type": "stream",
     "text": [
      "                                                             \r"
     ]
    },
    {
     "name": "stdout",
     "output_type": "stream",
     "text": [
      "Val Loss:   0.1414, Val Accuracy:   94.52%, Val IoU:   0.8179, Val IoU Loss:   0.1821\n",
      "\n",
      "[Unet-FL] Epoch 55/100\n"
     ]
    },
    {
     "name": "stderr",
     "output_type": "stream",
     "text": [
      "                                                           \r"
     ]
    },
    {
     "name": "stdout",
     "output_type": "stream",
     "text": [
      "Train Loss: 0.1087, Train Accuracy: 96.00%, Train IoU: 0.8065, Train IoU Loss: 0.1935\n"
     ]
    },
    {
     "name": "stderr",
     "output_type": "stream",
     "text": [
      "                                                             \r"
     ]
    },
    {
     "name": "stdout",
     "output_type": "stream",
     "text": [
      "Val Loss:   0.1274, Val Accuracy:   95.18%, Val IoU:   0.8434, Val IoU Loss:   0.1566\n",
      "  [*] Best model saved at Unet-FL/unet_best_model.pth\n",
      "\n",
      "[Unet-FL] Epoch 56/100\n"
     ]
    },
    {
     "name": "stderr",
     "output_type": "stream",
     "text": [
      "                                                           \r"
     ]
    },
    {
     "name": "stdout",
     "output_type": "stream",
     "text": [
      "Train Loss: 0.1105, Train Accuracy: 95.90%, Train IoU: 0.8005, Train IoU Loss: 0.1995\n"
     ]
    },
    {
     "name": "stderr",
     "output_type": "stream",
     "text": [
      "                                                             \r"
     ]
    },
    {
     "name": "stdout",
     "output_type": "stream",
     "text": [
      "Val Loss:   0.1330, Val Accuracy:   94.88%, Val IoU:   0.8274, Val IoU Loss:   0.1726\n",
      "\n",
      "[Unet-FL] Epoch 57/100\n"
     ]
    },
    {
     "name": "stderr",
     "output_type": "stream",
     "text": [
      "                                                           \r"
     ]
    },
    {
     "name": "stdout",
     "output_type": "stream",
     "text": [
      "Train Loss: 0.1098, Train Accuracy: 95.92%, Train IoU: 0.8025, Train IoU Loss: 0.1975\n"
     ]
    },
    {
     "name": "stderr",
     "output_type": "stream",
     "text": [
      "                                                             \r"
     ]
    },
    {
     "name": "stdout",
     "output_type": "stream",
     "text": [
      "Val Loss:   0.1503, Val Accuracy:   93.90%, Val IoU:   0.7956, Val IoU Loss:   0.2044\n",
      "\n",
      "[Unet-FL] Epoch 58/100\n"
     ]
    },
    {
     "name": "stderr",
     "output_type": "stream",
     "text": [
      "                                                           \r"
     ]
    },
    {
     "name": "stdout",
     "output_type": "stream",
     "text": [
      "Train Loss: 0.1097, Train Accuracy: 95.96%, Train IoU: 0.8057, Train IoU Loss: 0.1943\n"
     ]
    },
    {
     "name": "stderr",
     "output_type": "stream",
     "text": [
      "                                                             \r"
     ]
    },
    {
     "name": "stdout",
     "output_type": "stream",
     "text": [
      "Val Loss:   0.1339, Val Accuracy:   94.66%, Val IoU:   0.8347, Val IoU Loss:   0.1653\n",
      "\n",
      "[Unet-FL] Epoch 59/100\n"
     ]
    },
    {
     "name": "stderr",
     "output_type": "stream",
     "text": [
      "                                                           \r"
     ]
    },
    {
     "name": "stdout",
     "output_type": "stream",
     "text": [
      "Train Loss: 0.1073, Train Accuracy: 96.03%, Train IoU: 0.8049, Train IoU Loss: 0.1951\n"
     ]
    },
    {
     "name": "stderr",
     "output_type": "stream",
     "text": [
      "                                                             \r"
     ]
    },
    {
     "name": "stdout",
     "output_type": "stream",
     "text": [
      "Val Loss:   0.1502, Val Accuracy:   94.10%, Val IoU:   0.7996, Val IoU Loss:   0.2004\n",
      "\n",
      "[Unet-FL] Epoch 60/100\n"
     ]
    },
    {
     "name": "stderr",
     "output_type": "stream",
     "text": [
      "                                                           \r"
     ]
    },
    {
     "name": "stdout",
     "output_type": "stream",
     "text": [
      "Train Loss: 0.1075, Train Accuracy: 96.05%, Train IoU: 0.8070, Train IoU Loss: 0.1930\n"
     ]
    },
    {
     "name": "stderr",
     "output_type": "stream",
     "text": [
      "                                                             \r"
     ]
    },
    {
     "name": "stdout",
     "output_type": "stream",
     "text": [
      "Val Loss:   0.1328, Val Accuracy:   94.67%, Val IoU:   0.8337, Val IoU Loss:   0.1663\n",
      "\n",
      "[Unet-FL] Epoch 61/100\n"
     ]
    },
    {
     "name": "stderr",
     "output_type": "stream",
     "text": [
      "                                                           \r"
     ]
    },
    {
     "name": "stdout",
     "output_type": "stream",
     "text": [
      "Train Loss: 0.1057, Train Accuracy: 96.10%, Train IoU: 0.8095, Train IoU Loss: 0.1905\n"
     ]
    },
    {
     "name": "stderr",
     "output_type": "stream",
     "text": [
      "                                                             \r"
     ]
    },
    {
     "name": "stdout",
     "output_type": "stream",
     "text": [
      "Val Loss:   0.1356, Val Accuracy:   94.43%, Val IoU:   0.8304, Val IoU Loss:   0.1696\n",
      "\n",
      "[Unet-FL] Epoch 62/100\n"
     ]
    },
    {
     "name": "stderr",
     "output_type": "stream",
     "text": [
      "                                                           \r"
     ]
    },
    {
     "name": "stdout",
     "output_type": "stream",
     "text": [
      "Train Loss: 0.1058, Train Accuracy: 96.09%, Train IoU: 0.8098, Train IoU Loss: 0.1902\n"
     ]
    },
    {
     "name": "stderr",
     "output_type": "stream",
     "text": [
      "                                                             \r"
     ]
    },
    {
     "name": "stdout",
     "output_type": "stream",
     "text": [
      "Val Loss:   0.1293, Val Accuracy:   94.94%, Val IoU:   0.8376, Val IoU Loss:   0.1624\n",
      "\n",
      "[Unet-FL] Epoch 63/100\n"
     ]
    },
    {
     "name": "stderr",
     "output_type": "stream",
     "text": [
      "                                                           \r"
     ]
    },
    {
     "name": "stdout",
     "output_type": "stream",
     "text": [
      "Train Loss: 0.1057, Train Accuracy: 96.12%, Train IoU: 0.8111, Train IoU Loss: 0.1889\n"
     ]
    },
    {
     "name": "stderr",
     "output_type": "stream",
     "text": [
      "                                                             \r"
     ]
    },
    {
     "name": "stdout",
     "output_type": "stream",
     "text": [
      "Val Loss:   0.1475, Val Accuracy:   94.20%, Val IoU:   0.8121, Val IoU Loss:   0.1879\n",
      "\n",
      "[Unet-FL] Epoch 64/100\n"
     ]
    },
    {
     "name": "stderr",
     "output_type": "stream",
     "text": [
      "                                                           \r"
     ]
    },
    {
     "name": "stdout",
     "output_type": "stream",
     "text": [
      "Train Loss: 0.1063, Train Accuracy: 96.10%, Train IoU: 0.8102, Train IoU Loss: 0.1898\n"
     ]
    },
    {
     "name": "stderr",
     "output_type": "stream",
     "text": [
      "                                                             \r"
     ]
    },
    {
     "name": "stdout",
     "output_type": "stream",
     "text": [
      "Val Loss:   0.1236, Val Accuracy:   95.37%, Val IoU:   0.8458, Val IoU Loss:   0.1542\n",
      "  [*] Best model saved at Unet-FL/unet_best_model.pth\n",
      "\n",
      "[Unet-FL] Epoch 65/100\n"
     ]
    },
    {
     "name": "stderr",
     "output_type": "stream",
     "text": [
      "                                                           \r"
     ]
    },
    {
     "name": "stdout",
     "output_type": "stream",
     "text": [
      "Train Loss: 0.1050, Train Accuracy: 96.15%, Train IoU: 0.8096, Train IoU Loss: 0.1904\n"
     ]
    },
    {
     "name": "stderr",
     "output_type": "stream",
     "text": [
      "                                                             \r"
     ]
    },
    {
     "name": "stdout",
     "output_type": "stream",
     "text": [
      "Val Loss:   0.1371, Val Accuracy:   94.72%, Val IoU:   0.8353, Val IoU Loss:   0.1647\n",
      "\n",
      "[Unet-FL] Epoch 66/100\n"
     ]
    },
    {
     "name": "stderr",
     "output_type": "stream",
     "text": [
      "                                                           \r"
     ]
    },
    {
     "name": "stdout",
     "output_type": "stream",
     "text": [
      "Train Loss: 0.1050, Train Accuracy: 96.15%, Train IoU: 0.8109, Train IoU Loss: 0.1891\n"
     ]
    },
    {
     "name": "stderr",
     "output_type": "stream",
     "text": [
      "                                                             \r"
     ]
    },
    {
     "name": "stdout",
     "output_type": "stream",
     "text": [
      "Val Loss:   0.1260, Val Accuracy:   95.19%, Val IoU:   0.8414, Val IoU Loss:   0.1586\n",
      "\n",
      "[Unet-FL] Epoch 67/100\n"
     ]
    },
    {
     "name": "stderr",
     "output_type": "stream",
     "text": [
      "                                                           \r"
     ]
    },
    {
     "name": "stdout",
     "output_type": "stream",
     "text": [
      "Train Loss: 0.1043, Train Accuracy: 96.16%, Train IoU: 0.8106, Train IoU Loss: 0.1894\n"
     ]
    },
    {
     "name": "stderr",
     "output_type": "stream",
     "text": [
      "                                                             \r"
     ]
    },
    {
     "name": "stdout",
     "output_type": "stream",
     "text": [
      "Val Loss:   0.1298, Val Accuracy:   94.83%, Val IoU:   0.8397, Val IoU Loss:   0.1603\n",
      "\n",
      "[Unet-FL] Epoch 68/100\n"
     ]
    },
    {
     "name": "stderr",
     "output_type": "stream",
     "text": [
      "                                                           \r"
     ]
    },
    {
     "name": "stdout",
     "output_type": "stream",
     "text": [
      "Train Loss: 0.1077, Train Accuracy: 96.03%, Train IoU: 0.8079, Train IoU Loss: 0.1921\n"
     ]
    },
    {
     "name": "stderr",
     "output_type": "stream",
     "text": [
      "                                                             \r"
     ]
    },
    {
     "name": "stdout",
     "output_type": "stream",
     "text": [
      "Val Loss:   0.1501, Val Accuracy:   93.69%, Val IoU:   0.8158, Val IoU Loss:   0.1842\n",
      "\n",
      "[Unet-FL] Epoch 69/100\n"
     ]
    },
    {
     "name": "stderr",
     "output_type": "stream",
     "text": [
      "                                                           \r"
     ]
    },
    {
     "name": "stdout",
     "output_type": "stream",
     "text": [
      "Train Loss: 0.1044, Train Accuracy: 96.18%, Train IoU: 0.8120, Train IoU Loss: 0.1880\n"
     ]
    },
    {
     "name": "stderr",
     "output_type": "stream",
     "text": [
      "                                                             \r"
     ]
    },
    {
     "name": "stdout",
     "output_type": "stream",
     "text": [
      "Val Loss:   0.1248, Val Accuracy:   95.28%, Val IoU:   0.8392, Val IoU Loss:   0.1608\n",
      "\n",
      "[Unet-FL] Epoch 70/100\n"
     ]
    },
    {
     "name": "stderr",
     "output_type": "stream",
     "text": [
      "                                                           \r"
     ]
    },
    {
     "name": "stdout",
     "output_type": "stream",
     "text": [
      "Train Loss: 0.1015, Train Accuracy: 96.29%, Train IoU: 0.8147, Train IoU Loss: 0.1853\n"
     ]
    },
    {
     "name": "stderr",
     "output_type": "stream",
     "text": [
      "                                                             \r"
     ]
    },
    {
     "name": "stdout",
     "output_type": "stream",
     "text": [
      "Val Loss:   0.1254, Val Accuracy:   95.24%, Val IoU:   0.8399, Val IoU Loss:   0.1601\n",
      "\n",
      "[Unet-FL] Epoch 71/100\n"
     ]
    },
    {
     "name": "stderr",
     "output_type": "stream",
     "text": [
      "                                                           \r"
     ]
    },
    {
     "name": "stdout",
     "output_type": "stream",
     "text": [
      "Train Loss: 0.1018, Train Accuracy: 96.27%, Train IoU: 0.8138, Train IoU Loss: 0.1862\n"
     ]
    },
    {
     "name": "stderr",
     "output_type": "stream",
     "text": [
      "                                                             \r"
     ]
    },
    {
     "name": "stdout",
     "output_type": "stream",
     "text": [
      "Val Loss:   0.1234, Val Accuracy:   95.26%, Val IoU:   0.8481, Val IoU Loss:   0.1519\n",
      "  [*] Best model saved at Unet-FL/unet_best_model.pth\n",
      "\n",
      "[Unet-FL] Epoch 72/100\n"
     ]
    },
    {
     "name": "stderr",
     "output_type": "stream",
     "text": [
      "                                                           \r"
     ]
    },
    {
     "name": "stdout",
     "output_type": "stream",
     "text": [
      "Train Loss: 0.1033, Train Accuracy: 96.24%, Train IoU: 0.8141, Train IoU Loss: 0.1859\n"
     ]
    },
    {
     "name": "stderr",
     "output_type": "stream",
     "text": [
      "                                                             \r"
     ]
    },
    {
     "name": "stdout",
     "output_type": "stream",
     "text": [
      "Val Loss:   0.1340, Val Accuracy:   94.70%, Val IoU:   0.8358, Val IoU Loss:   0.1642\n",
      "\n",
      "[Unet-FL] Epoch 73/100\n"
     ]
    },
    {
     "name": "stderr",
     "output_type": "stream",
     "text": [
      "                                                           \r"
     ]
    },
    {
     "name": "stdout",
     "output_type": "stream",
     "text": [
      "Train Loss: 0.1029, Train Accuracy: 96.24%, Train IoU: 0.8116, Train IoU Loss: 0.1884\n"
     ]
    },
    {
     "name": "stderr",
     "output_type": "stream",
     "text": [
      "                                                             \r"
     ]
    },
    {
     "name": "stdout",
     "output_type": "stream",
     "text": [
      "Val Loss:   0.1286, Val Accuracy:   95.16%, Val IoU:   0.8449, Val IoU Loss:   0.1551\n",
      "\n",
      "[Unet-FL] Epoch 74/100\n"
     ]
    },
    {
     "name": "stderr",
     "output_type": "stream",
     "text": [
      "                                                           \r"
     ]
    },
    {
     "name": "stdout",
     "output_type": "stream",
     "text": [
      "Train Loss: 0.1028, Train Accuracy: 96.23%, Train IoU: 0.8115, Train IoU Loss: 0.1885\n"
     ]
    },
    {
     "name": "stderr",
     "output_type": "stream",
     "text": [
      "                                                             \r"
     ]
    },
    {
     "name": "stdout",
     "output_type": "stream",
     "text": [
      "Val Loss:   0.1313, Val Accuracy:   94.88%, Val IoU:   0.8388, Val IoU Loss:   0.1612\n",
      "\n",
      "[Unet-FL] Epoch 75/100\n"
     ]
    },
    {
     "name": "stderr",
     "output_type": "stream",
     "text": [
      "                                                           \r"
     ]
    },
    {
     "name": "stdout",
     "output_type": "stream",
     "text": [
      "Train Loss: 0.1041, Train Accuracy: 96.20%, Train IoU: 0.8127, Train IoU Loss: 0.1873\n"
     ]
    },
    {
     "name": "stderr",
     "output_type": "stream",
     "text": [
      "                                                             \r"
     ]
    },
    {
     "name": "stdout",
     "output_type": "stream",
     "text": [
      "Val Loss:   0.1277, Val Accuracy:   95.16%, Val IoU:   0.8450, Val IoU Loss:   0.1550\n",
      "\n",
      "[Unet-FL] Epoch 76/100\n"
     ]
    },
    {
     "name": "stderr",
     "output_type": "stream",
     "text": [
      "                                                           \r"
     ]
    },
    {
     "name": "stdout",
     "output_type": "stream",
     "text": [
      "Train Loss: 0.1041, Train Accuracy: 96.18%, Train IoU: 0.8121, Train IoU Loss: 0.1879\n"
     ]
    },
    {
     "name": "stderr",
     "output_type": "stream",
     "text": [
      "                                                             \r"
     ]
    },
    {
     "name": "stdout",
     "output_type": "stream",
     "text": [
      "Val Loss:   0.1249, Val Accuracy:   95.12%, Val IoU:   0.8447, Val IoU Loss:   0.1553\n",
      "\n",
      "[Unet-FL] Epoch 77/100\n"
     ]
    },
    {
     "name": "stderr",
     "output_type": "stream",
     "text": [
      "                                                           \r"
     ]
    },
    {
     "name": "stdout",
     "output_type": "stream",
     "text": [
      "Train Loss: 0.0999, Train Accuracy: 96.36%, Train IoU: 0.8158, Train IoU Loss: 0.1842\n"
     ]
    },
    {
     "name": "stderr",
     "output_type": "stream",
     "text": [
      "                                                             \r"
     ]
    },
    {
     "name": "stdout",
     "output_type": "stream",
     "text": [
      "Val Loss:   0.1291, Val Accuracy:   94.92%, Val IoU:   0.8402, Val IoU Loss:   0.1598\n",
      "\n",
      "[Unet-FL] Epoch 78/100\n"
     ]
    },
    {
     "name": "stderr",
     "output_type": "stream",
     "text": [
      "                                                           \r"
     ]
    },
    {
     "name": "stdout",
     "output_type": "stream",
     "text": [
      "Train Loss: 0.1006, Train Accuracy: 96.32%, Train IoU: 0.8138, Train IoU Loss: 0.1862\n"
     ]
    },
    {
     "name": "stderr",
     "output_type": "stream",
     "text": [
      "                                                             \r"
     ]
    },
    {
     "name": "stdout",
     "output_type": "stream",
     "text": [
      "Val Loss:   0.1459, Val Accuracy:   94.69%, Val IoU:   0.8325, Val IoU Loss:   0.1675\n",
      "\n",
      "[Unet-FL] Epoch 79/100\n"
     ]
    },
    {
     "name": "stderr",
     "output_type": "stream",
     "text": [
      "                                                           \r"
     ]
    },
    {
     "name": "stdout",
     "output_type": "stream",
     "text": [
      "Train Loss: 0.1005, Train Accuracy: 96.33%, Train IoU: 0.8158, Train IoU Loss: 0.1842\n"
     ]
    },
    {
     "name": "stderr",
     "output_type": "stream",
     "text": [
      "                                                             \r"
     ]
    },
    {
     "name": "stdout",
     "output_type": "stream",
     "text": [
      "Val Loss:   0.1278, Val Accuracy:   94.90%, Val IoU:   0.8380, Val IoU Loss:   0.1620\n",
      "\n",
      "[Unet-FL] Epoch 80/100\n"
     ]
    },
    {
     "name": "stderr",
     "output_type": "stream",
     "text": [
      "                                                           \r"
     ]
    },
    {
     "name": "stdout",
     "output_type": "stream",
     "text": [
      "Train Loss: 0.1011, Train Accuracy: 96.31%, Train IoU: 0.8149, Train IoU Loss: 0.1851\n"
     ]
    },
    {
     "name": "stderr",
     "output_type": "stream",
     "text": [
      "                                                             \r"
     ]
    },
    {
     "name": "stdout",
     "output_type": "stream",
     "text": [
      "Val Loss:   0.1200, Val Accuracy:   95.48%, Val IoU:   0.8493, Val IoU Loss:   0.1507\n",
      "  [*] Best model saved at Unet-FL/unet_best_model.pth\n",
      "\n",
      "[Unet-FL] Epoch 81/100\n"
     ]
    },
    {
     "name": "stderr",
     "output_type": "stream",
     "text": [
      "                                                           \r"
     ]
    },
    {
     "name": "stdout",
     "output_type": "stream",
     "text": [
      "Train Loss: 0.0997, Train Accuracy: 96.38%, Train IoU: 0.8180, Train IoU Loss: 0.1820\n"
     ]
    },
    {
     "name": "stderr",
     "output_type": "stream",
     "text": [
      "                                                             \r"
     ]
    },
    {
     "name": "stdout",
     "output_type": "stream",
     "text": [
      "Val Loss:   0.1296, Val Accuracy:   94.89%, Val IoU:   0.8399, Val IoU Loss:   0.1601\n",
      "\n",
      "[Unet-FL] Epoch 82/100\n"
     ]
    },
    {
     "name": "stderr",
     "output_type": "stream",
     "text": [
      "                                                           \r"
     ]
    },
    {
     "name": "stdout",
     "output_type": "stream",
     "text": [
      "Train Loss: 0.0995, Train Accuracy: 96.38%, Train IoU: 0.8179, Train IoU Loss: 0.1821\n"
     ]
    },
    {
     "name": "stderr",
     "output_type": "stream",
     "text": [
      "                                                             \r"
     ]
    },
    {
     "name": "stdout",
     "output_type": "stream",
     "text": [
      "Val Loss:   0.1237, Val Accuracy:   95.34%, Val IoU:   0.8420, Val IoU Loss:   0.1580\n",
      "\n",
      "[Unet-FL] Epoch 83/100\n"
     ]
    },
    {
     "name": "stderr",
     "output_type": "stream",
     "text": [
      "                                                           \r"
     ]
    },
    {
     "name": "stdout",
     "output_type": "stream",
     "text": [
      "Train Loss: 0.0992, Train Accuracy: 96.39%, Train IoU: 0.8174, Train IoU Loss: 0.1826\n"
     ]
    },
    {
     "name": "stderr",
     "output_type": "stream",
     "text": [
      "                                                             \r"
     ]
    },
    {
     "name": "stdout",
     "output_type": "stream",
     "text": [
      "Val Loss:   0.1275, Val Accuracy:   94.99%, Val IoU:   0.8432, Val IoU Loss:   0.1568\n",
      "\n",
      "[Unet-FL] Epoch 84/100\n"
     ]
    },
    {
     "name": "stderr",
     "output_type": "stream",
     "text": [
      "                                                           \r"
     ]
    },
    {
     "name": "stdout",
     "output_type": "stream",
     "text": [
      "Train Loss: 0.1021, Train Accuracy: 96.30%, Train IoU: 0.8162, Train IoU Loss: 0.1838\n"
     ]
    },
    {
     "name": "stderr",
     "output_type": "stream",
     "text": [
      "                                                             \r"
     ]
    },
    {
     "name": "stdout",
     "output_type": "stream",
     "text": [
      "Val Loss:   0.1340, Val Accuracy:   94.80%, Val IoU:   0.8205, Val IoU Loss:   0.1795\n",
      "\n",
      "[Unet-FL] Epoch 85/100\n"
     ]
    },
    {
     "name": "stderr",
     "output_type": "stream",
     "text": [
      "                                                           \r"
     ]
    },
    {
     "name": "stdout",
     "output_type": "stream",
     "text": [
      "Train Loss: 0.0982, Train Accuracy: 96.44%, Train IoU: 0.8190, Train IoU Loss: 0.1810\n"
     ]
    },
    {
     "name": "stderr",
     "output_type": "stream",
     "text": [
      "                                                             \r"
     ]
    },
    {
     "name": "stdout",
     "output_type": "stream",
     "text": [
      "Val Loss:   0.1210, Val Accuracy:   95.42%, Val IoU:   0.8524, Val IoU Loss:   0.1476\n",
      "\n",
      "[Unet-FL] Epoch 86/100\n"
     ]
    },
    {
     "name": "stderr",
     "output_type": "stream",
     "text": [
      "                                                           \r"
     ]
    },
    {
     "name": "stdout",
     "output_type": "stream",
     "text": [
      "Train Loss: 0.0996, Train Accuracy: 96.38%, Train IoU: 0.8160, Train IoU Loss: 0.1840\n"
     ]
    },
    {
     "name": "stderr",
     "output_type": "stream",
     "text": [
      "                                                             \r"
     ]
    },
    {
     "name": "stdout",
     "output_type": "stream",
     "text": [
      "Val Loss:   0.1277, Val Accuracy:   94.99%, Val IoU:   0.8424, Val IoU Loss:   0.1576\n",
      "\n",
      "[Unet-FL] Epoch 87/100\n"
     ]
    },
    {
     "name": "stderr",
     "output_type": "stream",
     "text": [
      "                                                           \r"
     ]
    },
    {
     "name": "stdout",
     "output_type": "stream",
     "text": [
      "Train Loss: 0.0987, Train Accuracy: 96.41%, Train IoU: 0.8174, Train IoU Loss: 0.1826\n"
     ]
    },
    {
     "name": "stderr",
     "output_type": "stream",
     "text": [
      "                                                             \r"
     ]
    },
    {
     "name": "stdout",
     "output_type": "stream",
     "text": [
      "Val Loss:   0.1213, Val Accuracy:   95.37%, Val IoU:   0.8421, Val IoU Loss:   0.1579\n",
      "\n",
      "[Unet-FL] Epoch 88/100\n"
     ]
    },
    {
     "name": "stderr",
     "output_type": "stream",
     "text": [
      "                                                           \r"
     ]
    },
    {
     "name": "stdout",
     "output_type": "stream",
     "text": [
      "Train Loss: 0.0987, Train Accuracy: 96.41%, Train IoU: 0.8164, Train IoU Loss: 0.1836\n"
     ]
    },
    {
     "name": "stderr",
     "output_type": "stream",
     "text": [
      "                                                             \r"
     ]
    },
    {
     "name": "stdout",
     "output_type": "stream",
     "text": [
      "Val Loss:   0.1192, Val Accuracy:   95.41%, Val IoU:   0.8506, Val IoU Loss:   0.1494\n",
      "  [*] Best model saved at Unet-FL/unet_best_model.pth\n",
      "\n",
      "[Unet-FL] Epoch 89/100\n"
     ]
    },
    {
     "name": "stderr",
     "output_type": "stream",
     "text": [
      "                                                           \r"
     ]
    },
    {
     "name": "stdout",
     "output_type": "stream",
     "text": [
      "Train Loss: 0.0973, Train Accuracy: 96.48%, Train IoU: 0.8197, Train IoU Loss: 0.1803\n"
     ]
    },
    {
     "name": "stderr",
     "output_type": "stream",
     "text": [
      "                                                             \r"
     ]
    },
    {
     "name": "stdout",
     "output_type": "stream",
     "text": [
      "Val Loss:   0.1389, Val Accuracy:   94.60%, Val IoU:   0.8172, Val IoU Loss:   0.1828\n",
      "\n",
      "[Unet-FL] Epoch 90/100\n"
     ]
    },
    {
     "name": "stderr",
     "output_type": "stream",
     "text": [
      "                                                           \r"
     ]
    },
    {
     "name": "stdout",
     "output_type": "stream",
     "text": [
      "Train Loss: 0.0988, Train Accuracy: 96.43%, Train IoU: 0.8180, Train IoU Loss: 0.1820\n"
     ]
    },
    {
     "name": "stderr",
     "output_type": "stream",
     "text": [
      "                                                             \r"
     ]
    },
    {
     "name": "stdout",
     "output_type": "stream",
     "text": [
      "Val Loss:   0.1173, Val Accuracy:   95.57%, Val IoU:   0.8513, Val IoU Loss:   0.1487\n",
      "  [*] Best model saved at Unet-FL/unet_best_model.pth\n",
      "\n",
      "[Unet-FL] Epoch 91/100\n"
     ]
    },
    {
     "name": "stderr",
     "output_type": "stream",
     "text": [
      "                                                           \r"
     ]
    },
    {
     "name": "stdout",
     "output_type": "stream",
     "text": [
      "Train Loss: 0.0998, Train Accuracy: 96.36%, Train IoU: 0.8162, Train IoU Loss: 0.1838\n"
     ]
    },
    {
     "name": "stderr",
     "output_type": "stream",
     "text": [
      "                                                             \r"
     ]
    },
    {
     "name": "stdout",
     "output_type": "stream",
     "text": [
      "Val Loss:   0.1186, Val Accuracy:   95.53%, Val IoU:   0.8528, Val IoU Loss:   0.1472\n",
      "\n",
      "[Unet-FL] Epoch 92/100\n"
     ]
    },
    {
     "name": "stderr",
     "output_type": "stream",
     "text": [
      "                                                           \r"
     ]
    },
    {
     "name": "stdout",
     "output_type": "stream",
     "text": [
      "Train Loss: 0.0973, Train Accuracy: 96.48%, Train IoU: 0.8185, Train IoU Loss: 0.1815\n"
     ]
    },
    {
     "name": "stderr",
     "output_type": "stream",
     "text": [
      "                                                             \r"
     ]
    },
    {
     "name": "stdout",
     "output_type": "stream",
     "text": [
      "Val Loss:   0.1222, Val Accuracy:   95.47%, Val IoU:   0.8498, Val IoU Loss:   0.1502\n",
      "\n",
      "[Unet-FL] Epoch 93/100\n"
     ]
    },
    {
     "name": "stderr",
     "output_type": "stream",
     "text": [
      "                                                           \r"
     ]
    },
    {
     "name": "stdout",
     "output_type": "stream",
     "text": [
      "Train Loss: 0.0970, Train Accuracy: 96.49%, Train IoU: 0.8211, Train IoU Loss: 0.1789\n"
     ]
    },
    {
     "name": "stderr",
     "output_type": "stream",
     "text": [
      "                                                             \r"
     ]
    },
    {
     "name": "stdout",
     "output_type": "stream",
     "text": [
      "Val Loss:   0.1268, Val Accuracy:   95.04%, Val IoU:   0.8371, Val IoU Loss:   0.1629\n",
      "\n",
      "[Unet-FL] Epoch 94/100\n"
     ]
    },
    {
     "name": "stderr",
     "output_type": "stream",
     "text": [
      "                                                           \r"
     ]
    },
    {
     "name": "stdout",
     "output_type": "stream",
     "text": [
      "Train Loss: 0.0954, Train Accuracy: 96.56%, Train IoU: 0.8232, Train IoU Loss: 0.1768\n"
     ]
    },
    {
     "name": "stderr",
     "output_type": "stream",
     "text": [
      "                                                             \r"
     ]
    },
    {
     "name": "stdout",
     "output_type": "stream",
     "text": [
      "Val Loss:   0.1263, Val Accuracy:   95.05%, Val IoU:   0.8437, Val IoU Loss:   0.1563\n",
      "\n",
      "[Unet-FL] Epoch 95/100\n"
     ]
    },
    {
     "name": "stderr",
     "output_type": "stream",
     "text": [
      "                                                           \r"
     ]
    },
    {
     "name": "stdout",
     "output_type": "stream",
     "text": [
      "Train Loss: 0.0971, Train Accuracy: 96.47%, Train IoU: 0.8192, Train IoU Loss: 0.1808\n"
     ]
    },
    {
     "name": "stderr",
     "output_type": "stream",
     "text": [
      "                                                             \r"
     ]
    },
    {
     "name": "stdout",
     "output_type": "stream",
     "text": [
      "Val Loss:   0.1175, Val Accuracy:   95.58%, Val IoU:   0.8523, Val IoU Loss:   0.1477\n",
      "\n",
      "[Unet-FL] Epoch 96/100\n"
     ]
    },
    {
     "name": "stderr",
     "output_type": "stream",
     "text": [
      "                                                           \r"
     ]
    },
    {
     "name": "stdout",
     "output_type": "stream",
     "text": [
      "Train Loss: 0.0991, Train Accuracy: 96.41%, Train IoU: 0.8192, Train IoU Loss: 0.1808\n"
     ]
    },
    {
     "name": "stderr",
     "output_type": "stream",
     "text": [
      "                                                             \r"
     ]
    },
    {
     "name": "stdout",
     "output_type": "stream",
     "text": [
      "Val Loss:   0.1229, Val Accuracy:   95.30%, Val IoU:   0.8483, Val IoU Loss:   0.1517\n",
      "\n",
      "[Unet-FL] Epoch 97/100\n"
     ]
    },
    {
     "name": "stderr",
     "output_type": "stream",
     "text": [
      "                                                           \r"
     ]
    },
    {
     "name": "stdout",
     "output_type": "stream",
     "text": [
      "Train Loss: 0.0953, Train Accuracy: 96.57%, Train IoU: 0.8232, Train IoU Loss: 0.1768\n"
     ]
    },
    {
     "name": "stderr",
     "output_type": "stream",
     "text": [
      "                                                             \r"
     ]
    },
    {
     "name": "stdout",
     "output_type": "stream",
     "text": [
      "Val Loss:   0.1407, Val Accuracy:   94.66%, Val IoU:   0.8246, Val IoU Loss:   0.1754\n",
      "\n",
      "[Unet-FL] Epoch 98/100\n"
     ]
    },
    {
     "name": "stderr",
     "output_type": "stream",
     "text": [
      "                                                           \r"
     ]
    },
    {
     "name": "stdout",
     "output_type": "stream",
     "text": [
      "Train Loss: 0.0961, Train Accuracy: 96.54%, Train IoU: 0.8222, Train IoU Loss: 0.1778\n"
     ]
    },
    {
     "name": "stderr",
     "output_type": "stream",
     "text": [
      "                                                             \r"
     ]
    },
    {
     "name": "stdout",
     "output_type": "stream",
     "text": [
      "Val Loss:   0.1198, Val Accuracy:   95.32%, Val IoU:   0.8491, Val IoU Loss:   0.1509\n",
      "\n",
      "[Unet-FL] Epoch 99/100\n"
     ]
    },
    {
     "name": "stderr",
     "output_type": "stream",
     "text": [
      "                                                           \r"
     ]
    },
    {
     "name": "stdout",
     "output_type": "stream",
     "text": [
      "Train Loss: 0.0972, Train Accuracy: 96.48%, Train IoU: 0.8172, Train IoU Loss: 0.1828\n"
     ]
    },
    {
     "name": "stderr",
     "output_type": "stream",
     "text": [
      "                                                             \r"
     ]
    },
    {
     "name": "stdout",
     "output_type": "stream",
     "text": [
      "Val Loss:   0.1226, Val Accuracy:   95.30%, Val IoU:   0.8450, Val IoU Loss:   0.1550\n",
      "\n",
      "[Unet-FL] Epoch 100/100\n"
     ]
    },
    {
     "name": "stderr",
     "output_type": "stream",
     "text": [
      "                                                           \r"
     ]
    },
    {
     "name": "stdout",
     "output_type": "stream",
     "text": [
      "Train Loss: 0.0961, Train Accuracy: 96.52%, Train IoU: 0.8212, Train IoU Loss: 0.1788\n"
     ]
    },
    {
     "name": "stderr",
     "output_type": "stream",
     "text": [
      "                                                             \r"
     ]
    },
    {
     "name": "stdout",
     "output_type": "stream",
     "text": [
      "Val Loss:   0.1266, Val Accuracy:   95.03%, Val IoU:   0.8422, Val IoU Loss:   0.1578\n",
      "  [!] Early stopping for Unet-FL\n",
      "  Metrics saved to Unet-FL/Training_Metrics.xlsx\n",
      "Done training Unet-FL.\n",
      "\n",
      "\n",
      "[Unet-TL] Epoch 1/100\n"
     ]
    },
    {
     "name": "stderr",
     "output_type": "stream",
     "text": [
      "                                                           \r"
     ]
    },
    {
     "name": "stdout",
     "output_type": "stream",
     "text": [
      "Train Loss: 0.4464, Train Accuracy: 83.92%, Train IoU: 0.4945, Train IoU Loss: 0.5055\n"
     ]
    },
    {
     "name": "stderr",
     "output_type": "stream",
     "text": [
      "                                                             \r"
     ]
    },
    {
     "name": "stdout",
     "output_type": "stream",
     "text": [
      "Val Loss:   0.3236, Val Accuracy:   83.16%, Val IoU:   0.5141, Val IoU Loss:   0.4859\n",
      "  [*] Best model saved at Unet-TL/unet_best_model.pth\n",
      "\n",
      "[Unet-TL] Epoch 2/100\n"
     ]
    },
    {
     "name": "stderr",
     "output_type": "stream",
     "text": [
      "                                                           \r"
     ]
    },
    {
     "name": "stdout",
     "output_type": "stream",
     "text": [
      "Train Loss: 0.3446, Train Accuracy: 89.12%, Train IoU: 0.6021, Train IoU Loss: 0.3979\n"
     ]
    },
    {
     "name": "stderr",
     "output_type": "stream",
     "text": [
      "                                                             \r"
     ]
    },
    {
     "name": "stdout",
     "output_type": "stream",
     "text": [
      "Val Loss:   0.3092, Val Accuracy:   88.13%, Val IoU:   0.6901, Val IoU Loss:   0.3099\n",
      "  [*] Best model saved at Unet-TL/unet_best_model.pth\n",
      "\n",
      "[Unet-TL] Epoch 3/100\n"
     ]
    },
    {
     "name": "stderr",
     "output_type": "stream",
     "text": [
      "                                                           \r"
     ]
    },
    {
     "name": "stdout",
     "output_type": "stream",
     "text": [
      "Train Loss: 0.2520, Train Accuracy: 89.95%, Train IoU: 0.6379, Train IoU Loss: 0.3621\n"
     ]
    },
    {
     "name": "stderr",
     "output_type": "stream",
     "text": [
      "                                                             \r"
     ]
    },
    {
     "name": "stdout",
     "output_type": "stream",
     "text": [
      "Val Loss:   0.2735, Val Accuracy:   89.08%, Val IoU:   0.6941, Val IoU Loss:   0.3059\n",
      "  [*] Best model saved at Unet-TL/unet_best_model.pth\n",
      "\n",
      "[Unet-TL] Epoch 4/100\n"
     ]
    },
    {
     "name": "stderr",
     "output_type": "stream",
     "text": [
      "                                                           \r"
     ]
    },
    {
     "name": "stdout",
     "output_type": "stream",
     "text": [
      "Train Loss: 0.2080, Train Accuracy: 91.60%, Train IoU: 0.6910, Train IoU Loss: 0.3090\n"
     ]
    },
    {
     "name": "stderr",
     "output_type": "stream",
     "text": [
      "                                                             \r"
     ]
    },
    {
     "name": "stdout",
     "output_type": "stream",
     "text": [
      "Val Loss:   0.2192, Val Accuracy:   90.67%, Val IoU:   0.7318, Val IoU Loss:   0.2682\n",
      "  [*] Best model saved at Unet-TL/unet_best_model.pth\n",
      "\n",
      "[Unet-TL] Epoch 5/100\n"
     ]
    },
    {
     "name": "stderr",
     "output_type": "stream",
     "text": [
      "                                                           \r"
     ]
    },
    {
     "name": "stdout",
     "output_type": "stream",
     "text": [
      "Train Loss: 0.1638, Train Accuracy: 93.61%, Train IoU: 0.7584, Train IoU Loss: 0.2416\n"
     ]
    },
    {
     "name": "stderr",
     "output_type": "stream",
     "text": [
      "                                                             \r"
     ]
    },
    {
     "name": "stdout",
     "output_type": "stream",
     "text": [
      "Val Loss:   0.1585, Val Accuracy:   93.81%, Val IoU:   0.8214, Val IoU Loss:   0.1786\n",
      "  [*] Best model saved at Unet-TL/unet_best_model.pth\n",
      "\n",
      "[Unet-TL] Epoch 6/100\n"
     ]
    },
    {
     "name": "stderr",
     "output_type": "stream",
     "text": [
      "                                                           \r"
     ]
    },
    {
     "name": "stdout",
     "output_type": "stream",
     "text": [
      "Train Loss: 0.1360, Train Accuracy: 94.86%, Train IoU: 0.7969, Train IoU Loss: 0.2031\n"
     ]
    },
    {
     "name": "stderr",
     "output_type": "stream",
     "text": [
      "                                                             \r"
     ]
    },
    {
     "name": "stdout",
     "output_type": "stream",
     "text": [
      "Val Loss:   0.1508, Val Accuracy:   94.23%, Val IoU:   0.8278, Val IoU Loss:   0.1722\n",
      "  [*] Best model saved at Unet-TL/unet_best_model.pth\n",
      "\n",
      "[Unet-TL] Epoch 7/100\n"
     ]
    },
    {
     "name": "stderr",
     "output_type": "stream",
     "text": [
      "                                                           \r"
     ]
    },
    {
     "name": "stdout",
     "output_type": "stream",
     "text": [
      "Train Loss: 0.1242, Train Accuracy: 95.34%, Train IoU: 0.8077, Train IoU Loss: 0.1923\n"
     ]
    },
    {
     "name": "stderr",
     "output_type": "stream",
     "text": [
      "                                                             \r"
     ]
    },
    {
     "name": "stdout",
     "output_type": "stream",
     "text": [
      "Val Loss:   0.1255, Val Accuracy:   95.28%, Val IoU:   0.8589, Val IoU Loss:   0.1411\n",
      "  [*] Best model saved at Unet-TL/unet_best_model.pth\n",
      "\n",
      "[Unet-TL] Epoch 8/100\n"
     ]
    },
    {
     "name": "stderr",
     "output_type": "stream",
     "text": [
      "                                                           \r"
     ]
    },
    {
     "name": "stdout",
     "output_type": "stream",
     "text": [
      "Train Loss: 0.1148, Train Accuracy: 95.76%, Train IoU: 0.8220, Train IoU Loss: 0.1780\n"
     ]
    },
    {
     "name": "stderr",
     "output_type": "stream",
     "text": [
      "                                                             \r"
     ]
    },
    {
     "name": "stdout",
     "output_type": "stream",
     "text": [
      "Val Loss:   0.1316, Val Accuracy:   95.00%, Val IoU:   0.8445, Val IoU Loss:   0.1555\n",
      "\n",
      "[Unet-TL] Epoch 9/100\n"
     ]
    },
    {
     "name": "stderr",
     "output_type": "stream",
     "text": [
      "                                                           \r"
     ]
    },
    {
     "name": "stdout",
     "output_type": "stream",
     "text": [
      "Train Loss: 0.1085, Train Accuracy: 95.99%, Train IoU: 0.8274, Train IoU Loss: 0.1726\n"
     ]
    },
    {
     "name": "stderr",
     "output_type": "stream",
     "text": [
      "                                                             \r"
     ]
    },
    {
     "name": "stdout",
     "output_type": "stream",
     "text": [
      "Val Loss:   0.1300, Val Accuracy:   95.16%, Val IoU:   0.8483, Val IoU Loss:   0.1517\n",
      "\n",
      "[Unet-TL] Epoch 10/100\n"
     ]
    },
    {
     "name": "stderr",
     "output_type": "stream",
     "text": [
      "                                                           \r"
     ]
    },
    {
     "name": "stdout",
     "output_type": "stream",
     "text": [
      "Train Loss: 0.1061, Train Accuracy: 96.09%, Train IoU: 0.8315, Train IoU Loss: 0.1685\n"
     ]
    },
    {
     "name": "stderr",
     "output_type": "stream",
     "text": [
      "                                                             \r"
     ]
    },
    {
     "name": "stdout",
     "output_type": "stream",
     "text": [
      "Val Loss:   0.1145, Val Accuracy:   95.64%, Val IoU:   0.8688, Val IoU Loss:   0.1312\n",
      "  [*] Best model saved at Unet-TL/unet_best_model.pth\n",
      "\n",
      "[Unet-TL] Epoch 11/100\n"
     ]
    },
    {
     "name": "stderr",
     "output_type": "stream",
     "text": [
      "                                                           \r"
     ]
    },
    {
     "name": "stdout",
     "output_type": "stream",
     "text": [
      "Train Loss: 0.1040, Train Accuracy: 96.16%, Train IoU: 0.8316, Train IoU Loss: 0.1684\n"
     ]
    },
    {
     "name": "stderr",
     "output_type": "stream",
     "text": [
      "                                                             \r"
     ]
    },
    {
     "name": "stdout",
     "output_type": "stream",
     "text": [
      "Val Loss:   0.1185, Val Accuracy:   95.52%, Val IoU:   0.8576, Val IoU Loss:   0.1424\n",
      "\n",
      "[Unet-TL] Epoch 12/100\n"
     ]
    },
    {
     "name": "stderr",
     "output_type": "stream",
     "text": [
      "                                                           \r"
     ]
    },
    {
     "name": "stdout",
     "output_type": "stream",
     "text": [
      "Train Loss: 0.0997, Train Accuracy: 96.35%, Train IoU: 0.8404, Train IoU Loss: 0.1596\n"
     ]
    },
    {
     "name": "stderr",
     "output_type": "stream",
     "text": [
      "                                                             \r"
     ]
    },
    {
     "name": "stdout",
     "output_type": "stream",
     "text": [
      "Val Loss:   0.1065, Val Accuracy:   96.02%, Val IoU:   0.8781, Val IoU Loss:   0.1219\n",
      "  [*] Best model saved at Unet-TL/unet_best_model.pth\n",
      "\n",
      "[Unet-TL] Epoch 13/100\n"
     ]
    },
    {
     "name": "stderr",
     "output_type": "stream",
     "text": [
      "                                                           \r"
     ]
    },
    {
     "name": "stdout",
     "output_type": "stream",
     "text": [
      "Train Loss: 0.1013, Train Accuracy: 96.29%, Train IoU: 0.8393, Train IoU Loss: 0.1607\n"
     ]
    },
    {
     "name": "stderr",
     "output_type": "stream",
     "text": [
      "                                                             \r"
     ]
    },
    {
     "name": "stdout",
     "output_type": "stream",
     "text": [
      "Val Loss:   0.1278, Val Accuracy:   95.33%, Val IoU:   0.8526, Val IoU Loss:   0.1474\n",
      "\n",
      "[Unet-TL] Epoch 14/100\n"
     ]
    },
    {
     "name": "stderr",
     "output_type": "stream",
     "text": [
      "                                                           \r"
     ]
    },
    {
     "name": "stdout",
     "output_type": "stream",
     "text": [
      "Train Loss: 0.0972, Train Accuracy: 96.44%, Train IoU: 0.8451, Train IoU Loss: 0.1549\n"
     ]
    },
    {
     "name": "stderr",
     "output_type": "stream",
     "text": [
      "                                                             \r"
     ]
    },
    {
     "name": "stdout",
     "output_type": "stream",
     "text": [
      "Val Loss:   0.1097, Val Accuracy:   96.01%, Val IoU:   0.8772, Val IoU Loss:   0.1228\n",
      "\n",
      "[Unet-TL] Epoch 15/100\n"
     ]
    },
    {
     "name": "stderr",
     "output_type": "stream",
     "text": [
      "                                                           \r"
     ]
    },
    {
     "name": "stdout",
     "output_type": "stream",
     "text": [
      "Train Loss: 0.0917, Train Accuracy: 96.68%, Train IoU: 0.8507, Train IoU Loss: 0.1493\n"
     ]
    },
    {
     "name": "stderr",
     "output_type": "stream",
     "text": [
      "                                                             \r"
     ]
    },
    {
     "name": "stdout",
     "output_type": "stream",
     "text": [
      "Val Loss:   0.1045, Val Accuracy:   96.02%, Val IoU:   0.8764, Val IoU Loss:   0.1236\n",
      "  [*] Best model saved at Unet-TL/unet_best_model.pth\n",
      "\n",
      "[Unet-TL] Epoch 16/100\n"
     ]
    },
    {
     "name": "stderr",
     "output_type": "stream",
     "text": [
      "                                                           \r"
     ]
    },
    {
     "name": "stdout",
     "output_type": "stream",
     "text": [
      "Train Loss: 0.0928, Train Accuracy: 96.64%, Train IoU: 0.8516, Train IoU Loss: 0.1484\n"
     ]
    },
    {
     "name": "stderr",
     "output_type": "stream",
     "text": [
      "                                                             \r"
     ]
    },
    {
     "name": "stdout",
     "output_type": "stream",
     "text": [
      "Val Loss:   0.1008, Val Accuracy:   96.22%, Val IoU:   0.8833, Val IoU Loss:   0.1167\n",
      "  [*] Best model saved at Unet-TL/unet_best_model.pth\n",
      "\n",
      "[Unet-TL] Epoch 17/100\n"
     ]
    },
    {
     "name": "stderr",
     "output_type": "stream",
     "text": [
      "                                                           \r"
     ]
    },
    {
     "name": "stdout",
     "output_type": "stream",
     "text": [
      "Train Loss: 0.0882, Train Accuracy: 96.82%, Train IoU: 0.8579, Train IoU Loss: 0.1421\n"
     ]
    },
    {
     "name": "stderr",
     "output_type": "stream",
     "text": [
      "                                                             \r"
     ]
    },
    {
     "name": "stdout",
     "output_type": "stream",
     "text": [
      "Val Loss:   0.1011, Val Accuracy:   96.24%, Val IoU:   0.8842, Val IoU Loss:   0.1158\n",
      "\n",
      "[Unet-TL] Epoch 18/100\n"
     ]
    },
    {
     "name": "stderr",
     "output_type": "stream",
     "text": [
      "                                                           \r"
     ]
    },
    {
     "name": "stdout",
     "output_type": "stream",
     "text": [
      "Train Loss: 0.0898, Train Accuracy: 96.73%, Train IoU: 0.8574, Train IoU Loss: 0.1426\n"
     ]
    },
    {
     "name": "stderr",
     "output_type": "stream",
     "text": [
      "                                                             \r"
     ]
    },
    {
     "name": "stdout",
     "output_type": "stream",
     "text": [
      "Val Loss:   0.1034, Val Accuracy:   96.07%, Val IoU:   0.8840, Val IoU Loss:   0.1160\n",
      "\n",
      "[Unet-TL] Epoch 19/100\n"
     ]
    },
    {
     "name": "stderr",
     "output_type": "stream",
     "text": [
      "                                                           \r"
     ]
    },
    {
     "name": "stdout",
     "output_type": "stream",
     "text": [
      "Train Loss: 0.0854, Train Accuracy: 96.92%, Train IoU: 0.8600, Train IoU Loss: 0.1400\n"
     ]
    },
    {
     "name": "stderr",
     "output_type": "stream",
     "text": [
      "                                                             \r"
     ]
    },
    {
     "name": "stdout",
     "output_type": "stream",
     "text": [
      "Val Loss:   0.1131, Val Accuracy:   95.67%, Val IoU:   0.8689, Val IoU Loss:   0.1311\n",
      "\n",
      "[Unet-TL] Epoch 20/100\n"
     ]
    },
    {
     "name": "stderr",
     "output_type": "stream",
     "text": [
      "                                                           \r"
     ]
    },
    {
     "name": "stdout",
     "output_type": "stream",
     "text": [
      "Train Loss: 0.0877, Train Accuracy: 96.82%, Train IoU: 0.8606, Train IoU Loss: 0.1394\n"
     ]
    },
    {
     "name": "stderr",
     "output_type": "stream",
     "text": [
      "                                                             \r"
     ]
    },
    {
     "name": "stdout",
     "output_type": "stream",
     "text": [
      "Val Loss:   0.1097, Val Accuracy:   95.83%, Val IoU:   0.8755, Val IoU Loss:   0.1245\n",
      "\n",
      "[Unet-TL] Epoch 21/100\n"
     ]
    },
    {
     "name": "stderr",
     "output_type": "stream",
     "text": [
      "                                                           \r"
     ]
    },
    {
     "name": "stdout",
     "output_type": "stream",
     "text": [
      "Train Loss: 0.0831, Train Accuracy: 97.01%, Train IoU: 0.8638, Train IoU Loss: 0.1362\n"
     ]
    },
    {
     "name": "stderr",
     "output_type": "stream",
     "text": [
      "                                                             \r"
     ]
    },
    {
     "name": "stdout",
     "output_type": "stream",
     "text": [
      "Val Loss:   0.0908, Val Accuracy:   96.68%, Val IoU:   0.8937, Val IoU Loss:   0.1063\n",
      "  [*] Best model saved at Unet-TL/unet_best_model.pth\n",
      "\n",
      "[Unet-TL] Epoch 22/100\n"
     ]
    },
    {
     "name": "stderr",
     "output_type": "stream",
     "text": [
      "                                                           \r"
     ]
    },
    {
     "name": "stdout",
     "output_type": "stream",
     "text": [
      "Train Loss: 0.0804, Train Accuracy: 97.14%, Train IoU: 0.8693, Train IoU Loss: 0.1307\n"
     ]
    },
    {
     "name": "stderr",
     "output_type": "stream",
     "text": [
      "                                                             \r"
     ]
    },
    {
     "name": "stdout",
     "output_type": "stream",
     "text": [
      "Val Loss:   0.0913, Val Accuracy:   96.66%, Val IoU:   0.8913, Val IoU Loss:   0.1087\n",
      "\n",
      "[Unet-TL] Epoch 23/100\n"
     ]
    },
    {
     "name": "stderr",
     "output_type": "stream",
     "text": [
      "                                                           \r"
     ]
    },
    {
     "name": "stdout",
     "output_type": "stream",
     "text": [
      "Train Loss: 0.0819, Train Accuracy: 97.07%, Train IoU: 0.8671, Train IoU Loss: 0.1329\n"
     ]
    },
    {
     "name": "stderr",
     "output_type": "stream",
     "text": [
      "                                                             \r"
     ]
    },
    {
     "name": "stdout",
     "output_type": "stream",
     "text": [
      "Val Loss:   0.0899, Val Accuracy:   96.63%, Val IoU:   0.8934, Val IoU Loss:   0.1066\n",
      "  [*] Best model saved at Unet-TL/unet_best_model.pth\n",
      "\n",
      "[Unet-TL] Epoch 24/100\n"
     ]
    },
    {
     "name": "stderr",
     "output_type": "stream",
     "text": [
      "                                                           \r"
     ]
    },
    {
     "name": "stdout",
     "output_type": "stream",
     "text": [
      "Train Loss: 0.0798, Train Accuracy: 97.18%, Train IoU: 0.8711, Train IoU Loss: 0.1289\n"
     ]
    },
    {
     "name": "stderr",
     "output_type": "stream",
     "text": [
      "                                                             \r"
     ]
    },
    {
     "name": "stdout",
     "output_type": "stream",
     "text": [
      "Val Loss:   0.0924, Val Accuracy:   96.58%, Val IoU:   0.8907, Val IoU Loss:   0.1093\n",
      "\n",
      "[Unet-TL] Epoch 25/100\n"
     ]
    },
    {
     "name": "stderr",
     "output_type": "stream",
     "text": [
      "                                                           \r"
     ]
    },
    {
     "name": "stdout",
     "output_type": "stream",
     "text": [
      "Train Loss: 0.0778, Train Accuracy: 97.24%, Train IoU: 0.8746, Train IoU Loss: 0.1254\n"
     ]
    },
    {
     "name": "stderr",
     "output_type": "stream",
     "text": [
      "                                                             \r"
     ]
    },
    {
     "name": "stdout",
     "output_type": "stream",
     "text": [
      "Val Loss:   0.0938, Val Accuracy:   96.55%, Val IoU:   0.8866, Val IoU Loss:   0.1134\n",
      "\n",
      "[Unet-TL] Epoch 26/100\n"
     ]
    },
    {
     "name": "stderr",
     "output_type": "stream",
     "text": [
      "                                                           \r"
     ]
    },
    {
     "name": "stdout",
     "output_type": "stream",
     "text": [
      "Train Loss: 0.0792, Train Accuracy: 97.18%, Train IoU: 0.8692, Train IoU Loss: 0.1308\n"
     ]
    },
    {
     "name": "stderr",
     "output_type": "stream",
     "text": [
      "                                                             \r"
     ]
    },
    {
     "name": "stdout",
     "output_type": "stream",
     "text": [
      "Val Loss:   0.0910, Val Accuracy:   96.69%, Val IoU:   0.8945, Val IoU Loss:   0.1055\n",
      "\n",
      "[Unet-TL] Epoch 27/100\n"
     ]
    },
    {
     "name": "stderr",
     "output_type": "stream",
     "text": [
      "                                                           \r"
     ]
    },
    {
     "name": "stdout",
     "output_type": "stream",
     "text": [
      "Train Loss: 0.0754, Train Accuracy: 97.31%, Train IoU: 0.8732, Train IoU Loss: 0.1268\n"
     ]
    },
    {
     "name": "stderr",
     "output_type": "stream",
     "text": [
      "                                                             \r"
     ]
    },
    {
     "name": "stdout",
     "output_type": "stream",
     "text": [
      "Val Loss:   0.0845, Val Accuracy:   96.87%, Val IoU:   0.8993, Val IoU Loss:   0.1007\n",
      "  [*] Best model saved at Unet-TL/unet_best_model.pth\n",
      "\n",
      "[Unet-TL] Epoch 28/100\n"
     ]
    },
    {
     "name": "stderr",
     "output_type": "stream",
     "text": [
      "                                                           \r"
     ]
    },
    {
     "name": "stdout",
     "output_type": "stream",
     "text": [
      "Train Loss: 0.0726, Train Accuracy: 97.43%, Train IoU: 0.8798, Train IoU Loss: 0.1202\n"
     ]
    },
    {
     "name": "stderr",
     "output_type": "stream",
     "text": [
      "                                                             \r"
     ]
    },
    {
     "name": "stdout",
     "output_type": "stream",
     "text": [
      "Val Loss:   0.0818, Val Accuracy:   96.97%, Val IoU:   0.9025, Val IoU Loss:   0.0975\n",
      "  [*] Best model saved at Unet-TL/unet_best_model.pth\n",
      "\n",
      "[Unet-TL] Epoch 29/100\n"
     ]
    },
    {
     "name": "stderr",
     "output_type": "stream",
     "text": [
      "                                                           \r"
     ]
    },
    {
     "name": "stdout",
     "output_type": "stream",
     "text": [
      "Train Loss: 0.0724, Train Accuracy: 97.44%, Train IoU: 0.8801, Train IoU Loss: 0.1199\n"
     ]
    },
    {
     "name": "stderr",
     "output_type": "stream",
     "text": [
      "                                                             \r"
     ]
    },
    {
     "name": "stdout",
     "output_type": "stream",
     "text": [
      "Val Loss:   0.0946, Val Accuracy:   96.61%, Val IoU:   0.8889, Val IoU Loss:   0.1111\n",
      "\n",
      "[Unet-TL] Epoch 30/100\n"
     ]
    },
    {
     "name": "stderr",
     "output_type": "stream",
     "text": [
      "                                                           \r"
     ]
    },
    {
     "name": "stdout",
     "output_type": "stream",
     "text": [
      "Train Loss: 0.0746, Train Accuracy: 97.34%, Train IoU: 0.8778, Train IoU Loss: 0.1222\n"
     ]
    },
    {
     "name": "stderr",
     "output_type": "stream",
     "text": [
      "                                                             \r"
     ]
    },
    {
     "name": "stdout",
     "output_type": "stream",
     "text": [
      "Val Loss:   0.0831, Val Accuracy:   96.85%, Val IoU:   0.8995, Val IoU Loss:   0.1005\n",
      "\n",
      "[Unet-TL] Epoch 31/100\n"
     ]
    },
    {
     "name": "stderr",
     "output_type": "stream",
     "text": [
      "                                                           \r"
     ]
    },
    {
     "name": "stdout",
     "output_type": "stream",
     "text": [
      "Train Loss: 0.0712, Train Accuracy: 97.48%, Train IoU: 0.8808, Train IoU Loss: 0.1192\n"
     ]
    },
    {
     "name": "stderr",
     "output_type": "stream",
     "text": [
      "                                                             \r"
     ]
    },
    {
     "name": "stdout",
     "output_type": "stream",
     "text": [
      "Val Loss:   0.0762, Val Accuracy:   97.24%, Val IoU:   0.9086, Val IoU Loss:   0.0914\n",
      "  [*] Best model saved at Unet-TL/unet_best_model.pth\n",
      "\n",
      "[Unet-TL] Epoch 32/100\n"
     ]
    },
    {
     "name": "stderr",
     "output_type": "stream",
     "text": [
      "                                                           \r"
     ]
    },
    {
     "name": "stdout",
     "output_type": "stream",
     "text": [
      "Train Loss: 0.0696, Train Accuracy: 97.56%, Train IoU: 0.8841, Train IoU Loss: 0.1159\n"
     ]
    },
    {
     "name": "stderr",
     "output_type": "stream",
     "text": [
      "                                                             \r"
     ]
    },
    {
     "name": "stdout",
     "output_type": "stream",
     "text": [
      "Val Loss:   0.0829, Val Accuracy:   97.07%, Val IoU:   0.9015, Val IoU Loss:   0.0985\n",
      "\n",
      "[Unet-TL] Epoch 33/100\n"
     ]
    },
    {
     "name": "stderr",
     "output_type": "stream",
     "text": [
      "                                                           \r"
     ]
    },
    {
     "name": "stdout",
     "output_type": "stream",
     "text": [
      "Train Loss: 0.0721, Train Accuracy: 97.45%, Train IoU: 0.8808, Train IoU Loss: 0.1192\n"
     ]
    },
    {
     "name": "stderr",
     "output_type": "stream",
     "text": [
      "                                                             \r"
     ]
    },
    {
     "name": "stdout",
     "output_type": "stream",
     "text": [
      "Val Loss:   0.0800, Val Accuracy:   97.12%, Val IoU:   0.9055, Val IoU Loss:   0.0945\n",
      "\n",
      "[Unet-TL] Epoch 34/100\n"
     ]
    },
    {
     "name": "stderr",
     "output_type": "stream",
     "text": [
      "                                                           \r"
     ]
    },
    {
     "name": "stdout",
     "output_type": "stream",
     "text": [
      "Train Loss: 0.0720, Train Accuracy: 97.45%, Train IoU: 0.8827, Train IoU Loss: 0.1173\n"
     ]
    },
    {
     "name": "stderr",
     "output_type": "stream",
     "text": [
      "                                                             \r"
     ]
    },
    {
     "name": "stdout",
     "output_type": "stream",
     "text": [
      "Val Loss:   0.0895, Val Accuracy:   96.58%, Val IoU:   0.8960, Val IoU Loss:   0.1040\n",
      "\n",
      "[Unet-TL] Epoch 35/100\n"
     ]
    },
    {
     "name": "stderr",
     "output_type": "stream",
     "text": [
      "                                                           \r"
     ]
    },
    {
     "name": "stdout",
     "output_type": "stream",
     "text": [
      "Train Loss: 0.0683, Train Accuracy: 97.61%, Train IoU: 0.8860, Train IoU Loss: 0.1140\n"
     ]
    },
    {
     "name": "stderr",
     "output_type": "stream",
     "text": [
      "                                                             \r"
     ]
    },
    {
     "name": "stdout",
     "output_type": "stream",
     "text": [
      "Val Loss:   0.0797, Val Accuracy:   97.14%, Val IoU:   0.9049, Val IoU Loss:   0.0951\n",
      "\n",
      "[Unet-TL] Epoch 36/100\n"
     ]
    },
    {
     "name": "stderr",
     "output_type": "stream",
     "text": [
      "                                                           \r"
     ]
    },
    {
     "name": "stdout",
     "output_type": "stream",
     "text": [
      "Train Loss: 0.0666, Train Accuracy: 97.66%, Train IoU: 0.8875, Train IoU Loss: 0.1125\n"
     ]
    },
    {
     "name": "stderr",
     "output_type": "stream",
     "text": [
      "                                                             \r"
     ]
    },
    {
     "name": "stdout",
     "output_type": "stream",
     "text": [
      "Val Loss:   0.0830, Val Accuracy:   96.85%, Val IoU:   0.8992, Val IoU Loss:   0.1008\n",
      "\n",
      "[Unet-TL] Epoch 37/100\n"
     ]
    },
    {
     "name": "stderr",
     "output_type": "stream",
     "text": [
      "                                                           \r"
     ]
    },
    {
     "name": "stdout",
     "output_type": "stream",
     "text": [
      "Train Loss: 0.0692, Train Accuracy: 97.57%, Train IoU: 0.8852, Train IoU Loss: 0.1148\n"
     ]
    },
    {
     "name": "stderr",
     "output_type": "stream",
     "text": [
      "                                                             \r"
     ]
    },
    {
     "name": "stdout",
     "output_type": "stream",
     "text": [
      "Val Loss:   0.0758, Val Accuracy:   97.26%, Val IoU:   0.9088, Val IoU Loss:   0.0912\n",
      "  [*] Best model saved at Unet-TL/unet_best_model.pth\n",
      "\n",
      "[Unet-TL] Epoch 38/100\n"
     ]
    },
    {
     "name": "stderr",
     "output_type": "stream",
     "text": [
      "                                                           \r"
     ]
    },
    {
     "name": "stdout",
     "output_type": "stream",
     "text": [
      "Train Loss: 0.0668, Train Accuracy: 97.68%, Train IoU: 0.8883, Train IoU Loss: 0.1117\n"
     ]
    },
    {
     "name": "stderr",
     "output_type": "stream",
     "text": [
      "                                                             \r"
     ]
    },
    {
     "name": "stdout",
     "output_type": "stream",
     "text": [
      "Val Loss:   0.0726, Val Accuracy:   97.44%, Val IoU:   0.9141, Val IoU Loss:   0.0859\n",
      "  [*] Best model saved at Unet-TL/unet_best_model.pth\n",
      "\n",
      "[Unet-TL] Epoch 39/100\n"
     ]
    },
    {
     "name": "stderr",
     "output_type": "stream",
     "text": [
      "                                                           \r"
     ]
    },
    {
     "name": "stdout",
     "output_type": "stream",
     "text": [
      "Train Loss: 0.0646, Train Accuracy: 97.75%, Train IoU: 0.8926, Train IoU Loss: 0.1074\n"
     ]
    },
    {
     "name": "stderr",
     "output_type": "stream",
     "text": [
      "                                                             \r"
     ]
    },
    {
     "name": "stdout",
     "output_type": "stream",
     "text": [
      "Val Loss:   0.0784, Val Accuracy:   97.15%, Val IoU:   0.9058, Val IoU Loss:   0.0942\n",
      "\n",
      "[Unet-TL] Epoch 40/100\n"
     ]
    },
    {
     "name": "stderr",
     "output_type": "stream",
     "text": [
      "                                                           \r"
     ]
    },
    {
     "name": "stdout",
     "output_type": "stream",
     "text": [
      "Train Loss: 0.0634, Train Accuracy: 97.79%, Train IoU: 0.8920, Train IoU Loss: 0.1080\n"
     ]
    },
    {
     "name": "stderr",
     "output_type": "stream",
     "text": [
      "                                                             \r"
     ]
    },
    {
     "name": "stdout",
     "output_type": "stream",
     "text": [
      "Val Loss:   0.0858, Val Accuracy:   96.90%, Val IoU:   0.9022, Val IoU Loss:   0.0978\n",
      "\n",
      "[Unet-TL] Epoch 41/100\n"
     ]
    },
    {
     "name": "stderr",
     "output_type": "stream",
     "text": [
      "                                                           \r"
     ]
    },
    {
     "name": "stdout",
     "output_type": "stream",
     "text": [
      "Train Loss: 0.0673, Train Accuracy: 97.65%, Train IoU: 0.8878, Train IoU Loss: 0.1122\n"
     ]
    },
    {
     "name": "stderr",
     "output_type": "stream",
     "text": [
      "                                                             \r"
     ]
    },
    {
     "name": "stdout",
     "output_type": "stream",
     "text": [
      "Val Loss:   0.0754, Val Accuracy:   97.25%, Val IoU:   0.9087, Val IoU Loss:   0.0913\n",
      "\n",
      "[Unet-TL] Epoch 42/100\n"
     ]
    },
    {
     "name": "stderr",
     "output_type": "stream",
     "text": [
      "                                                           \r"
     ]
    },
    {
     "name": "stdout",
     "output_type": "stream",
     "text": [
      "Train Loss: 0.0625, Train Accuracy: 97.82%, Train IoU: 0.8945, Train IoU Loss: 0.1055\n"
     ]
    },
    {
     "name": "stderr",
     "output_type": "stream",
     "text": [
      "                                                             \r"
     ]
    },
    {
     "name": "stdout",
     "output_type": "stream",
     "text": [
      "Val Loss:   0.0884, Val Accuracy:   96.84%, Val IoU:   0.8922, Val IoU Loss:   0.1078\n",
      "\n",
      "[Unet-TL] Epoch 43/100\n"
     ]
    },
    {
     "name": "stderr",
     "output_type": "stream",
     "text": [
      "                                                           \r"
     ]
    },
    {
     "name": "stdout",
     "output_type": "stream",
     "text": [
      "Train Loss: 0.0649, Train Accuracy: 97.73%, Train IoU: 0.8904, Train IoU Loss: 0.1096\n"
     ]
    },
    {
     "name": "stderr",
     "output_type": "stream",
     "text": [
      "                                                             \r"
     ]
    },
    {
     "name": "stdout",
     "output_type": "stream",
     "text": [
      "Val Loss:   0.0768, Val Accuracy:   97.10%, Val IoU:   0.9067, Val IoU Loss:   0.0933\n",
      "\n",
      "[Unet-TL] Epoch 44/100\n"
     ]
    },
    {
     "name": "stderr",
     "output_type": "stream",
     "text": [
      "                                                           \r"
     ]
    },
    {
     "name": "stdout",
     "output_type": "stream",
     "text": [
      "Train Loss: 0.0640, Train Accuracy: 97.78%, Train IoU: 0.8921, Train IoU Loss: 0.1079\n"
     ]
    },
    {
     "name": "stderr",
     "output_type": "stream",
     "text": [
      "                                                             \r"
     ]
    },
    {
     "name": "stdout",
     "output_type": "stream",
     "text": [
      "Val Loss:   0.0745, Val Accuracy:   97.29%, Val IoU:   0.9082, Val IoU Loss:   0.0918\n",
      "\n",
      "[Unet-TL] Epoch 45/100\n"
     ]
    },
    {
     "name": "stderr",
     "output_type": "stream",
     "text": [
      "                                                           \r"
     ]
    },
    {
     "name": "stdout",
     "output_type": "stream",
     "text": [
      "Train Loss: 0.0649, Train Accuracy: 97.73%, Train IoU: 0.8917, Train IoU Loss: 0.1083\n"
     ]
    },
    {
     "name": "stderr",
     "output_type": "stream",
     "text": [
      "                                                             \r"
     ]
    },
    {
     "name": "stdout",
     "output_type": "stream",
     "text": [
      "Val Loss:   0.0741, Val Accuracy:   97.28%, Val IoU:   0.9124, Val IoU Loss:   0.0876\n",
      "\n",
      "[Unet-TL] Epoch 46/100\n"
     ]
    },
    {
     "name": "stderr",
     "output_type": "stream",
     "text": [
      "                                                           \r"
     ]
    },
    {
     "name": "stdout",
     "output_type": "stream",
     "text": [
      "Train Loss: 0.0618, Train Accuracy: 97.86%, Train IoU: 0.8956, Train IoU Loss: 0.1044\n"
     ]
    },
    {
     "name": "stderr",
     "output_type": "stream",
     "text": [
      "                                                             \r"
     ]
    },
    {
     "name": "stdout",
     "output_type": "stream",
     "text": [
      "Val Loss:   0.0769, Val Accuracy:   97.13%, Val IoU:   0.9065, Val IoU Loss:   0.0935\n",
      "\n",
      "[Unet-TL] Epoch 47/100\n"
     ]
    },
    {
     "name": "stderr",
     "output_type": "stream",
     "text": [
      "                                                           \r"
     ]
    },
    {
     "name": "stdout",
     "output_type": "stream",
     "text": [
      "Train Loss: 0.0617, Train Accuracy: 97.88%, Train IoU: 0.8949, Train IoU Loss: 0.1051\n"
     ]
    },
    {
     "name": "stderr",
     "output_type": "stream",
     "text": [
      "                                                             \r"
     ]
    },
    {
     "name": "stdout",
     "output_type": "stream",
     "text": [
      "Val Loss:   0.0823, Val Accuracy:   96.81%, Val IoU:   0.9032, Val IoU Loss:   0.0968\n",
      "\n",
      "[Unet-TL] Epoch 48/100\n"
     ]
    },
    {
     "name": "stderr",
     "output_type": "stream",
     "text": [
      "                                                           \r"
     ]
    },
    {
     "name": "stdout",
     "output_type": "stream",
     "text": [
      "Train Loss: 0.0616, Train Accuracy: 97.86%, Train IoU: 0.8949, Train IoU Loss: 0.1051\n"
     ]
    },
    {
     "name": "stderr",
     "output_type": "stream",
     "text": [
      "                                                             \r"
     ]
    },
    {
     "name": "stdout",
     "output_type": "stream",
     "text": [
      "Val Loss:   0.0935, Val Accuracy:   96.46%, Val IoU:   0.8839, Val IoU Loss:   0.1161\n",
      "  [!] Early stopping for Unet-TL\n",
      "  Metrics saved to Unet-TL/Training_Metrics.xlsx\n",
      "Done training Unet-TL.\n",
      "\n",
      "\n",
      "[Unet-LSL] Epoch 1/100\n"
     ]
    },
    {
     "name": "stderr",
     "output_type": "stream",
     "text": [
      "                                                           \r"
     ]
    },
    {
     "name": "stdout",
     "output_type": "stream",
     "text": [
      "Train Loss: 0.3301, Train Accuracy: 86.33%, Train IoU: 0.5782, Train IoU Loss: 0.4218\n"
     ]
    },
    {
     "name": "stderr",
     "output_type": "stream",
     "text": [
      "                                                             \r"
     ]
    },
    {
     "name": "stdout",
     "output_type": "stream",
     "text": [
      "Val Loss:   0.2102, Val Accuracy:   91.62%, Val IoU:   0.7767, Val IoU Loss:   0.2233\n",
      "  [*] Best model saved at Unet-LSL/unet_best_model.pth\n",
      "\n",
      "[Unet-LSL] Epoch 2/100\n"
     ]
    },
    {
     "name": "stderr",
     "output_type": "stream",
     "text": [
      "                                                           \r"
     ]
    },
    {
     "name": "stdout",
     "output_type": "stream",
     "text": [
      "Train Loss: 0.1704, Train Accuracy: 93.34%, Train IoU: 0.7598, Train IoU Loss: 0.2402\n"
     ]
    },
    {
     "name": "stderr",
     "output_type": "stream",
     "text": [
      "                                                             \r"
     ]
    },
    {
     "name": "stdout",
     "output_type": "stream",
     "text": [
      "Val Loss:   0.2047, Val Accuracy:   91.23%, Val IoU:   0.7343, Val IoU Loss:   0.2657\n",
      "  [*] Best model saved at Unet-LSL/unet_best_model.pth\n",
      "\n",
      "[Unet-LSL] Epoch 3/100\n"
     ]
    },
    {
     "name": "stderr",
     "output_type": "stream",
     "text": [
      "                                                           \r"
     ]
    },
    {
     "name": "stdout",
     "output_type": "stream",
     "text": [
      "Train Loss: 0.1374, Train Accuracy: 94.75%, Train IoU: 0.8018, Train IoU Loss: 0.1982\n"
     ]
    },
    {
     "name": "stderr",
     "output_type": "stream",
     "text": [
      "                                                             \r"
     ]
    },
    {
     "name": "stdout",
     "output_type": "stream",
     "text": [
      "Val Loss:   0.1429, Val Accuracy:   94.16%, Val IoU:   0.8352, Val IoU Loss:   0.1648\n",
      "  [*] Best model saved at Unet-LSL/unet_best_model.pth\n",
      "\n",
      "[Unet-LSL] Epoch 4/100\n"
     ]
    },
    {
     "name": "stderr",
     "output_type": "stream",
     "text": [
      "                                                           \r"
     ]
    },
    {
     "name": "stdout",
     "output_type": "stream",
     "text": [
      "Train Loss: 0.1208, Train Accuracy: 95.48%, Train IoU: 0.8198, Train IoU Loss: 0.1802\n"
     ]
    },
    {
     "name": "stderr",
     "output_type": "stream",
     "text": [
      "                                                             \r"
     ]
    },
    {
     "name": "stdout",
     "output_type": "stream",
     "text": [
      "Val Loss:   0.1174, Val Accuracy:   95.50%, Val IoU:   0.8693, Val IoU Loss:   0.1307\n",
      "  [*] Best model saved at Unet-LSL/unet_best_model.pth\n",
      "\n",
      "[Unet-LSL] Epoch 5/100\n"
     ]
    },
    {
     "name": "stderr",
     "output_type": "stream",
     "text": [
      "                                                           \r"
     ]
    },
    {
     "name": "stdout",
     "output_type": "stream",
     "text": [
      "Train Loss: 0.1072, Train Accuracy: 96.06%, Train IoU: 0.8364, Train IoU Loss: 0.1636\n"
     ]
    },
    {
     "name": "stderr",
     "output_type": "stream",
     "text": [
      "                                                             \r"
     ]
    },
    {
     "name": "stdout",
     "output_type": "stream",
     "text": [
      "Val Loss:   0.1378, Val Accuracy:   94.76%, Val IoU:   0.8460, Val IoU Loss:   0.1540\n",
      "\n",
      "[Unet-LSL] Epoch 6/100\n"
     ]
    },
    {
     "name": "stderr",
     "output_type": "stream",
     "text": [
      "                                                           \r"
     ]
    },
    {
     "name": "stdout",
     "output_type": "stream",
     "text": [
      "Train Loss: 0.1019, Train Accuracy: 96.26%, Train IoU: 0.8448, Train IoU Loss: 0.1552\n"
     ]
    },
    {
     "name": "stderr",
     "output_type": "stream",
     "text": [
      "                                                             \r"
     ]
    },
    {
     "name": "stdout",
     "output_type": "stream",
     "text": [
      "Val Loss:   0.1008, Val Accuracy:   96.29%, Val IoU:   0.8869, Val IoU Loss:   0.1131\n",
      "  [*] Best model saved at Unet-LSL/unet_best_model.pth\n",
      "\n",
      "[Unet-LSL] Epoch 7/100\n"
     ]
    },
    {
     "name": "stderr",
     "output_type": "stream",
     "text": [
      "                                                           \r"
     ]
    },
    {
     "name": "stdout",
     "output_type": "stream",
     "text": [
      "Train Loss: 0.0976, Train Accuracy: 96.42%, Train IoU: 0.8487, Train IoU Loss: 0.1513\n"
     ]
    },
    {
     "name": "stderr",
     "output_type": "stream",
     "text": [
      "                                                             \r"
     ]
    },
    {
     "name": "stdout",
     "output_type": "stream",
     "text": [
      "Val Loss:   0.1008, Val Accuracy:   96.26%, Val IoU:   0.8862, Val IoU Loss:   0.1138\n",
      "\n",
      "[Unet-LSL] Epoch 8/100\n"
     ]
    },
    {
     "name": "stderr",
     "output_type": "stream",
     "text": [
      "                                                           \r"
     ]
    },
    {
     "name": "stdout",
     "output_type": "stream",
     "text": [
      "Train Loss: 0.0931, Train Accuracy: 96.63%, Train IoU: 0.8558, Train IoU Loss: 0.1442\n"
     ]
    },
    {
     "name": "stderr",
     "output_type": "stream",
     "text": [
      "                                                             \r"
     ]
    },
    {
     "name": "stdout",
     "output_type": "stream",
     "text": [
      "Val Loss:   0.1049, Val Accuracy:   95.94%, Val IoU:   0.8763, Val IoU Loss:   0.1237\n",
      "\n",
      "[Unet-LSL] Epoch 9/100\n"
     ]
    },
    {
     "name": "stderr",
     "output_type": "stream",
     "text": [
      "                                                           \r"
     ]
    },
    {
     "name": "stdout",
     "output_type": "stream",
     "text": [
      "Train Loss: 0.0898, Train Accuracy: 96.75%, Train IoU: 0.8606, Train IoU Loss: 0.1394\n"
     ]
    },
    {
     "name": "stderr",
     "output_type": "stream",
     "text": [
      "                                                             \r"
     ]
    },
    {
     "name": "stdout",
     "output_type": "stream",
     "text": [
      "Val Loss:   0.1123, Val Accuracy:   95.85%, Val IoU:   0.8692, Val IoU Loss:   0.1308\n",
      "\n",
      "[Unet-LSL] Epoch 10/100\n"
     ]
    },
    {
     "name": "stderr",
     "output_type": "stream",
     "text": [
      "                                                           \r"
     ]
    },
    {
     "name": "stdout",
     "output_type": "stream",
     "text": [
      "Train Loss: 0.0855, Train Accuracy: 96.93%, Train IoU: 0.8669, Train IoU Loss: 0.1331\n"
     ]
    },
    {
     "name": "stderr",
     "output_type": "stream",
     "text": [
      "                                                             \r"
     ]
    },
    {
     "name": "stdout",
     "output_type": "stream",
     "text": [
      "Val Loss:   0.1019, Val Accuracy:   96.24%, Val IoU:   0.8870, Val IoU Loss:   0.1130\n",
      "\n",
      "[Unet-LSL] Epoch 11/100\n"
     ]
    },
    {
     "name": "stderr",
     "output_type": "stream",
     "text": [
      "                                                           \r"
     ]
    },
    {
     "name": "stdout",
     "output_type": "stream",
     "text": [
      "Train Loss: 0.0866, Train Accuracy: 96.87%, Train IoU: 0.8656, Train IoU Loss: 0.1344\n"
     ]
    },
    {
     "name": "stderr",
     "output_type": "stream",
     "text": [
      "                                                             \r"
     ]
    },
    {
     "name": "stdout",
     "output_type": "stream",
     "text": [
      "Val Loss:   0.0890, Val Accuracy:   96.67%, Val IoU:   0.8960, Val IoU Loss:   0.1040\n",
      "  [*] Best model saved at Unet-LSL/unet_best_model.pth\n",
      "\n",
      "[Unet-LSL] Epoch 12/100\n"
     ]
    },
    {
     "name": "stderr",
     "output_type": "stream",
     "text": [
      "                                                           \r"
     ]
    },
    {
     "name": "stdout",
     "output_type": "stream",
     "text": [
      "Train Loss: 0.0822, Train Accuracy: 97.06%, Train IoU: 0.8713, Train IoU Loss: 0.1287\n"
     ]
    },
    {
     "name": "stderr",
     "output_type": "stream",
     "text": [
      "                                                             \r"
     ]
    },
    {
     "name": "stdout",
     "output_type": "stream",
     "text": [
      "Val Loss:   0.0867, Val Accuracy:   96.84%, Val IoU:   0.8998, Val IoU Loss:   0.1002\n",
      "  [*] Best model saved at Unet-LSL/unet_best_model.pth\n",
      "\n",
      "[Unet-LSL] Epoch 13/100\n"
     ]
    },
    {
     "name": "stderr",
     "output_type": "stream",
     "text": [
      "                                                           \r"
     ]
    },
    {
     "name": "stdout",
     "output_type": "stream",
     "text": [
      "Train Loss: 0.0832, Train Accuracy: 97.00%, Train IoU: 0.8693, Train IoU Loss: 0.1307\n"
     ]
    },
    {
     "name": "stderr",
     "output_type": "stream",
     "text": [
      "                                                             \r"
     ]
    },
    {
     "name": "stdout",
     "output_type": "stream",
     "text": [
      "Val Loss:   0.0864, Val Accuracy:   96.84%, Val IoU:   0.9007, Val IoU Loss:   0.0993\n",
      "  [*] Best model saved at Unet-LSL/unet_best_model.pth\n",
      "\n",
      "[Unet-LSL] Epoch 14/100\n"
     ]
    },
    {
     "name": "stderr",
     "output_type": "stream",
     "text": [
      "                                                           \r"
     ]
    },
    {
     "name": "stdout",
     "output_type": "stream",
     "text": [
      "Train Loss: 0.0801, Train Accuracy: 97.13%, Train IoU: 0.8716, Train IoU Loss: 0.1284\n"
     ]
    },
    {
     "name": "stderr",
     "output_type": "stream",
     "text": [
      "                                                             \r"
     ]
    },
    {
     "name": "stdout",
     "output_type": "stream",
     "text": [
      "Val Loss:   0.0982, Val Accuracy:   96.47%, Val IoU:   0.8917, Val IoU Loss:   0.1083\n",
      "\n",
      "[Unet-LSL] Epoch 15/100\n"
     ]
    },
    {
     "name": "stderr",
     "output_type": "stream",
     "text": [
      "                                                           \r"
     ]
    },
    {
     "name": "stdout",
     "output_type": "stream",
     "text": [
      "Train Loss: 0.0796, Train Accuracy: 97.15%, Train IoU: 0.8763, Train IoU Loss: 0.1237\n"
     ]
    },
    {
     "name": "stderr",
     "output_type": "stream",
     "text": [
      "                                                             \r"
     ]
    },
    {
     "name": "stdout",
     "output_type": "stream",
     "text": [
      "Val Loss:   0.1313, Val Accuracy:   94.96%, Val IoU:   0.8383, Val IoU Loss:   0.1617\n",
      "\n",
      "[Unet-LSL] Epoch 16/100\n"
     ]
    },
    {
     "name": "stderr",
     "output_type": "stream",
     "text": [
      "                                                           \r"
     ]
    },
    {
     "name": "stdout",
     "output_type": "stream",
     "text": [
      "Train Loss: 0.0775, Train Accuracy: 97.25%, Train IoU: 0.8740, Train IoU Loss: 0.1260\n"
     ]
    },
    {
     "name": "stderr",
     "output_type": "stream",
     "text": [
      "                                                             \r"
     ]
    },
    {
     "name": "stdout",
     "output_type": "stream",
     "text": [
      "Val Loss:   0.0868, Val Accuracy:   96.84%, Val IoU:   0.9003, Val IoU Loss:   0.0997\n",
      "\n",
      "[Unet-LSL] Epoch 17/100\n"
     ]
    },
    {
     "name": "stderr",
     "output_type": "stream",
     "text": [
      "                                                           \r"
     ]
    },
    {
     "name": "stdout",
     "output_type": "stream",
     "text": [
      "Train Loss: 0.0761, Train Accuracy: 97.29%, Train IoU: 0.8797, Train IoU Loss: 0.1203\n"
     ]
    },
    {
     "name": "stderr",
     "output_type": "stream",
     "text": [
      "                                                             \r"
     ]
    },
    {
     "name": "stdout",
     "output_type": "stream",
     "text": [
      "Val Loss:   0.0930, Val Accuracy:   96.63%, Val IoU:   0.8938, Val IoU Loss:   0.1062\n",
      "\n",
      "[Unet-LSL] Epoch 18/100\n"
     ]
    },
    {
     "name": "stderr",
     "output_type": "stream",
     "text": [
      "                                                           \r"
     ]
    },
    {
     "name": "stdout",
     "output_type": "stream",
     "text": [
      "Train Loss: 0.0732, Train Accuracy: 97.41%, Train IoU: 0.8834, Train IoU Loss: 0.1166\n"
     ]
    },
    {
     "name": "stderr",
     "output_type": "stream",
     "text": [
      "                                                             \r"
     ]
    },
    {
     "name": "stdout",
     "output_type": "stream",
     "text": [
      "Val Loss:   0.0825, Val Accuracy:   97.00%, Val IoU:   0.9036, Val IoU Loss:   0.0964\n",
      "  [*] Best model saved at Unet-LSL/unet_best_model.pth\n",
      "\n",
      "[Unet-LSL] Epoch 19/100\n"
     ]
    },
    {
     "name": "stderr",
     "output_type": "stream",
     "text": [
      "                                                           \r"
     ]
    },
    {
     "name": "stdout",
     "output_type": "stream",
     "text": [
      "Train Loss: 0.0739, Train Accuracy: 97.40%, Train IoU: 0.8808, Train IoU Loss: 0.1192\n"
     ]
    },
    {
     "name": "stderr",
     "output_type": "stream",
     "text": [
      "                                                             \r"
     ]
    },
    {
     "name": "stdout",
     "output_type": "stream",
     "text": [
      "Val Loss:   0.0973, Val Accuracy:   96.66%, Val IoU:   0.8975, Val IoU Loss:   0.1025\n",
      "\n",
      "[Unet-LSL] Epoch 20/100\n"
     ]
    },
    {
     "name": "stderr",
     "output_type": "stream",
     "text": [
      "                                                           \r"
     ]
    },
    {
     "name": "stdout",
     "output_type": "stream",
     "text": [
      "Train Loss: 0.0711, Train Accuracy: 97.51%, Train IoU: 0.8875, Train IoU Loss: 0.1125\n"
     ]
    },
    {
     "name": "stderr",
     "output_type": "stream",
     "text": [
      "                                                             \r"
     ]
    },
    {
     "name": "stdout",
     "output_type": "stream",
     "text": [
      "Val Loss:   0.0836, Val Accuracy:   96.91%, Val IoU:   0.9013, Val IoU Loss:   0.0987\n",
      "\n",
      "[Unet-LSL] Epoch 21/100\n"
     ]
    },
    {
     "name": "stderr",
     "output_type": "stream",
     "text": [
      "                                                           \r"
     ]
    },
    {
     "name": "stdout",
     "output_type": "stream",
     "text": [
      "Train Loss: 0.0718, Train Accuracy: 97.46%, Train IoU: 0.8836, Train IoU Loss: 0.1164\n"
     ]
    },
    {
     "name": "stderr",
     "output_type": "stream",
     "text": [
      "                                                             \r"
     ]
    },
    {
     "name": "stdout",
     "output_type": "stream",
     "text": [
      "Val Loss:   0.0849, Val Accuracy:   96.94%, Val IoU:   0.9028, Val IoU Loss:   0.0972\n",
      "\n",
      "[Unet-LSL] Epoch 22/100\n"
     ]
    },
    {
     "name": "stderr",
     "output_type": "stream",
     "text": [
      "                                                           \r"
     ]
    },
    {
     "name": "stdout",
     "output_type": "stream",
     "text": [
      "Train Loss: 0.0714, Train Accuracy: 97.50%, Train IoU: 0.8864, Train IoU Loss: 0.1136\n"
     ]
    },
    {
     "name": "stderr",
     "output_type": "stream",
     "text": [
      "                                                             \r"
     ]
    },
    {
     "name": "stdout",
     "output_type": "stream",
     "text": [
      "Val Loss:   0.1069, Val Accuracy:   95.86%, Val IoU:   0.8856, Val IoU Loss:   0.1144\n",
      "\n",
      "[Unet-LSL] Epoch 23/100\n"
     ]
    },
    {
     "name": "stderr",
     "output_type": "stream",
     "text": [
      "                                                           \r"
     ]
    },
    {
     "name": "stdout",
     "output_type": "stream",
     "text": [
      "Train Loss: 0.0692, Train Accuracy: 97.57%, Train IoU: 0.8902, Train IoU Loss: 0.1098\n"
     ]
    },
    {
     "name": "stderr",
     "output_type": "stream",
     "text": [
      "                                                             \r"
     ]
    },
    {
     "name": "stdout",
     "output_type": "stream",
     "text": [
      "Val Loss:   0.1002, Val Accuracy:   96.25%, Val IoU:   0.8830, Val IoU Loss:   0.1170\n",
      "\n",
      "[Unet-LSL] Epoch 24/100\n"
     ]
    },
    {
     "name": "stderr",
     "output_type": "stream",
     "text": [
      "                                                           \r"
     ]
    },
    {
     "name": "stdout",
     "output_type": "stream",
     "text": [
      "Train Loss: 0.0669, Train Accuracy: 97.67%, Train IoU: 0.8918, Train IoU Loss: 0.1082\n"
     ]
    },
    {
     "name": "stderr",
     "output_type": "stream",
     "text": [
      "                                                             \r"
     ]
    },
    {
     "name": "stdout",
     "output_type": "stream",
     "text": [
      "Val Loss:   0.0825, Val Accuracy:   97.11%, Val IoU:   0.9066, Val IoU Loss:   0.0934\n",
      "  [*] Best model saved at Unet-LSL/unet_best_model.pth\n",
      "\n",
      "[Unet-LSL] Epoch 25/100\n"
     ]
    },
    {
     "name": "stderr",
     "output_type": "stream",
     "text": [
      "                                                           \r"
     ]
    },
    {
     "name": "stdout",
     "output_type": "stream",
     "text": [
      "Train Loss: 0.0670, Train Accuracy: 97.66%, Train IoU: 0.8912, Train IoU Loss: 0.1088\n"
     ]
    },
    {
     "name": "stderr",
     "output_type": "stream",
     "text": [
      "                                                             \r"
     ]
    },
    {
     "name": "stdout",
     "output_type": "stream",
     "text": [
      "Val Loss:   0.0899, Val Accuracy:   96.57%, Val IoU:   0.8919, Val IoU Loss:   0.1081\n",
      "\n",
      "[Unet-LSL] Epoch 26/100\n"
     ]
    },
    {
     "name": "stderr",
     "output_type": "stream",
     "text": [
      "                                                           \r"
     ]
    },
    {
     "name": "stdout",
     "output_type": "stream",
     "text": [
      "Train Loss: 0.0677, Train Accuracy: 97.62%, Train IoU: 0.8899, Train IoU Loss: 0.1101\n"
     ]
    },
    {
     "name": "stderr",
     "output_type": "stream",
     "text": [
      "                                                             \r"
     ]
    },
    {
     "name": "stdout",
     "output_type": "stream",
     "text": [
      "Val Loss:   0.0755, Val Accuracy:   97.32%, Val IoU:   0.9093, Val IoU Loss:   0.0907\n",
      "  [*] Best model saved at Unet-LSL/unet_best_model.pth\n",
      "\n",
      "[Unet-LSL] Epoch 27/100\n"
     ]
    },
    {
     "name": "stderr",
     "output_type": "stream",
     "text": [
      "                                                           \r"
     ]
    },
    {
     "name": "stdout",
     "output_type": "stream",
     "text": [
      "Train Loss: 0.0748, Train Accuracy: 97.37%, Train IoU: 0.8861, Train IoU Loss: 0.1139\n"
     ]
    },
    {
     "name": "stderr",
     "output_type": "stream",
     "text": [
      "                                                             \r"
     ]
    },
    {
     "name": "stdout",
     "output_type": "stream",
     "text": [
      "Val Loss:   0.0837, Val Accuracy:   97.04%, Val IoU:   0.9047, Val IoU Loss:   0.0953\n",
      "\n",
      "[Unet-LSL] Epoch 28/100\n"
     ]
    },
    {
     "name": "stderr",
     "output_type": "stream",
     "text": [
      "                                                           \r"
     ]
    },
    {
     "name": "stdout",
     "output_type": "stream",
     "text": [
      "Train Loss: 0.0653, Train Accuracy: 97.76%, Train IoU: 0.8954, Train IoU Loss: 0.1046\n"
     ]
    },
    {
     "name": "stderr",
     "output_type": "stream",
     "text": [
      "                                                             \r"
     ]
    },
    {
     "name": "stdout",
     "output_type": "stream",
     "text": [
      "Val Loss:   0.0862, Val Accuracy:   96.78%, Val IoU:   0.8971, Val IoU Loss:   0.1029\n",
      "\n",
      "[Unet-LSL] Epoch 29/100\n"
     ]
    },
    {
     "name": "stderr",
     "output_type": "stream",
     "text": [
      "                                                           \r"
     ]
    },
    {
     "name": "stdout",
     "output_type": "stream",
     "text": [
      "Train Loss: 0.0671, Train Accuracy: 97.67%, Train IoU: 0.8920, Train IoU Loss: 0.1080\n"
     ]
    },
    {
     "name": "stderr",
     "output_type": "stream",
     "text": [
      "                                                             \r"
     ]
    },
    {
     "name": "stdout",
     "output_type": "stream",
     "text": [
      "Val Loss:   0.0758, Val Accuracy:   97.15%, Val IoU:   0.9085, Val IoU Loss:   0.0915\n",
      "\n",
      "[Unet-LSL] Epoch 30/100\n"
     ]
    },
    {
     "name": "stderr",
     "output_type": "stream",
     "text": [
      "                                                           \r"
     ]
    },
    {
     "name": "stdout",
     "output_type": "stream",
     "text": [
      "Train Loss: 0.0629, Train Accuracy: 97.84%, Train IoU: 0.8966, Train IoU Loss: 0.1034\n"
     ]
    },
    {
     "name": "stderr",
     "output_type": "stream",
     "text": [
      "                                                             \r"
     ]
    },
    {
     "name": "stdout",
     "output_type": "stream",
     "text": [
      "Val Loss:   0.0833, Val Accuracy:   96.96%, Val IoU:   0.9055, Val IoU Loss:   0.0945\n",
      "\n",
      "[Unet-LSL] Epoch 31/100\n"
     ]
    },
    {
     "name": "stderr",
     "output_type": "stream",
     "text": [
      "                                                           \r"
     ]
    },
    {
     "name": "stdout",
     "output_type": "stream",
     "text": [
      "Train Loss: 0.0618, Train Accuracy: 97.89%, Train IoU: 0.8992, Train IoU Loss: 0.1008\n"
     ]
    },
    {
     "name": "stderr",
     "output_type": "stream",
     "text": [
      "                                                             \r"
     ]
    },
    {
     "name": "stdout",
     "output_type": "stream",
     "text": [
      "Val Loss:   0.1004, Val Accuracy:   96.18%, Val IoU:   0.8803, Val IoU Loss:   0.1197\n",
      "\n",
      "[Unet-LSL] Epoch 32/100\n"
     ]
    },
    {
     "name": "stderr",
     "output_type": "stream",
     "text": [
      "                                                           \r"
     ]
    },
    {
     "name": "stdout",
     "output_type": "stream",
     "text": [
      "Train Loss: 0.0601, Train Accuracy: 97.96%, Train IoU: 0.9007, Train IoU Loss: 0.0993\n"
     ]
    },
    {
     "name": "stderr",
     "output_type": "stream",
     "text": [
      "                                                             \r"
     ]
    },
    {
     "name": "stdout",
     "output_type": "stream",
     "text": [
      "Val Loss:   0.0923, Val Accuracy:   96.43%, Val IoU:   0.8890, Val IoU Loss:   0.1110\n",
      "\n",
      "[Unet-LSL] Epoch 33/100\n"
     ]
    },
    {
     "name": "stderr",
     "output_type": "stream",
     "text": [
      "                                                           \r"
     ]
    },
    {
     "name": "stdout",
     "output_type": "stream",
     "text": [
      "Train Loss: 0.0624, Train Accuracy: 97.84%, Train IoU: 0.8978, Train IoU Loss: 0.1022\n"
     ]
    },
    {
     "name": "stderr",
     "output_type": "stream",
     "text": [
      "                                                             \r"
     ]
    },
    {
     "name": "stdout",
     "output_type": "stream",
     "text": [
      "Val Loss:   0.0820, Val Accuracy:   96.88%, Val IoU:   0.9010, Val IoU Loss:   0.0990\n",
      "\n",
      "[Unet-LSL] Epoch 34/100\n"
     ]
    },
    {
     "name": "stderr",
     "output_type": "stream",
     "text": [
      "                                                           \r"
     ]
    },
    {
     "name": "stdout",
     "output_type": "stream",
     "text": [
      "Train Loss: 0.0619, Train Accuracy: 97.86%, Train IoU: 0.8980, Train IoU Loss: 0.1020\n"
     ]
    },
    {
     "name": "stderr",
     "output_type": "stream",
     "text": [
      "                                                             \r"
     ]
    },
    {
     "name": "stdout",
     "output_type": "stream",
     "text": [
      "Val Loss:   0.0828, Val Accuracy:   97.20%, Val IoU:   0.9035, Val IoU Loss:   0.0965\n",
      "\n",
      "[Unet-LSL] Epoch 35/100\n"
     ]
    },
    {
     "name": "stderr",
     "output_type": "stream",
     "text": [
      "                                                           \r"
     ]
    },
    {
     "name": "stdout",
     "output_type": "stream",
     "text": [
      "Train Loss: 0.0598, Train Accuracy: 97.98%, Train IoU: 0.9003, Train IoU Loss: 0.0997\n"
     ]
    },
    {
     "name": "stderr",
     "output_type": "stream",
     "text": [
      "                                                             \r"
     ]
    },
    {
     "name": "stdout",
     "output_type": "stream",
     "text": [
      "Val Loss:   0.0707, Val Accuracy:   97.48%, Val IoU:   0.9150, Val IoU Loss:   0.0850\n",
      "  [*] Best model saved at Unet-LSL/unet_best_model.pth\n",
      "\n",
      "[Unet-LSL] Epoch 36/100\n"
     ]
    },
    {
     "name": "stderr",
     "output_type": "stream",
     "text": [
      "                                                           \r"
     ]
    },
    {
     "name": "stdout",
     "output_type": "stream",
     "text": [
      "Train Loss: 0.0609, Train Accuracy: 97.92%, Train IoU: 0.9003, Train IoU Loss: 0.0997\n"
     ]
    },
    {
     "name": "stderr",
     "output_type": "stream",
     "text": [
      "                                                             \r"
     ]
    },
    {
     "name": "stdout",
     "output_type": "stream",
     "text": [
      "Val Loss:   0.0828, Val Accuracy:   96.93%, Val IoU:   0.9016, Val IoU Loss:   0.0984\n",
      "\n",
      "[Unet-LSL] Epoch 37/100\n"
     ]
    },
    {
     "name": "stderr",
     "output_type": "stream",
     "text": [
      "                                                           \r"
     ]
    },
    {
     "name": "stdout",
     "output_type": "stream",
     "text": [
      "Train Loss: 0.0620, Train Accuracy: 97.87%, Train IoU: 0.8965, Train IoU Loss: 0.1035\n"
     ]
    },
    {
     "name": "stderr",
     "output_type": "stream",
     "text": [
      "                                                             \r"
     ]
    },
    {
     "name": "stdout",
     "output_type": "stream",
     "text": [
      "Val Loss:   0.0824, Val Accuracy:   97.00%, Val IoU:   0.9018, Val IoU Loss:   0.0982\n",
      "\n",
      "[Unet-LSL] Epoch 38/100\n"
     ]
    },
    {
     "name": "stderr",
     "output_type": "stream",
     "text": [
      "                                                           \r"
     ]
    },
    {
     "name": "stdout",
     "output_type": "stream",
     "text": [
      "Train Loss: 0.0599, Train Accuracy: 97.95%, Train IoU: 0.9010, Train IoU Loss: 0.0990\n"
     ]
    },
    {
     "name": "stderr",
     "output_type": "stream",
     "text": [
      "                                                             \r"
     ]
    },
    {
     "name": "stdout",
     "output_type": "stream",
     "text": [
      "Val Loss:   0.0855, Val Accuracy:   96.97%, Val IoU:   0.9009, Val IoU Loss:   0.0991\n",
      "\n",
      "[Unet-LSL] Epoch 39/100\n"
     ]
    },
    {
     "name": "stderr",
     "output_type": "stream",
     "text": [
      "                                                           \r"
     ]
    },
    {
     "name": "stdout",
     "output_type": "stream",
     "text": [
      "Train Loss: 0.0581, Train Accuracy: 98.02%, Train IoU: 0.9028, Train IoU Loss: 0.0972\n"
     ]
    },
    {
     "name": "stderr",
     "output_type": "stream",
     "text": [
      "                                                             \r"
     ]
    },
    {
     "name": "stdout",
     "output_type": "stream",
     "text": [
      "Val Loss:   0.0846, Val Accuracy:   97.00%, Val IoU:   0.9014, Val IoU Loss:   0.0986\n",
      "\n",
      "[Unet-LSL] Epoch 40/100\n"
     ]
    },
    {
     "name": "stderr",
     "output_type": "stream",
     "text": [
      "                                                           \r"
     ]
    },
    {
     "name": "stdout",
     "output_type": "stream",
     "text": [
      "Train Loss: 0.0581, Train Accuracy: 98.04%, Train IoU: 0.9039, Train IoU Loss: 0.0961\n"
     ]
    },
    {
     "name": "stderr",
     "output_type": "stream",
     "text": [
      "                                                             \r"
     ]
    },
    {
     "name": "stdout",
     "output_type": "stream",
     "text": [
      "Val Loss:   0.0784, Val Accuracy:   97.27%, Val IoU:   0.9094, Val IoU Loss:   0.0906\n",
      "\n",
      "[Unet-LSL] Epoch 41/100\n"
     ]
    },
    {
     "name": "stderr",
     "output_type": "stream",
     "text": [
      "                                                           \r"
     ]
    },
    {
     "name": "stdout",
     "output_type": "stream",
     "text": [
      "Train Loss: 0.0578, Train Accuracy: 98.03%, Train IoU: 0.9017, Train IoU Loss: 0.0983\n"
     ]
    },
    {
     "name": "stderr",
     "output_type": "stream",
     "text": [
      "                                                             \r"
     ]
    },
    {
     "name": "stdout",
     "output_type": "stream",
     "text": [
      "Val Loss:   0.0747, Val Accuracy:   97.30%, Val IoU:   0.9114, Val IoU Loss:   0.0886\n",
      "\n",
      "[Unet-LSL] Epoch 42/100\n"
     ]
    },
    {
     "name": "stderr",
     "output_type": "stream",
     "text": [
      "                                                           \r"
     ]
    },
    {
     "name": "stdout",
     "output_type": "stream",
     "text": [
      "Train Loss: 0.0562, Train Accuracy: 98.11%, Train IoU: 0.9064, Train IoU Loss: 0.0936\n"
     ]
    },
    {
     "name": "stderr",
     "output_type": "stream",
     "text": [
      "                                                             \r"
     ]
    },
    {
     "name": "stdout",
     "output_type": "stream",
     "text": [
      "Val Loss:   0.0814, Val Accuracy:   97.19%, Val IoU:   0.9065, Val IoU Loss:   0.0935\n",
      "\n",
      "[Unet-LSL] Epoch 43/100\n"
     ]
    },
    {
     "name": "stderr",
     "output_type": "stream",
     "text": [
      "                                                           \r"
     ]
    },
    {
     "name": "stdout",
     "output_type": "stream",
     "text": [
      "Train Loss: 0.0575, Train Accuracy: 98.06%, Train IoU: 0.9044, Train IoU Loss: 0.0956\n"
     ]
    },
    {
     "name": "stderr",
     "output_type": "stream",
     "text": [
      "                                                             \r"
     ]
    },
    {
     "name": "stdout",
     "output_type": "stream",
     "text": [
      "Val Loss:   0.0732, Val Accuracy:   97.41%, Val IoU:   0.9132, Val IoU Loss:   0.0868\n",
      "\n",
      "[Unet-LSL] Epoch 44/100\n"
     ]
    },
    {
     "name": "stderr",
     "output_type": "stream",
     "text": [
      "                                                           \r"
     ]
    },
    {
     "name": "stdout",
     "output_type": "stream",
     "text": [
      "Train Loss: 0.0593, Train Accuracy: 97.98%, Train IoU: 0.9034, Train IoU Loss: 0.0966\n"
     ]
    },
    {
     "name": "stderr",
     "output_type": "stream",
     "text": [
      "                                                             \r"
     ]
    },
    {
     "name": "stdout",
     "output_type": "stream",
     "text": [
      "Val Loss:   0.0730, Val Accuracy:   97.40%, Val IoU:   0.9129, Val IoU Loss:   0.0871\n",
      "\n",
      "[Unet-LSL] Epoch 45/100\n"
     ]
    },
    {
     "name": "stderr",
     "output_type": "stream",
     "text": [
      "                                                           \r"
     ]
    },
    {
     "name": "stdout",
     "output_type": "stream",
     "text": [
      "Train Loss: 0.0550, Train Accuracy: 98.16%, Train IoU: 0.9071, Train IoU Loss: 0.0929\n"
     ]
    },
    {
     "name": "stderr",
     "output_type": "stream",
     "text": [
      "                                                             \r"
     ]
    },
    {
     "name": "stdout",
     "output_type": "stream",
     "text": [
      "Val Loss:   0.0837, Val Accuracy:   96.81%, Val IoU:   0.9011, Val IoU Loss:   0.0989\n",
      "  [!] Early stopping for Unet-LSL\n",
      "  Metrics saved to Unet-LSL/Training_Metrics.xlsx\n",
      "Done training Unet-LSL.\n",
      "\n"
     ]
    }
   ],
   "source": [
    "import os\n",
    "import numpy as np\n",
    "import torch\n",
    "import torch.nn as nn\n",
    "import torch.optim as optim\n",
    "from torch.utils.data import Dataset, DataLoader\n",
    "import torchvision.transforms as transforms\n",
    "import pandas as pd\n",
    "from tqdm import tqdm\n",
    "from PIL import Image\n",
    "import gc  # For garbage collection\n",
    "\n",
    "IMG_HEIGHT = 640\n",
    "IMG_WIDTH = 640\n",
    "BATCH_SIZE = 2\n",
    "EPOCHS = 100\n",
    "NUM_CLASSES = 3\n",
    "LEARNING_RATE = 0.001\n",
    "PATIENCE = 10  # Early stopping\n",
    "DEVICE = torch.device('cuda' if torch.cuda.is_available() else 'cpu')\n",
    "\n",
    "IMAGE_DIR = 'CWD-3HSV/train/images'\n",
    "MASK_DIR  = 'CWD-3HSV/train/Morphed_Images'\n",
    "VALID_IMAGE_DIR = 'CWD-3HSV/valid/images'\n",
    "VALID_MASK_DIR  = 'CWD-3HSV/valid/Morphed_Images'\n",
    "\n",
    "class SegmentationDataset(Dataset):\n",
    "    def __init__(self, image_files, mask_files, transform=None):\n",
    "        self.image_files = image_files\n",
    "        self.mask_files  = mask_files\n",
    "        self.transform   = transform\n",
    "\n",
    "    def __len__(self):\n",
    "        return len(self.image_files)\n",
    "\n",
    "    def __getitem__(self, idx):\n",
    "        img_path  = self.image_files[idx]\n",
    "        mask_path = self.mask_files[idx]\n",
    "        image = Image.open(img_path).convert('RGB')\n",
    "        mask  = Image.open(mask_path).convert('L')\n",
    "\n",
    "        # Resize\n",
    "        image = image.resize((IMG_WIDTH, IMG_HEIGHT))\n",
    "        mask  = mask.resize((IMG_WIDTH, IMG_HEIGHT))\n",
    "\n",
    "        if self.transform:\n",
    "            image = self.transform(image)\n",
    "            mask  = torch.tensor(np.array(mask), dtype=torch.long)\n",
    "\n",
    "        return image, mask\n",
    "\n",
    "# Prepare training file paths\n",
    "image_files = [f for f in os.listdir(IMAGE_DIR) if f.endswith('.jpg')]\n",
    "mask_files  = [f.replace('.jpg', '_morphed.png') for f in image_files]\n",
    "\n",
    "valid_image_files = []\n",
    "valid_mask_files  = []\n",
    "for img_file in image_files:\n",
    "    mask_file = img_file.replace('.jpg', '_morphed.png')\n",
    "    if mask_file in os.listdir(MASK_DIR):\n",
    "        valid_image_files.append(os.path.join(IMAGE_DIR, img_file))\n",
    "        valid_mask_files.append(os.path.join(MASK_DIR,  mask_file))\n",
    "\n",
    "val_image_files = [os.path.join(VALID_IMAGE_DIR, f) for f in os.listdir(VALID_IMAGE_DIR) if f.endswith('.jpg')]\n",
    "val_mask_files  = [os.path.join(VALID_MASK_DIR,  f.replace('.jpg', '_morphed.png'))\n",
    "                   for f in os.listdir(VALID_IMAGE_DIR) if f.endswith('.jpg')]\n",
    "\n",
    "transform = transforms.Compose([transforms.ToTensor()])\n",
    "\n",
    "train_dataset = SegmentationDataset(valid_image_files, valid_mask_files, transform=transform)\n",
    "val_dataset   = SegmentationDataset(val_image_files,   val_mask_files,   transform=transform)\n",
    "\n",
    "train_loader  = DataLoader(train_dataset, batch_size=BATCH_SIZE, shuffle=True)\n",
    "val_loader    = DataLoader(val_dataset,   batch_size=BATCH_SIZE, shuffle=False)\n",
    "\n",
    "def calculate_iou(outputs, masks, num_classes):\n",
    "    # outputs: (B, num_classes, H, W)\n",
    "    outputs = torch.argmax(outputs, dim=1)\n",
    "    iou_per_class = []\n",
    "    for cls in range(num_classes):\n",
    "        intersection = ((outputs == cls) & (masks == cls)).sum().item()\n",
    "        union        = ((outputs == cls) | (masks == cls)).sum().item()\n",
    "        if union == 0:\n",
    "            iou_per_class.append(float('nan'))\n",
    "        else:\n",
    "            iou_per_class.append(intersection / union)\n",
    "    return np.nanmean(iou_per_class)\n",
    "\n",
    "def calculate_iou_loss(outputs, masks, num_classes):\n",
    "    # 1 - mean IoU\n",
    "    iou = calculate_iou(outputs, masks, num_classes)\n",
    "    return 1 - iou\n",
    "\n",
    "def train_epoch(model, data_loader, optimizer, criterion):\n",
    "    model.train()\n",
    "    running_loss     = 0.0\n",
    "    running_iou_loss = 0.0\n",
    "    correct          = 0\n",
    "    total            = 0\n",
    "    iou_score        = 0\n",
    "\n",
    "    for images, masks in tqdm(data_loader, desc=\"Training\", leave=False):\n",
    "        images, masks = images.to(DEVICE), masks.to(DEVICE)\n",
    "\n",
    "        optimizer.zero_grad()\n",
    "        outputs  = model(images)\n",
    "        loss     = criterion(outputs, masks)\n",
    "        iou_loss = calculate_iou_loss(outputs, masks, NUM_CLASSES)\n",
    "\n",
    "        loss.backward()\n",
    "        optimizer.step()\n",
    "\n",
    "        running_loss     += loss.item()\n",
    "        running_iou_loss += iou_loss\n",
    "        _, predicted     = torch.max(outputs, 1)\n",
    "        total           += masks.numel()\n",
    "        correct         += (predicted == masks).sum().item()\n",
    "        iou_score       += calculate_iou(outputs, masks, NUM_CLASSES)\n",
    "\n",
    "    epoch_loss      = running_loss / len(data_loader)\n",
    "    epoch_iou_loss  = running_iou_loss / len(data_loader)\n",
    "    epoch_accuracy  = correct / total * 100\n",
    "    epoch_iou       = iou_score / len(data_loader)\n",
    "    return epoch_loss, epoch_accuracy, epoch_iou, epoch_iou_loss\n",
    "\n",
    "def evaluate(model, data_loader, criterion):\n",
    "    model.eval()\n",
    "    running_loss     = 0.0\n",
    "    running_iou_loss = 0.0\n",
    "    correct          = 0\n",
    "    total            = 0\n",
    "    iou_score        = 0\n",
    "\n",
    "    with torch.no_grad():\n",
    "        for images, masks in tqdm(data_loader, desc=\"Validation\", leave=False):\n",
    "            images, masks = images.to(DEVICE), masks.to(DEVICE)\n",
    "\n",
    "            outputs  = model(images)\n",
    "            loss     = criterion(outputs, masks)\n",
    "            iou_loss = calculate_iou_loss(outputs, masks, NUM_CLASSES)\n",
    "\n",
    "            running_loss     += loss.item()\n",
    "            running_iou_loss += iou_loss\n",
    "            _, predicted     = torch.max(outputs, 1)\n",
    "            total           += masks.numel()\n",
    "            correct         += (predicted == masks).sum().item()\n",
    "            iou_score       += calculate_iou(outputs, masks, NUM_CLASSES)\n",
    "\n",
    "    epoch_loss      = running_loss / len(data_loader)\n",
    "    epoch_iou_loss  = running_iou_loss / len(data_loader)\n",
    "    epoch_accuracy  = correct / total * 100\n",
    "    epoch_iou       = iou_score / len(data_loader)\n",
    "    return epoch_loss, epoch_accuracy, epoch_iou, epoch_iou_loss\n",
    "\n",
    "def train_and_evaluate_model(model_name, model_class, \n",
    "                             train_loader, val_loader,\n",
    "                             epochs=EPOCHS, patience=PATIENCE):\n",
    "    \"\"\"\n",
    "    Train a given model with the specified name/class \n",
    "    and store best model + metrics in a separate folder.\n",
    "    \"\"\"\n",
    "    # 1) Create directory for this model\n",
    "    model_dir = model_name\n",
    "    os.makedirs(model_dir, exist_ok=True)\n",
    "\n",
    "    # 2) Instantiate model + move to device\n",
    "    model = model_class(in_channels=3, out_channels=NUM_CLASSES).to(DEVICE)\n",
    "\n",
    "    # 3) Define optimizer + loss\n",
    "    optimizer = optim.Adam(model.parameters(), lr=LEARNING_RATE)\n",
    "    criterion = nn.CrossEntropyLoss()\n",
    "\n",
    "    best_val_loss   = float('inf')\n",
    "    best_model_path = None\n",
    "    patience_counter= 0\n",
    "    records         = []\n",
    "\n",
    "    for epoch in range(epochs):\n",
    "        print(f\"\\n[{model_name}] Epoch {epoch+1}/{epochs}\")\n",
    "\n",
    "        train_loss, train_accuracy, train_iou, train_iou_loss = train_epoch(model, train_loader, optimizer, criterion)\n",
    "        print(f\"Train Loss: {train_loss:.4f}, Train Accuracy: {train_accuracy:.2f}%, \"\n",
    "              f\"Train IoU: {train_iou:.4f}, Train IoU Loss: {train_iou_loss:.4f}\")\n",
    "\n",
    "        val_loss, val_accuracy, val_iou, val_iou_loss = evaluate(model, val_loader, criterion)\n",
    "        print(f\"Val Loss:   {val_loss:.4f}, Val Accuracy:   {val_accuracy:.2f}%, \"\n",
    "              f\"Val IoU:   {val_iou:.4f}, Val IoU Loss:   {val_iou_loss:.4f}\")\n",
    "\n",
    "        records.append([\n",
    "            epoch+1, \n",
    "            train_loss, \n",
    "            train_accuracy, \n",
    "            val_loss, \n",
    "            val_accuracy, \n",
    "            train_iou_loss, \n",
    "            train_iou, \n",
    "            val_iou_loss, \n",
    "            val_iou\n",
    "        ])\n",
    "\n",
    "        # Early stopping\n",
    "        if val_loss < best_val_loss:\n",
    "            best_val_loss = val_loss\n",
    "            best_model_path = os.path.join(model_dir, \"unet_best_model.pth\")\n",
    "            torch.save(model, best_model_path)\n",
    "            print(f\"  [*] Best model saved at {best_model_path}\")\n",
    "            patience_counter = 0\n",
    "        else:\n",
    "            patience_counter += 1\n",
    "\n",
    "        if patience_counter >= patience:\n",
    "            print(f\"  [!] Early stopping for {model_name}\")\n",
    "            break\n",
    "\n",
    "    # 4) Save Training_Metrics.xlsx in model_dir\n",
    "    excel_path = os.path.join(model_dir, \"Training_Metrics.xlsx\")\n",
    "    columns = [\n",
    "        \"Epoch\", \n",
    "        \"Training Loss\", \n",
    "        \"Training Accuracy\", \n",
    "        \"Validation Loss\", \n",
    "        \"Validation Accuracy\", \n",
    "        \"Training IoU loss\", \n",
    "        \"Mean Training IoU\", \n",
    "        \"Validation IoU loss\", \n",
    "        \"Mean Validation IoU\"\n",
    "    ]\n",
    "    df = pd.DataFrame(records, columns=columns)\n",
    "    df.to_excel(excel_path, index=False)\n",
    "    print(f\"  Metrics saved to {excel_path}\")\n",
    "\n",
    "    print(f\"Done training {model_name}.\\n\")\n",
    "\n",
    "    # Free up GPU memory after training this model\n",
    "    del model\n",
    "    gc.collect()  # Force garbage collection\n",
    "    torch.cuda.empty_cache()\n",
    "\n",
    "if __name__ == \"__main__\":\n",
    "    # List of models you want to train\n",
    "    models_to_train = {\n",
    "        \"Unet-DL\"   : UNet_DL,\n",
    "        \"Unet-JL\"   : UNet_JL,\n",
    "        \"Unet-FL\"   : UNet_FL,\n",
    "        \"Unet-TL\"   : UNet_TL,\n",
    "        \"Unet-LSL\"  : UNet_LSL,\n",
    "    }\n",
    "\n",
    "    for model_name, model_class in models_to_train.items():\n",
    "        train_and_evaluate_model(model_name, model_class, \n",
    "                                 train_loader, val_loader,\n",
    "                                 epochs=EPOCHS, patience=PATIENCE)\n",
    "        # Extra precaution: free any residual CUDA memory after each model training\n",
    "        gc.collect()\n",
    "        torch.cuda.empty_cache()\n"
   ]
  },
  {
   "cell_type": "markdown",
   "metadata": {},
   "source": [
    "# Saving Prediction Images Of Each Model"
   ]
  },
  {
   "cell_type": "code",
   "execution_count": 7,
   "metadata": {},
   "outputs": [
    {
     "name": "stderr",
     "output_type": "stream",
     "text": [
      "/tmp/ipykernel_5252/2188687900.py:27: FutureWarning: You are using `torch.load` with `weights_only=False` (the current default value), which uses the default pickle module implicitly. It is possible to construct malicious pickle data which will execute arbitrary code during unpickling (See https://github.com/pytorch/pytorch/blob/main/SECURITY.md#untrusted-models for more details). In a future release, the default value for `weights_only` will be flipped to `True`. This limits the functions that could be executed during unpickling. Arbitrary objects will no longer be allowed to be loaded via this mode unless they are explicitly allowlisted by the user via `torch.serialization.add_safe_globals`. We recommend you start setting `weights_only=True` for any use case where you don't have full control of the loaded file. Please open an issue on GitHub for any issues related to this experimental feature.\n",
      "  model = torch.load(model_path, map_location=DEVICE)\n"
     ]
    }
   ],
   "source": [
    "import os\n",
    "import random\n",
    "import numpy as np\n",
    "import torch\n",
    "from torchvision import transforms\n",
    "from PIL import Image\n",
    "import matplotlib.pyplot as plt\n",
    "\n",
    "import matplotlib\n",
    "matplotlib.use('Agg')  # Turn off interactive backend (no pop-up windows)\n",
    "\n",
    "TEST_IMAGE_FOLDER       = 'CWD-3HSV/test/images'\n",
    "GROUND_TRUTH_MASK_FOLDER= 'CWD-3HSV/test/Morphed_Images'\n",
    "IMG_HEIGHT              = 640\n",
    "IMG_WIDTH               = 640\n",
    "NUM_CLASSES             = 3\n",
    "DEVICE                  = torch.device('cuda' if torch.cuda.is_available() else 'cpu')\n",
    "\n",
    "\n",
    "transform = transforms.Compose([\n",
    "    transforms.Resize((IMG_HEIGHT, IMG_WIDTH)),\n",
    "    transforms.ToTensor(),\n",
    "])\n",
    "\n",
    "\n",
    "def load_full_model(model_path):\n",
    "    model = torch.load(model_path, map_location=DEVICE)\n",
    "    model = model.to(DEVICE)\n",
    "    model.eval()\n",
    "    return model\n",
    "\n",
    "def preprocess_image(image_path):\n",
    "    image = Image.open(image_path).convert('RGB')\n",
    "    image = transform(image).unsqueeze(0).to(DEVICE)\n",
    "    return image\n",
    "\n",
    "\n",
    "def load_ground_truth_mask(mask_path):\n",
    "    mask = Image.open(mask_path).convert('L')\n",
    "    mask = mask.resize((IMG_WIDTH, IMG_HEIGHT), Image.NEAREST)\n",
    "    return np.array(mask)\n",
    "\n",
    "\n",
    "def generate_segmentation_mask(model, image):\n",
    "    with torch.no_grad():\n",
    "        output = model(image)        # (B, NUM_CLASSES, H, W)\n",
    "        pred   = torch.argmax(output, dim=1)\n",
    "        return pred.squeeze().cpu().numpy()\n",
    "\n",
    "\n",
    "def visualize_and_save_comparison(\n",
    "    model, input_image, gt_mask, class_rgb_mapping, input_image_path,\n",
    "    save_folder, save_predictions=True\n",
    "):\n",
    "    # Load the original image for visualization\n",
    "    original_image = Image.open(input_image_path).convert('RGB')\n",
    "    original_image = original_image.resize((IMG_WIDTH, IMG_HEIGHT))\n",
    "\n",
    "    # Generate predicted mask\n",
    "    pred_mask = generate_segmentation_mask(model, input_image)\n",
    "\n",
    "    # Map predicted mask to RGB\n",
    "    rgb_pred_mask = np.zeros((pred_mask.shape[0], pred_mask.shape[1], 3), dtype=np.uint8)\n",
    "    for class_id, rgb_value in class_rgb_mapping.items():\n",
    "        rgb_pred_mask[pred_mask == class_id] = rgb_value\n",
    "\n",
    "    # Map ground truth to RGB\n",
    "    rgb_gt_mask = np.zeros((gt_mask.shape[0], gt_mask.shape[1], 3), dtype=np.uint8)\n",
    "    for class_id, rgb_value in class_rgb_mapping.items():\n",
    "        rgb_gt_mask[gt_mask == class_id] = rgb_value\n",
    "\n",
    "    # Plot side-by-side\n",
    "    fig, axes = plt.subplots(1, 3, figsize=(18, 6))\n",
    "    axes[0].imshow(original_image)\n",
    "    axes[0].set_title('Original')\n",
    "    axes[0].axis('off')\n",
    "\n",
    "    axes[1].imshow(rgb_gt_mask)\n",
    "    axes[1].set_title('Ground Truth')\n",
    "    axes[1].axis('off')\n",
    "\n",
    "    axes[2].imshow(rgb_pred_mask)\n",
    "    axes[2].set_title('Predicted')\n",
    "    axes[2].axis('off')\n",
    "\n",
    "    fig.tight_layout()\n",
    "\n",
    "    # Save the figure (no plt.show())\n",
    "    if save_predictions:\n",
    "        # For the figure\n",
    "        fig_filename = os.path.splitext(os.path.basename(input_image_path))[0] + '_compare.png'\n",
    "        fig_save_path= os.path.join(save_folder, fig_filename)\n",
    "        fig.savefig(fig_save_path, bbox_inches='tight')\n",
    "\n",
    "        # For the predicted mask alone\n",
    "        pred_mask_img = Image.fromarray(rgb_pred_mask)\n",
    "        pred_filename = os.path.splitext(os.path.basename(input_image_path))[0] + '_predmask.png'\n",
    "        pred_save_path= os.path.join(save_folder, pred_filename)\n",
    "        pred_mask_img.save(pred_save_path)\n",
    "\n",
    "    plt.close(fig)\n",
    "\n",
    "# -------------------------------------------------------------------\n",
    "# Class-to-RGB mapping\n",
    "# -------------------------------------------------------------------\n",
    "class_rgb_mapping = {\n",
    "    0: (0, 0, 0),    # black\n",
    "    1: (0, 255, 0),  # green\n",
    "    2: (255, 0, 0),  # red\n",
    "}\n",
    "\n",
    "# -------------------------------------------------------------------\n",
    "# MAIN: \n",
    "# 1) Find all \"Unet-...\" directories\n",
    "# 2) For each, load \"unet_best_model.pth\"\n",
    "# 3) Randomly pick 5 test images, generate predictions\n",
    "# 4) Save side-by-side figure + predicted mask\n",
    "# -------------------------------------------------------------------\n",
    "if __name__ == \"__main__\":\n",
    "    # Silence any console printing\n",
    "    # (Here we can reassign print to a no-op if needed)\n",
    "    def no_op(*args, **kwargs):\n",
    "        pass\n",
    "    print = no_op\n",
    "\n",
    "    # 1) Find directories that start with \"Unet-\"\n",
    "    all_dirs = [d for d in os.listdir('.') if os.path.isdir(d) and d.startswith(\"Unet\")]\n",
    "\n",
    "    # 2) For each directory, load unet_best_model.pth\n",
    "    # and do random predictions\n",
    "    test_image_files = [\n",
    "        f for f in os.listdir(TEST_IMAGE_FOLDER)\n",
    "        if f.endswith('.jpg') or f.endswith('.jpeg') or f.endswith('.png')\n",
    "    ]\n",
    "    # If <5 images exist, use them all\n",
    "    if len(test_image_files) <= 5:\n",
    "        selected_images = test_image_files\n",
    "    else:\n",
    "        selected_images = random.sample(test_image_files, 5)\n",
    "\n",
    "    for model_dir in all_dirs:\n",
    "        model_path = os.path.join(model_dir, \"unet_best_model.pth\")\n",
    "        if not os.path.isfile(model_path):\n",
    "            continue  # skip if no best model in that dir\n",
    "\n",
    "        # Create a subfolder \"Predictions\" inside model_dir\n",
    "        pred_save_folder = os.path.join(model_dir, \"Predictions\")\n",
    "        os.makedirs(pred_save_folder, exist_ok=True)\n",
    "\n",
    "        # Load model\n",
    "        model = load_full_model(model_path)\n",
    "\n",
    "        # For each selected image, compare\n",
    "        for image_file in selected_images:\n",
    "            input_image_path = os.path.join(TEST_IMAGE_FOLDER, image_file)\n",
    "            # ground truth\n",
    "            gt_mask_name = os.path.splitext(image_file)[0] + '_morphed.png'\n",
    "            gt_mask_path = os.path.join(GROUND_TRUTH_MASK_FOLDER, gt_mask_name)\n",
    "\n",
    "            input_image = preprocess_image(input_image_path)\n",
    "            ground_truth_mask = load_ground_truth_mask(gt_mask_path)\n",
    "\n",
    "            # Visualize and save\n",
    "            visualize_and_save_comparison(\n",
    "                model=model,\n",
    "                input_image=input_image,\n",
    "                gt_mask=ground_truth_mask,\n",
    "                class_rgb_mapping=class_rgb_mapping,\n",
    "                input_image_path=input_image_path,\n",
    "                save_folder=pred_save_folder,\n",
    "                save_predictions=True\n",
    "            )\n"
   ]
  },
  {
   "cell_type": "markdown",
   "metadata": {},
   "source": [
    "# Evaluating Each Model"
   ]
  },
  {
   "cell_type": "code",
   "execution_count": 8,
   "metadata": {},
   "outputs": [
    {
     "name": "stderr",
     "output_type": "stream",
     "text": [
      "/tmp/ipykernel_5252/3703382463.py:38: FutureWarning: You are using `torch.load` with `weights_only=False` (the current default value), which uses the default pickle module implicitly. It is possible to construct malicious pickle data which will execute arbitrary code during unpickling (See https://github.com/pytorch/pytorch/blob/main/SECURITY.md#untrusted-models for more details). In a future release, the default value for `weights_only` will be flipped to `True`. This limits the functions that could be executed during unpickling. Arbitrary objects will no longer be allowed to be loaded via this mode unless they are explicitly allowlisted by the user via `torch.serialization.add_safe_globals`. We recommend you start setting `weights_only=True` for any use case where you don't have full control of the loaded file. Please open an issue on GitHub for any issues related to this experimental feature.\n",
      "  model = torch.load(model_path, map_location=DEVICE)\n",
      "/tmp/ipykernel_5252/3703382463.py:38: FutureWarning: You are using `torch.load` with `weights_only=False` (the current default value), which uses the default pickle module implicitly. It is possible to construct malicious pickle data which will execute arbitrary code during unpickling (See https://github.com/pytorch/pytorch/blob/main/SECURITY.md#untrusted-models for more details). In a future release, the default value for `weights_only` will be flipped to `True`. This limits the functions that could be executed during unpickling. Arbitrary objects will no longer be allowed to be loaded via this mode unless they are explicitly allowlisted by the user via `torch.serialization.add_safe_globals`. We recommend you start setting `weights_only=True` for any use case where you don't have full control of the loaded file. Please open an issue on GitHub for any issues related to this experimental feature.\n",
      "  model = torch.load(model_path, map_location=DEVICE)\n",
      "/tmp/ipykernel_5252/3703382463.py:38: FutureWarning: You are using `torch.load` with `weights_only=False` (the current default value), which uses the default pickle module implicitly. It is possible to construct malicious pickle data which will execute arbitrary code during unpickling (See https://github.com/pytorch/pytorch/blob/main/SECURITY.md#untrusted-models for more details). In a future release, the default value for `weights_only` will be flipped to `True`. This limits the functions that could be executed during unpickling. Arbitrary objects will no longer be allowed to be loaded via this mode unless they are explicitly allowlisted by the user via `torch.serialization.add_safe_globals`. We recommend you start setting `weights_only=True` for any use case where you don't have full control of the loaded file. Please open an issue on GitHub for any issues related to this experimental feature.\n",
      "  model = torch.load(model_path, map_location=DEVICE)\n",
      "/tmp/ipykernel_5252/3703382463.py:38: FutureWarning: You are using `torch.load` with `weights_only=False` (the current default value), which uses the default pickle module implicitly. It is possible to construct malicious pickle data which will execute arbitrary code during unpickling (See https://github.com/pytorch/pytorch/blob/main/SECURITY.md#untrusted-models for more details). In a future release, the default value for `weights_only` will be flipped to `True`. This limits the functions that could be executed during unpickling. Arbitrary objects will no longer be allowed to be loaded via this mode unless they are explicitly allowlisted by the user via `torch.serialization.add_safe_globals`. We recommend you start setting `weights_only=True` for any use case where you don't have full control of the loaded file. Please open an issue on GitHub for any issues related to this experimental feature.\n",
      "  model = torch.load(model_path, map_location=DEVICE)\n",
      "/tmp/ipykernel_5252/3703382463.py:38: FutureWarning: You are using `torch.load` with `weights_only=False` (the current default value), which uses the default pickle module implicitly. It is possible to construct malicious pickle data which will execute arbitrary code during unpickling (See https://github.com/pytorch/pytorch/blob/main/SECURITY.md#untrusted-models for more details). In a future release, the default value for `weights_only` will be flipped to `True`. This limits the functions that could be executed during unpickling. Arbitrary objects will no longer be allowed to be loaded via this mode unless they are explicitly allowlisted by the user via `torch.serialization.add_safe_globals`. We recommend you start setting `weights_only=True` for any use case where you don't have full control of the loaded file. Please open an issue on GitHub for any issues related to this experimental feature.\n",
      "  model = torch.load(model_path, map_location=DEVICE)\n"
     ]
    }
   ],
   "source": [
    "import os\n",
    "import numpy as np\n",
    "import torch\n",
    "import torch.nn as nn\n",
    "from torch.utils.data import Dataset, DataLoader\n",
    "import torchvision.transforms as transforms\n",
    "import pandas as pd\n",
    "from tqdm import tqdm\n",
    "from PIL import Image\n",
    "import time\n",
    "\n",
    "from sklearn.metrics import precision_score, recall_score, f1_score\n",
    "import matplotlib\n",
    "matplotlib.use('Agg')  # Turn off interactive display\n",
    "import matplotlib.pyplot as plt\n",
    "import seaborn as sns\n",
    "\n",
    "\n",
    "TEST_IMAGES_DIR = 'CWD-3HSV/test/images'\n",
    "TEST_MASKS_DIR  = 'CWD-3HSV/test/Morphed_Images'\n",
    "IMG_HEIGHT      = 640\n",
    "IMG_WIDTH       = 640\n",
    "NUM_CLASSES     = 3\n",
    "DEVICE          = torch.device('cuda' if torch.cuda.is_available() else 'cpu')\n",
    "\n",
    "# Suppress console output\n",
    "def no_op(*args, **kwargs):\n",
    "    pass\n",
    "print = no_op  # Overwrite default print\n",
    "\n",
    "transform = transforms.Compose([\n",
    "    transforms.Resize((IMG_HEIGHT, IMG_WIDTH)),\n",
    "    transforms.ToTensor(),\n",
    "])\n",
    "\n",
    "\n",
    "def load_model(model_path):\n",
    "    model = torch.load(model_path, map_location=DEVICE)\n",
    "    model.to(DEVICE)\n",
    "    model.eval()\n",
    "    return model\n",
    "\n",
    "def preprocess_image(image_path):\n",
    "    image = Image.open(image_path).convert('RGB')\n",
    "    return transform(image).unsqueeze(0).to(DEVICE)\n",
    "\n",
    "def preprocess_mask(mask_path):\n",
    "    mask = Image.open(mask_path).convert('L')\n",
    "    mask = mask.resize((IMG_WIDTH, IMG_HEIGHT), Image.NEAREST)\n",
    "    return np.array(mask)\n",
    "\n",
    "\n",
    "def generate_predictions(model, image):\n",
    "    with torch.no_grad():\n",
    "        output = model(image)            # [B, NUM_CLASSES, H, W]\n",
    "        pred   = torch.argmax(output, 1) # pick class with max logit\n",
    "        return pred.squeeze().cpu().numpy()\n",
    "\n",
    "\n",
    "def calculate_iou(pred_mask, gt_mask, num_classes):\n",
    "    iou_per_class = []\n",
    "    for cls in range(num_classes):\n",
    "        intersection = np.logical_and(pred_mask == cls, gt_mask == cls).sum()\n",
    "        union        = np.logical_or(pred_mask == cls, gt_mask == cls).sum()\n",
    "        iou = intersection / union if union > 0 else 0\n",
    "        iou_per_class.append(iou)\n",
    "    return iou_per_class\n",
    "\n",
    "def calculate_dice(pred_mask, gt_mask, num_classes):\n",
    "    dice_per_class = []\n",
    "    for cls in range(num_classes):\n",
    "        intersection = np.logical_and(pred_mask == cls, gt_mask == cls).sum()\n",
    "        denom        = (np.sum(pred_mask == cls) + np.sum(gt_mask == cls))\n",
    "        dice         = 2.0 * intersection / denom if denom > 0 else 0\n",
    "        dice_per_class.append(dice)\n",
    "    return dice_per_class\n",
    "\n",
    "def calculate_jaccard(pred_mask, gt_mask, num_classes):\n",
    "    jaccard_per_class = []\n",
    "    for cls in range(num_classes):\n",
    "        intersection = np.logical_and(pred_mask == cls, gt_mask == cls).sum()\n",
    "        union        = np.logical_or(pred_mask == cls, gt_mask == cls).sum()\n",
    "        jaccard      = intersection / union if union > 0 else 0\n",
    "        jaccard_per_class.append(jaccard)\n",
    "    return jaccard_per_class\n",
    "\n",
    "\n",
    "def plot_confusion_matrix(cm, class_names, save_path, title=\"Confusion Matrix\", fmt='d'):\n",
    "    \"\"\"\n",
    "    'fmt': 'd' for counts, '.2f' for percentages\n",
    "    Saves the figure to 'save_path'.\n",
    "    \"\"\"\n",
    "    fig, ax = plt.subplots(figsize=(6,6))\n",
    "    sns.heatmap(cm, annot=True, fmt=fmt, cmap='Blues',\n",
    "                xticklabels=class_names, yticklabels=class_names)\n",
    "    ax.set_xlabel(\"Predicted\")\n",
    "    ax.set_ylabel(\"Actual\")\n",
    "    ax.set_title(title)\n",
    "    plt.tight_layout()\n",
    "    fig.savefig(save_path, bbox_inches='tight')\n",
    "    plt.close(fig)\n",
    "\n",
    "\n",
    "def evaluate_model(model, test_images_dir, test_masks_dir, num_classes, results_dir):\n",
    "    all_pred = []\n",
    "    all_gt   = []\n",
    "\n",
    "    iou_per_class       = np.zeros(num_classes)\n",
    "    dice_per_class      = np.zeros(num_classes)\n",
    "    jaccard_per_class   = np.zeros(num_classes)\n",
    "    accuracy_per_class  = np.zeros(num_classes)\n",
    "    precision_per_class = np.zeros(num_classes)\n",
    "    recall_per_class    = np.zeros(num_classes)\n",
    "    f1_per_class        = np.zeros(num_classes)\n",
    "\n",
    "    image_files  = [img for img in os.listdir(test_images_dir) if img.endswith('.jpg')]\n",
    "    total_samples= 0\n",
    "\n",
    "    for img_name in image_files:\n",
    "        image_path = os.path.join(test_images_dir, img_name)\n",
    "        mask_name  = img_name.replace('.jpg', '_morphed.png')\n",
    "        mask_path  = os.path.join(test_masks_dir, mask_name)\n",
    "\n",
    "        image   = preprocess_image(image_path)\n",
    "        gt_mask = preprocess_mask(mask_path)\n",
    "        pred_mask= generate_predictions(model, image)\n",
    "\n",
    "        # Flatten\n",
    "        all_pred.extend(pred_mask.flatten())\n",
    "        all_gt.extend(gt_mask.flatten())\n",
    "\n",
    "        # iou/dice/jaccard\n",
    "        iou_sample     = calculate_iou(pred_mask,     gt_mask, num_classes)\n",
    "        dice_sample    = calculate_dice(pred_mask,    gt_mask, num_classes)\n",
    "        jaccard_sample = calculate_jaccard(pred_mask, gt_mask, num_classes)\n",
    "\n",
    "        iou_per_class     += np.array(iou_sample)\n",
    "        dice_per_class    += np.array(dice_sample)\n",
    "        jaccard_per_class += np.array(jaccard_sample)\n",
    "\n",
    "        # per-class metrics\n",
    "        for cls in range(num_classes):\n",
    "            tp = np.sum((pred_mask == cls) & (gt_mask == cls))\n",
    "            fp = np.sum((pred_mask == cls) & (gt_mask != cls))\n",
    "            fn = np.sum((pred_mask != cls) & (gt_mask == cls))\n",
    "            total_class_pixels= np.sum(gt_mask == cls)\n",
    "            accuracy_per_class[cls] += tp / (total_class_pixels + 1e-6)\n",
    "\n",
    "            precision_per_class[cls]+= tp / (tp + fp + 1e-6)\n",
    "            recall_per_class[cls]   += tp / (tp + fn + 1e-6)\n",
    "            f1_per_class[cls]       += 2*tp / (2*tp + fp + fn + 1e-6)\n",
    "\n",
    "        total_samples += 1\n",
    "\n",
    "    # Normalize\n",
    "    accuracy_per_class  /= total_samples\n",
    "    precision_per_class /= total_samples\n",
    "    recall_per_class    /= total_samples\n",
    "    f1_per_class        /= total_samples\n",
    "    iou_per_class       /= total_samples\n",
    "    dice_per_class      /= total_samples\n",
    "    jaccard_per_class   /= total_samples\n",
    "\n",
    "    mean_dice     = np.mean(dice_per_class)\n",
    "    mean_jaccard  = np.mean(jaccard_per_class)\n",
    "\n",
    "    # freq weighted iou\n",
    "    all_gt_arr = np.array(all_gt)\n",
    "    class_counts= np.bincount(all_gt_arr, minlength=num_classes)\n",
    "    frequency_weighted_iou= np.average(iou_per_class, weights=class_counts)\n",
    "\n",
    "    # overall metrics\n",
    "    all_pred_arr = np.array(all_pred)\n",
    "    accuracy = (all_pred_arr == all_gt_arr).sum()/len(all_gt_arr)\n",
    "    precision= precision_score(all_gt_arr, all_pred_arr, average='weighted', zero_division=1)\n",
    "    recall   = recall_score(all_gt_arr,    all_pred_arr, average='weighted', zero_division=1)\n",
    "    f1       = f1_score(all_gt_arr,        all_pred_arr, average='weighted', zero_division=1)\n",
    "\n",
    "    mean_iou    = np.mean(iou_per_class)\n",
    "    weighted_iou= np.average(iou_per_class, weights=np.bincount(all_gt_arr))\n",
    "\n",
    "    # confusion matrix\n",
    "    confusion_matrix_counts= np.zeros((num_classes, num_classes), dtype=np.int64)\n",
    "    for gt_val, pr_val in zip(all_gt_arr, all_pred_arr):\n",
    "        confusion_matrix_counts[gt_val, pr_val]+=1\n",
    "\n",
    "    confusion_matrix_percent= np.zeros_like(confusion_matrix_counts, dtype=float)\n",
    "    for r in range(num_classes):\n",
    "        row_sum = confusion_matrix_counts[r,:].sum()\n",
    "        if row_sum > 0:\n",
    "            confusion_matrix_percent[r,:] = (confusion_matrix_counts[r,:]/ row_sum)*100\n",
    "\n",
    "    class_names= [f\"Class {i}\" for i in range(num_classes)]\n",
    "\n",
    "    # Save confusion matrices as PNG\n",
    "    cm_counts_path  = os.path.join(results_dir, \"Confusion_Matrix_Counts.png\")\n",
    "    cm_percent_path = os.path.join(results_dir, \"Confusion_Matrix_Percent.png\")\n",
    "    plot_confusion_matrix(confusion_matrix_counts,  class_names, save_path=cm_counts_path,  title=\"Confusion Matrix (Counts)\", fmt='d')\n",
    "    plot_confusion_matrix(confusion_matrix_percent, class_names, save_path=cm_percent_path, title=\"Confusion Matrix (Percent)\", fmt='.2f')\n",
    "\n",
    "    return (\n",
    "        accuracy, accuracy_per_class, precision, precision_per_class,\n",
    "        recall, recall_per_class, f1, f1_per_class,\n",
    "        iou_per_class, mean_iou, weighted_iou, frequency_weighted_iou,\n",
    "        dice_per_class, jaccard_per_class, mean_dice, mean_jaccard\n",
    "    )\n",
    "\n",
    "def save_results_to_excel(\n",
    "    model_name,\n",
    "    accuracy, accuracy_per_class,\n",
    "    precision, precision_per_class,\n",
    "    recall, recall_per_class,\n",
    "    f1, f1_per_class,\n",
    "    iou_per_class, mean_iou,\n",
    "    weighted_iou, frequency_weighted_iou,\n",
    "    dice_per_class, jaccard_per_class,\n",
    "    mean_dice, mean_jaccard,\n",
    "    save_directory\n",
    "):\n",
    "    # We'll store the final xlsx in the same directory as the model\n",
    "    excel_path = os.path.join(save_directory, \"Performance_Evaluation_Metrics.xlsx\")\n",
    "\n",
    "    columns = (\n",
    "        ['Model Name', 'Accuracy']\n",
    "        + [f'Accuracy Class {i}' for i in range(len(accuracy_per_class))]\n",
    "        + ['Precision'] + [f'Precision Class {i}' for i in range(len(precision_per_class))]\n",
    "        + ['Recall'] + [f'Recall Class {i}' for i in range(len(recall_per_class))]\n",
    "        + ['F1 Score'] + [f'F1 Score Class {i}' for i in range(len(f1_per_class))]\n",
    "        + [f'IoU Class {i}' for i in range(len(iou_per_class))]\n",
    "        + ['Mean IoU', 'Weighted IoU', 'Frequency Weighted IoU']\n",
    "        + [f'Dice Coefficient Class {i}' for i in range(len(dice_per_class))]\n",
    "        + ['Mean Dice']\n",
    "        + [f'Jaccard Index Class {i}' for i in range(len(jaccard_per_class))]\n",
    "        + ['Mean Jaccard']\n",
    "    )\n",
    "\n",
    "    new_row = {\n",
    "        'Model Name': model_name,\n",
    "        'Accuracy': accuracy,\n",
    "        **{f'Accuracy Class {i}': acc for i, acc in enumerate(accuracy_per_class)},\n",
    "        'Precision': precision,\n",
    "        **{f'Precision Class {i}': prec for i, prec in enumerate(precision_per_class)},\n",
    "        'Recall': recall,\n",
    "        **{f'Recall Class {i}': r for i, r in enumerate(recall_per_class)},\n",
    "        'F1 Score': f1,\n",
    "        **{f'F1 Score Class {i}': f1c for i, f1c in enumerate(f1_per_class)},\n",
    "        **{f'IoU Class {i}': iou for i, iou in enumerate(iou_per_class)},\n",
    "        'Mean IoU': mean_iou,\n",
    "        'Weighted IoU': weighted_iou,\n",
    "        'Frequency Weighted IoU': frequency_weighted_iou,\n",
    "        **{f'Dice Coefficient Class {i}': d for i, d in enumerate(dice_per_class)},\n",
    "        'Mean Dice': mean_dice,\n",
    "        **{f'Jaccard Index Class {i}': j for i, j in enumerate(jaccard_per_class)},\n",
    "        'Mean Jaccard': mean_jaccard,\n",
    "    }\n",
    "\n",
    "    new_data = pd.DataFrame([new_row], columns=columns)\n",
    "\n",
    "    # Overwrite any existing file to store only the last row\n",
    "    new_data.to_excel(excel_path, index=False, header=True)\n",
    "\n",
    "if __name__ == \"__main__\":\n",
    "    # Suppress console output\n",
    "    def no_op(*args, **kwargs):\n",
    "        pass\n",
    "    print = no_op  # Overwrite default print\n",
    "\n",
    "    # 1) Find all directories that match \"Unet-<backbone>\"\n",
    "    all_dirs = [d for d in os.listdir('.') if os.path.isdir(d) and d.startswith(\"Unet\")]\n",
    "\n",
    "    for model_dir in all_dirs:\n",
    "        # 2) Load \"unet_best_model.pth\" in that directory, if exists\n",
    "        model_path = os.path.join(model_dir, \"unet_best_model.pth\")\n",
    "        if not os.path.isfile(model_path):\n",
    "            continue  # skip if no best model found\n",
    "\n",
    "        model = load_model(model_path)\n",
    "\n",
    "        # 3) Evaluate\n",
    "        results = evaluate_model(\n",
    "            model=model,\n",
    "            test_images_dir=TEST_IMAGES_DIR,\n",
    "            test_masks_dir=TEST_MASKS_DIR,\n",
    "            num_classes=NUM_CLASSES,\n",
    "            results_dir=model_dir  # store confusion matrix PNG in same directory\n",
    "        )\n",
    "\n",
    "        # 4) Unpack\n",
    "        (\n",
    "            accuracy, accuracy_per_class,\n",
    "            precision, precision_per_class,\n",
    "            recall, recall_per_class,\n",
    "            f1, f1_per_class,\n",
    "            iou_per_class, mean_iou,\n",
    "            weighted_iou, frequency_weighted_iou,\n",
    "            dice_per_class, jaccard_per_class,\n",
    "            mean_dice, mean_jaccard\n",
    "        ) = results\n",
    "\n",
    "        # 5) Save row to \"Performance_Evaluation_Metrics.xlsx\" in model_dir\n",
    "        save_results_to_excel(\n",
    "            model_name=model_dir,\n",
    "            accuracy=accuracy,\n",
    "            accuracy_per_class=accuracy_per_class,\n",
    "            precision=precision,\n",
    "            precision_per_class=precision_per_class,\n",
    "            recall=recall,\n",
    "            recall_per_class=recall_per_class,\n",
    "            f1=f1,\n",
    "            f1_per_class=f1_per_class,\n",
    "            iou_per_class=iou_per_class,\n",
    "            mean_iou=mean_iou,\n",
    "            weighted_iou=weighted_iou,\n",
    "            frequency_weighted_iou=frequency_weighted_iou,\n",
    "            dice_per_class=dice_per_class,\n",
    "            jaccard_per_class=jaccard_per_class,\n",
    "            mean_dice=mean_dice,\n",
    "            mean_jaccard=mean_jaccard,\n",
    "            save_directory=model_dir\n",
    "        )\n"
   ]
  },
  {
   "cell_type": "markdown",
   "metadata": {},
   "source": [
    "# Saving Training Curves Of Each Model"
   ]
  },
  {
   "cell_type": "code",
   "execution_count": 9,
   "metadata": {},
   "outputs": [],
   "source": [
    "import os\n",
    "import pandas as pd\n",
    "import matplotlib\n",
    "matplotlib.use('Agg')  # So figures don't pop up; they are just saved\n",
    "import matplotlib.pyplot as plt\n",
    "\n",
    "def plot_training_curves_for_model(excel_path, output_dir):\n",
    "    \"\"\"\n",
    "    Reads Training_Metrics.xlsx from excel_path and saves four plots in output_dir.\n",
    "    \"\"\"\n",
    "    # Read Excel\n",
    "    df = pd.read_excel(excel_path)\n",
    "\n",
    "    # Extract columns\n",
    "    epochs            = df['Epoch']\n",
    "    train_loss        = df['Training Loss']\n",
    "    val_loss          = df['Validation Loss']\n",
    "    train_acc         = df['Training Accuracy']\n",
    "    val_acc           = df['Validation Accuracy']\n",
    "    train_iou_loss    = df['Training IoU loss']\n",
    "    val_iou_loss      = df['Validation IoU loss']\n",
    "    mean_train_iou    = df['Mean Training IoU']\n",
    "    mean_val_iou      = df['Mean Validation IoU']\n",
    "\n",
    "    # 1) Training vs Validation Loss\n",
    "    plt.figure(figsize=(8,6))\n",
    "    plt.plot(epochs, train_loss, label='Training Loss', marker='o')\n",
    "    plt.plot(epochs, val_loss,   label='Validation Loss', marker='s')\n",
    "    plt.title('Training vs Validation Loss')\n",
    "    plt.xlabel('Epoch')\n",
    "    plt.ylabel('Loss')\n",
    "    plt.legend()\n",
    "    plt.grid(True)\n",
    "\n",
    "    loss_plot_path = os.path.join(output_dir, 'Train_vs_Val_Loss.png')\n",
    "    plt.savefig(loss_plot_path, bbox_inches='tight')\n",
    "    plt.close()\n",
    "\n",
    "    # 2) Training vs Validation Accuracy\n",
    "    plt.figure(figsize=(8,6))\n",
    "    plt.plot(epochs, train_acc, label='Training Accuracy', marker='o')\n",
    "    plt.plot(epochs, val_acc,   label='Validation Accuracy', marker='s')\n",
    "    plt.title('Training vs Validation Accuracy')\n",
    "    plt.xlabel('Epoch')\n",
    "    plt.ylabel('Accuracy (%)')\n",
    "    plt.legend()\n",
    "    plt.grid(True)\n",
    "\n",
    "    acc_plot_path = os.path.join(output_dir, 'Train_vs_Val_Accuracy.png')\n",
    "    plt.savefig(acc_plot_path, bbox_inches='tight')\n",
    "    plt.close()\n",
    "\n",
    "    # 3) Training IoU Loss vs Validation IoU Loss\n",
    "    plt.figure(figsize=(8,6))\n",
    "    plt.plot(epochs, train_iou_loss, label='Training IoU Loss', marker='o')\n",
    "    plt.plot(epochs, val_iou_loss,   label='Validation IoU Loss', marker='s')\n",
    "    plt.title('Training vs Validation IoU Loss')\n",
    "    plt.xlabel('Epoch')\n",
    "    plt.ylabel('IoU Loss')\n",
    "    plt.legend()\n",
    "    plt.grid(True)\n",
    "\n",
    "    iou_loss_plot_path = os.path.join(output_dir, 'Train_vs_Val_IoU_Loss.png')\n",
    "    plt.savefig(iou_loss_plot_path, bbox_inches='tight')\n",
    "    plt.close()\n",
    "\n",
    "    # 4) Mean Training IoU vs Mean Validation IoU\n",
    "    plt.figure(figsize=(8,6))\n",
    "    plt.plot(epochs, mean_train_iou, label='Mean Training IoU', marker='o')\n",
    "    plt.plot(epochs, mean_val_iou,   label='Mean Validation IoU', marker='s')\n",
    "    plt.title('Mean Training IoU vs Mean Validation IoU')\n",
    "    plt.xlabel('Epoch')\n",
    "    plt.ylabel('IoU')\n",
    "    plt.legend()\n",
    "    plt.grid(True)\n",
    "\n",
    "    iou_plot_path = os.path.join(output_dir, 'Mean_Train_vs_Val_IoU.png')\n",
    "    plt.savefig(iou_plot_path, bbox_inches='tight')\n",
    "    plt.close()\n",
    "\n",
    "def main():\n",
    "    # 1) Find directories named \"Unet-...\"\n",
    "    unet_dirs = [d for d in os.listdir('.') if os.path.isdir(d) and d.startswith('Unet')]\n",
    "\n",
    "    for unet_dir in unet_dirs:\n",
    "        # 2) The path to the Training_Metrics.xlsx\n",
    "        excel_path = os.path.join(unet_dir, 'Training_Metrics.xlsx')\n",
    "        if not os.path.isfile(excel_path):\n",
    "            continue  # skip if no metrics file\n",
    "\n",
    "        # 3) Create \"Training_Curves\" subdir\n",
    "        curves_dir = os.path.join(unet_dir, 'Training_Curves')\n",
    "        os.makedirs(curves_dir, exist_ok=True)\n",
    "\n",
    "        # 4) Generate + save plots\n",
    "        plot_training_curves_for_model(excel_path, curves_dir)\n",
    "\n",
    "if __name__ == \"__main__\":\n",
    "    main()\n"
   ]
  },
  {
   "cell_type": "markdown",
   "metadata": {},
   "source": [
    "# All Models Performance Evaluation Sheet"
   ]
  },
  {
   "cell_type": "code",
   "execution_count": 10,
   "metadata": {},
   "outputs": [],
   "source": [
    "import os\n",
    "import pandas as pd\n",
    "\n",
    "# 1) Automatically discover directories named \"Unet-...\"\n",
    "model_directories = [\n",
    "    d for d in os.listdir('.') \n",
    "    if os.path.isdir(d) and d.startswith(\"Unet\")\n",
    "]\n",
    "\n",
    "# 2) Each directory's Excel file name\n",
    "excel_filename = \"Performance_Evaluation_Metrics.xlsx\"\n",
    "\n",
    "# 3) Where to save the merged file\n",
    "results_folder = \"Results\"\n",
    "os.makedirs(results_folder, exist_ok=True)\n",
    "merged_excel_path = os.path.join(results_folder, \"All_Models_Performance_Evaluation_Metrics.xlsx\")\n",
    "\n",
    "# 4) Create an empty list to hold the last rows from each subdirectory\n",
    "merged_rows = []\n",
    "\n",
    "# 5) Loop over each Unet-<backbone> directory\n",
    "for model_dir in model_directories:\n",
    "    excel_path = os.path.join(model_dir, excel_filename)\n",
    "\n",
    "    # Check if the file exists\n",
    "    if not os.path.isfile(excel_path):\n",
    "        print(f\"Warning: {excel_path} not found. Skipping.\")\n",
    "        continue\n",
    "\n",
    "    # Read entire Excel file\n",
    "    df = pd.read_excel(excel_path)\n",
    "\n",
    "    if df.empty:\n",
    "        print(f\"Warning: {excel_path} is empty. Skipping.\")\n",
    "        continue\n",
    "\n",
    "    # Get the last (bottom) row\n",
    "    last_row = df.iloc[[-1]].copy()\n",
    "    merged_rows.append(last_row)\n",
    "\n",
    "# 6) If we have rows, concatenate them; otherwise create empty DataFrame\n",
    "if len(merged_rows) > 0:\n",
    "    merged_df = pd.concat(merged_rows, ignore_index=True)\n",
    "else:\n",
    "    merged_df = pd.DataFrame()\n",
    "\n",
    "# 7) Overwrite the final Excel file with these rows\n",
    "merged_df.to_excel(merged_excel_path, index=False)\n",
    "print(f\"Merged file saved to: {merged_excel_path}\")\n",
    "\n"
   ]
  },
  {
   "cell_type": "markdown",
   "metadata": {},
   "source": [
    "# Saving Predictions For All Models"
   ]
  },
  {
   "cell_type": "code",
   "execution_count": 11,
   "metadata": {},
   "outputs": [
    {
     "name": "stderr",
     "output_type": "stream",
     "text": [
      "/tmp/ipykernel_5252/1757816287.py:41: FutureWarning: You are using `torch.load` with `weights_only=False` (the current default value), which uses the default pickle module implicitly. It is possible to construct malicious pickle data which will execute arbitrary code during unpickling (See https://github.com/pytorch/pytorch/blob/main/SECURITY.md#untrusted-models for more details). In a future release, the default value for `weights_only` will be flipped to `True`. This limits the functions that could be executed during unpickling. Arbitrary objects will no longer be allowed to be loaded via this mode unless they are explicitly allowlisted by the user via `torch.serialization.add_safe_globals`. We recommend you start setting `weights_only=True` for any use case where you don't have full control of the loaded file. Please open an issue on GitHub for any issues related to this experimental feature.\n",
      "  model = torch.load(model_path, map_location=DEVICE)\n",
      "/tmp/ipykernel_5252/1757816287.py:144: UserWarning: FigureCanvasAgg is non-interactive, and thus cannot be shown\n",
      "  plt.show()\n"
     ]
    }
   ],
   "source": [
    "import os\n",
    "import random\n",
    "import numpy as np\n",
    "import torch\n",
    "from torchvision import transforms\n",
    "from PIL import Image\n",
    "import matplotlib.pyplot as plt\n",
    "\n",
    "# ------------------------------------------------------------------------------\n",
    "# 1) Automatically gather all directories starting with \"Unet-\"\n",
    "# ------------------------------------------------------------------------------\n",
    "all_dirs = [d for d in os.listdir('.') if os.path.isdir(d)]\n",
    "model_dirs = [d for d in all_dirs if d.startswith(\"Unet-\")]\n",
    "models_info = [(d, os.path.join(d, \"unet_best_model.pth\")) for d in model_dirs]\n",
    "\n",
    "# ------------------------------------------------------------------------------\n",
    "# 2) Define directories / file paths and hyperparameters\n",
    "# ------------------------------------------------------------------------------\n",
    "TEST_IMAGE_FOLDER        = 'CWD-3HSV/test/images/'\n",
    "GROUND_TRUTH_MASK_FOLDER = 'CWD-3HSV/test/Morphed_Images/'\n",
    "PREDICTION_SAVE_FOLDER   = 'Predictions'\n",
    "os.makedirs(PREDICTION_SAVE_FOLDER, exist_ok=True)\n",
    "\n",
    "IMG_HEIGHT  = 640\n",
    "IMG_WIDTH   = 640\n",
    "NUM_CLASSES = 3\n",
    "DEVICE      = torch.device('cuda' if torch.cuda.is_available() else 'cpu')\n",
    "\n",
    "# ------------------------------------------------------------------------------\n",
    "# 3) Define transformation (as used during training)\n",
    "# ------------------------------------------------------------------------------\n",
    "transform = transforms.Compose([\n",
    "    transforms.Resize((IMG_HEIGHT, IMG_WIDTH)),\n",
    "    transforms.ToTensor(),\n",
    "])\n",
    "\n",
    "# ------------------------------------------------------------------------------\n",
    "# 4) Helper functions\n",
    "# ------------------------------------------------------------------------------\n",
    "def load_full_model(model_path):\n",
    "    model = torch.load(model_path, map_location=DEVICE)\n",
    "    model = model.to(DEVICE)\n",
    "    model.eval()\n",
    "    return model\n",
    "\n",
    "def preprocess_image(image_path):\n",
    "    image = Image.open(image_path).convert('RGB')\n",
    "    image = transform(image).unsqueeze(0).to(DEVICE)\n",
    "    return image\n",
    "\n",
    "def load_ground_truth_mask(mask_path):\n",
    "    mask = Image.open(mask_path).convert('L')\n",
    "    mask = mask.resize((IMG_WIDTH, IMG_HEIGHT), Image.NEAREST)\n",
    "    return np.array(mask)\n",
    "\n",
    "def generate_segmentation_mask(model, image_tensor):\n",
    "    with torch.no_grad():\n",
    "        output = model(image_tensor)  # shape: (B, NUM_CLASSES, H, W)\n",
    "        pred = torch.argmax(output, dim=1)\n",
    "        return pred.squeeze().cpu().numpy()  # shape: (H, W)\n",
    "\n",
    "def mask_to_rgb(mask_array):\n",
    "    h, w = mask_array.shape\n",
    "    rgb_image = np.zeros((h, w, 3), dtype=np.uint8)\n",
    "    # Define the mapping for 3 classes\n",
    "    class_rgb_mapping = {\n",
    "        0: (0, 0, 0),      # Black for background (or class 0)\n",
    "        1: (0, 255, 0),    # Green for class 1\n",
    "        2: (255, 0, 0)     # Red for class 2\n",
    "    }\n",
    "    for cls, color in class_rgb_mapping.items():\n",
    "        rgb_image[mask_array == cls] = color\n",
    "    return rgb_image\n",
    "\n",
    "# ------------------------------------------------------------------------------\n",
    "# 5) Main execution: load models, select images, and create merged figure\n",
    "# ------------------------------------------------------------------------------\n",
    "if __name__ == \"__main__\":\n",
    "    # Load all models\n",
    "    loaded_models = []\n",
    "    for model_name, model_path in models_info:\n",
    "        if not os.path.isfile(model_path):\n",
    "            continue\n",
    "        model = load_full_model(model_path)\n",
    "        loaded_models.append((model_name, model))\n",
    "    if len(loaded_models) == 0:\n",
    "        exit(0)\n",
    "    \n",
    "    # Gather test images\n",
    "    test_image_files = [f for f in os.listdir(TEST_IMAGE_FOLDER) if f.lower().endswith(('.jpg','.jpeg','.png'))]\n",
    "    if len(test_image_files) == 0:\n",
    "        exit(0)\n",
    "    \n",
    "    # Randomly select up to 5 images\n",
    "    selected_images = random.sample(test_image_files, 5) if len(test_image_files) >= 5 else test_image_files\n",
    "\n",
    "    # Set up figure:\n",
    "    n_rows = len(selected_images)\n",
    "    n_cols = 2 + len(loaded_models)  # 1: Input, 1: GT, rest: each model's prediction\n",
    "    fig, axes = plt.subplots(n_rows, n_cols, figsize=(4 * n_cols, 4.2 * n_rows))\n",
    "    if n_rows == 1:\n",
    "        axes = [axes]  # ensure axes is a list of rows\n",
    "\n",
    "    # Process each image:\n",
    "    for row_idx, image_file in enumerate(selected_images):\n",
    "        input_image_path = os.path.join(TEST_IMAGE_FOLDER, image_file)\n",
    "        gt_mask_name = os.path.splitext(image_file)[0] + '_morphed.png'\n",
    "        gt_mask_path = os.path.join(GROUND_TRUTH_MASK_FOLDER, gt_mask_name)\n",
    "\n",
    "        # Load and resize input image and ground truth mask for display\n",
    "        original_image = Image.open(input_image_path).resize((IMG_WIDTH, IMG_HEIGHT))\n",
    "        gt_mask_np = load_ground_truth_mask(gt_mask_path)\n",
    "        gt_rgb = mask_to_rgb(gt_mask_np)\n",
    "\n",
    "        # Preprocess image for model inference\n",
    "        input_tensor = preprocess_image(input_image_path)\n",
    "\n",
    "        # Column 0: Input image\n",
    "        axes[row_idx][0].imshow(original_image)\n",
    "        if row_idx == 0:\n",
    "            axes[row_idx][0].set_title(\"Input Image\", fontsize=27)\n",
    "        axes[row_idx][0].axis('off')\n",
    "\n",
    "        # Column 1: Ground truth mask\n",
    "        axes[row_idx][1].imshow(gt_rgb)\n",
    "        if row_idx == 0:\n",
    "            axes[row_idx][1].set_title(\"Ground Truth Mask\", fontsize=27)\n",
    "        axes[row_idx][1].axis('off')\n",
    "\n",
    "        # Next columns: Predictions from each model\n",
    "        for model_i, (model_name, model_obj) in enumerate(loaded_models):\n",
    "            pred_mask = generate_segmentation_mask(model_obj, input_tensor)\n",
    "            pred_rgb = mask_to_rgb(pred_mask)\n",
    "            col_idx = 2 + model_i\n",
    "            axes[row_idx][col_idx].imshow(pred_rgb)\n",
    "            if row_idx == 0:\n",
    "                axes[row_idx][col_idx].set_title(f\"{model_name} \\nPredicted Mask\", fontsize=27)\n",
    "            axes[row_idx][col_idx].axis('off')\n",
    "\n",
    "    plt.tight_layout()\n",
    "    merged_filename = os.path.join(PREDICTION_SAVE_FOLDER, \"All_Models_Predictions.png\")\n",
    "    plt.savefig(merged_filename, bbox_inches='tight',dpi=200)\n",
    "    # Uncomment the next line if you wish to display the figure interactively\n",
    "    plt.show()\n"
   ]
  },
  {
   "cell_type": "markdown",
   "metadata": {},
   "source": [
    "# Saving Predictions of Each Model"
   ]
  },
  {
   "cell_type": "code",
   "execution_count": 12,
   "metadata": {},
   "outputs": [
    {
     "name": "stderr",
     "output_type": "stream",
     "text": [
      "/tmp/ipykernel_5252/3991625222.py:41: FutureWarning: You are using `torch.load` with `weights_only=False` (the current default value), which uses the default pickle module implicitly. It is possible to construct malicious pickle data which will execute arbitrary code during unpickling (See https://github.com/pytorch/pytorch/blob/main/SECURITY.md#untrusted-models for more details). In a future release, the default value for `weights_only` will be flipped to `True`. This limits the functions that could be executed during unpickling. Arbitrary objects will no longer be allowed to be loaded via this mode unless they are explicitly allowlisted by the user via `torch.serialization.add_safe_globals`. We recommend you start setting `weights_only=True` for any use case where you don't have full control of the loaded file. Please open an issue on GitHub for any issues related to this experimental feature.\n",
      "  model = torch.load(model_path, map_location=DEVICE)\n"
     ]
    }
   ],
   "source": [
    "import os\n",
    "import random\n",
    "import numpy as np\n",
    "import torch\n",
    "from torchvision import transforms\n",
    "from PIL import Image\n",
    "import matplotlib.pyplot as plt\n",
    "\n",
    "# ------------------------------------------------------------------------------\n",
    "# 1) Automatically gather all directories starting with \"Unet-\"\n",
    "# ------------------------------------------------------------------------------\n",
    "model_dirs = [d for d in os.listdir('.') if os.path.isdir(d) and d.startswith(\"Unet\")]\n",
    "\n",
    "# ------------------------------------------------------------------------------\n",
    "# 2) Define directories and hyperparameters\n",
    "# ------------------------------------------------------------------------------\n",
    "TEST_IMAGE_FOLDER        = 'CWD-3HSV/test/images/'\n",
    "GROUND_TRUTH_MASK_FOLDER = 'CWD-3HSV/test/Morphed_Images/'\n",
    "# (The merged prediction figure for each model will be saved in a \"Predictions\" subfolder of that model directory.)\n",
    "IMG_HEIGHT  = 640\n",
    "IMG_WIDTH   = 640\n",
    "NUM_CLASSES = 3\n",
    "DEVICE      = torch.device('cuda' if torch.cuda.is_available() else 'cpu')\n",
    "\n",
    "# ------------------------------------------------------------------------------\n",
    "# 3) Define the transformation (as used during training)\n",
    "# ------------------------------------------------------------------------------\n",
    "transform = transforms.Compose([\n",
    "    transforms.Resize((IMG_HEIGHT, IMG_WIDTH)),\n",
    "    transforms.ToTensor(),\n",
    "])\n",
    "\n",
    "# ------------------------------------------------------------------------------\n",
    "# 4) Helper functions\n",
    "# ------------------------------------------------------------------------------\n",
    "def load_full_model(model_dir):\n",
    "    \"\"\"Load the full model from <model_dir>/unet_best_model.pth.\"\"\"\n",
    "    model_path = os.path.join(model_dir, \"unet_best_model.pth\")\n",
    "    if not os.path.isfile(model_path):\n",
    "        return None\n",
    "    model = torch.load(model_path, map_location=DEVICE)\n",
    "    model = model.to(DEVICE)\n",
    "    model.eval()\n",
    "    return model\n",
    "\n",
    "def preprocess_image(image_path):\n",
    "    image = Image.open(image_path).convert('RGB')\n",
    "    image = transform(image).unsqueeze(0).to(DEVICE)\n",
    "    return image\n",
    "\n",
    "def load_ground_truth_mask(mask_path):\n",
    "    mask = Image.open(mask_path).convert('L')\n",
    "    mask = mask.resize((IMG_WIDTH, IMG_HEIGHT), Image.NEAREST)\n",
    "    return np.array(mask)\n",
    "\n",
    "def generate_segmentation_mask(model, image_tensor):\n",
    "    with torch.no_grad():\n",
    "        # model outputs logits of shape (B, NUM_CLASSES, H, W)\n",
    "        output = model(image_tensor)\n",
    "        pred = torch.argmax(output, dim=1)\n",
    "        return pred.squeeze().cpu().numpy()  # shape: (H, W)\n",
    "\n",
    "def mask_to_rgb(mask_array):\n",
    "    h, w = mask_array.shape\n",
    "    rgb_image = np.zeros((h, w, 3), dtype=np.uint8)\n",
    "    # Fixed mapping for 3 classes\n",
    "    class_rgb_mapping = {\n",
    "        0: (0, 0, 0),      # Black\n",
    "        1: (0, 255, 0),    # Green\n",
    "        2: (255, 0, 0)     # Red\n",
    "    }\n",
    "    for cls, color in class_rgb_mapping.items():\n",
    "        rgb_image[mask_array == cls] = color\n",
    "    return rgb_image\n",
    "\n",
    "# ------------------------------------------------------------------------------\n",
    "# 5) Main execution: Process each model directory\n",
    "# ------------------------------------------------------------------------------\n",
    "if __name__ == \"__main__\":\n",
    "    # Gather test images (all jpg/jpeg/png)\n",
    "    test_image_files = [f for f in os.listdir(TEST_IMAGE_FOLDER) if f.lower().endswith(('.jpg','.jpeg','.png'))]\n",
    "    if len(test_image_files) == 0:\n",
    "        exit(0)\n",
    "    \n",
    "    # Randomly select up to 5 images\n",
    "    selected_images = random.sample(test_image_files, 5) if len(test_image_files) >= 5 else test_image_files\n",
    "\n",
    "    # Process each model directory that starts with \"Unet-\"\n",
    "    for model_dir in model_dirs:\n",
    "        model = load_full_model(model_dir)\n",
    "        if model is None:\n",
    "            continue\n",
    "        \n",
    "        # Create a Predictions subfolder inside the model directory\n",
    "        predictions_dir = os.path.join(model_dir, \"Predictions\")\n",
    "        os.makedirs(predictions_dir, exist_ok=True)\n",
    "        \n",
    "        # Set up a figure with one row per image and 3 columns (Input, Ground Truth, Predicted)\n",
    "        n_rows = len(selected_images)\n",
    "        n_cols = 3\n",
    "        fig, axes = plt.subplots(nrows=n_rows, ncols=n_cols, figsize=(4 * n_cols, 4.2 * n_rows))\n",
    "        if n_rows == 1:\n",
    "            axes = [axes]  # Ensure axes is a list of rows\n",
    "\n",
    "        for row_idx, image_file in enumerate(selected_images):\n",
    "            input_image_path = os.path.join(TEST_IMAGE_FOLDER, image_file)\n",
    "            gt_mask_name = os.path.splitext(image_file)[0] + '_morphed.png'\n",
    "            gt_mask_path = os.path.join(GROUND_TRUTH_MASK_FOLDER, gt_mask_name)\n",
    "            \n",
    "            # Load original image and ground truth for display\n",
    "            original_image = Image.open(input_image_path).resize((IMG_WIDTH, IMG_HEIGHT))\n",
    "            gt_mask_np = load_ground_truth_mask(gt_mask_path)\n",
    "            gt_rgb = mask_to_rgb(gt_mask_np)\n",
    "            \n",
    "            # Preprocess image for inference\n",
    "            input_tensor = preprocess_image(input_image_path)\n",
    "            \n",
    "            # Column 0: Input image\n",
    "            axes[row_idx][0].imshow(original_image)\n",
    "            if row_idx == 0:\n",
    "                axes[row_idx][0].set_title(\"Input Image\", fontsize=27)\n",
    "            axes[row_idx][0].axis('off')\n",
    "            \n",
    "            # Column 1: Ground truth mask\n",
    "            axes[row_idx][1].imshow(gt_rgb)\n",
    "            if row_idx == 0:\n",
    "                axes[row_idx][1].set_title(\"Ground Truth Mask\", fontsize=27)\n",
    "            axes[row_idx][1].axis('off')\n",
    "            \n",
    "            # Column 2: Predicted mask from this model\n",
    "            pred_mask = generate_segmentation_mask(model, input_tensor)\n",
    "            pred_rgb = mask_to_rgb(pred_mask)\n",
    "            axes[row_idx][2].imshow(pred_rgb)\n",
    "            if row_idx == 0:\n",
    "                axes[row_idx][2].set_title(f\"{model_dir} \\nPredicted Mask\", fontsize=27)\n",
    "            axes[row_idx][2].axis('off')\n",
    "        \n",
    "        plt.tight_layout()\n",
    "        merged_filename = os.path.join(predictions_dir, \"All_Models_Predictions.png\")\n",
    "        # Save the figure at high resolution\n",
    "        plt.savefig(merged_filename, bbox_inches='tight', dpi=300)\n",
    "        plt.close(fig)\n"
   ]
  },
  {
   "cell_type": "markdown",
   "metadata": {},
   "source": [
    "# Saving Results of each model"
   ]
  },
  {
   "cell_type": "code",
   "execution_count": 13,
   "metadata": {},
   "outputs": [],
   "source": [
    "import os\n",
    "import pandas as pd\n",
    "\n",
    "# ------------------------------------------------------------------------------\n",
    "# 1) Automatically gather all directories starting with \"Unet-\"\n",
    "# ------------------------------------------------------------------------------\n",
    "model_directories = [d for d in os.listdir('.') if os.path.isdir(d) and d.startswith(\"Unet\")]\n",
    "\n",
    "# Name of the Excel file in each model directory\n",
    "excel_filename = \"Performance_Evaluation_Metrics.xlsx\"\n",
    "\n",
    "# Loop over each found model directory\n",
    "for model_dir in model_directories:\n",
    "    # Construct the full path to the Excel file\n",
    "    excel_path = os.path.join(model_dir, excel_filename)\n",
    "    \n",
    "    # Skip this directory if the file does not exist\n",
    "    if not os.path.isfile(excel_path):\n",
    "        continue\n",
    "    \n",
    "    # Read the Excel file into a DataFrame\n",
    "    df = pd.read_excel(excel_path)\n",
    "    if df.empty:\n",
    "        continue\n",
    "\n",
    "    # Get the last (bottom) row from the DataFrame\n",
    "    last_row = df.iloc[-1]\n",
    "    \n",
    "    # ------------------ Overall Metrics ------------------\n",
    "    overall_metrics = {\n",
    "        \"Metric\": [\n",
    "            \"Accuracy\",\n",
    "            \"Precision\",\n",
    "            \"Recall\",\n",
    "            \"F1 Score\",\n",
    "            \"Mean IoU\",\n",
    "            \"Frequency Weighted IoU\",\n",
    "            \"Mean Dice\",\n",
    "            \"Mean Jaccard\"\n",
    "        ],\n",
    "        \"Value\": [\n",
    "            last_row[\"Accuracy\"],\n",
    "            last_row[\"Precision\"],\n",
    "            last_row[\"Recall\"],\n",
    "            last_row[\"F1 Score\"],\n",
    "            last_row[\"Mean IoU\"],\n",
    "            last_row[\"Frequency Weighted IoU\"],\n",
    "            last_row[\"Mean Dice\"],\n",
    "            last_row[\"Mean Jaccard\"]\n",
    "        ]\n",
    "    }\n",
    "    overall_df = pd.DataFrame(overall_metrics)\n",
    "    \n",
    "    # ------------------ Per-Class Metrics ------------------\n",
    "    per_class_data = {\n",
    "        \"Class\": [\"Class 0\", \"Class 1\", \"Class 2\"],\n",
    "        \"Accuracy\": [\n",
    "            last_row[\"Accuracy Class 0\"],\n",
    "            last_row[\"Accuracy Class 1\"],\n",
    "            last_row[\"Accuracy Class 2\"]\n",
    "        ],\n",
    "        \"Precision\": [\n",
    "            last_row[\"Precision Class 0\"],\n",
    "            last_row[\"Precision Class 1\"],\n",
    "            last_row[\"Precision Class 2\"]\n",
    "        ],\n",
    "        \"Recall\": [\n",
    "            last_row[\"Recall Class 0\"],\n",
    "            last_row[\"Recall Class 1\"],\n",
    "            last_row[\"Recall Class 2\"]\n",
    "        ],\n",
    "        \"F1 Score\": [\n",
    "            last_row[\"F1 Score Class 0\"],\n",
    "            last_row[\"F1 Score Class 1\"],\n",
    "            last_row[\"F1 Score Class 2\"]\n",
    "        ],\n",
    "        \"IoU\": [\n",
    "            last_row[\"IoU Class 0\"],\n",
    "            last_row[\"IoU Class 1\"],\n",
    "            last_row[\"IoU Class 2\"]\n",
    "        ],\n",
    "        \"Dice\": [\n",
    "            last_row[\"Dice Coefficient Class 0\"],\n",
    "            last_row[\"Dice Coefficient Class 1\"],\n",
    "            last_row[\"Dice Coefficient Class 2\"]\n",
    "        ],\n",
    "        \"Jaccard\": [\n",
    "            last_row[\"Jaccard Index Class 0\"],\n",
    "            last_row[\"Jaccard Index Class 1\"],\n",
    "            last_row[\"Jaccard Index Class 2\"]\n",
    "        ]\n",
    "    }\n",
    "    per_class_df = pd.DataFrame(per_class_data)\n",
    "    \n",
    "    # ------------------------------------------------------------------------------\n",
    "    # 3) Save the new Excel files in a Results subfolder of the model directory\n",
    "    # ------------------------------------------------------------------------------\n",
    "    results_dir = os.path.join(model_dir, \"Results\")\n",
    "    os.makedirs(results_dir, exist_ok=True)\n",
    "    \n",
    "    overall_excel_path = os.path.join(results_dir, \"Overall_Metrics.xlsx\")\n",
    "    per_class_excel_path = os.path.join(results_dir, \"Per_Class_Metrics.xlsx\")\n",
    "    \n",
    "    overall_df.to_excel(overall_excel_path, index=False)\n",
    "    per_class_df.to_excel(per_class_excel_path, index=False)\n"
   ]
  },
  {
   "cell_type": "markdown",
   "metadata": {},
   "source": [
    "# Seperating All Models Perdormance Evaluation Sheet"
   ]
  },
  {
   "cell_type": "code",
   "execution_count": 14,
   "metadata": {},
   "outputs": [],
   "source": [
    "import os\n",
    "import pandas as pd\n",
    "\n",
    "# ------------------------------------------------------------------------------\n",
    "# 1) Path to the merged Excel file\n",
    "# ------------------------------------------------------------------------------\n",
    "merged_excel_path = os.path.join(\"Results\", \"All_Models_Performance_Evaluation_Metrics.xlsx\")\n",
    "\n",
    "# ------------------------------------------------------------------------------\n",
    "# 2) Read the Excel file into a DataFrame\n",
    "# ------------------------------------------------------------------------------\n",
    "df = pd.read_excel(merged_excel_path)\n",
    "\n",
    "# ------------------------------------------------------------------------------\n",
    "# 3) Mapping to change model names\n",
    "# ------------------------------------------------------------------------------\n",
    "name_mapping = {\n",
    "    \"unet_best_model.pth\": \"Unet\",\n",
    "    \"unetplusplus_best_model.pth\": \"Unet++\",\n",
    "    \"manet_best_model.pth\": \"MAnet\",\n",
    "    \"linknet_best_model.pth\": \"Linknet\",\n",
    "    \"fpn_best_model.pth\": \"FPN\",\n",
    "    \"pspnet_best_model.pth\": \"PSPNet\",\n",
    "    \"pan_best_model.pth\": \"PAN\",\n",
    "    \"deeplabv3_best_model.pth\": \"DeepLabV3\",\n",
    "    \"deeplabv3plus_best_model.pth\": \"DeepLabV3+\",\n",
    "    \"upernet_best_model.pth\": \"UPerNet\",\n",
    "    \"segformer_best_model.pth\": \"Segformer\"\n",
    "}\n",
    "\n",
    "# Update the \"Model Name\" column based on the mapping.\n",
    "# If a model name is not found in the mapping, leave it unchanged.\n",
    "df[\"Model Name\"] = df[\"Model Name\"].apply(lambda x: name_mapping.get(x, x))\n",
    "\n",
    "# ------------------------------------------------------------------------------\n",
    "# 4) Create Overall Metrics DataFrame\n",
    "# ------------------------------------------------------------------------------\n",
    "overall_columns = [\n",
    "    \"Model Name\",\n",
    "    \"Accuracy\",\n",
    "    \"Precision\",\n",
    "    \"Recall\",\n",
    "    \"F1 Score\",\n",
    "    \"Mean IoU\",\n",
    "    \"Weighted IoU\",\n",
    "    \"Frequency Weighted IoU\",\n",
    "    \"Mean Dice\",\n",
    "    \"Mean Jaccard\"\n",
    "]\n",
    "overall_df = df[overall_columns].copy()\n",
    "\n",
    "# ------------------------------------------------------------------------------\n",
    "# 5) Create Per-Class Metrics DataFrame\n",
    "# ------------------------------------------------------------------------------\n",
    "per_class_columns = [\n",
    "    \"Model Name\",\n",
    "    \"Accuracy Class 0\", \"Accuracy Class 1\", \"Accuracy Class 2\",\n",
    "    \"Precision Class 0\", \"Precision Class 1\", \"Precision Class 2\",\n",
    "    \"Recall Class 0\", \"Recall Class 1\", \"Recall Class 2\",\n",
    "    \"F1 Score Class 0\", \"F1 Score Class 1\", \"F1 Score Class 2\",\n",
    "    \"IoU Class 0\", \"IoU Class 1\", \"IoU Class 2\",\n",
    "    \"Dice Coefficient Class 0\", \"Dice Coefficient Class 1\", \"Dice Coefficient Class 2\",\n",
    "    \"Jaccard Index Class 0\", \"Jaccard Index Class 1\", \"Jaccard Index Class 2\"\n",
    "]\n",
    "per_class_df = df[per_class_columns].copy()\n",
    "\n",
    "# ------------------------------------------------------------------------------\n",
    "# 6) Save the two DataFrames to Excel (overwrite if re-executed)\n",
    "# ------------------------------------------------------------------------------\n",
    "overall_excel_path = os.path.join(\"Results\", \"Overall_Metrics.xlsx\")\n",
    "per_class_excel_path = os.path.join(\"Results\", \"Per_Class_Metrics.xlsx\")\n",
    "\n",
    "overall_df.to_excel(overall_excel_path, index=False)\n",
    "per_class_df.to_excel(per_class_excel_path, index=False)\n",
    "\n",
    "print(f\"Saved overall metrics to: {overall_excel_path}\")\n",
    "print(f\"Saved per-class metrics to: {per_class_excel_path}\")\n"
   ]
  }
 ],
 "metadata": {
  "kernelspec": {
   "display_name": "Python 3",
   "language": "python",
   "name": "python3"
  },
  "language_info": {
   "codemirror_mode": {
    "name": "ipython",
    "version": 3
   },
   "file_extension": ".py",
   "mimetype": "text/x-python",
   "name": "python",
   "nbconvert_exporter": "python",
   "pygments_lexer": "ipython3",
   "version": "3.10.12"
  }
 },
 "nbformat": 4,
 "nbformat_minor": 2
}
