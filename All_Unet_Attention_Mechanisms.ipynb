{
 "cells": [
  {
   "cell_type": "markdown",
   "metadata": {},
   "source": [
    "# Attention UNET (Gate Based Attention)"
   ]
  },
  {
   "cell_type": "code",
   "execution_count": 1,
   "metadata": {},
   "outputs": [],
   "source": [
    "import torch\n",
    "import torch.nn as nn\n",
    "import torch.nn.functional as F\n",
    "\n",
    "# ------------------------------------------------------------\n",
    "# Attention Gate Module (Gate based attention)\n",
    "# ------------------------------------------------------------\n",
    "class AttentionGate(nn.Module):\n",
    "    def __init__(self, F_g, F_l, F_int):\n",
    "        \"\"\"\n",
    "        Args:\n",
    "            F_g: Number of channels in the gating signal (from decoder).\n",
    "            F_l: Number of channels in the skip connection (from encoder).\n",
    "            F_int: Number of intermediate channels.\n",
    "        \"\"\"\n",
    "        super(AttentionGate, self).__init__()\n",
    "        # Theta_x: 1x1 conv to reduce channels of the encoder feature map\n",
    "        self.W_x = nn.Conv2d(F_l, F_int, kernel_size=1, stride=1, padding=0, bias=True)\n",
    "        # Phi_g: 1x1 conv to reduce channels of the gating signal\n",
    "        self.W_g = nn.Conv2d(F_g, F_int, kernel_size=1, stride=1, padding=0, bias=True)\n",
    "        # psi: 1x1 conv to produce a single channel attention coefficient map\n",
    "        self.psi = nn.Conv2d(F_int, 1, kernel_size=1, stride=1, padding=0, bias=True)\n",
    "        self.relu = nn.ReLU(inplace=True)\n",
    "        self.sigmoid = nn.Sigmoid()\n",
    "    \n",
    "    def forward(self, x, g):\n",
    "        \"\"\"\n",
    "        Args:\n",
    "            x: Encoder feature map (skip connection) [B, F_l, H, W]\n",
    "            g: Gating signal from decoder [B, F_g, H_g, W_g]\n",
    "        Returns:\n",
    "            Attention-modulated feature map (same size as x)\n",
    "        \"\"\"\n",
    "        # Apply the 1x1 convolutions\n",
    "        theta_x = self.W_x(x)  # [B, F_int, H, W]\n",
    "        phi_g   = self.W_g(g)  # [B, F_int, H_g, W_g]\n",
    "        # Upsample the gating signal to the size of x if needed\n",
    "        if phi_g.shape[-2:] != theta_x.shape[-2:]:\n",
    "            phi_g = F.interpolate(phi_g, size=theta_x.shape[-2:], mode='bilinear', align_corners=True)\n",
    "        # Sum, apply ReLU, then 1x1 conv and sigmoid to get attention coefficients\n",
    "        f = self.relu(theta_x + phi_g)\n",
    "        psi = self.sigmoid(self.psi(f))\n",
    "        # Multiply attention coefficients with the original encoder feature map\n",
    "        return x * psi\n",
    "\n",
    "# ------------------------------------------------------------\n",
    "# Define the original UNet conv_block (no BN)\n",
    "# ------------------------------------------------------------\n",
    "class UNetConvBlock(nn.Module):\n",
    "    def __init__(self, in_channels, out_channels):\n",
    "        super(UNetConvBlock, self).__init__()\n",
    "        self.block = nn.Sequential(\n",
    "            nn.Conv2d(in_channels, out_channels, kernel_size=3, padding=1),\n",
    "            nn.ReLU(inplace=True),\n",
    "            nn.Conv2d(out_channels, out_channels, kernel_size=3, padding=1),\n",
    "            nn.ReLU(inplace=True)\n",
    "        )\n",
    "    def forward(self, x):\n",
    "        return self.block(x)\n",
    "\n",
    "# ------------------------------------------------------------\n",
    "# Attention U-Net: UNet with Gate-based Attention on Skip Connections\n",
    "# ------------------------------------------------------------\n",
    "class UNet_AT(nn.Module):\n",
    "    def __init__(self, in_channels=3, out_channels=3):\n",
    "        super(UNet_AT, self).__init__()\n",
    "        # -------------------- Encoder --------------------\n",
    "        self.enc1 = UNetConvBlock(in_channels, 64)\n",
    "        self.enc2 = UNetConvBlock(64, 128)\n",
    "        self.enc3 = UNetConvBlock(128, 256)\n",
    "        self.enc4 = UNetConvBlock(256, 512)\n",
    "        \n",
    "        # -------------------- Bridge --------------------\n",
    "        self.bridge = UNetConvBlock(512, 1024)\n",
    "        \n",
    "        # -------------------- Decoder --------------------\n",
    "        self.up4 = nn.ConvTranspose2d(1024, 512, kernel_size=2, stride=2)\n",
    "        self.dec4 = UNetConvBlock(512 + 512, 512)  # after attention gating\n",
    "\n",
    "        self.up3 = nn.ConvTranspose2d(512, 256, kernel_size=2, stride=2)\n",
    "        self.dec3 = UNetConvBlock(256 + 256, 256)\n",
    "\n",
    "        self.up2 = nn.ConvTranspose2d(256, 128, kernel_size=2, stride=2)\n",
    "        self.dec2 = UNetConvBlock(128 + 128, 128)\n",
    "\n",
    "        self.up1 = nn.ConvTranspose2d(128, 64, kernel_size=2, stride=2)\n",
    "        self.dec1 = UNetConvBlock(64 + 64, 64)\n",
    "        \n",
    "        # Final 1x1 convolution for output\n",
    "        self.out_conv = nn.Conv2d(64, out_channels, kernel_size=1)\n",
    "\n",
    "        # -------------------- Attention Gates --------------------\n",
    "        # For skip connections at each decoder stage:\n",
    "        self.attn4 = AttentionGate(F_g=512, F_l=512, F_int=256)\n",
    "        self.attn3 = AttentionGate(F_g=256, F_l=256, F_int=128)\n",
    "        self.attn2 = AttentionGate(F_g=128, F_l=128, F_int=64)\n",
    "        self.attn1 = AttentionGate(F_g=64, F_l=64, F_int=32)\n",
    "\n",
    "    def forward(self, x):\n",
    "        # -------------------- Encoder --------------------\n",
    "        enc1 = self.enc1(x)                      # (B,64,H,W)\n",
    "        enc2 = self.enc2(F.max_pool2d(enc1, 2))   # (B,128,H/2,W/2)\n",
    "        enc3 = self.enc3(F.max_pool2d(enc2, 2))   # (B,256,H/4,W/4)\n",
    "        enc4 = self.enc4(F.max_pool2d(enc3, 2))   # (B,512,H/8,W/8)\n",
    "        \n",
    "        # -------------------- Bridge --------------------\n",
    "        bridge = self.bridge(F.max_pool2d(enc4, 2))  # (B,1024,H/16,W/16)\n",
    "        \n",
    "        # -------------------- Decoder --------------------\n",
    "        # Up4: upsample bridge and gate encoder feature enc4\n",
    "        d4 = self.up4(bridge)  # (B,512,H/8,W/8)\n",
    "        # Apply attention gate to encoder output enc4 using d4 as gating signal\n",
    "        attn_enc4 = self.attn4(enc4, d4)\n",
    "        d4_cat = torch.cat([attn_enc4, d4], dim=1)  # (B,512+512,H/8,W/8)\n",
    "        d4 = self.dec4(d4_cat)  # (B,512,H/8,W/8)\n",
    "\n",
    "        # Up3: upsample d4 and gate encoder output enc3\n",
    "        d3 = self.up3(d4)  # (B,256,H/4,W/4)\n",
    "        attn_enc3 = self.attn3(enc3, d3)\n",
    "        d3_cat = torch.cat([attn_enc3, d3], dim=1)  # (B,256+256,H/4,W/4)\n",
    "        d3 = self.dec3(d3_cat)  # (B,256,H/4,W/4)\n",
    "\n",
    "        # Up2: upsample d3 and gate encoder output enc2\n",
    "        d2 = self.up2(d3)  # (B,128,H/2,W/2)\n",
    "        attn_enc2 = self.attn2(enc2, d2)\n",
    "        d2_cat = torch.cat([attn_enc2, d2], dim=1)  # (B,128+128,H/2,W/2)\n",
    "        d2 = self.dec2(d2_cat)  # (B,128,H/2,W/2)\n",
    "\n",
    "        # Up1: upsample d2 and gate encoder output enc1\n",
    "        d1 = self.up1(d2)  # (B,64,H,W)\n",
    "        attn_enc1 = self.attn1(enc1, d1)\n",
    "        d1_cat = torch.cat([attn_enc1, d1], dim=1)  # (B,64+64,H,W)\n",
    "        d1 = self.dec1(d1_cat)  # (B,64,H,W)\n",
    "\n",
    "        # Final output\n",
    "        out = self.out_conv(d1)  # (B,out_channels,H,W)\n",
    "        return out\n"
   ]
  },
  {
   "cell_type": "markdown",
   "metadata": {},
   "source": [
    "# SE (Squeeze-and-Excitation) Attention"
   ]
  },
  {
   "cell_type": "code",
   "execution_count": 2,
   "metadata": {},
   "outputs": [],
   "source": [
    "import torch\n",
    "import torch.nn as nn\n",
    "import torch.nn.functional as F\n",
    "\n",
    "# ------------------------------------------------------------\n",
    "# SE Block (Squeeze-and-Excitation)\n",
    "# ------------------------------------------------------------\n",
    "class SEBlock(nn.Module):\n",
    "    def __init__(self, channel, reduction=16):\n",
    "        \"\"\"\n",
    "        Args:\n",
    "            channel (int): Number of input channels.\n",
    "            reduction (int): Reduction ratio for the intermediate layer.\n",
    "        \"\"\"\n",
    "        super(SEBlock, self).__init__()\n",
    "        self.fc1 = nn.Linear(channel, channel // reduction, bias=True)\n",
    "        self.fc2 = nn.Linear(channel // reduction, channel, bias=True)\n",
    "        self.relu = nn.ReLU(inplace=True)\n",
    "        self.sigmoid = nn.Sigmoid()\n",
    "        \n",
    "    def forward(self, x):\n",
    "        # x: (B, C, H, W)\n",
    "        b, c, h, w = x.size()\n",
    "        # Squeeze: Global Average Pooling, output shape (B, C)\n",
    "        y = x.view(b, c, -1).mean(dim=2)\n",
    "        # Excitation: two FC layers with ReLU and Sigmoid\n",
    "        y = self.fc1(y)\n",
    "        y = self.relu(y)\n",
    "        y = self.fc2(y)\n",
    "        y = self.sigmoid(y).view(b, c, 1, 1)\n",
    "        # Scale: multiply attention weights with the original feature map\n",
    "        return x * y\n",
    "\n",
    "# ------------------------------------------------------------\n",
    "# Basic UNet convolutional block (without BN)\n",
    "# ------------------------------------------------------------\n",
    "class UNetConvBlock(nn.Module):\n",
    "    def __init__(self, in_channels, out_channels):\n",
    "        super(UNetConvBlock, self).__init__()\n",
    "        self.block = nn.Sequential(\n",
    "            nn.Conv2d(in_channels, out_channels, kernel_size=3, padding=1),\n",
    "            nn.ReLU(inplace=True),\n",
    "            nn.Conv2d(out_channels, out_channels, kernel_size=3, padding=1),\n",
    "            nn.ReLU(inplace=True)\n",
    "        )\n",
    "        \n",
    "    def forward(self, x):\n",
    "        return self.block(x)\n",
    "\n",
    "# ------------------------------------------------------------\n",
    "# UNet with SE Attention (Attention U-Net with SE instead of spatial attention)\n",
    "# ------------------------------------------------------------\n",
    "class UNet_SE(nn.Module):\n",
    "    def __init__(self, in_channels=3, out_channels=3):\n",
    "        super(UNet_SE, self).__init__()\n",
    "        \n",
    "        # -------------------- Encoder --------------------\n",
    "        self.enc1 = UNetConvBlock(in_channels, 64)\n",
    "        self.se1 = SEBlock(64)           # SE attention for encoder 1\n",
    "\n",
    "        self.enc2 = UNetConvBlock(64, 128)\n",
    "        self.se2 = SEBlock(128)          # SE attention for encoder 2\n",
    "\n",
    "        self.enc3 = UNetConvBlock(128, 256)\n",
    "        self.se3 = SEBlock(256)          # SE attention for encoder 3\n",
    "\n",
    "        self.enc4 = UNetConvBlock(256, 512)\n",
    "        self.se4 = SEBlock(512)          # SE attention for encoder 4\n",
    "\n",
    "        # -------------------- Bridge --------------------\n",
    "        self.bridge = UNetConvBlock(512, 1024)\n",
    "        self.se_bridge = SEBlock(1024)   # SE attention for bridge\n",
    "\n",
    "        # -------------------- Decoder --------------------\n",
    "        self.up4 = nn.ConvTranspose2d(1024, 512, kernel_size=2, stride=2)\n",
    "        self.dec4 = UNetConvBlock(512 + 512, 512)  # after concatenating with gated encoder features\n",
    "\n",
    "        self.up3 = nn.ConvTranspose2d(512, 256, kernel_size=2, stride=2)\n",
    "        self.dec3 = UNetConvBlock(256 + 256, 256)\n",
    "\n",
    "        self.up2 = nn.ConvTranspose2d(256, 128, kernel_size=2, stride=2)\n",
    "        self.dec2 = UNetConvBlock(128 + 128, 128)\n",
    "\n",
    "        self.up1 = nn.ConvTranspose2d(128, 64, kernel_size=2, stride=2)\n",
    "        self.dec1 = UNetConvBlock(64 + 64, 64)\n",
    "        \n",
    "        # Final 1x1 convolution for output segmentation\n",
    "        self.out_conv = nn.Conv2d(64, out_channels, kernel_size=1)\n",
    "    \n",
    "    def forward(self, x):\n",
    "        # -------------------- Encoder --------------------\n",
    "        enc1 = self.enc1(x)       # (B, 64, H, W)\n",
    "        enc1 = self.se1(enc1)     # Apply SE attention\n",
    "        \n",
    "        enc2 = self.enc2(F.max_pool2d(enc1, 2))  # (B, 128, H/2, W/2)\n",
    "        enc2 = self.se2(enc2)\n",
    "        \n",
    "        enc3 = self.enc3(F.max_pool2d(enc2, 2))  # (B, 256, H/4, W/4)\n",
    "        enc3 = self.se3(enc3)\n",
    "        \n",
    "        enc4 = self.enc4(F.max_pool2d(enc3, 2))  # (B, 512, H/8, W/8)\n",
    "        enc4 = self.se4(enc4)\n",
    "        \n",
    "        # -------------------- Bridge --------------------\n",
    "        bridge = self.bridge(F.max_pool2d(enc4, 2))  # (B, 1024, H/16, W/16)\n",
    "        bridge = self.se_bridge(bridge)\n",
    "        \n",
    "        # -------------------- Decoder --------------------\n",
    "        d4 = self.up4(bridge)  # (B, 512, H/8, W/8)\n",
    "        d4 = torch.cat([enc4, d4], dim=1)  # (B, 512+512, H/8, W/8)\n",
    "        d4 = self.dec4(d4)  # (B, 512, H/8, W/8)\n",
    "        \n",
    "        d3 = self.up3(d4)  # (B, 256, H/4, W/4)\n",
    "        d3 = torch.cat([enc3, d3], dim=1)  # (B, 256+256, H/4, W/4)\n",
    "        d3 = self.dec3(d3)  # (B, 256, H/4, W/4)\n",
    "        \n",
    "        d2 = self.up2(d3)  # (B, 128, H/2, W/2)\n",
    "        d2 = torch.cat([enc2, d2], dim=1)  # (B, 128+128, H/2, W/2)\n",
    "        d2 = self.dec2(d2)  # (B, 128, H/2, W/2)\n",
    "        \n",
    "        d1 = self.up1(d2)  # (B, 64, H, W)\n",
    "        d1 = torch.cat([enc1, d1], dim=1)  # (B, 64+64, H, W)\n",
    "        d1 = self.dec1(d1)  # (B, 64, H, W)\n",
    "        \n",
    "        out = self.out_conv(d1)  # (B, out_channels, H, W)\n",
    "        return out\n"
   ]
  },
  {
   "cell_type": "markdown",
   "metadata": {},
   "source": [
    "# CBAM (Convolutional Block Attention Module)"
   ]
  },
  {
   "cell_type": "code",
   "execution_count": 3,
   "metadata": {},
   "outputs": [],
   "source": [
    "import torch\n",
    "import torch.nn as nn\n",
    "import torch.nn.functional as F\n",
    "\n",
    "# --------------------------------------------------------------------------\n",
    "# CBAM: Convolutional Block Attention Module\n",
    "# --------------------------------------------------------------------------\n",
    "\n",
    "class ChannelAttention(nn.Module):\n",
    "    def __init__(self, in_channels, reduction=16):\n",
    "        \"\"\"\n",
    "        Channel Attention Module.\n",
    "        \n",
    "        Args:\n",
    "            in_channels (int): Number of input channels.\n",
    "            reduction (int): Reduction ratio for the intermediate channel number.\n",
    "        \"\"\"\n",
    "        super(ChannelAttention, self).__init__()\n",
    "        self.avg_pool = nn.AdaptiveAvgPool2d(1)  # output size (B, C, 1, 1)\n",
    "        self.max_pool = nn.AdaptiveMaxPool2d(1)  # output size (B, C, 1, 1)\n",
    "        \n",
    "        self.fc1 = nn.Conv2d(in_channels, in_channels // reduction, kernel_size=1, bias=True)\n",
    "        self.relu = nn.ReLU(inplace=True)\n",
    "        self.fc2 = nn.Conv2d(in_channels // reduction, in_channels, kernel_size=1, bias=True)\n",
    "        self.sigmoid = nn.Sigmoid()\n",
    "    \n",
    "    def forward(self, x):\n",
    "        # x: (B, C, H, W)\n",
    "        avg_out = self.fc2(self.relu(self.fc1(self.avg_pool(x))))\n",
    "        max_out = self.fc2(self.relu(self.fc1(self.max_pool(x))))\n",
    "        out = avg_out + max_out\n",
    "        return self.sigmoid(out)\n",
    "\n",
    "class SpatialAttention(nn.Module):\n",
    "    def __init__(self, kernel_size=7):\n",
    "        \"\"\"\n",
    "        Spatial Attention Module.\n",
    "        \n",
    "        Args:\n",
    "            kernel_size (int): Size of the convolution kernel.\n",
    "        \"\"\"\n",
    "        super(SpatialAttention, self).__init__()\n",
    "        self.conv = nn.Conv2d(2, 1, kernel_size=kernel_size, padding=kernel_size // 2, bias=False)\n",
    "        self.sigmoid = nn.Sigmoid()\n",
    "        \n",
    "    def forward(self, x):\n",
    "        # x: (B, C, H, W)\n",
    "        avg_out = torch.mean(x, dim=1, keepdim=True)  # (B, 1, H, W)\n",
    "        max_out, _ = torch.max(x, dim=1, keepdim=True)  # (B, 1, H, W)\n",
    "        x_cat = torch.cat([avg_out, max_out], dim=1)  # (B, 2, H, W)\n",
    "        attn = self.conv(x_cat)\n",
    "        return self.sigmoid(attn)\n",
    "\n",
    "class CBAM(nn.Module):\n",
    "    def __init__(self, in_channels, reduction=16, kernel_size=7):\n",
    "        \"\"\"\n",
    "        CBAM combines Channel and Spatial Attention.\n",
    "        \n",
    "        Args:\n",
    "            in_channels (int): Number of channels in the input feature map.\n",
    "            reduction (int): Reduction ratio for Channel Attention.\n",
    "            kernel_size (int): Kernel size for Spatial Attention.\n",
    "        \"\"\"\n",
    "        super(CBAM, self).__init__()\n",
    "        self.channel_attention = ChannelAttention(in_channels, reduction)\n",
    "        self.spatial_attention = SpatialAttention(kernel_size)\n",
    "        \n",
    "    def forward(self, x):\n",
    "        out = x * self.channel_attention(x)\n",
    "        out = out * self.spatial_attention(out)\n",
    "        return out\n",
    "\n",
    "# --------------------------------------------------------------------------\n",
    "# Basic UNet Convolution Block (without Batch Normalization)\n",
    "# --------------------------------------------------------------------------\n",
    "class UNetConvBlock(nn.Module):\n",
    "    def __init__(self, in_channels, out_channels):\n",
    "        super(UNetConvBlock, self).__init__()\n",
    "        self.block = nn.Sequential(\n",
    "            nn.Conv2d(in_channels, out_channels, kernel_size=3, padding=1),\n",
    "            nn.ReLU(inplace=True),\n",
    "            nn.Conv2d(out_channels, out_channels, kernel_size=3, padding=1),\n",
    "            nn.ReLU(inplace=True)\n",
    "        )\n",
    "        \n",
    "    def forward(self, x):\n",
    "        return self.block(x)\n",
    "\n",
    "# --------------------------------------------------------------------------\n",
    "# UNet with CBAM Attention on Skip Connections\n",
    "# --------------------------------------------------------------------------\n",
    "class UNet_CBAM(nn.Module):\n",
    "    def __init__(self, in_channels=3, out_channels=3):\n",
    "        super(UNet_CBAM, self).__init__()\n",
    "        # Encoder\n",
    "        self.enc1 = UNetConvBlock(in_channels, 64)\n",
    "        self.cbam1 = CBAM(64)\n",
    "        \n",
    "        self.enc2 = UNetConvBlock(64, 128)\n",
    "        self.cbam2 = CBAM(128)\n",
    "        \n",
    "        self.enc3 = UNetConvBlock(128, 256)\n",
    "        self.cbam3 = CBAM(256)\n",
    "        \n",
    "        self.enc4 = UNetConvBlock(256, 512)\n",
    "        self.cbam4 = CBAM(512)\n",
    "        \n",
    "        # Bridge\n",
    "        self.bridge = UNetConvBlock(512, 1024)\n",
    "        self.cbam_bridge = CBAM(1024)\n",
    "        \n",
    "        # Decoder\n",
    "        self.up4 = nn.ConvTranspose2d(1024, 512, kernel_size=2, stride=2)\n",
    "        self.dec4 = UNetConvBlock(512 + 512, 512)\n",
    "        \n",
    "        self.up3 = nn.ConvTranspose2d(512, 256, kernel_size=2, stride=2)\n",
    "        self.dec3 = UNetConvBlock(256 + 256, 256)\n",
    "        \n",
    "        self.up2 = nn.ConvTranspose2d(256, 128, kernel_size=2, stride=2)\n",
    "        self.dec2 = UNetConvBlock(128 + 128, 128)\n",
    "        \n",
    "        self.up1 = nn.ConvTranspose2d(128, 64, kernel_size=2, stride=2)\n",
    "        self.dec1 = UNetConvBlock(64 + 64, 64)\n",
    "        \n",
    "        # Final output layer\n",
    "        self.out_conv = nn.Conv2d(64, out_channels, kernel_size=1)\n",
    "        \n",
    "    def forward(self, x):\n",
    "        # -------------------- Encoder --------------------\n",
    "        e1 = self.enc1(x)           # (B, 64, H, W)\n",
    "        e1 = self.cbam1(e1)         # Apply CBAM\n",
    "        \n",
    "        e2 = self.enc2(F.max_pool2d(e1, 2))  # (B, 128, H/2, W/2)\n",
    "        e2 = self.cbam2(e2)\n",
    "        \n",
    "        e3 = self.enc3(F.max_pool2d(e2, 2))  # (B, 256, H/4, W/4)\n",
    "        e3 = self.cbam3(e3)\n",
    "        \n",
    "        e4 = self.enc4(F.max_pool2d(e3, 2))  # (B, 512, H/8, W/8)\n",
    "        e4 = self.cbam4(e4)\n",
    "        \n",
    "        # -------------------- Bridge --------------------\n",
    "        b = self.bridge(F.max_pool2d(e4, 2))  # (B, 1024, H/16, W/16)\n",
    "        b = self.cbam_bridge(b)\n",
    "        \n",
    "        # -------------------- Decoder --------------------\n",
    "        d4 = self.up4(b)  # (B, 512, H/8, W/8)\n",
    "        d4 = torch.cat([e4, d4], dim=1)  # (B, 512+512, H/8, W/8)\n",
    "        d4 = self.dec4(d4)  # (B, 512, H/8, W/8)\n",
    "        \n",
    "        d3 = self.up3(d4)  # (B, 256, H/4, W/4)\n",
    "        d3 = torch.cat([e3, d3], dim=1)  # (B, 256+256, H/4, W/4)\n",
    "        d3 = self.dec3(d3)  # (B, 256, H/4, W/4)\n",
    "        \n",
    "        d2 = self.up2(d3)  # (B, 128, H/2, W/2)\n",
    "        d2 = torch.cat([e2, d2], dim=1)  # (B, 128+128, H/2, W/2)\n",
    "        d2 = self.dec2(d2)  # (B, 128, H/2, W/2)\n",
    "        \n",
    "        d1 = self.up1(d2)  # (B, 64, H, W)\n",
    "        d1 = torch.cat([e1, d1], dim=1)  # (B, 64+64, H, W)\n",
    "        d1 = self.dec1(d1)  # (B, 64, H, W)\n",
    "        \n",
    "        out = self.out_conv(d1)  # (B, out_channels, H, W)\n",
    "        return out"
   ]
  },
  {
   "cell_type": "markdown",
   "metadata": {},
   "source": [
    "# Transformer-based Attention (Swin Transformer)"
   ]
  },
  {
   "cell_type": "code",
   "execution_count": 4,
   "metadata": {},
   "outputs": [],
   "source": [
    "import torch\n",
    "import torch.nn as nn\n",
    "import torch.nn.functional as F\n",
    "\n",
    "# --------------------------------------------------------------------------\n",
    "# Simplified Transformer-based Attention Module (Global Attention)\n",
    "# --------------------------------------------------------------------------\n",
    "def window_partition(x, window_size):\n",
    "    \"\"\"\n",
    "    Partition input tensor into non-overlapping windows.\n",
    "    Args:\n",
    "        x: (B, C, H, W)\n",
    "        window_size: int, size of the window (assumes H and W are divisible by window_size)\n",
    "    Returns:\n",
    "        windows: (num_windows*B, window_size*window_size, C)\n",
    "    \"\"\"\n",
    "    B, C, H, W = x.shape\n",
    "    x = x.view(B, C, H // window_size, window_size, W // window_size, window_size)\n",
    "    # Rearrange to (B, num_windows_H, num_windows_W, window_size, window_size, C)\n",
    "    x = x.permute(0, 2, 4, 3, 5, 1).contiguous()\n",
    "    windows = x.view(-1, window_size * window_size, C)\n",
    "    return windows\n",
    "\n",
    "def window_reverse(windows, window_size, H, W):\n",
    "    \"\"\"\n",
    "    Reverse the window partitioning operation.\n",
    "    Args:\n",
    "        windows: (num_windows*B, window_size*window_size, C)\n",
    "        window_size: int\n",
    "        H, W: original height and width\n",
    "    Returns:\n",
    "        x: (B, C, H, W)\n",
    "    \"\"\"\n",
    "    B = int(windows.shape[0] / ((H // window_size) * (W // window_size)))\n",
    "    x = windows.view(B, H // window_size, W // window_size, window_size, window_size, -1)\n",
    "    x = x.permute(0, 5, 1, 3, 2, 4).contiguous()\n",
    "    x = x.view(B, -1, H, W)\n",
    "    return x\n",
    "\n",
    "# --------------------------------------------------------------------------\n",
    "# Updated SwinAttention Module with Window Partitioning\n",
    "# --------------------------------------------------------------------------\n",
    "class SwinAttention(nn.Module):\n",
    "    def __init__(self, dim, num_heads=4, mlp_ratio=4.0, dropout=0.0, window_size=8):\n",
    "        \"\"\"\n",
    "        A simplified transformer-based attention block using local (windowed) attention.\n",
    "        \n",
    "        Args:\n",
    "            dim (int): Number of input channels.\n",
    "            num_heads (int): Number of attention heads.\n",
    "            mlp_ratio (float): Ratio for the MLP hidden dimension.\n",
    "            dropout (float): Dropout rate.\n",
    "            window_size (int): Size of the local attention window.\n",
    "        \"\"\"\n",
    "        super(SwinAttention, self).__init__()\n",
    "        self.dim = dim\n",
    "        self.num_heads = num_heads\n",
    "        self.head_dim = dim // num_heads\n",
    "        self.scale = self.head_dim ** -0.5\n",
    "        self.window_size = window_size\n",
    "\n",
    "        self.qkv = nn.Linear(dim, dim * 3, bias=True)\n",
    "        self.attn_drop = nn.Dropout(dropout)\n",
    "        self.proj = nn.Linear(dim, dim)\n",
    "        self.proj_drop = nn.Dropout(dropout)\n",
    "\n",
    "        # These LayerNorms expect input of shape (B, L, C) where L is the number of tokens per window.\n",
    "        self.norm1 = nn.LayerNorm(dim)\n",
    "        self.norm2 = nn.LayerNorm(dim)\n",
    "        self.mlp = nn.Sequential(\n",
    "            nn.Linear(dim, int(dim * mlp_ratio)),\n",
    "            nn.GELU(),\n",
    "            nn.Dropout(dropout),\n",
    "            nn.Linear(int(dim * mlp_ratio), dim),\n",
    "            nn.Dropout(dropout)\n",
    "        )\n",
    "\n",
    "    def forward(self, x):\n",
    "        # x: (B, C, H, W)\n",
    "        B, C, H, W = x.shape\n",
    "        # Partition the feature map into windows\n",
    "        x_windows = window_partition(x, self.window_size)  # (num_windows*B, window_size*window_size, C)\n",
    "        \n",
    "        # Apply LayerNorm to each window (treating window tokens as a sequence)\n",
    "        x_windows_norm = self.norm1(x_windows)  # (num_windows*B, L, C), where L = window_size*window_size\n",
    "        \n",
    "        # Compute Q, K, V for each token in each window\n",
    "        qkv = self.qkv(x_windows_norm)  # (num_windows*B, L, 3 * C)\n",
    "        L = x_windows_norm.shape[1]  # number of tokens per window\n",
    "        qkv = qkv.reshape(x_windows_norm.shape[0], L, 3, self.num_heads, self.head_dim)\n",
    "        qkv = qkv.permute(2, 0, 3, 1, 4)  # (3, num_windows*B, num_heads, L, head_dim)\n",
    "        q, k, v = qkv[0], qkv[1], qkv[2]  # each: (num_windows*B, num_heads, L, head_dim)\n",
    "        \n",
    "        # Scaled dot-product attention within each window\n",
    "        attn = (q @ k.transpose(-2, -1)) * self.scale  # (num_windows*B, num_heads, L, L)\n",
    "        attn = attn.softmax(dim=-1)\n",
    "        attn = self.attn_drop(attn)\n",
    "        x_attn = attn @ v  # (num_windows*B, num_heads, L, head_dim)\n",
    "        x_attn = x_attn.transpose(1, 2).reshape(x_windows.shape[0], L, C)  # (num_windows*B, L, C)\n",
    "        x_attn = self.proj(x_attn)\n",
    "        x_attn = self.proj_drop(x_attn)\n",
    "        \n",
    "        # Residual connection and MLP\n",
    "        x_out = x_windows + x_attn\n",
    "        x_out = x_out + self.mlp(self.norm2(x_out))\n",
    "        \n",
    "        # Reverse windows to reconstruct the full feature map\n",
    "        x_out = window_reverse(x_out, self.window_size, H, W)  # (B, C, H, W)\n",
    "        return x_out\n",
    "\n",
    "# --------------------------------------------------------------------------\n",
    "# Basic UNet convolutional block (without BatchNorm)\n",
    "# --------------------------------------------------------------------------\n",
    "class UNetConvBlock(nn.Module):\n",
    "    def __init__(self, in_channels, out_channels):\n",
    "        super(UNetConvBlock, self).__init__()\n",
    "        self.block = nn.Sequential(\n",
    "            nn.Conv2d(in_channels, out_channels, kernel_size=3, padding=1),\n",
    "            nn.ReLU(inplace=True),\n",
    "            nn.Conv2d(out_channels, out_channels, kernel_size=3, padding=1),\n",
    "            nn.ReLU(inplace=True)\n",
    "        )\n",
    "        \n",
    "    def forward(self, x):\n",
    "        return self.block(x)\n",
    "\n",
    "# --------------------------------------------------------------------------\n",
    "# UNet with Transformer-based (Swin-inspired) Attention on Skip Connections\n",
    "# --------------------------------------------------------------------------\n",
    "class UNet_ST(nn.Module):\n",
    "    def __init__(self, in_channels=3, out_channels=3):\n",
    "        super(UNet_ST, self).__init__()\n",
    "        # Encoder\n",
    "        self.enc1 = UNetConvBlock(in_channels, 64)\n",
    "        self.ta1 = SwinAttention(dim=64, num_heads=2, mlp_ratio=4.0)\n",
    "        \n",
    "        self.enc2 = UNetConvBlock(64, 128)\n",
    "        self.ta2 = SwinAttention(dim=128, num_heads=2, mlp_ratio=4.0)\n",
    "        \n",
    "        self.enc3 = UNetConvBlock(128, 256)\n",
    "        self.ta3 = SwinAttention(dim=256, num_heads=4, mlp_ratio=4.0)\n",
    "        \n",
    "        self.enc4 = UNetConvBlock(256, 512)\n",
    "        self.ta4 = SwinAttention(dim=512, num_heads=4, mlp_ratio=4.0)\n",
    "        \n",
    "        # Bridge\n",
    "        self.bridge = UNetConvBlock(512, 1024)\n",
    "        self.ta_bridge = SwinAttention(dim=1024, num_heads=8, mlp_ratio=4.0)\n",
    "        \n",
    "        # Decoder\n",
    "        self.up4 = nn.ConvTranspose2d(1024, 512, kernel_size=2, stride=2)\n",
    "        self.dec4 = UNetConvBlock(512 + 512, 512)\n",
    "        \n",
    "        self.up3 = nn.ConvTranspose2d(512, 256, kernel_size=2, stride=2)\n",
    "        self.dec3 = UNetConvBlock(256 + 256, 256)\n",
    "        \n",
    "        self.up2 = nn.ConvTranspose2d(256, 128, kernel_size=2, stride=2)\n",
    "        self.dec2 = UNetConvBlock(128 + 128, 128)\n",
    "        \n",
    "        self.up1 = nn.ConvTranspose2d(128, 64, kernel_size=2, stride=2)\n",
    "        self.dec1 = UNetConvBlock(64 + 64, 64)\n",
    "        \n",
    "        self.out_conv = nn.Conv2d(64, out_channels, kernel_size=1)\n",
    "    \n",
    "    def forward(self, x):\n",
    "        # Encoder\n",
    "        e1 = self.enc1(x)           # (B,64,H,W)\n",
    "        e1 = self.ta1(e1)\n",
    "        \n",
    "        e2 = self.enc2(F.max_pool2d(e1, 2))  # (B,128,H/2,W/2)\n",
    "        e2 = self.ta2(e2)\n",
    "        \n",
    "        e3 = self.enc3(F.max_pool2d(e2, 2))  # (B,256,H/4,W/4)\n",
    "        e3 = self.ta3(e3)\n",
    "        \n",
    "        e4 = self.enc4(F.max_pool2d(e3, 2))  # (B,512,H/8,W/8)\n",
    "        e4 = self.ta4(e4)\n",
    "        \n",
    "        # Bridge\n",
    "        b = self.bridge(F.max_pool2d(e4, 2))  # (B,1024,H/16,W/16)\n",
    "        b = self.ta_bridge(b)\n",
    "        \n",
    "        # Decoder\n",
    "        d4 = self.up4(b)                 # (B,512,H/8,W/8)\n",
    "        d4 = torch.cat([e4, d4], dim=1)   # (B,1024,H/8,W/8)\n",
    "        d4 = self.dec4(d4)               # (B,512,H/8,W/8)\n",
    "        \n",
    "        d3 = self.up3(d4)                # (B,256,H/4,W/4)\n",
    "        d3 = torch.cat([e3, d3], dim=1)   # (B,512,H/4,W/4)\n",
    "        d3 = self.dec3(d3)               # (B,256,H/4,W/4)\n",
    "        \n",
    "        d2 = self.up2(d3)                # (B,128,H/2,W/2)\n",
    "        d2 = torch.cat([e2, d2], dim=1)   # (B,256,H/2,W/2)\n",
    "        d2 = self.dec2(d2)               # (B,128,H/2,W/2)\n",
    "        \n",
    "        d1 = self.up1(d2)                # (B,64,H,W)\n",
    "        d1 = torch.cat([e1, d1], dim=1)   # (B,128,H,W)\n",
    "        d1 = self.dec1(d1)               # (B,64,H,W)\n",
    "        \n",
    "        out = self.out_conv(d1)          # (B,out_channels,H,W)\n",
    "        return out"
   ]
  },
  {
   "cell_type": "markdown",
   "metadata": {},
   "source": [
    "# SCSE (Spatial & Channel Squeeze-and-Excitation)"
   ]
  },
  {
   "cell_type": "code",
   "execution_count": 5,
   "metadata": {},
   "outputs": [],
   "source": [
    "import torch\n",
    "import torch.nn as nn\n",
    "import torch.nn.functional as F\n",
    "\n",
    "# --------------------------------------------------------------------------\n",
    "# Channel Squeeze & Excitation (cSE)\n",
    "# --------------------------------------------------------------------------\n",
    "class cSE(nn.Module):\n",
    "    def __init__(self, channels, reduction=16):\n",
    "        super(cSE, self).__init__()\n",
    "        self.avg_pool = nn.AdaptiveAvgPool2d(1)\n",
    "        self.fc = nn.Sequential(\n",
    "            nn.Linear(channels, channels // reduction, bias=False),\n",
    "            nn.ReLU(inplace=True),\n",
    "            nn.Linear(channels // reduction, channels, bias=False),\n",
    "            nn.Sigmoid()\n",
    "        )\n",
    "        \n",
    "    def forward(self, x):\n",
    "        # x shape: (B, C, H, W)\n",
    "        b, c, _, _ = x.size()\n",
    "        y = self.avg_pool(x).view(b, c)\n",
    "        y = self.fc(y).view(b, c, 1, 1)\n",
    "        return x * y\n",
    "\n",
    "# --------------------------------------------------------------------------\n",
    "# Spatial Squeeze & Excitation (sSE)\n",
    "# --------------------------------------------------------------------------\n",
    "class sSE(nn.Module):\n",
    "    def __init__(self, channels):\n",
    "        super(sSE, self).__init__()\n",
    "        self.conv = nn.Conv2d(channels, 1, kernel_size=1)\n",
    "        self.sigmoid = nn.Sigmoid()\n",
    "        \n",
    "    def forward(self, x):\n",
    "        # x shape: (B, C, H, W)\n",
    "        y = self.conv(x)\n",
    "        y = self.sigmoid(y)\n",
    "        return x * y\n",
    "\n",
    "# --------------------------------------------------------------------------\n",
    "# SCSE Block: Concurrent Spatial and Channel Squeeze & Excitation\n",
    "# --------------------------------------------------------------------------\n",
    "class SCSE(nn.Module):\n",
    "    def __init__(self, channels, reduction=16):\n",
    "        super(SCSE, self).__init__()\n",
    "        self.cSE = cSE(channels, reduction)\n",
    "        self.sSE = sSE(channels)\n",
    "        \n",
    "    def forward(self, x):\n",
    "        # Combine the two attentions by element-wise addition.\n",
    "        return self.cSE(x) + self.sSE(x)\n",
    "\n",
    "# --------------------------------------------------------------------------\n",
    "# Basic UNet Convolution Block (without Batch Normalization)\n",
    "# --------------------------------------------------------------------------\n",
    "class UNetConvBlock(nn.Module):\n",
    "    def __init__(self, in_channels, out_channels):\n",
    "        super(UNetConvBlock, self).__init__()\n",
    "        self.block = nn.Sequential(\n",
    "            nn.Conv2d(in_channels, out_channels, kernel_size=3, padding=1),\n",
    "            nn.ReLU(inplace=True),\n",
    "            nn.Conv2d(out_channels, out_channels, kernel_size=3, padding=1),\n",
    "            nn.ReLU(inplace=True)\n",
    "        )\n",
    "        \n",
    "    def forward(self, x):\n",
    "        return self.block(x)\n",
    "\n",
    "# --------------------------------------------------------------------------\n",
    "# UNet with SCSE Attention\n",
    "# --------------------------------------------------------------------------\n",
    "class UNet_SCSE(nn.Module):\n",
    "    def __init__(self, in_channels=3, out_channels=3):\n",
    "        super(UNet_SCSE, self).__init__()\n",
    "        # Encoder\n",
    "        self.enc1 = UNetConvBlock(in_channels, 64)\n",
    "        self.scse1 = SCSE(64)\n",
    "        \n",
    "        self.enc2 = UNetConvBlock(64, 128)\n",
    "        self.scse2 = SCSE(128)\n",
    "        \n",
    "        self.enc3 = UNetConvBlock(128, 256)\n",
    "        self.scse3 = SCSE(256)\n",
    "        \n",
    "        self.enc4 = UNetConvBlock(256, 512)\n",
    "        self.scse4 = SCSE(512)\n",
    "        \n",
    "        # Bridge\n",
    "        self.bridge = UNetConvBlock(512, 1024)\n",
    "        self.scse_bridge = SCSE(1024)\n",
    "        \n",
    "        # Decoder\n",
    "        self.up4 = nn.ConvTranspose2d(1024, 512, kernel_size=2, stride=2)\n",
    "        self.dec4 = UNetConvBlock(512 + 512, 512)\n",
    "        \n",
    "        self.up3 = nn.ConvTranspose2d(512, 256, kernel_size=2, stride=2)\n",
    "        self.dec3 = UNetConvBlock(256 + 256, 256)\n",
    "        \n",
    "        self.up2 = nn.ConvTranspose2d(256, 128, kernel_size=2, stride=2)\n",
    "        self.dec2 = UNetConvBlock(128 + 128, 128)\n",
    "        \n",
    "        self.up1 = nn.ConvTranspose2d(128, 64, kernel_size=2, stride=2)\n",
    "        self.dec1 = UNetConvBlock(64 + 64, 64)\n",
    "        \n",
    "        # Final output layer\n",
    "        self.out_conv = nn.Conv2d(64, out_channels, kernel_size=1)\n",
    "    \n",
    "    def forward(self, x):\n",
    "        # -------------------- Encoder --------------------\n",
    "        e1 = self.enc1(x)            # (B, 64, H, W)\n",
    "        e1 = self.scse1(e1)          # Apply SCSE\n",
    "        \n",
    "        e2 = self.enc2(F.max_pool2d(e1, 2))  # (B, 128, H/2, W/2)\n",
    "        e2 = self.scse2(e2)\n",
    "        \n",
    "        e3 = self.enc3(F.max_pool2d(e2, 2))  # (B, 256, H/4, W/4)\n",
    "        e3 = self.scse3(e3)\n",
    "        \n",
    "        e4 = self.enc4(F.max_pool2d(e3, 2))  # (B, 512, H/8, W/8)\n",
    "        e4 = self.scse4(e4)\n",
    "        \n",
    "        # -------------------- Bridge --------------------\n",
    "        b = self.bridge(F.max_pool2d(e4, 2))  # (B, 1024, H/16, W/16)\n",
    "        b = self.scse_bridge(b)\n",
    "        \n",
    "        # -------------------- Decoder --------------------\n",
    "        d4 = self.up4(b)  # (B, 512, H/8, W/8)\n",
    "        d4 = torch.cat([e4, d4], dim=1)  # (B, 512+512, H/8, W/8)\n",
    "        d4 = self.dec4(d4)  # (B, 512, H/8, W/8)\n",
    "        \n",
    "        d3 = self.up3(d4)  # (B, 256, H/4, W/4)\n",
    "        d3 = torch.cat([e3, d3], dim=1)  # (B, 256+256, H/4, W/4)\n",
    "        d3 = self.dec3(d3)  # (B, 256, H/4, W/4)\n",
    "        \n",
    "        d2 = self.up2(d3)  # (B, 128, H/2, W/2)\n",
    "        d2 = torch.cat([e2, d2], dim=1)  # (B, 128+128, H/2, W/2)\n",
    "        d2 = self.dec2(d2)  # (B, 128, H/2, W/2)\n",
    "        \n",
    "        d1 = self.up1(d2)  # (B, 64, H, W)\n",
    "        d1 = torch.cat([e1, d1], dim=1)  # (B, 64+64, H, W)\n",
    "        d1 = self.dec1(d1)  # (B, 64, H, W)\n",
    "        \n",
    "        out = self.out_conv(d1)  # (B, out_channels, H, W)\n",
    "        return out\n"
   ]
  },
  {
   "cell_type": "markdown",
   "metadata": {},
   "source": [
    "# Dual Attention (DANet)"
   ]
  },
  {
   "cell_type": "code",
   "execution_count": 6,
   "metadata": {},
   "outputs": [],
   "source": [
    "import torch\n",
    "import torch.nn as nn\n",
    "import torch.nn.functional as F\n",
    "\n",
    "# ------------------------------------------------------------------------------\n",
    "# Updated Position Attention Module (PAM) with Downsampling\n",
    "# ------------------------------------------------------------------------------\n",
    "class PAM(nn.Module):\n",
    "    def __init__(self, in_channels, downsample_factor=8):\n",
    "        \"\"\"\n",
    "        Position Attention Module with optional downsampling.\n",
    "        \n",
    "        Args:\n",
    "            in_channels (int): Number of input channels.\n",
    "            downsample_factor (int): Factor to downsample spatially before computing attention.\n",
    "                                      For example, with factor=8, a (B, C, 640, 640) tensor becomes\n",
    "                                      (B, C, 80, 80) for the attention computation.\n",
    "        \"\"\"\n",
    "        super(PAM, self).__init__()\n",
    "        self.downsample_factor = downsample_factor\n",
    "        if downsample_factor > 1:\n",
    "            self.pool = nn.MaxPool2d(downsample_factor)\n",
    "            self.upsample = nn.Upsample(scale_factor=downsample_factor, mode='bilinear', align_corners=True)\n",
    "        else:\n",
    "            self.pool = None\n",
    "            self.upsample = None\n",
    "\n",
    "        self.query_conv = nn.Conv2d(in_channels, in_channels // 8, kernel_size=1)\n",
    "        self.key_conv   = nn.Conv2d(in_channels, in_channels // 8, kernel_size=1)\n",
    "        self.value_conv = nn.Conv2d(in_channels, in_channels, kernel_size=1)\n",
    "        self.gamma      = nn.Parameter(torch.zeros(1))\n",
    "        self.softmax    = nn.Softmax(dim=-1)\n",
    "        \n",
    "    def forward(self, x):\n",
    "        # x: (B, C, H, W)\n",
    "        if self.pool is not None:\n",
    "            x_down = self.pool(x)  # downsampled input\n",
    "        else:\n",
    "            x_down = x\n",
    "        B, C, H, W = x_down.size()\n",
    "        N = H * W\n",
    "        \n",
    "        # Compute projections\n",
    "        proj_query = self.query_conv(x_down).view(B, -1, N).permute(0, 2, 1)  # (B, N, C//8)\n",
    "        proj_key   = self.key_conv(x_down).view(B, -1, N)                        # (B, C//8, N)\n",
    "        energy     = torch.bmm(proj_query, proj_key)                             # (B, N, N)\n",
    "        attention  = self.softmax(energy)                                         # (B, N, N)\n",
    "        proj_value = self.value_conv(x_down).view(B, -1, N)                       # (B, C, N)\n",
    "        out        = torch.bmm(proj_value, attention.permute(0, 2, 1))            # (B, C, N)\n",
    "        out        = out.view(B, C, H, W)\n",
    "        \n",
    "        if self.upsample is not None:\n",
    "            out = self.upsample(out)  # upsample back to original resolution\n",
    "        \n",
    "        out = self.gamma * out + x    # residual connection\n",
    "        return out\n",
    "\n",
    "# ------------------------------------------------------------------------------\n",
    "# Channel Attention Module (CAM) remains the same\n",
    "# ------------------------------------------------------------------------------\n",
    "class CAM(nn.Module):\n",
    "    def __init__(self, in_channels):\n",
    "        super(CAM, self).__init__()\n",
    "        self.gamma = nn.Parameter(torch.zeros(1))\n",
    "        self.softmax = nn.Softmax(dim=-1)\n",
    "        \n",
    "    def forward(self, x):\n",
    "        # x: (B, C, H, W)\n",
    "        B, C, H, W = x.size()\n",
    "        proj_query = x.view(B, C, -1)               # (B, C, N)\n",
    "        proj_key   = x.view(B, C, -1).permute(0, 2, 1)  # (B, N, C)\n",
    "        energy     = torch.bmm(proj_query, proj_key)    # (B, C, C)\n",
    "        # For numerical stability\n",
    "        energy_new = torch.max(energy, dim=-1, keepdim=True)[0].expand_as(energy) - energy\n",
    "        attention  = self.softmax(energy_new)         # (B, C, C)\n",
    "        proj_value = x.view(B, C, -1)                  # (B, C, N)\n",
    "        out        = torch.bmm(attention, proj_value)   # (B, C, N)\n",
    "        out        = out.view(B, C, H, W)\n",
    "        out        = self.gamma * out + x\n",
    "        return out\n",
    "\n",
    "# ------------------------------------------------------------------------------\n",
    "# Dual Attention Module (combining PAM and CAM)\n",
    "# ------------------------------------------------------------------------------\n",
    "class DualAttention(nn.Module):\n",
    "    def __init__(self, in_channels, pam_downsample=8):\n",
    "        \"\"\"\n",
    "        Dual Attention combining PAM and CAM.\n",
    "        \n",
    "        Args:\n",
    "            in_channels (int): Number of input channels.\n",
    "            pam_downsample (int): Downsampling factor for the PAM component.\n",
    "        \"\"\"\n",
    "        super(DualAttention, self).__init__()\n",
    "        self.pam = PAM(in_channels, downsample_factor=pam_downsample)\n",
    "        self.cam = CAM(in_channels)\n",
    "        \n",
    "    def forward(self, x):\n",
    "        pam_out = self.pam(x)\n",
    "        cam_out = self.cam(x)\n",
    "        return pam_out + cam_out\n",
    "\n",
    "# ------------------------------------------------------------------------------\n",
    "# Basic UNet Convolutional Block (without BatchNorm)\n",
    "# ------------------------------------------------------------------------------\n",
    "class UNetConvBlock(nn.Module):\n",
    "    def __init__(self, in_channels, out_channels):\n",
    "        super(UNetConvBlock, self).__init__()\n",
    "        self.block = nn.Sequential(\n",
    "            nn.Conv2d(in_channels, out_channels, kernel_size=3, padding=1),\n",
    "            nn.ReLU(inplace=True),\n",
    "            nn.Conv2d(out_channels, out_channels, kernel_size=3, padding=1),\n",
    "            nn.ReLU(inplace=True)\n",
    "        )\n",
    "        \n",
    "    def forward(self, x):\n",
    "        return self.block(x)\n",
    "\n",
    "# ------------------------------------------------------------------------------\n",
    "# UNet with Dual Attention (DANet-style)\n",
    "# ------------------------------------------------------------------------------\n",
    "class UNet_DA(nn.Module):\n",
    "    def __init__(self, in_channels=3, out_channels=3):\n",
    "        super(UNet_DA, self).__init__()\n",
    "        # Encoder\n",
    "        # For very high-resolution features, use a larger downsample factor to keep the attention map small.\n",
    "        self.enc1 = UNetConvBlock(in_channels, 64)\n",
    "        self.da1  = DualAttention(64, pam_downsample=8)   # e1: 640x640 -> 80x80 attention map\n",
    "       \n",
    "        self.enc2 = UNetConvBlock(64, 128)\n",
    "        self.da2  = DualAttention(128, pam_downsample=4)   # e2: 320x320 -> 80x80 (or 320/4=80) attention map\n",
    "       \n",
    "        self.enc3 = UNetConvBlock(128, 256)\n",
    "        self.da3  = DualAttention(256, pam_downsample=2)   # e3: 160x160 -> 80x80 attention map\n",
    "       \n",
    "        self.enc4 = UNetConvBlock(256, 512)\n",
    "        self.da4  = DualAttention(512, pam_downsample=1)   # e4: 80x80 -> 80x80 (no downsampling)\n",
    "       \n",
    "        # Bridge\n",
    "        self.bridge    = UNetConvBlock(512, 1024)\n",
    "        self.da_bridge = DualAttention(1024, pam_downsample=1)  # Bridge: 40x40 resolution\n",
    "       \n",
    "        # Decoder\n",
    "        self.up4   = nn.ConvTranspose2d(1024, 512, kernel_size=2, stride=2)\n",
    "        self.dec4  = UNetConvBlock(512 + 512, 512)\n",
    "       \n",
    "        self.up3   = nn.ConvTranspose2d(512, 256, kernel_size=2, stride=2)\n",
    "        self.dec3  = UNetConvBlock(256 + 256, 256)\n",
    "       \n",
    "        self.up2   = nn.ConvTranspose2d(256, 128, kernel_size=2, stride=2)\n",
    "        self.dec2  = UNetConvBlock(128 + 128, 128)\n",
    "       \n",
    "        self.up1   = nn.ConvTranspose2d(128, 64, kernel_size=2, stride=2)\n",
    "        self.dec1  = UNetConvBlock(64 + 64, 64)\n",
    "       \n",
    "        self.out_conv = nn.Conv2d(64, out_channels, kernel_size=1)\n",
    "       \n",
    "    def forward(self, x):\n",
    "        # Encoder\n",
    "        e1 = self.enc1(x)\n",
    "        e1 = self.da1(e1)\n",
    "       \n",
    "        e2 = self.enc2(F.max_pool2d(e1, 2))\n",
    "        e2 = self.da2(e2)\n",
    "       \n",
    "        e3 = self.enc3(F.max_pool2d(e2, 2))\n",
    "        e3 = self.da3(e3)\n",
    "       \n",
    "        e4 = self.enc4(F.max_pool2d(e3, 2))\n",
    "        e4 = self.da4(e4)\n",
    "       \n",
    "        # Bridge\n",
    "        b = self.bridge(F.max_pool2d(e4, 2))\n",
    "        b = self.da_bridge(b)\n",
    "       \n",
    "        # Decoder\n",
    "        d4 = self.up4(b)\n",
    "        d4 = torch.cat([e4, d4], dim=1)\n",
    "        d4 = self.dec4(d4)\n",
    "       \n",
    "        d3 = self.up3(d4)\n",
    "        d3 = torch.cat([e3, d3], dim=1)\n",
    "        d3 = self.dec3(d3)\n",
    "       \n",
    "        d2 = self.up2(d3)\n",
    "        d2 = torch.cat([e2, d2], dim=1)\n",
    "        d2 = self.dec2(d2)\n",
    "       \n",
    "        d1 = self.up1(d2)\n",
    "        d1 = torch.cat([e1, d1], dim=1)\n",
    "        d1 = self.dec1(d1)\n",
    "       \n",
    "        out = self.out_conv(d1)\n",
    "        return out\n"
   ]
  },
  {
   "cell_type": "markdown",
   "metadata": {},
   "source": [
    "# Residual Attention Mechanism"
   ]
  },
  {
   "cell_type": "code",
   "execution_count": 7,
   "metadata": {},
   "outputs": [],
   "source": [
    "import torch\n",
    "import torch.nn as nn\n",
    "import torch.nn.functional as F\n",
    "\n",
    "# --------------------------------------------------------------------------\n",
    "# Residual Attention module\n",
    "# --------------------------------------------------------------------------\n",
    "class ResidualAttention(nn.Module):\n",
    "    def __init__(self, in_channels, reduction=2):\n",
    "        \"\"\"\n",
    "        A simple residual attention module.\n",
    "        It downsamples the number of channels by 'reduction' factor,\n",
    "        computes an attention mask, then scales the input features as:\n",
    "            output = x * (1 + mask)\n",
    "        \"\"\"\n",
    "        super(ResidualAttention, self).__init__()\n",
    "        intermediate_channels = in_channels // reduction\n",
    "        self.conv1 = nn.Conv2d(in_channels, intermediate_channels, kernel_size=3, padding=1)\n",
    "        self.relu = nn.ReLU(inplace=True)\n",
    "        self.conv2 = nn.Conv2d(intermediate_channels, in_channels, kernel_size=3, padding=1)\n",
    "        self.sigmoid = nn.Sigmoid()\n",
    "    \n",
    "    def forward(self, x):\n",
    "        mask = self.conv1(x)\n",
    "        mask = self.relu(mask)\n",
    "        mask = self.conv2(mask)\n",
    "        mask = self.sigmoid(mask)\n",
    "        return x * (1 + mask)  # residual attention: emphasize important features\n",
    "\n",
    "# --------------------------------------------------------------------------\n",
    "# UNet with Residual Attention (replacing Spatial Attention)\n",
    "# --------------------------------------------------------------------------\n",
    "class UNet_RA(nn.Module):\n",
    "    def __init__(self, in_channels=3, out_channels=3):\n",
    "        super(UNet_RA, self).__init__()\n",
    "        \n",
    "        # Encoder\n",
    "        self.enc1 = self.conv_block(in_channels, 64)\n",
    "        self.enc2 = self.conv_block(64, 128)\n",
    "        self.enc3 = self.conv_block(128, 256)\n",
    "        self.enc4 = self.conv_block(256, 512)\n",
    "        \n",
    "        # Bridge\n",
    "        self.bridge = self.conv_block(512, 1024)\n",
    "        \n",
    "        # Decoder\n",
    "        self.up4 = nn.ConvTranspose2d(1024, 512, kernel_size=2, stride=2)\n",
    "        self.dec4 = self.conv_block(1024, 512)\n",
    "        \n",
    "        self.up3 = nn.ConvTranspose2d(512, 256, kernel_size=2, stride=2)\n",
    "        self.dec3 = self.conv_block(512, 256)\n",
    "        \n",
    "        self.up2 = nn.ConvTranspose2d(256, 128, kernel_size=2, stride=2)\n",
    "        self.dec2 = self.conv_block(256, 128)\n",
    "        \n",
    "        self.up1 = nn.ConvTranspose2d(128, 64, kernel_size=2, stride=2)\n",
    "        self.dec1 = self.conv_block(128, 64)\n",
    "        \n",
    "        # Final output layer\n",
    "        self.out_conv = nn.Conv2d(64, out_channels, kernel_size=1)\n",
    "\n",
    "        # Replace Spatial Attention modules with Residual Attention modules.\n",
    "        # The number of channels for each branch is defined by the encoder/bridge.\n",
    "        self.ra1 = ResidualAttention(64)\n",
    "        self.ra2 = ResidualAttention(128)\n",
    "        self.ra3 = ResidualAttention(256)\n",
    "        self.ra4 = ResidualAttention(512)\n",
    "        self.ra_bridge = ResidualAttention(1024)\n",
    "\n",
    "    def conv_block(self, in_channels, out_channels):\n",
    "        \"\"\"\n",
    "        A basic (Conv -> ReLU -> Conv -> ReLU) block, without Batch Normalization.\n",
    "        \"\"\"\n",
    "        return nn.Sequential(\n",
    "            nn.Conv2d(in_channels, out_channels, kernel_size=3, padding=1),\n",
    "            nn.ReLU(inplace=True),\n",
    "            nn.Conv2d(out_channels, out_channels, kernel_size=3, padding=1),\n",
    "            nn.ReLU(inplace=True)\n",
    "        )\n",
    "        \n",
    "    def forward(self, x):\n",
    "        # ------------------ Encoder ------------------\n",
    "        enc1 = self.enc1(x)           # (B,64,H,W)\n",
    "        enc1 = self.ra1(enc1)         # Apply Residual Attention\n",
    "\n",
    "        enc2 = self.enc2(F.max_pool2d(enc1, 2))  # (B,128,H/2,W/2)\n",
    "        enc2 = self.ra2(enc2)\n",
    "\n",
    "        enc3 = self.enc3(F.max_pool2d(enc2, 2))  # (B,256,H/4,W/4)\n",
    "        enc3 = self.ra3(enc3)\n",
    "\n",
    "        enc4 = self.enc4(F.max_pool2d(enc3, 2))  # (B,512,H/8,W/8)\n",
    "        enc4 = self.ra4(enc4)\n",
    "\n",
    "        # ------------------ Bridge -------------------\n",
    "        bridge = self.bridge(F.max_pool2d(enc4, 2))  # (B,1024,H/16,W/16)\n",
    "        bridge = self.ra_bridge(bridge)\n",
    "\n",
    "        # ------------------ Decoder ------------------\n",
    "        # Up4\n",
    "        dec4 = self.up4(bridge)                  # (B,512,H/8,W/8)\n",
    "        dec4 = torch.cat([enc4, dec4], dim=1)    # (B,1024,H/8,W/8)\n",
    "        dec4 = self.dec4(dec4)                   # (B,512,H/8,W/8)\n",
    "\n",
    "        # Up3\n",
    "        dec3 = self.up3(dec4)                    # (B,256,H/4,W/4)\n",
    "        dec3 = torch.cat([enc3, dec3], dim=1)    # (B,512,H/4,W/4)\n",
    "        dec3 = self.dec3(dec3)                   # (B,256,H/4,W/4)\n",
    "\n",
    "        # Up2\n",
    "        dec2 = self.up2(dec3)                    # (B,128,H/2,W/2)\n",
    "        dec2 = torch.cat([enc2, dec2], dim=1)    # (B,256,H/2,W/2)\n",
    "        dec2 = self.dec2(dec2)                   # (B,128,H/2,W/2)\n",
    "\n",
    "        # Up1\n",
    "        dec1 = self.up1(dec2)                    # (B,64,H,W)\n",
    "        dec1 = torch.cat([enc1, dec1], dim=1)    # (B,128,H,W)\n",
    "        dec1 = self.dec1(dec1)                   # (B,64,H,W)\n",
    "\n",
    "        # Final output layer\n",
    "        out = self.out_conv(dec1)                # (B,out_channels,H,W)\n",
    "        return out\n"
   ]
  },
  {
   "cell_type": "code",
   "execution_count": 8,
   "metadata": {},
   "outputs": [
    {
     "name": "stdout",
     "output_type": "stream",
     "text": [
      "\n",
      "[Unet-AT] Epoch 1/100\n"
     ]
    },
    {
     "name": "stderr",
     "output_type": "stream",
     "text": [
      "                                                           \r"
     ]
    },
    {
     "name": "stdout",
     "output_type": "stream",
     "text": [
      "Train Loss: 0.4329, Train Accuracy: 82.57%, Train IoU: 0.4710, Train IoU Loss: 0.5290\n"
     ]
    },
    {
     "name": "stderr",
     "output_type": "stream",
     "text": [
      "                                                             \r"
     ]
    },
    {
     "name": "stdout",
     "output_type": "stream",
     "text": [
      "Val Loss:   0.3358, Val Accuracy:   83.30%, Val IoU:   0.5148, Val IoU Loss:   0.4852\n",
      "  [*] Best model saved at Unet-AT/unet_best_model.pth\n",
      "\n",
      "[Unet-AT] Epoch 2/100\n"
     ]
    },
    {
     "name": "stderr",
     "output_type": "stream",
     "text": [
      "                                                           \r"
     ]
    },
    {
     "name": "stdout",
     "output_type": "stream",
     "text": [
      "Train Loss: 0.2369, Train Accuracy: 90.60%, Train IoU: 0.6455, Train IoU Loss: 0.3545\n"
     ]
    },
    {
     "name": "stderr",
     "output_type": "stream",
     "text": [
      "                                                             \r"
     ]
    },
    {
     "name": "stdout",
     "output_type": "stream",
     "text": [
      "Val Loss:   0.2200, Val Accuracy:   91.34%, Val IoU:   0.7753, Val IoU Loss:   0.2247\n",
      "  [*] Best model saved at Unet-AT/unet_best_model.pth\n",
      "\n",
      "[Unet-AT] Epoch 3/100\n"
     ]
    },
    {
     "name": "stderr",
     "output_type": "stream",
     "text": [
      "                                                           \r"
     ]
    },
    {
     "name": "stdout",
     "output_type": "stream",
     "text": [
      "Train Loss: 0.1691, Train Accuracy: 93.42%, Train IoU: 0.7657, Train IoU Loss: 0.2343\n"
     ]
    },
    {
     "name": "stderr",
     "output_type": "stream",
     "text": [
      "                                                             \r"
     ]
    },
    {
     "name": "stdout",
     "output_type": "stream",
     "text": [
      "Val Loss:   0.1985, Val Accuracy:   92.32%, Val IoU:   0.7918, Val IoU Loss:   0.2082\n",
      "  [*] Best model saved at Unet-AT/unet_best_model.pth\n",
      "\n",
      "[Unet-AT] Epoch 4/100\n"
     ]
    },
    {
     "name": "stderr",
     "output_type": "stream",
     "text": [
      "                                                           \r"
     ]
    },
    {
     "name": "stdout",
     "output_type": "stream",
     "text": [
      "Train Loss: 0.1435, Train Accuracy: 94.53%, Train IoU: 0.7974, Train IoU Loss: 0.2026\n"
     ]
    },
    {
     "name": "stderr",
     "output_type": "stream",
     "text": [
      "                                                             \r"
     ]
    },
    {
     "name": "stdout",
     "output_type": "stream",
     "text": [
      "Val Loss:   0.1456, Val Accuracy:   94.51%, Val IoU:   0.8361, Val IoU Loss:   0.1639\n",
      "  [*] Best model saved at Unet-AT/unet_best_model.pth\n",
      "\n",
      "[Unet-AT] Epoch 5/100\n"
     ]
    },
    {
     "name": "stderr",
     "output_type": "stream",
     "text": [
      "                                                           \r"
     ]
    },
    {
     "name": "stdout",
     "output_type": "stream",
     "text": [
      "Train Loss: 0.1254, Train Accuracy: 95.30%, Train IoU: 0.8157, Train IoU Loss: 0.1843\n"
     ]
    },
    {
     "name": "stderr",
     "output_type": "stream",
     "text": [
      "                                                             \r"
     ]
    },
    {
     "name": "stdout",
     "output_type": "stream",
     "text": [
      "Val Loss:   0.1325, Val Accuracy:   94.82%, Val IoU:   0.8511, Val IoU Loss:   0.1489\n",
      "  [*] Best model saved at Unet-AT/unet_best_model.pth\n",
      "\n",
      "[Unet-AT] Epoch 6/100\n"
     ]
    },
    {
     "name": "stderr",
     "output_type": "stream",
     "text": [
      "                                                           \r"
     ]
    },
    {
     "name": "stdout",
     "output_type": "stream",
     "text": [
      "Train Loss: 0.1173, Train Accuracy: 95.62%, Train IoU: 0.8237, Train IoU Loss: 0.1763\n"
     ]
    },
    {
     "name": "stderr",
     "output_type": "stream",
     "text": [
      "                                                             \r"
     ]
    },
    {
     "name": "stdout",
     "output_type": "stream",
     "text": [
      "Val Loss:   0.1168, Val Accuracy:   95.55%, Val IoU:   0.8673, Val IoU Loss:   0.1327\n",
      "  [*] Best model saved at Unet-AT/unet_best_model.pth\n",
      "\n",
      "[Unet-AT] Epoch 7/100\n"
     ]
    },
    {
     "name": "stderr",
     "output_type": "stream",
     "text": [
      "                                                           \r"
     ]
    },
    {
     "name": "stdout",
     "output_type": "stream",
     "text": [
      "Train Loss: 0.1106, Train Accuracy: 95.92%, Train IoU: 0.8321, Train IoU Loss: 0.1679\n"
     ]
    },
    {
     "name": "stderr",
     "output_type": "stream",
     "text": [
      "                                                             \r"
     ]
    },
    {
     "name": "stdout",
     "output_type": "stream",
     "text": [
      "Val Loss:   0.1124, Val Accuracy:   95.76%, Val IoU:   0.8730, Val IoU Loss:   0.1270\n",
      "  [*] Best model saved at Unet-AT/unet_best_model.pth\n",
      "\n",
      "[Unet-AT] Epoch 8/100\n"
     ]
    },
    {
     "name": "stderr",
     "output_type": "stream",
     "text": [
      "                                                           \r"
     ]
    },
    {
     "name": "stdout",
     "output_type": "stream",
     "text": [
      "Train Loss: 0.1010, Train Accuracy: 96.31%, Train IoU: 0.8426, Train IoU Loss: 0.1574\n"
     ]
    },
    {
     "name": "stderr",
     "output_type": "stream",
     "text": [
      "                                                             \r"
     ]
    },
    {
     "name": "stdout",
     "output_type": "stream",
     "text": [
      "Val Loss:   0.1128, Val Accuracy:   95.89%, Val IoU:   0.8745, Val IoU Loss:   0.1255\n",
      "\n",
      "[Unet-AT] Epoch 9/100\n"
     ]
    },
    {
     "name": "stderr",
     "output_type": "stream",
     "text": [
      "                                                           \r"
     ]
    },
    {
     "name": "stdout",
     "output_type": "stream",
     "text": [
      "Train Loss: 0.0976, Train Accuracy: 96.46%, Train IoU: 0.8470, Train IoU Loss: 0.1530\n"
     ]
    },
    {
     "name": "stderr",
     "output_type": "stream",
     "text": [
      "                                                             \r"
     ]
    },
    {
     "name": "stdout",
     "output_type": "stream",
     "text": [
      "Val Loss:   0.1374, Val Accuracy:   94.77%, Val IoU:   0.8297, Val IoU Loss:   0.1703\n",
      "\n",
      "[Unet-AT] Epoch 10/100\n"
     ]
    },
    {
     "name": "stderr",
     "output_type": "stream",
     "text": [
      "                                                           \r"
     ]
    },
    {
     "name": "stdout",
     "output_type": "stream",
     "text": [
      "Train Loss: 0.0953, Train Accuracy: 96.51%, Train IoU: 0.8515, Train IoU Loss: 0.1485\n"
     ]
    },
    {
     "name": "stderr",
     "output_type": "stream",
     "text": [
      "                                                             \r"
     ]
    },
    {
     "name": "stdout",
     "output_type": "stream",
     "text": [
      "Val Loss:   0.2019, Val Accuracy:   91.46%, Val IoU:   0.7361, Val IoU Loss:   0.2639\n",
      "\n",
      "[Unet-AT] Epoch 11/100\n"
     ]
    },
    {
     "name": "stderr",
     "output_type": "stream",
     "text": [
      "                                                           \r"
     ]
    },
    {
     "name": "stdout",
     "output_type": "stream",
     "text": [
      "Train Loss: 0.0910, Train Accuracy: 96.71%, Train IoU: 0.8559, Train IoU Loss: 0.1441\n"
     ]
    },
    {
     "name": "stderr",
     "output_type": "stream",
     "text": [
      "                                                             \r"
     ]
    },
    {
     "name": "stdout",
     "output_type": "stream",
     "text": [
      "Val Loss:   0.0975, Val Accuracy:   96.41%, Val IoU:   0.8877, Val IoU Loss:   0.1123\n",
      "  [*] Best model saved at Unet-AT/unet_best_model.pth\n",
      "\n",
      "[Unet-AT] Epoch 12/100\n"
     ]
    },
    {
     "name": "stderr",
     "output_type": "stream",
     "text": [
      "                                                           \r"
     ]
    },
    {
     "name": "stdout",
     "output_type": "stream",
     "text": [
      "Train Loss: 0.0883, Train Accuracy: 96.83%, Train IoU: 0.8593, Train IoU Loss: 0.1407\n"
     ]
    },
    {
     "name": "stderr",
     "output_type": "stream",
     "text": [
      "                                                             \r"
     ]
    },
    {
     "name": "stdout",
     "output_type": "stream",
     "text": [
      "Val Loss:   0.0963, Val Accuracy:   96.31%, Val IoU:   0.8874, Val IoU Loss:   0.1126\n",
      "  [*] Best model saved at Unet-AT/unet_best_model.pth\n",
      "\n",
      "[Unet-AT] Epoch 13/100\n"
     ]
    },
    {
     "name": "stderr",
     "output_type": "stream",
     "text": [
      "                                                           \r"
     ]
    },
    {
     "name": "stdout",
     "output_type": "stream",
     "text": [
      "Train Loss: 0.0900, Train Accuracy: 96.74%, Train IoU: 0.8573, Train IoU Loss: 0.1427\n"
     ]
    },
    {
     "name": "stderr",
     "output_type": "stream",
     "text": [
      "                                                             \r"
     ]
    },
    {
     "name": "stdout",
     "output_type": "stream",
     "text": [
      "Val Loss:   0.0963, Val Accuracy:   96.36%, Val IoU:   0.8892, Val IoU Loss:   0.1108\n",
      "\n",
      "[Unet-AT] Epoch 14/100\n"
     ]
    },
    {
     "name": "stderr",
     "output_type": "stream",
     "text": [
      "                                                           \r"
     ]
    },
    {
     "name": "stdout",
     "output_type": "stream",
     "text": [
      "Train Loss: 0.0844, Train Accuracy: 96.98%, Train IoU: 0.8669, Train IoU Loss: 0.1331\n"
     ]
    },
    {
     "name": "stderr",
     "output_type": "stream",
     "text": [
      "                                                             \r"
     ]
    },
    {
     "name": "stdout",
     "output_type": "stream",
     "text": [
      "Val Loss:   0.0895, Val Accuracy:   96.72%, Val IoU:   0.8950, Val IoU Loss:   0.1050\n",
      "  [*] Best model saved at Unet-AT/unet_best_model.pth\n",
      "\n",
      "[Unet-AT] Epoch 15/100\n"
     ]
    },
    {
     "name": "stderr",
     "output_type": "stream",
     "text": [
      "                                                           \r"
     ]
    },
    {
     "name": "stdout",
     "output_type": "stream",
     "text": [
      "Train Loss: 0.0878, Train Accuracy: 96.84%, Train IoU: 0.8620, Train IoU Loss: 0.1380\n"
     ]
    },
    {
     "name": "stderr",
     "output_type": "stream",
     "text": [
      "                                                             \r"
     ]
    },
    {
     "name": "stdout",
     "output_type": "stream",
     "text": [
      "Val Loss:   0.0903, Val Accuracy:   96.75%, Val IoU:   0.8951, Val IoU Loss:   0.1049\n",
      "\n",
      "[Unet-AT] Epoch 16/100\n"
     ]
    },
    {
     "name": "stderr",
     "output_type": "stream",
     "text": [
      "                                                           \r"
     ]
    },
    {
     "name": "stdout",
     "output_type": "stream",
     "text": [
      "Train Loss: 0.0813, Train Accuracy: 97.11%, Train IoU: 0.8687, Train IoU Loss: 0.1313\n"
     ]
    },
    {
     "name": "stderr",
     "output_type": "stream",
     "text": [
      "                                                             \r"
     ]
    },
    {
     "name": "stdout",
     "output_type": "stream",
     "text": [
      "Val Loss:   0.0920, Val Accuracy:   96.55%, Val IoU:   0.8935, Val IoU Loss:   0.1065\n",
      "\n",
      "[Unet-AT] Epoch 17/100\n"
     ]
    },
    {
     "name": "stderr",
     "output_type": "stream",
     "text": [
      "                                                           \r"
     ]
    },
    {
     "name": "stdout",
     "output_type": "stream",
     "text": [
      "Train Loss: 0.0817, Train Accuracy: 97.08%, Train IoU: 0.8703, Train IoU Loss: 0.1297\n"
     ]
    },
    {
     "name": "stderr",
     "output_type": "stream",
     "text": [
      "                                                             \r"
     ]
    },
    {
     "name": "stdout",
     "output_type": "stream",
     "text": [
      "Val Loss:   0.0888, Val Accuracy:   96.70%, Val IoU:   0.8973, Val IoU Loss:   0.1027\n",
      "  [*] Best model saved at Unet-AT/unet_best_model.pth\n",
      "\n",
      "[Unet-AT] Epoch 18/100\n"
     ]
    },
    {
     "name": "stderr",
     "output_type": "stream",
     "text": [
      "                                                           \r"
     ]
    },
    {
     "name": "stdout",
     "output_type": "stream",
     "text": [
      "Train Loss: 0.0799, Train Accuracy: 97.14%, Train IoU: 0.8735, Train IoU Loss: 0.1265\n"
     ]
    },
    {
     "name": "stderr",
     "output_type": "stream",
     "text": [
      "                                                             \r"
     ]
    },
    {
     "name": "stdout",
     "output_type": "stream",
     "text": [
      "Val Loss:   0.0911, Val Accuracy:   96.64%, Val IoU:   0.8926, Val IoU Loss:   0.1074\n",
      "\n",
      "[Unet-AT] Epoch 19/100\n"
     ]
    },
    {
     "name": "stderr",
     "output_type": "stream",
     "text": [
      "                                                           \r"
     ]
    },
    {
     "name": "stdout",
     "output_type": "stream",
     "text": [
      "Train Loss: 0.0785, Train Accuracy: 97.19%, Train IoU: 0.8734, Train IoU Loss: 0.1266\n"
     ]
    },
    {
     "name": "stderr",
     "output_type": "stream",
     "text": [
      "                                                             \r"
     ]
    },
    {
     "name": "stdout",
     "output_type": "stream",
     "text": [
      "Val Loss:   0.0891, Val Accuracy:   96.77%, Val IoU:   0.8973, Val IoU Loss:   0.1027\n",
      "\n",
      "[Unet-AT] Epoch 20/100\n"
     ]
    },
    {
     "name": "stderr",
     "output_type": "stream",
     "text": [
      "                                                           \r"
     ]
    },
    {
     "name": "stdout",
     "output_type": "stream",
     "text": [
      "Train Loss: 0.0784, Train Accuracy: 97.20%, Train IoU: 0.8730, Train IoU Loss: 0.1270\n"
     ]
    },
    {
     "name": "stderr",
     "output_type": "stream",
     "text": [
      "                                                             \r"
     ]
    },
    {
     "name": "stdout",
     "output_type": "stream",
     "text": [
      "Val Loss:   0.1291, Val Accuracy:   94.82%, Val IoU:   0.8555, Val IoU Loss:   0.1445\n",
      "\n",
      "[Unet-AT] Epoch 21/100\n"
     ]
    },
    {
     "name": "stderr",
     "output_type": "stream",
     "text": [
      "                                                           \r"
     ]
    },
    {
     "name": "stdout",
     "output_type": "stream",
     "text": [
      "Train Loss: 0.0782, Train Accuracy: 97.21%, Train IoU: 0.8740, Train IoU Loss: 0.1260\n"
     ]
    },
    {
     "name": "stderr",
     "output_type": "stream",
     "text": [
      "                                                             \r"
     ]
    },
    {
     "name": "stdout",
     "output_type": "stream",
     "text": [
      "Val Loss:   0.0835, Val Accuracy:   96.93%, Val IoU:   0.9009, Val IoU Loss:   0.0991\n",
      "  [*] Best model saved at Unet-AT/unet_best_model.pth\n",
      "\n",
      "[Unet-AT] Epoch 22/100\n"
     ]
    },
    {
     "name": "stderr",
     "output_type": "stream",
     "text": [
      "                                                           \r"
     ]
    },
    {
     "name": "stdout",
     "output_type": "stream",
     "text": [
      "Train Loss: 0.0763, Train Accuracy: 97.28%, Train IoU: 0.8770, Train IoU Loss: 0.1230\n"
     ]
    },
    {
     "name": "stderr",
     "output_type": "stream",
     "text": [
      "                                                             \r"
     ]
    },
    {
     "name": "stdout",
     "output_type": "stream",
     "text": [
      "Val Loss:   0.0849, Val Accuracy:   96.80%, Val IoU:   0.9004, Val IoU Loss:   0.0996\n",
      "\n",
      "[Unet-AT] Epoch 23/100\n"
     ]
    },
    {
     "name": "stderr",
     "output_type": "stream",
     "text": [
      "                                                           \r"
     ]
    },
    {
     "name": "stdout",
     "output_type": "stream",
     "text": [
      "Train Loss: 0.0767, Train Accuracy: 97.28%, Train IoU: 0.8776, Train IoU Loss: 0.1224\n"
     ]
    },
    {
     "name": "stderr",
     "output_type": "stream",
     "text": [
      "                                                             \r"
     ]
    },
    {
     "name": "stdout",
     "output_type": "stream",
     "text": [
      "Val Loss:   0.0980, Val Accuracy:   96.31%, Val IoU:   0.8883, Val IoU Loss:   0.1117\n",
      "\n",
      "[Unet-AT] Epoch 24/100\n"
     ]
    },
    {
     "name": "stderr",
     "output_type": "stream",
     "text": [
      "                                                           \r"
     ]
    },
    {
     "name": "stdout",
     "output_type": "stream",
     "text": [
      "Train Loss: 0.0727, Train Accuracy: 97.43%, Train IoU: 0.8805, Train IoU Loss: 0.1195\n"
     ]
    },
    {
     "name": "stderr",
     "output_type": "stream",
     "text": [
      "                                                             \r"
     ]
    },
    {
     "name": "stdout",
     "output_type": "stream",
     "text": [
      "Val Loss:   0.0926, Val Accuracy:   96.45%, Val IoU:   0.8930, Val IoU Loss:   0.1070\n",
      "\n",
      "[Unet-AT] Epoch 25/100\n"
     ]
    },
    {
     "name": "stderr",
     "output_type": "stream",
     "text": [
      "                                                           \r"
     ]
    },
    {
     "name": "stdout",
     "output_type": "stream",
     "text": [
      "Train Loss: 0.0713, Train Accuracy: 97.50%, Train IoU: 0.8843, Train IoU Loss: 0.1157\n"
     ]
    },
    {
     "name": "stderr",
     "output_type": "stream",
     "text": [
      "                                                             \r"
     ]
    },
    {
     "name": "stdout",
     "output_type": "stream",
     "text": [
      "Val Loss:   0.0981, Val Accuracy:   96.25%, Val IoU:   0.8841, Val IoU Loss:   0.1159\n",
      "\n",
      "[Unet-AT] Epoch 26/100\n"
     ]
    },
    {
     "name": "stderr",
     "output_type": "stream",
     "text": [
      "                                                           \r"
     ]
    },
    {
     "name": "stdout",
     "output_type": "stream",
     "text": [
      "Train Loss: 0.0716, Train Accuracy: 97.48%, Train IoU: 0.8833, Train IoU Loss: 0.1167\n"
     ]
    },
    {
     "name": "stderr",
     "output_type": "stream",
     "text": [
      "                                                             \r"
     ]
    },
    {
     "name": "stdout",
     "output_type": "stream",
     "text": [
      "Val Loss:   0.0792, Val Accuracy:   97.16%, Val IoU:   0.9073, Val IoU Loss:   0.0927\n",
      "  [*] Best model saved at Unet-AT/unet_best_model.pth\n",
      "\n",
      "[Unet-AT] Epoch 27/100\n"
     ]
    },
    {
     "name": "stderr",
     "output_type": "stream",
     "text": [
      "                                                           \r"
     ]
    },
    {
     "name": "stdout",
     "output_type": "stream",
     "text": [
      "Train Loss: 0.0715, Train Accuracy: 97.48%, Train IoU: 0.8848, Train IoU Loss: 0.1152\n"
     ]
    },
    {
     "name": "stderr",
     "output_type": "stream",
     "text": [
      "                                                             \r"
     ]
    },
    {
     "name": "stdout",
     "output_type": "stream",
     "text": [
      "Val Loss:   0.0784, Val Accuracy:   97.15%, Val IoU:   0.9080, Val IoU Loss:   0.0920\n",
      "  [*] Best model saved at Unet-AT/unet_best_model.pth\n",
      "\n",
      "[Unet-AT] Epoch 28/100\n"
     ]
    },
    {
     "name": "stderr",
     "output_type": "stream",
     "text": [
      "                                                           \r"
     ]
    },
    {
     "name": "stdout",
     "output_type": "stream",
     "text": [
      "Train Loss: 0.0724, Train Accuracy: 97.44%, Train IoU: 0.8840, Train IoU Loss: 0.1160\n"
     ]
    },
    {
     "name": "stderr",
     "output_type": "stream",
     "text": [
      "                                                             \r"
     ]
    },
    {
     "name": "stdout",
     "output_type": "stream",
     "text": [
      "Val Loss:   0.0963, Val Accuracy:   96.40%, Val IoU:   0.8942, Val IoU Loss:   0.1058\n",
      "\n",
      "[Unet-AT] Epoch 29/100\n"
     ]
    },
    {
     "name": "stderr",
     "output_type": "stream",
     "text": [
      "                                                           \r"
     ]
    },
    {
     "name": "stdout",
     "output_type": "stream",
     "text": [
      "Train Loss: 0.0702, Train Accuracy: 97.52%, Train IoU: 0.8869, Train IoU Loss: 0.1131\n"
     ]
    },
    {
     "name": "stderr",
     "output_type": "stream",
     "text": [
      "                                                             \r"
     ]
    },
    {
     "name": "stdout",
     "output_type": "stream",
     "text": [
      "Val Loss:   0.0796, Val Accuracy:   97.15%, Val IoU:   0.9075, Val IoU Loss:   0.0925\n",
      "\n",
      "[Unet-AT] Epoch 30/100\n"
     ]
    },
    {
     "name": "stderr",
     "output_type": "stream",
     "text": [
      "                                                           \r"
     ]
    },
    {
     "name": "stdout",
     "output_type": "stream",
     "text": [
      "Train Loss: 0.0692, Train Accuracy: 97.57%, Train IoU: 0.8873, Train IoU Loss: 0.1127\n"
     ]
    },
    {
     "name": "stderr",
     "output_type": "stream",
     "text": [
      "                                                             \r"
     ]
    },
    {
     "name": "stdout",
     "output_type": "stream",
     "text": [
      "Val Loss:   0.0994, Val Accuracy:   96.19%, Val IoU:   0.8845, Val IoU Loss:   0.1155\n",
      "\n",
      "[Unet-AT] Epoch 31/100\n"
     ]
    },
    {
     "name": "stderr",
     "output_type": "stream",
     "text": [
      "                                                           \r"
     ]
    },
    {
     "name": "stdout",
     "output_type": "stream",
     "text": [
      "Train Loss: 0.0662, Train Accuracy: 97.69%, Train IoU: 0.8914, Train IoU Loss: 0.1086\n"
     ]
    },
    {
     "name": "stderr",
     "output_type": "stream",
     "text": [
      "                                                             \r"
     ]
    },
    {
     "name": "stdout",
     "output_type": "stream",
     "text": [
      "Val Loss:   0.0886, Val Accuracy:   96.74%, Val IoU:   0.8980, Val IoU Loss:   0.1020\n",
      "\n",
      "[Unet-AT] Epoch 32/100\n"
     ]
    },
    {
     "name": "stderr",
     "output_type": "stream",
     "text": [
      "                                                           \r"
     ]
    },
    {
     "name": "stdout",
     "output_type": "stream",
     "text": [
      "Train Loss: 0.0712, Train Accuracy: 97.49%, Train IoU: 0.8856, Train IoU Loss: 0.1144\n"
     ]
    },
    {
     "name": "stderr",
     "output_type": "stream",
     "text": [
      "                                                             \r"
     ]
    },
    {
     "name": "stdout",
     "output_type": "stream",
     "text": [
      "Val Loss:   0.0888, Val Accuracy:   96.82%, Val IoU:   0.8993, Val IoU Loss:   0.1007\n",
      "\n",
      "[Unet-AT] Epoch 33/100\n"
     ]
    },
    {
     "name": "stderr",
     "output_type": "stream",
     "text": [
      "                                                           \r"
     ]
    },
    {
     "name": "stdout",
     "output_type": "stream",
     "text": [
      "Train Loss: 0.0679, Train Accuracy: 97.62%, Train IoU: 0.8888, Train IoU Loss: 0.1112\n"
     ]
    },
    {
     "name": "stderr",
     "output_type": "stream",
     "text": [
      "                                                             \r"
     ]
    },
    {
     "name": "stdout",
     "output_type": "stream",
     "text": [
      "Val Loss:   0.0974, Val Accuracy:   96.57%, Val IoU:   0.8966, Val IoU Loss:   0.1034\n",
      "\n",
      "[Unet-AT] Epoch 34/100\n"
     ]
    },
    {
     "name": "stderr",
     "output_type": "stream",
     "text": [
      "                                                           \r"
     ]
    },
    {
     "name": "stdout",
     "output_type": "stream",
     "text": [
      "Train Loss: 0.0670, Train Accuracy: 97.65%, Train IoU: 0.8913, Train IoU Loss: 0.1087\n"
     ]
    },
    {
     "name": "stderr",
     "output_type": "stream",
     "text": [
      "                                                             \r"
     ]
    },
    {
     "name": "stdout",
     "output_type": "stream",
     "text": [
      "Val Loss:   0.0892, Val Accuracy:   96.69%, Val IoU:   0.8883, Val IoU Loss:   0.1117\n",
      "\n",
      "[Unet-AT] Epoch 35/100\n"
     ]
    },
    {
     "name": "stderr",
     "output_type": "stream",
     "text": [
      "                                                           \r"
     ]
    },
    {
     "name": "stdout",
     "output_type": "stream",
     "text": [
      "Train Loss: 0.0637, Train Accuracy: 97.80%, Train IoU: 0.8943, Train IoU Loss: 0.1057\n"
     ]
    },
    {
     "name": "stderr",
     "output_type": "stream",
     "text": [
      "                                                             \r"
     ]
    },
    {
     "name": "stdout",
     "output_type": "stream",
     "text": [
      "Val Loss:   0.0787, Val Accuracy:   97.06%, Val IoU:   0.9047, Val IoU Loss:   0.0953\n",
      "\n",
      "[Unet-AT] Epoch 36/100\n"
     ]
    },
    {
     "name": "stderr",
     "output_type": "stream",
     "text": [
      "                                                           \r"
     ]
    },
    {
     "name": "stdout",
     "output_type": "stream",
     "text": [
      "Train Loss: 0.0649, Train Accuracy: 97.74%, Train IoU: 0.8929, Train IoU Loss: 0.1071\n"
     ]
    },
    {
     "name": "stderr",
     "output_type": "stream",
     "text": [
      "                                                             \r"
     ]
    },
    {
     "name": "stdout",
     "output_type": "stream",
     "text": [
      "Val Loss:   0.1162, Val Accuracy:   95.68%, Val IoU:   0.8809, Val IoU Loss:   0.1191\n",
      "\n",
      "[Unet-AT] Epoch 37/100\n"
     ]
    },
    {
     "name": "stderr",
     "output_type": "stream",
     "text": [
      "                                                           \r"
     ]
    },
    {
     "name": "stdout",
     "output_type": "stream",
     "text": [
      "Train Loss: 0.0645, Train Accuracy: 97.77%, Train IoU: 0.8942, Train IoU Loss: 0.1058\n"
     ]
    },
    {
     "name": "stderr",
     "output_type": "stream",
     "text": [
      "                                                             \r"
     ]
    },
    {
     "name": "stdout",
     "output_type": "stream",
     "text": [
      "Val Loss:   0.0794, Val Accuracy:   97.14%, Val IoU:   0.9050, Val IoU Loss:   0.0950\n",
      "  [!] Early stopping for Unet-AT\n",
      "  Metrics saved to Unet-AT/Training_Metrics.xlsx\n",
      "Done training Unet-AT.\n",
      "\n",
      "\n",
      "[Unet-SE] Epoch 1/100\n"
     ]
    },
    {
     "name": "stderr",
     "output_type": "stream",
     "text": [
      "                                                           \r"
     ]
    },
    {
     "name": "stdout",
     "output_type": "stream",
     "text": [
      "Train Loss: 0.3683, Train Accuracy: 85.16%, Train IoU: 0.5088, Train IoU Loss: 0.4912\n"
     ]
    },
    {
     "name": "stderr",
     "output_type": "stream",
     "text": [
      "                                                             \r"
     ]
    },
    {
     "name": "stdout",
     "output_type": "stream",
     "text": [
      "Val Loss:   0.2841, Val Accuracy:   89.25%, Val IoU:   0.7056, Val IoU Loss:   0.2944\n",
      "  [*] Best model saved at Unet-SE/unet_best_model.pth\n",
      "\n",
      "[Unet-SE] Epoch 2/100\n"
     ]
    },
    {
     "name": "stderr",
     "output_type": "stream",
     "text": [
      "                                                           \r"
     ]
    },
    {
     "name": "stdout",
     "output_type": "stream",
     "text": [
      "Train Loss: 0.2203, Train Accuracy: 91.20%, Train IoU: 0.6721, Train IoU Loss: 0.3279\n"
     ]
    },
    {
     "name": "stderr",
     "output_type": "stream",
     "text": [
      "                                                             \r"
     ]
    },
    {
     "name": "stdout",
     "output_type": "stream",
     "text": [
      "Val Loss:   0.2380, Val Accuracy:   90.30%, Val IoU:   0.7278, Val IoU Loss:   0.2722\n",
      "  [*] Best model saved at Unet-SE/unet_best_model.pth\n",
      "\n",
      "[Unet-SE] Epoch 3/100\n"
     ]
    },
    {
     "name": "stderr",
     "output_type": "stream",
     "text": [
      "                                                           \r"
     ]
    },
    {
     "name": "stdout",
     "output_type": "stream",
     "text": [
      "Train Loss: 0.2185, Train Accuracy: 91.68%, Train IoU: 0.6873, Train IoU Loss: 0.3127\n"
     ]
    },
    {
     "name": "stderr",
     "output_type": "stream",
     "text": [
      "                                                             \r"
     ]
    },
    {
     "name": "stdout",
     "output_type": "stream",
     "text": [
      "Val Loss:   0.2860, Val Accuracy:   87.56%, Val IoU:   0.6226, Val IoU Loss:   0.3774\n",
      "\n",
      "[Unet-SE] Epoch 4/100\n"
     ]
    },
    {
     "name": "stderr",
     "output_type": "stream",
     "text": [
      "                                                           \r"
     ]
    },
    {
     "name": "stdout",
     "output_type": "stream",
     "text": [
      "Train Loss: 0.1748, Train Accuracy: 93.27%, Train IoU: 0.7187, Train IoU Loss: 0.2813\n"
     ]
    },
    {
     "name": "stderr",
     "output_type": "stream",
     "text": [
      "                                                             \r"
     ]
    },
    {
     "name": "stdout",
     "output_type": "stream",
     "text": [
      "Val Loss:   0.1983, Val Accuracy:   91.91%, Val IoU:   0.7587, Val IoU Loss:   0.2413\n",
      "  [*] Best model saved at Unet-SE/unet_best_model.pth\n",
      "\n",
      "[Unet-SE] Epoch 5/100\n"
     ]
    },
    {
     "name": "stderr",
     "output_type": "stream",
     "text": [
      "                                                           \r"
     ]
    },
    {
     "name": "stdout",
     "output_type": "stream",
     "text": [
      "Train Loss: 0.1462, Train Accuracy: 94.52%, Train IoU: 0.7622, Train IoU Loss: 0.2378\n"
     ]
    },
    {
     "name": "stderr",
     "output_type": "stream",
     "text": [
      "                                                             \r"
     ]
    },
    {
     "name": "stdout",
     "output_type": "stream",
     "text": [
      "Val Loss:   0.1908, Val Accuracy:   92.40%, Val IoU:   0.7670, Val IoU Loss:   0.2330\n",
      "  [*] Best model saved at Unet-SE/unet_best_model.pth\n",
      "\n",
      "[Unet-SE] Epoch 6/100\n"
     ]
    },
    {
     "name": "stderr",
     "output_type": "stream",
     "text": [
      "                                                           \r"
     ]
    },
    {
     "name": "stdout",
     "output_type": "stream",
     "text": [
      "Train Loss: 0.1325, Train Accuracy: 95.08%, Train IoU: 0.7821, Train IoU Loss: 0.2179\n"
     ]
    },
    {
     "name": "stderr",
     "output_type": "stream",
     "text": [
      "                                                             \r"
     ]
    },
    {
     "name": "stdout",
     "output_type": "stream",
     "text": [
      "Val Loss:   0.1845, Val Accuracy:   92.67%, Val IoU:   0.7738, Val IoU Loss:   0.2262\n",
      "  [*] Best model saved at Unet-SE/unet_best_model.pth\n",
      "\n",
      "[Unet-SE] Epoch 7/100\n"
     ]
    },
    {
     "name": "stderr",
     "output_type": "stream",
     "text": [
      "                                                           \r"
     ]
    },
    {
     "name": "stdout",
     "output_type": "stream",
     "text": [
      "Train Loss: 0.1291, Train Accuracy: 95.20%, Train IoU: 0.7880, Train IoU Loss: 0.2120\n"
     ]
    },
    {
     "name": "stderr",
     "output_type": "stream",
     "text": [
      "                                                             \r"
     ]
    },
    {
     "name": "stdout",
     "output_type": "stream",
     "text": [
      "Val Loss:   0.2055, Val Accuracy:   90.98%, Val IoU:   0.7182, Val IoU Loss:   0.2818\n",
      "\n",
      "[Unet-SE] Epoch 8/100\n"
     ]
    },
    {
     "name": "stderr",
     "output_type": "stream",
     "text": [
      "                                                           \r"
     ]
    },
    {
     "name": "stdout",
     "output_type": "stream",
     "text": [
      "Train Loss: 0.1231, Train Accuracy: 95.47%, Train IoU: 0.7974, Train IoU Loss: 0.2026\n"
     ]
    },
    {
     "name": "stderr",
     "output_type": "stream",
     "text": [
      "                                                             \r"
     ]
    },
    {
     "name": "stdout",
     "output_type": "stream",
     "text": [
      "Val Loss:   0.1873, Val Accuracy:   92.42%, Val IoU:   0.7582, Val IoU Loss:   0.2418\n",
      "\n",
      "[Unet-SE] Epoch 9/100\n"
     ]
    },
    {
     "name": "stderr",
     "output_type": "stream",
     "text": [
      "                                                           \r"
     ]
    },
    {
     "name": "stdout",
     "output_type": "stream",
     "text": [
      "Train Loss: 0.1208, Train Accuracy: 95.54%, Train IoU: 0.7983, Train IoU Loss: 0.2017\n"
     ]
    },
    {
     "name": "stderr",
     "output_type": "stream",
     "text": [
      "                                                             \r"
     ]
    },
    {
     "name": "stdout",
     "output_type": "stream",
     "text": [
      "Val Loss:   0.1629, Val Accuracy:   93.53%, Val IoU:   0.8069, Val IoU Loss:   0.1931\n",
      "  [*] Best model saved at Unet-SE/unet_best_model.pth\n",
      "\n",
      "[Unet-SE] Epoch 10/100\n"
     ]
    },
    {
     "name": "stderr",
     "output_type": "stream",
     "text": [
      "                                                           \r"
     ]
    },
    {
     "name": "stdout",
     "output_type": "stream",
     "text": [
      "Train Loss: 0.1176, Train Accuracy: 95.68%, Train IoU: 0.8058, Train IoU Loss: 0.1942\n"
     ]
    },
    {
     "name": "stderr",
     "output_type": "stream",
     "text": [
      "                                                             \r"
     ]
    },
    {
     "name": "stdout",
     "output_type": "stream",
     "text": [
      "Val Loss:   0.1626, Val Accuracy:   93.42%, Val IoU:   0.7857, Val IoU Loss:   0.2143\n",
      "  [*] Best model saved at Unet-SE/unet_best_model.pth\n",
      "\n",
      "[Unet-SE] Epoch 11/100\n"
     ]
    },
    {
     "name": "stderr",
     "output_type": "stream",
     "text": [
      "                                                           \r"
     ]
    },
    {
     "name": "stdout",
     "output_type": "stream",
     "text": [
      "Train Loss: 0.1155, Train Accuracy: 95.77%, Train IoU: 0.8089, Train IoU Loss: 0.1911\n"
     ]
    },
    {
     "name": "stderr",
     "output_type": "stream",
     "text": [
      "                                                             \r"
     ]
    },
    {
     "name": "stdout",
     "output_type": "stream",
     "text": [
      "Val Loss:   0.1939, Val Accuracy:   91.74%, Val IoU:   0.7363, Val IoU Loss:   0.2637\n",
      "\n",
      "[Unet-SE] Epoch 12/100\n"
     ]
    },
    {
     "name": "stderr",
     "output_type": "stream",
     "text": [
      "                                                           \r"
     ]
    },
    {
     "name": "stdout",
     "output_type": "stream",
     "text": [
      "Train Loss: 0.1158, Train Accuracy: 95.74%, Train IoU: 0.8075, Train IoU Loss: 0.1925\n"
     ]
    },
    {
     "name": "stderr",
     "output_type": "stream",
     "text": [
      "                                                             \r"
     ]
    },
    {
     "name": "stdout",
     "output_type": "stream",
     "text": [
      "Val Loss:   0.1503, Val Accuracy:   94.13%, Val IoU:   0.8149, Val IoU Loss:   0.1851\n",
      "  [*] Best model saved at Unet-SE/unet_best_model.pth\n",
      "\n",
      "[Unet-SE] Epoch 13/100\n"
     ]
    },
    {
     "name": "stderr",
     "output_type": "stream",
     "text": [
      "                                                           \r"
     ]
    },
    {
     "name": "stdout",
     "output_type": "stream",
     "text": [
      "Train Loss: 0.1104, Train Accuracy: 95.96%, Train IoU: 0.8157, Train IoU Loss: 0.1843\n"
     ]
    },
    {
     "name": "stderr",
     "output_type": "stream",
     "text": [
      "                                                             \r"
     ]
    },
    {
     "name": "stdout",
     "output_type": "stream",
     "text": [
      "Val Loss:   0.1663, Val Accuracy:   93.40%, Val IoU:   0.7938, Val IoU Loss:   0.2062\n",
      "\n",
      "[Unet-SE] Epoch 14/100\n"
     ]
    },
    {
     "name": "stderr",
     "output_type": "stream",
     "text": [
      "                                                           \r"
     ]
    },
    {
     "name": "stdout",
     "output_type": "stream",
     "text": [
      "Train Loss: 0.1095, Train Accuracy: 96.01%, Train IoU: 0.8169, Train IoU Loss: 0.1831\n"
     ]
    },
    {
     "name": "stderr",
     "output_type": "stream",
     "text": [
      "                                                             \r"
     ]
    },
    {
     "name": "stdout",
     "output_type": "stream",
     "text": [
      "Val Loss:   0.1472, Val Accuracy:   94.30%, Val IoU:   0.8237, Val IoU Loss:   0.1763\n",
      "  [*] Best model saved at Unet-SE/unet_best_model.pth\n",
      "\n",
      "[Unet-SE] Epoch 15/100\n"
     ]
    },
    {
     "name": "stderr",
     "output_type": "stream",
     "text": [
      "                                                           \r"
     ]
    },
    {
     "name": "stdout",
     "output_type": "stream",
     "text": [
      "Train Loss: 0.1077, Train Accuracy: 96.07%, Train IoU: 0.8195, Train IoU Loss: 0.1805\n"
     ]
    },
    {
     "name": "stderr",
     "output_type": "stream",
     "text": [
      "                                                             \r"
     ]
    },
    {
     "name": "stdout",
     "output_type": "stream",
     "text": [
      "Val Loss:   0.1545, Val Accuracy:   94.05%, Val IoU:   0.8068, Val IoU Loss:   0.1932\n",
      "\n",
      "[Unet-SE] Epoch 16/100\n"
     ]
    },
    {
     "name": "stderr",
     "output_type": "stream",
     "text": [
      "                                                           \r"
     ]
    },
    {
     "name": "stdout",
     "output_type": "stream",
     "text": [
      "Train Loss: 0.1081, Train Accuracy: 96.06%, Train IoU: 0.8194, Train IoU Loss: 0.1806\n"
     ]
    },
    {
     "name": "stderr",
     "output_type": "stream",
     "text": [
      "                                                             \r"
     ]
    },
    {
     "name": "stdout",
     "output_type": "stream",
     "text": [
      "Val Loss:   0.1517, Val Accuracy:   94.06%, Val IoU:   0.8134, Val IoU Loss:   0.1866\n",
      "\n",
      "[Unet-SE] Epoch 17/100\n"
     ]
    },
    {
     "name": "stderr",
     "output_type": "stream",
     "text": [
      "                                                           \r"
     ]
    },
    {
     "name": "stdout",
     "output_type": "stream",
     "text": [
      "Train Loss: 0.1079, Train Accuracy: 96.07%, Train IoU: 0.8186, Train IoU Loss: 0.1814\n"
     ]
    },
    {
     "name": "stderr",
     "output_type": "stream",
     "text": [
      "                                                             \r"
     ]
    },
    {
     "name": "stdout",
     "output_type": "stream",
     "text": [
      "Val Loss:   0.1608, Val Accuracy:   93.57%, Val IoU:   0.7964, Val IoU Loss:   0.2036\n",
      "\n",
      "[Unet-SE] Epoch 18/100\n"
     ]
    },
    {
     "name": "stderr",
     "output_type": "stream",
     "text": [
      "                                                           \r"
     ]
    },
    {
     "name": "stdout",
     "output_type": "stream",
     "text": [
      "Train Loss: 0.1074, Train Accuracy: 96.09%, Train IoU: 0.8229, Train IoU Loss: 0.1771\n"
     ]
    },
    {
     "name": "stderr",
     "output_type": "stream",
     "text": [
      "                                                             \r"
     ]
    },
    {
     "name": "stdout",
     "output_type": "stream",
     "text": [
      "Val Loss:   0.1851, Val Accuracy:   92.49%, Val IoU:   0.7547, Val IoU Loss:   0.2453\n",
      "\n",
      "[Unet-SE] Epoch 19/100\n"
     ]
    },
    {
     "name": "stderr",
     "output_type": "stream",
     "text": [
      "                                                           \r"
     ]
    },
    {
     "name": "stdout",
     "output_type": "stream",
     "text": [
      "Train Loss: 0.1039, Train Accuracy: 96.22%, Train IoU: 0.8222, Train IoU Loss: 0.1778\n"
     ]
    },
    {
     "name": "stderr",
     "output_type": "stream",
     "text": [
      "                                                             \r"
     ]
    },
    {
     "name": "stdout",
     "output_type": "stream",
     "text": [
      "Val Loss:   0.1350, Val Accuracy:   94.89%, Val IoU:   0.8379, Val IoU Loss:   0.1621\n",
      "  [*] Best model saved at Unet-SE/unet_best_model.pth\n",
      "\n",
      "[Unet-SE] Epoch 20/100\n"
     ]
    },
    {
     "name": "stderr",
     "output_type": "stream",
     "text": [
      "                                                           \r"
     ]
    },
    {
     "name": "stdout",
     "output_type": "stream",
     "text": [
      "Train Loss: 0.1033, Train Accuracy: 96.26%, Train IoU: 0.8230, Train IoU Loss: 0.1770\n"
     ]
    },
    {
     "name": "stderr",
     "output_type": "stream",
     "text": [
      "                                                             \r"
     ]
    },
    {
     "name": "stdout",
     "output_type": "stream",
     "text": [
      "Val Loss:   0.1711, Val Accuracy:   93.05%, Val IoU:   0.7958, Val IoU Loss:   0.2042\n",
      "\n",
      "[Unet-SE] Epoch 21/100\n"
     ]
    },
    {
     "name": "stderr",
     "output_type": "stream",
     "text": [
      "                                                           \r"
     ]
    },
    {
     "name": "stdout",
     "output_type": "stream",
     "text": [
      "Train Loss: 0.1041, Train Accuracy: 96.23%, Train IoU: 0.8266, Train IoU Loss: 0.1734\n"
     ]
    },
    {
     "name": "stderr",
     "output_type": "stream",
     "text": [
      "                                                             \r"
     ]
    },
    {
     "name": "stdout",
     "output_type": "stream",
     "text": [
      "Val Loss:   0.1462, Val Accuracy:   94.39%, Val IoU:   0.8283, Val IoU Loss:   0.1717\n",
      "\n",
      "[Unet-SE] Epoch 22/100\n"
     ]
    },
    {
     "name": "stderr",
     "output_type": "stream",
     "text": [
      "                                                           \r"
     ]
    },
    {
     "name": "stdout",
     "output_type": "stream",
     "text": [
      "Train Loss: 0.1004, Train Accuracy: 96.37%, Train IoU: 0.8297, Train IoU Loss: 0.1703\n"
     ]
    },
    {
     "name": "stderr",
     "output_type": "stream",
     "text": [
      "                                                             \r"
     ]
    },
    {
     "name": "stdout",
     "output_type": "stream",
     "text": [
      "Val Loss:   0.1366, Val Accuracy:   94.83%, Val IoU:   0.8385, Val IoU Loss:   0.1615\n",
      "\n",
      "[Unet-SE] Epoch 23/100\n"
     ]
    },
    {
     "name": "stderr",
     "output_type": "stream",
     "text": [
      "                                                           \r"
     ]
    },
    {
     "name": "stdout",
     "output_type": "stream",
     "text": [
      "Train Loss: 0.1002, Train Accuracy: 96.38%, Train IoU: 0.8307, Train IoU Loss: 0.1693\n"
     ]
    },
    {
     "name": "stderr",
     "output_type": "stream",
     "text": [
      "                                                             \r"
     ]
    },
    {
     "name": "stdout",
     "output_type": "stream",
     "text": [
      "Val Loss:   0.1450, Val Accuracy:   94.24%, Val IoU:   0.8112, Val IoU Loss:   0.1888\n",
      "\n",
      "[Unet-SE] Epoch 24/100\n"
     ]
    },
    {
     "name": "stderr",
     "output_type": "stream",
     "text": [
      "                                                           \r"
     ]
    },
    {
     "name": "stdout",
     "output_type": "stream",
     "text": [
      "Train Loss: 0.0994, Train Accuracy: 96.41%, Train IoU: 0.8292, Train IoU Loss: 0.1708\n"
     ]
    },
    {
     "name": "stderr",
     "output_type": "stream",
     "text": [
      "                                                             \r"
     ]
    },
    {
     "name": "stdout",
     "output_type": "stream",
     "text": [
      "Val Loss:   0.1405, Val Accuracy:   94.69%, Val IoU:   0.8313, Val IoU Loss:   0.1687\n",
      "\n",
      "[Unet-SE] Epoch 25/100\n"
     ]
    },
    {
     "name": "stderr",
     "output_type": "stream",
     "text": [
      "                                                           \r"
     ]
    },
    {
     "name": "stdout",
     "output_type": "stream",
     "text": [
      "Train Loss: 0.0958, Train Accuracy: 96.58%, Train IoU: 0.8356, Train IoU Loss: 0.1644\n"
     ]
    },
    {
     "name": "stderr",
     "output_type": "stream",
     "text": [
      "                                                             \r"
     ]
    },
    {
     "name": "stdout",
     "output_type": "stream",
     "text": [
      "Val Loss:   0.1322, Val Accuracy:   94.98%, Val IoU:   0.8410, Val IoU Loss:   0.1590\n",
      "  [*] Best model saved at Unet-SE/unet_best_model.pth\n",
      "\n",
      "[Unet-SE] Epoch 26/100\n"
     ]
    },
    {
     "name": "stderr",
     "output_type": "stream",
     "text": [
      "                                                           \r"
     ]
    },
    {
     "name": "stdout",
     "output_type": "stream",
     "text": [
      "Train Loss: 0.0958, Train Accuracy: 96.57%, Train IoU: 0.8358, Train IoU Loss: 0.1642\n"
     ]
    },
    {
     "name": "stderr",
     "output_type": "stream",
     "text": [
      "                                                             \r"
     ]
    },
    {
     "name": "stdout",
     "output_type": "stream",
     "text": [
      "Val Loss:   0.1426, Val Accuracy:   94.36%, Val IoU:   0.8273, Val IoU Loss:   0.1727\n",
      "\n",
      "[Unet-SE] Epoch 27/100\n"
     ]
    },
    {
     "name": "stderr",
     "output_type": "stream",
     "text": [
      "                                                           \r"
     ]
    },
    {
     "name": "stdout",
     "output_type": "stream",
     "text": [
      "Train Loss: 0.0952, Train Accuracy: 96.60%, Train IoU: 0.8356, Train IoU Loss: 0.1644\n"
     ]
    },
    {
     "name": "stderr",
     "output_type": "stream",
     "text": [
      "                                                             \r"
     ]
    },
    {
     "name": "stdout",
     "output_type": "stream",
     "text": [
      "Val Loss:   0.1445, Val Accuracy:   94.30%, Val IoU:   0.8114, Val IoU Loss:   0.1886\n",
      "\n",
      "[Unet-SE] Epoch 28/100\n"
     ]
    },
    {
     "name": "stderr",
     "output_type": "stream",
     "text": [
      "                                                           \r"
     ]
    },
    {
     "name": "stdout",
     "output_type": "stream",
     "text": [
      "Train Loss: 0.0949, Train Accuracy: 96.61%, Train IoU: 0.8353, Train IoU Loss: 0.1647\n"
     ]
    },
    {
     "name": "stderr",
     "output_type": "stream",
     "text": [
      "                                                             \r"
     ]
    },
    {
     "name": "stdout",
     "output_type": "stream",
     "text": [
      "Val Loss:   0.1285, Val Accuracy:   95.08%, Val IoU:   0.8437, Val IoU Loss:   0.1563\n",
      "  [*] Best model saved at Unet-SE/unet_best_model.pth\n",
      "\n",
      "[Unet-SE] Epoch 29/100\n"
     ]
    },
    {
     "name": "stderr",
     "output_type": "stream",
     "text": [
      "                                                           \r"
     ]
    },
    {
     "name": "stdout",
     "output_type": "stream",
     "text": [
      "Train Loss: 0.0947, Train Accuracy: 96.62%, Train IoU: 0.8360, Train IoU Loss: 0.1640\n"
     ]
    },
    {
     "name": "stderr",
     "output_type": "stream",
     "text": [
      "                                                             \r"
     ]
    },
    {
     "name": "stdout",
     "output_type": "stream",
     "text": [
      "Val Loss:   0.1427, Val Accuracy:   94.49%, Val IoU:   0.8227, Val IoU Loss:   0.1773\n",
      "\n",
      "[Unet-SE] Epoch 30/100\n"
     ]
    },
    {
     "name": "stderr",
     "output_type": "stream",
     "text": [
      "                                                           \r"
     ]
    },
    {
     "name": "stdout",
     "output_type": "stream",
     "text": [
      "Train Loss: 0.0957, Train Accuracy: 96.56%, Train IoU: 0.8340, Train IoU Loss: 0.1660\n"
     ]
    },
    {
     "name": "stderr",
     "output_type": "stream",
     "text": [
      "                                                             \r"
     ]
    },
    {
     "name": "stdout",
     "output_type": "stream",
     "text": [
      "Val Loss:   0.1341, Val Accuracy:   94.90%, Val IoU:   0.8348, Val IoU Loss:   0.1652\n",
      "\n",
      "[Unet-SE] Epoch 31/100\n"
     ]
    },
    {
     "name": "stderr",
     "output_type": "stream",
     "text": [
      "                                                           \r"
     ]
    },
    {
     "name": "stdout",
     "output_type": "stream",
     "text": [
      "Train Loss: 0.0946, Train Accuracy: 96.61%, Train IoU: 0.8355, Train IoU Loss: 0.1645\n"
     ]
    },
    {
     "name": "stderr",
     "output_type": "stream",
     "text": [
      "                                                             \r"
     ]
    },
    {
     "name": "stdout",
     "output_type": "stream",
     "text": [
      "Val Loss:   0.1419, Val Accuracy:   94.27%, Val IoU:   0.8262, Val IoU Loss:   0.1738\n",
      "\n",
      "[Unet-SE] Epoch 32/100\n"
     ]
    },
    {
     "name": "stderr",
     "output_type": "stream",
     "text": [
      "                                                           \r"
     ]
    },
    {
     "name": "stdout",
     "output_type": "stream",
     "text": [
      "Train Loss: 0.0944, Train Accuracy: 96.63%, Train IoU: 0.8380, Train IoU Loss: 0.1620\n"
     ]
    },
    {
     "name": "stderr",
     "output_type": "stream",
     "text": [
      "                                                             \r"
     ]
    },
    {
     "name": "stdout",
     "output_type": "stream",
     "text": [
      "Val Loss:   0.1226, Val Accuracy:   95.40%, Val IoU:   0.8498, Val IoU Loss:   0.1502\n",
      "  [*] Best model saved at Unet-SE/unet_best_model.pth\n",
      "\n",
      "[Unet-SE] Epoch 33/100\n"
     ]
    },
    {
     "name": "stderr",
     "output_type": "stream",
     "text": [
      "                                                           \r"
     ]
    },
    {
     "name": "stdout",
     "output_type": "stream",
     "text": [
      "Train Loss: 0.0915, Train Accuracy: 96.76%, Train IoU: 0.8408, Train IoU Loss: 0.1592\n"
     ]
    },
    {
     "name": "stderr",
     "output_type": "stream",
     "text": [
      "                                                             \r"
     ]
    },
    {
     "name": "stdout",
     "output_type": "stream",
     "text": [
      "Val Loss:   0.1224, Val Accuracy:   95.42%, Val IoU:   0.8516, Val IoU Loss:   0.1484\n",
      "  [*] Best model saved at Unet-SE/unet_best_model.pth\n",
      "\n",
      "[Unet-SE] Epoch 34/100\n"
     ]
    },
    {
     "name": "stderr",
     "output_type": "stream",
     "text": [
      "                                                           \r"
     ]
    },
    {
     "name": "stdout",
     "output_type": "stream",
     "text": [
      "Train Loss: 0.0946, Train Accuracy: 96.63%, Train IoU: 0.8373, Train IoU Loss: 0.1627\n"
     ]
    },
    {
     "name": "stderr",
     "output_type": "stream",
     "text": [
      "                                                             \r"
     ]
    },
    {
     "name": "stdout",
     "output_type": "stream",
     "text": [
      "Val Loss:   0.1266, Val Accuracy:   95.14%, Val IoU:   0.8482, Val IoU Loss:   0.1518\n",
      "\n",
      "[Unet-SE] Epoch 35/100\n"
     ]
    },
    {
     "name": "stderr",
     "output_type": "stream",
     "text": [
      "                                                           \r"
     ]
    },
    {
     "name": "stdout",
     "output_type": "stream",
     "text": [
      "Train Loss: 0.0901, Train Accuracy: 96.80%, Train IoU: 0.8415, Train IoU Loss: 0.1585\n"
     ]
    },
    {
     "name": "stderr",
     "output_type": "stream",
     "text": [
      "                                                             \r"
     ]
    },
    {
     "name": "stdout",
     "output_type": "stream",
     "text": [
      "Val Loss:   0.1312, Val Accuracy:   94.95%, Val IoU:   0.8380, Val IoU Loss:   0.1620\n",
      "\n",
      "[Unet-SE] Epoch 36/100\n"
     ]
    },
    {
     "name": "stderr",
     "output_type": "stream",
     "text": [
      "                                                           \r"
     ]
    },
    {
     "name": "stdout",
     "output_type": "stream",
     "text": [
      "Train Loss: 0.0902, Train Accuracy: 96.82%, Train IoU: 0.8430, Train IoU Loss: 0.1570\n"
     ]
    },
    {
     "name": "stderr",
     "output_type": "stream",
     "text": [
      "                                                             \r"
     ]
    },
    {
     "name": "stdout",
     "output_type": "stream",
     "text": [
      "Val Loss:   0.1272, Val Accuracy:   95.06%, Val IoU:   0.8474, Val IoU Loss:   0.1526\n",
      "\n",
      "[Unet-SE] Epoch 37/100\n"
     ]
    },
    {
     "name": "stderr",
     "output_type": "stream",
     "text": [
      "                                                           \r"
     ]
    },
    {
     "name": "stdout",
     "output_type": "stream",
     "text": [
      "Train Loss: 0.0901, Train Accuracy: 96.81%, Train IoU: 0.8420, Train IoU Loss: 0.1580\n"
     ]
    },
    {
     "name": "stderr",
     "output_type": "stream",
     "text": [
      "                                                             \r"
     ]
    },
    {
     "name": "stdout",
     "output_type": "stream",
     "text": [
      "Val Loss:   0.1263, Val Accuracy:   95.19%, Val IoU:   0.8426, Val IoU Loss:   0.1574\n",
      "\n",
      "[Unet-SE] Epoch 38/100\n"
     ]
    },
    {
     "name": "stderr",
     "output_type": "stream",
     "text": [
      "                                                           \r"
     ]
    },
    {
     "name": "stdout",
     "output_type": "stream",
     "text": [
      "Train Loss: 0.0889, Train Accuracy: 96.85%, Train IoU: 0.8443, Train IoU Loss: 0.1557\n"
     ]
    },
    {
     "name": "stderr",
     "output_type": "stream",
     "text": [
      "                                                             \r"
     ]
    },
    {
     "name": "stdout",
     "output_type": "stream",
     "text": [
      "Val Loss:   0.1338, Val Accuracy:   94.89%, Val IoU:   0.8392, Val IoU Loss:   0.1608\n",
      "\n",
      "[Unet-SE] Epoch 39/100\n"
     ]
    },
    {
     "name": "stderr",
     "output_type": "stream",
     "text": [
      "                                                           \r"
     ]
    },
    {
     "name": "stdout",
     "output_type": "stream",
     "text": [
      "Train Loss: 0.0880, Train Accuracy: 96.90%, Train IoU: 0.8444, Train IoU Loss: 0.1556\n"
     ]
    },
    {
     "name": "stderr",
     "output_type": "stream",
     "text": [
      "                                                             \r"
     ]
    },
    {
     "name": "stdout",
     "output_type": "stream",
     "text": [
      "Val Loss:   0.1237, Val Accuracy:   95.32%, Val IoU:   0.8466, Val IoU Loss:   0.1534\n",
      "\n",
      "[Unet-SE] Epoch 40/100\n"
     ]
    },
    {
     "name": "stderr",
     "output_type": "stream",
     "text": [
      "                                                           \r"
     ]
    },
    {
     "name": "stdout",
     "output_type": "stream",
     "text": [
      "Train Loss: 0.0872, Train Accuracy: 96.92%, Train IoU: 0.8453, Train IoU Loss: 0.1547\n"
     ]
    },
    {
     "name": "stderr",
     "output_type": "stream",
     "text": [
      "                                                             \r"
     ]
    },
    {
     "name": "stdout",
     "output_type": "stream",
     "text": [
      "Val Loss:   0.1257, Val Accuracy:   95.23%, Val IoU:   0.8465, Val IoU Loss:   0.1535\n",
      "\n",
      "[Unet-SE] Epoch 41/100\n"
     ]
    },
    {
     "name": "stderr",
     "output_type": "stream",
     "text": [
      "                                                           \r"
     ]
    },
    {
     "name": "stdout",
     "output_type": "stream",
     "text": [
      "Train Loss: 0.0895, Train Accuracy: 96.84%, Train IoU: 0.8433, Train IoU Loss: 0.1567\n"
     ]
    },
    {
     "name": "stderr",
     "output_type": "stream",
     "text": [
      "                                                             \r"
     ]
    },
    {
     "name": "stdout",
     "output_type": "stream",
     "text": [
      "Val Loss:   0.1617, Val Accuracy:   93.90%, Val IoU:   0.8161, Val IoU Loss:   0.1839\n",
      "\n",
      "[Unet-SE] Epoch 42/100\n"
     ]
    },
    {
     "name": "stderr",
     "output_type": "stream",
     "text": [
      "                                                           \r"
     ]
    },
    {
     "name": "stdout",
     "output_type": "stream",
     "text": [
      "Train Loss: 0.0882, Train Accuracy: 96.89%, Train IoU: 0.8456, Train IoU Loss: 0.1544\n"
     ]
    },
    {
     "name": "stderr",
     "output_type": "stream",
     "text": [
      "                                                             \r"
     ]
    },
    {
     "name": "stdout",
     "output_type": "stream",
     "text": [
      "Val Loss:   0.1265, Val Accuracy:   95.44%, Val IoU:   0.8500, Val IoU Loss:   0.1500\n",
      "\n",
      "[Unet-SE] Epoch 43/100\n"
     ]
    },
    {
     "name": "stderr",
     "output_type": "stream",
     "text": [
      "                                                           \r"
     ]
    },
    {
     "name": "stdout",
     "output_type": "stream",
     "text": [
      "Train Loss: 0.0867, Train Accuracy: 96.96%, Train IoU: 0.8468, Train IoU Loss: 0.1532\n"
     ]
    },
    {
     "name": "stderr",
     "output_type": "stream",
     "text": [
      "                                                             \r"
     ]
    },
    {
     "name": "stdout",
     "output_type": "stream",
     "text": [
      "Val Loss:   0.1282, Val Accuracy:   95.21%, Val IoU:   0.8416, Val IoU Loss:   0.1584\n",
      "  [!] Early stopping for Unet-SE\n",
      "  Metrics saved to Unet-SE/Training_Metrics.xlsx\n",
      "Done training Unet-SE.\n",
      "\n",
      "\n",
      "[Unet-CBAM] Epoch 1/100\n"
     ]
    },
    {
     "name": "stderr",
     "output_type": "stream",
     "text": [
      "                                                           \r"
     ]
    },
    {
     "name": "stdout",
     "output_type": "stream",
     "text": [
      "Train Loss: 0.3218, Train Accuracy: 86.07%, Train IoU: 0.5912, Train IoU Loss: 0.4088\n"
     ]
    },
    {
     "name": "stderr",
     "output_type": "stream",
     "text": [
      "                                                             \r"
     ]
    },
    {
     "name": "stdout",
     "output_type": "stream",
     "text": [
      "Val Loss:   0.2407, Val Accuracy:   90.10%, Val IoU:   0.7371, Val IoU Loss:   0.2629\n",
      "  [*] Best model saved at Unet-CBAM/unet_best_model.pth\n",
      "\n",
      "[Unet-CBAM] Epoch 2/100\n"
     ]
    },
    {
     "name": "stderr",
     "output_type": "stream",
     "text": [
      "                                                           \r"
     ]
    },
    {
     "name": "stdout",
     "output_type": "stream",
     "text": [
      "Train Loss: 0.1896, Train Accuracy: 92.73%, Train IoU: 0.7304, Train IoU Loss: 0.2696\n"
     ]
    },
    {
     "name": "stderr",
     "output_type": "stream",
     "text": [
      "                                                             \r"
     ]
    },
    {
     "name": "stdout",
     "output_type": "stream",
     "text": [
      "Val Loss:   0.2086, Val Accuracy:   91.56%, Val IoU:   0.7578, Val IoU Loss:   0.2422\n",
      "  [*] Best model saved at Unet-CBAM/unet_best_model.pth\n",
      "\n",
      "[Unet-CBAM] Epoch 3/100\n"
     ]
    },
    {
     "name": "stderr",
     "output_type": "stream",
     "text": [
      "                                                           \r"
     ]
    },
    {
     "name": "stdout",
     "output_type": "stream",
     "text": [
      "Train Loss: 0.1523, Train Accuracy: 94.25%, Train IoU: 0.7651, Train IoU Loss: 0.2349\n"
     ]
    },
    {
     "name": "stderr",
     "output_type": "stream",
     "text": [
      "                                                             \r"
     ]
    },
    {
     "name": "stdout",
     "output_type": "stream",
     "text": [
      "Val Loss:   0.2230, Val Accuracy:   90.75%, Val IoU:   0.7163, Val IoU Loss:   0.2837\n",
      "\n",
      "[Unet-CBAM] Epoch 4/100\n"
     ]
    },
    {
     "name": "stderr",
     "output_type": "stream",
     "text": [
      "                                                           \r"
     ]
    },
    {
     "name": "stdout",
     "output_type": "stream",
     "text": [
      "Train Loss: 0.1466, Train Accuracy: 94.49%, Train IoU: 0.7714, Train IoU Loss: 0.2286\n"
     ]
    },
    {
     "name": "stderr",
     "output_type": "stream",
     "text": [
      "                                                             \r"
     ]
    },
    {
     "name": "stdout",
     "output_type": "stream",
     "text": [
      "Val Loss:   0.1766, Val Accuracy:   92.87%, Val IoU:   0.7852, Val IoU Loss:   0.2148\n",
      "  [*] Best model saved at Unet-CBAM/unet_best_model.pth\n",
      "\n",
      "[Unet-CBAM] Epoch 5/100\n"
     ]
    },
    {
     "name": "stderr",
     "output_type": "stream",
     "text": [
      "                                                           \r"
     ]
    },
    {
     "name": "stdout",
     "output_type": "stream",
     "text": [
      "Train Loss: 0.1304, Train Accuracy: 95.17%, Train IoU: 0.7851, Train IoU Loss: 0.2149\n"
     ]
    },
    {
     "name": "stderr",
     "output_type": "stream",
     "text": [
      "                                                             \r"
     ]
    },
    {
     "name": "stdout",
     "output_type": "stream",
     "text": [
      "Val Loss:   0.1742, Val Accuracy:   92.90%, Val IoU:   0.7949, Val IoU Loss:   0.2051\n",
      "  [*] Best model saved at Unet-CBAM/unet_best_model.pth\n",
      "\n",
      "[Unet-CBAM] Epoch 6/100\n"
     ]
    },
    {
     "name": "stderr",
     "output_type": "stream",
     "text": [
      "                                                           \r"
     ]
    },
    {
     "name": "stdout",
     "output_type": "stream",
     "text": [
      "Train Loss: 0.1263, Train Accuracy: 95.34%, Train IoU: 0.7932, Train IoU Loss: 0.2068\n"
     ]
    },
    {
     "name": "stderr",
     "output_type": "stream",
     "text": [
      "                                                             \r"
     ]
    },
    {
     "name": "stdout",
     "output_type": "stream",
     "text": [
      "Val Loss:   0.1627, Val Accuracy:   93.64%, Val IoU:   0.8051, Val IoU Loss:   0.1949\n",
      "  [*] Best model saved at Unet-CBAM/unet_best_model.pth\n",
      "\n",
      "[Unet-CBAM] Epoch 7/100\n"
     ]
    },
    {
     "name": "stderr",
     "output_type": "stream",
     "text": [
      "                                                           \r"
     ]
    },
    {
     "name": "stdout",
     "output_type": "stream",
     "text": [
      "Train Loss: 4.3863, Train Accuracy: 80.41%, Train IoU: 0.4849, Train IoU Loss: 0.5151\n"
     ]
    },
    {
     "name": "stderr",
     "output_type": "stream",
     "text": [
      "                                                             \r"
     ]
    },
    {
     "name": "stdout",
     "output_type": "stream",
     "text": [
      "Val Loss:   0.3515, Val Accuracy:   85.01%, Val IoU:   0.5897, Val IoU Loss:   0.4103\n",
      "\n",
      "[Unet-CBAM] Epoch 8/100\n"
     ]
    },
    {
     "name": "stderr",
     "output_type": "stream",
     "text": [
      "                                                           \r"
     ]
    },
    {
     "name": "stdout",
     "output_type": "stream",
     "text": [
      "Train Loss: 0.2846, Train Accuracy: 88.89%, Train IoU: 0.6030, Train IoU Loss: 0.3970\n"
     ]
    },
    {
     "name": "stderr",
     "output_type": "stream",
     "text": [
      "                                                             \r"
     ]
    },
    {
     "name": "stdout",
     "output_type": "stream",
     "text": [
      "Val Loss:   0.3477, Val Accuracy:   84.46%, Val IoU:   0.5690, Val IoU Loss:   0.4310\n",
      "\n",
      "[Unet-CBAM] Epoch 9/100\n"
     ]
    },
    {
     "name": "stderr",
     "output_type": "stream",
     "text": [
      "                                                           \r"
     ]
    },
    {
     "name": "stdout",
     "output_type": "stream",
     "text": [
      "Train Loss: 0.2543, Train Accuracy: 90.33%, Train IoU: 0.6654, Train IoU Loss: 0.3346\n"
     ]
    },
    {
     "name": "stderr",
     "output_type": "stream",
     "text": [
      "                                                             \r"
     ]
    },
    {
     "name": "stdout",
     "output_type": "stream",
     "text": [
      "Val Loss:   0.2995, Val Accuracy:   87.80%, Val IoU:   0.7001, Val IoU Loss:   0.2999\n",
      "\n",
      "[Unet-CBAM] Epoch 10/100\n"
     ]
    },
    {
     "name": "stderr",
     "output_type": "stream",
     "text": [
      "                                                           \r"
     ]
    },
    {
     "name": "stdout",
     "output_type": "stream",
     "text": [
      "Train Loss: 0.2369, Train Accuracy: 90.93%, Train IoU: 0.6851, Train IoU Loss: 0.3149\n"
     ]
    },
    {
     "name": "stderr",
     "output_type": "stream",
     "text": [
      "                                                             \r"
     ]
    },
    {
     "name": "stdout",
     "output_type": "stream",
     "text": [
      "Val Loss:   0.2820, Val Accuracy:   88.41%, Val IoU:   0.7063, Val IoU Loss:   0.2937\n",
      "\n",
      "[Unet-CBAM] Epoch 11/100\n"
     ]
    },
    {
     "name": "stderr",
     "output_type": "stream",
     "text": [
      "                                                           \r"
     ]
    },
    {
     "name": "stdout",
     "output_type": "stream",
     "text": [
      "Train Loss: 0.2258, Train Accuracy: 91.39%, Train IoU: 0.6989, Train IoU Loss: 0.3011\n"
     ]
    },
    {
     "name": "stderr",
     "output_type": "stream",
     "text": [
      "                                                             \r"
     ]
    },
    {
     "name": "stdout",
     "output_type": "stream",
     "text": [
      "Val Loss:   0.3096, Val Accuracy:   87.01%, Val IoU:   0.6401, Val IoU Loss:   0.3599\n",
      "\n",
      "[Unet-CBAM] Epoch 12/100\n"
     ]
    },
    {
     "name": "stderr",
     "output_type": "stream",
     "text": [
      "                                                           \r"
     ]
    },
    {
     "name": "stdout",
     "output_type": "stream",
     "text": [
      "Train Loss: 0.2171, Train Accuracy: 91.69%, Train IoU: 0.7055, Train IoU Loss: 0.2945\n"
     ]
    },
    {
     "name": "stderr",
     "output_type": "stream",
     "text": [
      "                                                             \r"
     ]
    },
    {
     "name": "stdout",
     "output_type": "stream",
     "text": [
      "Val Loss:   0.2788, Val Accuracy:   88.63%, Val IoU:   0.6893, Val IoU Loss:   0.3107\n",
      "\n",
      "[Unet-CBAM] Epoch 13/100\n"
     ]
    },
    {
     "name": "stderr",
     "output_type": "stream",
     "text": [
      "                                                           \r"
     ]
    },
    {
     "name": "stdout",
     "output_type": "stream",
     "text": [
      "Train Loss: 0.2006, Train Accuracy: 92.36%, Train IoU: 0.7181, Train IoU Loss: 0.2819\n"
     ]
    },
    {
     "name": "stderr",
     "output_type": "stream",
     "text": [
      "                                                             \r"
     ]
    },
    {
     "name": "stdout",
     "output_type": "stream",
     "text": [
      "Val Loss:   0.2543, Val Accuracy:   89.63%, Val IoU:   0.7071, Val IoU Loss:   0.2929\n",
      "\n",
      "[Unet-CBAM] Epoch 14/100\n"
     ]
    },
    {
     "name": "stderr",
     "output_type": "stream",
     "text": [
      "                                                           \r"
     ]
    },
    {
     "name": "stdout",
     "output_type": "stream",
     "text": [
      "Train Loss: 0.1880, Train Accuracy: 92.89%, Train IoU: 0.7268, Train IoU Loss: 0.2732\n"
     ]
    },
    {
     "name": "stderr",
     "output_type": "stream",
     "text": [
      "                                                             \r"
     ]
    },
    {
     "name": "stdout",
     "output_type": "stream",
     "text": [
      "Val Loss:   0.2652, Val Accuracy:   89.29%, Val IoU:   0.6877, Val IoU Loss:   0.3123\n",
      "\n",
      "[Unet-CBAM] Epoch 15/100\n"
     ]
    },
    {
     "name": "stderr",
     "output_type": "stream",
     "text": [
      "                                                           \r"
     ]
    },
    {
     "name": "stdout",
     "output_type": "stream",
     "text": [
      "Train Loss: 0.1781, Train Accuracy: 93.30%, Train IoU: 0.7348, Train IoU Loss: 0.2652\n"
     ]
    },
    {
     "name": "stderr",
     "output_type": "stream",
     "text": [
      "                                                             \r"
     ]
    },
    {
     "name": "stdout",
     "output_type": "stream",
     "text": [
      "Val Loss:   0.2220, Val Accuracy:   91.10%, Val IoU:   0.7448, Val IoU Loss:   0.2552\n",
      "\n",
      "[Unet-CBAM] Epoch 16/100\n"
     ]
    },
    {
     "name": "stderr",
     "output_type": "stream",
     "text": [
      "                                                           \r"
     ]
    },
    {
     "name": "stdout",
     "output_type": "stream",
     "text": [
      "Train Loss: 0.1706, Train Accuracy: 93.66%, Train IoU: 0.7399, Train IoU Loss: 0.2601\n"
     ]
    },
    {
     "name": "stderr",
     "output_type": "stream",
     "text": [
      "                                                             \r"
     ]
    },
    {
     "name": "stdout",
     "output_type": "stream",
     "text": [
      "Val Loss:   0.2487, Val Accuracy:   90.11%, Val IoU:   0.7006, Val IoU Loss:   0.2994\n",
      "  [!] Early stopping for Unet-CBAM\n",
      "  Metrics saved to Unet-CBAM/Training_Metrics.xlsx\n",
      "Done training Unet-CBAM.\n",
      "\n",
      "\n",
      "[Unet-ST] Epoch 1/100\n"
     ]
    },
    {
     "name": "stderr",
     "output_type": "stream",
     "text": [
      "                                                           \r"
     ]
    },
    {
     "name": "stdout",
     "output_type": "stream",
     "text": [
      "Train Loss: 0.3050, Train Accuracy: 88.09%, Train IoU: 0.6070, Train IoU Loss: 0.3930\n"
     ]
    },
    {
     "name": "stderr",
     "output_type": "stream",
     "text": [
      "                                                             \r"
     ]
    },
    {
     "name": "stdout",
     "output_type": "stream",
     "text": [
      "Val Loss:   0.2221, Val Accuracy:   90.61%, Val IoU:   0.7409, Val IoU Loss:   0.2591\n",
      "  [*] Best model saved at Unet-ST/unet_best_model.pth\n",
      "\n",
      "[Unet-ST] Epoch 2/100\n"
     ]
    },
    {
     "name": "stderr",
     "output_type": "stream",
     "text": [
      "                                                           \r"
     ]
    },
    {
     "name": "stdout",
     "output_type": "stream",
     "text": [
      "Train Loss: 0.1669, Train Accuracy: 93.49%, Train IoU: 0.7359, Train IoU Loss: 0.2641\n"
     ]
    },
    {
     "name": "stderr",
     "output_type": "stream",
     "text": [
      "                                                             \r"
     ]
    },
    {
     "name": "stdout",
     "output_type": "stream",
     "text": [
      "Val Loss:   0.1793, Val Accuracy:   92.79%, Val IoU:   0.7845, Val IoU Loss:   0.2155\n",
      "  [*] Best model saved at Unet-ST/unet_best_model.pth\n",
      "\n",
      "[Unet-ST] Epoch 3/100\n"
     ]
    },
    {
     "name": "stderr",
     "output_type": "stream",
     "text": [
      "                                                           \r"
     ]
    },
    {
     "name": "stdout",
     "output_type": "stream",
     "text": [
      "Train Loss: 0.1459, Train Accuracy: 94.39%, Train IoU: 0.7633, Train IoU Loss: 0.2367\n"
     ]
    },
    {
     "name": "stderr",
     "output_type": "stream",
     "text": [
      "                                                             \r"
     ]
    },
    {
     "name": "stdout",
     "output_type": "stream",
     "text": [
      "Val Loss:   0.1582, Val Accuracy:   93.69%, Val IoU:   0.8009, Val IoU Loss:   0.1991\n",
      "  [*] Best model saved at Unet-ST/unet_best_model.pth\n",
      "\n",
      "[Unet-ST] Epoch 4/100\n"
     ]
    },
    {
     "name": "stderr",
     "output_type": "stream",
     "text": [
      "                                                           \r"
     ]
    },
    {
     "name": "stdout",
     "output_type": "stream",
     "text": [
      "Train Loss: 0.1329, Train Accuracy: 94.97%, Train IoU: 0.7818, Train IoU Loss: 0.2182\n"
     ]
    },
    {
     "name": "stderr",
     "output_type": "stream",
     "text": [
      "                                                             \r"
     ]
    },
    {
     "name": "stdout",
     "output_type": "stream",
     "text": [
      "Val Loss:   0.1619, Val Accuracy:   93.57%, Val IoU:   0.8003, Val IoU Loss:   0.1997\n",
      "\n",
      "[Unet-ST] Epoch 5/100\n"
     ]
    },
    {
     "name": "stderr",
     "output_type": "stream",
     "text": [
      "                                                           \r"
     ]
    },
    {
     "name": "stdout",
     "output_type": "stream",
     "text": [
      "Train Loss: 0.1316, Train Accuracy: 95.01%, Train IoU: 0.7841, Train IoU Loss: 0.2159\n"
     ]
    },
    {
     "name": "stderr",
     "output_type": "stream",
     "text": [
      "                                                             \r"
     ]
    },
    {
     "name": "stdout",
     "output_type": "stream",
     "text": [
      "Val Loss:   0.1555, Val Accuracy:   93.53%, Val IoU:   0.8117, Val IoU Loss:   0.1883\n",
      "  [*] Best model saved at Unet-ST/unet_best_model.pth\n",
      "\n",
      "[Unet-ST] Epoch 6/100\n"
     ]
    },
    {
     "name": "stderr",
     "output_type": "stream",
     "text": [
      "                                                           \r"
     ]
    },
    {
     "name": "stdout",
     "output_type": "stream",
     "text": [
      "Train Loss: 0.1314, Train Accuracy: 95.03%, Train IoU: 0.7873, Train IoU Loss: 0.2127\n"
     ]
    },
    {
     "name": "stderr",
     "output_type": "stream",
     "text": [
      "                                                             \r"
     ]
    },
    {
     "name": "stdout",
     "output_type": "stream",
     "text": [
      "Val Loss:   0.1543, Val Accuracy:   93.99%, Val IoU:   0.8094, Val IoU Loss:   0.1906\n",
      "  [*] Best model saved at Unet-ST/unet_best_model.pth\n",
      "\n",
      "[Unet-ST] Epoch 7/100\n"
     ]
    },
    {
     "name": "stderr",
     "output_type": "stream",
     "text": [
      "                                                           \r"
     ]
    },
    {
     "name": "stdout",
     "output_type": "stream",
     "text": [
      "Train Loss: 0.1228, Train Accuracy: 95.37%, Train IoU: 0.7956, Train IoU Loss: 0.2044\n"
     ]
    },
    {
     "name": "stderr",
     "output_type": "stream",
     "text": [
      "                                                             \r"
     ]
    },
    {
     "name": "stdout",
     "output_type": "stream",
     "text": [
      "Val Loss:   0.1364, Val Accuracy:   94.75%, Val IoU:   0.8357, Val IoU Loss:   0.1643\n",
      "  [*] Best model saved at Unet-ST/unet_best_model.pth\n",
      "\n",
      "[Unet-ST] Epoch 8/100\n"
     ]
    },
    {
     "name": "stderr",
     "output_type": "stream",
     "text": [
      "                                                           \r"
     ]
    },
    {
     "name": "stdout",
     "output_type": "stream",
     "text": [
      "Train Loss: 0.1204, Train Accuracy: 95.50%, Train IoU: 0.7995, Train IoU Loss: 0.2005\n"
     ]
    },
    {
     "name": "stderr",
     "output_type": "stream",
     "text": [
      "                                                             \r"
     ]
    },
    {
     "name": "stdout",
     "output_type": "stream",
     "text": [
      "Val Loss:   0.1727, Val Accuracy:   92.55%, Val IoU:   0.7586, Val IoU Loss:   0.2414\n",
      "\n",
      "[Unet-ST] Epoch 9/100\n"
     ]
    },
    {
     "name": "stderr",
     "output_type": "stream",
     "text": [
      "                                                           \r"
     ]
    },
    {
     "name": "stdout",
     "output_type": "stream",
     "text": [
      "Train Loss: 0.1212, Train Accuracy: 95.46%, Train IoU: 0.7994, Train IoU Loss: 0.2006\n"
     ]
    },
    {
     "name": "stderr",
     "output_type": "stream",
     "text": [
      "                                                             \r"
     ]
    },
    {
     "name": "stdout",
     "output_type": "stream",
     "text": [
      "Val Loss:   0.1805, Val Accuracy:   92.40%, Val IoU:   0.7930, Val IoU Loss:   0.2070\n",
      "\n",
      "[Unet-ST] Epoch 10/100\n"
     ]
    },
    {
     "name": "stderr",
     "output_type": "stream",
     "text": [
      "                                                           \r"
     ]
    },
    {
     "name": "stdout",
     "output_type": "stream",
     "text": [
      "Train Loss: 0.1155, Train Accuracy: 95.72%, Train IoU: 0.8076, Train IoU Loss: 0.1924\n"
     ]
    },
    {
     "name": "stderr",
     "output_type": "stream",
     "text": [
      "                                                             \r"
     ]
    },
    {
     "name": "stdout",
     "output_type": "stream",
     "text": [
      "Val Loss:   0.1472, Val Accuracy:   94.04%, Val IoU:   0.8278, Val IoU Loss:   0.1722\n",
      "\n",
      "[Unet-ST] Epoch 11/100\n"
     ]
    },
    {
     "name": "stderr",
     "output_type": "stream",
     "text": [
      "                                                           \r"
     ]
    },
    {
     "name": "stdout",
     "output_type": "stream",
     "text": [
      "Train Loss: 0.1114, Train Accuracy: 95.89%, Train IoU: 0.8137, Train IoU Loss: 0.1863\n"
     ]
    },
    {
     "name": "stderr",
     "output_type": "stream",
     "text": [
      "                                                             \r"
     ]
    },
    {
     "name": "stdout",
     "output_type": "stream",
     "text": [
      "Val Loss:   0.1515, Val Accuracy:   94.01%, Val IoU:   0.8034, Val IoU Loss:   0.1966\n",
      "\n",
      "[Unet-ST] Epoch 12/100\n"
     ]
    },
    {
     "name": "stderr",
     "output_type": "stream",
     "text": [
      "                                                           \r"
     ]
    },
    {
     "name": "stdout",
     "output_type": "stream",
     "text": [
      "Train Loss: 0.1154, Train Accuracy: 95.73%, Train IoU: 0.8097, Train IoU Loss: 0.1903\n"
     ]
    },
    {
     "name": "stderr",
     "output_type": "stream",
     "text": [
      "                                                             \r"
     ]
    },
    {
     "name": "stdout",
     "output_type": "stream",
     "text": [
      "Val Loss:   0.1445, Val Accuracy:   94.19%, Val IoU:   0.8246, Val IoU Loss:   0.1754\n",
      "\n",
      "[Unet-ST] Epoch 13/100\n"
     ]
    },
    {
     "name": "stderr",
     "output_type": "stream",
     "text": [
      "                                                           \r"
     ]
    },
    {
     "name": "stdout",
     "output_type": "stream",
     "text": [
      "Train Loss: 0.1103, Train Accuracy: 95.93%, Train IoU: 0.8147, Train IoU Loss: 0.1853\n"
     ]
    },
    {
     "name": "stderr",
     "output_type": "stream",
     "text": [
      "                                                             \r"
     ]
    },
    {
     "name": "stdout",
     "output_type": "stream",
     "text": [
      "Val Loss:   0.1268, Val Accuracy:   95.27%, Val IoU:   0.8513, Val IoU Loss:   0.1487\n",
      "  [*] Best model saved at Unet-ST/unet_best_model.pth\n",
      "\n",
      "[Unet-ST] Epoch 14/100\n"
     ]
    },
    {
     "name": "stderr",
     "output_type": "stream",
     "text": [
      "                                                           \r"
     ]
    },
    {
     "name": "stdout",
     "output_type": "stream",
     "text": [
      "Train Loss: 0.1115, Train Accuracy: 95.86%, Train IoU: 0.8092, Train IoU Loss: 0.1908\n"
     ]
    },
    {
     "name": "stderr",
     "output_type": "stream",
     "text": [
      "                                                             \r"
     ]
    },
    {
     "name": "stdout",
     "output_type": "stream",
     "text": [
      "Val Loss:   0.1236, Val Accuracy:   95.42%, Val IoU:   0.8519, Val IoU Loss:   0.1481\n",
      "  [*] Best model saved at Unet-ST/unet_best_model.pth\n",
      "\n",
      "[Unet-ST] Epoch 15/100\n"
     ]
    },
    {
     "name": "stderr",
     "output_type": "stream",
     "text": [
      "                                                           \r"
     ]
    },
    {
     "name": "stdout",
     "output_type": "stream",
     "text": [
      "Train Loss: 0.1103, Train Accuracy: 95.94%, Train IoU: 0.8151, Train IoU Loss: 0.1849\n"
     ]
    },
    {
     "name": "stderr",
     "output_type": "stream",
     "text": [
      "                                                             \r"
     ]
    },
    {
     "name": "stdout",
     "output_type": "stream",
     "text": [
      "Val Loss:   0.1446, Val Accuracy:   94.30%, Val IoU:   0.8298, Val IoU Loss:   0.1702\n",
      "\n",
      "[Unet-ST] Epoch 16/100\n"
     ]
    },
    {
     "name": "stderr",
     "output_type": "stream",
     "text": [
      "                                                           \r"
     ]
    },
    {
     "name": "stdout",
     "output_type": "stream",
     "text": [
      "Train Loss: 0.1074, Train Accuracy: 96.03%, Train IoU: 0.8174, Train IoU Loss: 0.1826\n"
     ]
    },
    {
     "name": "stderr",
     "output_type": "stream",
     "text": [
      "                                                             \r"
     ]
    },
    {
     "name": "stdout",
     "output_type": "stream",
     "text": [
      "Val Loss:   0.1225, Val Accuracy:   95.39%, Val IoU:   0.8539, Val IoU Loss:   0.1461\n",
      "  [*] Best model saved at Unet-ST/unet_best_model.pth\n",
      "\n",
      "[Unet-ST] Epoch 17/100\n"
     ]
    },
    {
     "name": "stderr",
     "output_type": "stream",
     "text": [
      "                                                           \r"
     ]
    },
    {
     "name": "stdout",
     "output_type": "stream",
     "text": [
      "Train Loss: 0.1045, Train Accuracy: 96.18%, Train IoU: 0.8234, Train IoU Loss: 0.1766\n"
     ]
    },
    {
     "name": "stderr",
     "output_type": "stream",
     "text": [
      "                                                             \r"
     ]
    },
    {
     "name": "stdout",
     "output_type": "stream",
     "text": [
      "Val Loss:   0.1270, Val Accuracy:   95.00%, Val IoU:   0.8473, Val IoU Loss:   0.1527\n",
      "\n",
      "[Unet-ST] Epoch 18/100\n"
     ]
    },
    {
     "name": "stderr",
     "output_type": "stream",
     "text": [
      "                                                           \r"
     ]
    },
    {
     "name": "stdout",
     "output_type": "stream",
     "text": [
      "Train Loss: 0.1034, Train Accuracy: 96.19%, Train IoU: 0.8236, Train IoU Loss: 0.1764\n"
     ]
    },
    {
     "name": "stderr",
     "output_type": "stream",
     "text": [
      "                                                             \r"
     ]
    },
    {
     "name": "stdout",
     "output_type": "stream",
     "text": [
      "Val Loss:   0.1155, Val Accuracy:   95.57%, Val IoU:   0.8593, Val IoU Loss:   0.1407\n",
      "  [*] Best model saved at Unet-ST/unet_best_model.pth\n",
      "\n",
      "[Unet-ST] Epoch 19/100\n"
     ]
    },
    {
     "name": "stderr",
     "output_type": "stream",
     "text": [
      "                                                           \r"
     ]
    },
    {
     "name": "stdout",
     "output_type": "stream",
     "text": [
      "Train Loss: 0.1051, Train Accuracy: 96.15%, Train IoU: 0.8237, Train IoU Loss: 0.1763\n"
     ]
    },
    {
     "name": "stderr",
     "output_type": "stream",
     "text": [
      "                                                             \r"
     ]
    },
    {
     "name": "stdout",
     "output_type": "stream",
     "text": [
      "Val Loss:   0.1230, Val Accuracy:   95.25%, Val IoU:   0.8513, Val IoU Loss:   0.1487\n",
      "\n",
      "[Unet-ST] Epoch 20/100\n"
     ]
    },
    {
     "name": "stderr",
     "output_type": "stream",
     "text": [
      "                                                           \r"
     ]
    },
    {
     "name": "stdout",
     "output_type": "stream",
     "text": [
      "Train Loss: 0.1009, Train Accuracy: 96.32%, Train IoU: 0.8265, Train IoU Loss: 0.1735\n"
     ]
    },
    {
     "name": "stderr",
     "output_type": "stream",
     "text": [
      "                                                             \r"
     ]
    },
    {
     "name": "stdout",
     "output_type": "stream",
     "text": [
      "Val Loss:   0.1276, Val Accuracy:   95.16%, Val IoU:   0.8471, Val IoU Loss:   0.1529\n",
      "\n",
      "[Unet-ST] Epoch 21/100\n"
     ]
    },
    {
     "name": "stderr",
     "output_type": "stream",
     "text": [
      "                                                           \r"
     ]
    },
    {
     "name": "stdout",
     "output_type": "stream",
     "text": [
      "Train Loss: 0.0995, Train Accuracy: 96.36%, Train IoU: 0.8278, Train IoU Loss: 0.1722\n"
     ]
    },
    {
     "name": "stderr",
     "output_type": "stream",
     "text": [
      "                                                             \r"
     ]
    },
    {
     "name": "stdout",
     "output_type": "stream",
     "text": [
      "Val Loss:   0.1200, Val Accuracy:   95.46%, Val IoU:   0.8526, Val IoU Loss:   0.1474\n",
      "\n",
      "[Unet-ST] Epoch 22/100\n"
     ]
    },
    {
     "name": "stderr",
     "output_type": "stream",
     "text": [
      "                                                           \r"
     ]
    },
    {
     "name": "stdout",
     "output_type": "stream",
     "text": [
      "Train Loss: 0.1014, Train Accuracy: 96.29%, Train IoU: 0.8262, Train IoU Loss: 0.1738\n"
     ]
    },
    {
     "name": "stderr",
     "output_type": "stream",
     "text": [
      "                                                             \r"
     ]
    },
    {
     "name": "stdout",
     "output_type": "stream",
     "text": [
      "Val Loss:   0.1297, Val Accuracy:   94.79%, Val IoU:   0.8419, Val IoU Loss:   0.1581\n",
      "\n",
      "[Unet-ST] Epoch 23/100\n"
     ]
    },
    {
     "name": "stderr",
     "output_type": "stream",
     "text": [
      "                                                           \r"
     ]
    },
    {
     "name": "stdout",
     "output_type": "stream",
     "text": [
      "Train Loss: 0.1002, Train Accuracy: 96.33%, Train IoU: 0.8277, Train IoU Loss: 0.1723\n"
     ]
    },
    {
     "name": "stderr",
     "output_type": "stream",
     "text": [
      "                                                             \r"
     ]
    },
    {
     "name": "stdout",
     "output_type": "stream",
     "text": [
      "Val Loss:   0.1299, Val Accuracy:   94.99%, Val IoU:   0.8376, Val IoU Loss:   0.1624\n",
      "\n",
      "[Unet-ST] Epoch 24/100\n"
     ]
    },
    {
     "name": "stderr",
     "output_type": "stream",
     "text": [
      "                                                           \r"
     ]
    },
    {
     "name": "stdout",
     "output_type": "stream",
     "text": [
      "Train Loss: 0.1000, Train Accuracy: 96.33%, Train IoU: 0.8265, Train IoU Loss: 0.1735\n"
     ]
    },
    {
     "name": "stderr",
     "output_type": "stream",
     "text": [
      "                                                             \r"
     ]
    },
    {
     "name": "stdout",
     "output_type": "stream",
     "text": [
      "Val Loss:   0.1392, Val Accuracy:   94.51%, Val IoU:   0.8313, Val IoU Loss:   0.1687\n",
      "\n",
      "[Unet-ST] Epoch 25/100\n"
     ]
    },
    {
     "name": "stderr",
     "output_type": "stream",
     "text": [
      "                                                           \r"
     ]
    },
    {
     "name": "stdout",
     "output_type": "stream",
     "text": [
      "Train Loss: 0.0975, Train Accuracy: 96.43%, Train IoU: 0.8317, Train IoU Loss: 0.1683\n"
     ]
    },
    {
     "name": "stderr",
     "output_type": "stream",
     "text": [
      "                                                             \r"
     ]
    },
    {
     "name": "stdout",
     "output_type": "stream",
     "text": [
      "Val Loss:   0.1072, Val Accuracy:   96.01%, Val IoU:   0.8701, Val IoU Loss:   0.1299\n",
      "  [*] Best model saved at Unet-ST/unet_best_model.pth\n",
      "\n",
      "[Unet-ST] Epoch 26/100\n"
     ]
    },
    {
     "name": "stderr",
     "output_type": "stream",
     "text": [
      "                                                           \r"
     ]
    },
    {
     "name": "stdout",
     "output_type": "stream",
     "text": [
      "Train Loss: 0.0959, Train Accuracy: 96.52%, Train IoU: 0.8310, Train IoU Loss: 0.1690\n"
     ]
    },
    {
     "name": "stderr",
     "output_type": "stream",
     "text": [
      "                                                             \r"
     ]
    },
    {
     "name": "stdout",
     "output_type": "stream",
     "text": [
      "Val Loss:   0.1080, Val Accuracy:   95.97%, Val IoU:   0.8668, Val IoU Loss:   0.1332\n",
      "\n",
      "[Unet-ST] Epoch 27/100\n"
     ]
    },
    {
     "name": "stderr",
     "output_type": "stream",
     "text": [
      "                                                           \r"
     ]
    },
    {
     "name": "stdout",
     "output_type": "stream",
     "text": [
      "Train Loss: 0.0975, Train Accuracy: 96.42%, Train IoU: 0.8292, Train IoU Loss: 0.1708\n"
     ]
    },
    {
     "name": "stderr",
     "output_type": "stream",
     "text": [
      "                                                             \r"
     ]
    },
    {
     "name": "stdout",
     "output_type": "stream",
     "text": [
      "Val Loss:   0.1411, Val Accuracy:   94.61%, Val IoU:   0.8183, Val IoU Loss:   0.1817\n",
      "\n",
      "[Unet-ST] Epoch 28/100\n"
     ]
    },
    {
     "name": "stderr",
     "output_type": "stream",
     "text": [
      "                                                           \r"
     ]
    },
    {
     "name": "stdout",
     "output_type": "stream",
     "text": [
      "Train Loss: 0.0961, Train Accuracy: 96.50%, Train IoU: 0.8332, Train IoU Loss: 0.1668\n"
     ]
    },
    {
     "name": "stderr",
     "output_type": "stream",
     "text": [
      "                                                             \r"
     ]
    },
    {
     "name": "stdout",
     "output_type": "stream",
     "text": [
      "Val Loss:   0.1134, Val Accuracy:   95.84%, Val IoU:   0.8646, Val IoU Loss:   0.1354\n",
      "\n",
      "[Unet-ST] Epoch 29/100\n"
     ]
    },
    {
     "name": "stderr",
     "output_type": "stream",
     "text": [
      "                                                           \r"
     ]
    },
    {
     "name": "stdout",
     "output_type": "stream",
     "text": [
      "Train Loss: 0.0962, Train Accuracy: 96.50%, Train IoU: 0.8326, Train IoU Loss: 0.1674\n"
     ]
    },
    {
     "name": "stderr",
     "output_type": "stream",
     "text": [
      "                                                             \r"
     ]
    },
    {
     "name": "stdout",
     "output_type": "stream",
     "text": [
      "Val Loss:   0.1115, Val Accuracy:   95.81%, Val IoU:   0.8619, Val IoU Loss:   0.1381\n",
      "\n",
      "[Unet-ST] Epoch 30/100\n"
     ]
    },
    {
     "name": "stderr",
     "output_type": "stream",
     "text": [
      "                                                           \r"
     ]
    },
    {
     "name": "stdout",
     "output_type": "stream",
     "text": [
      "Train Loss: 0.0938, Train Accuracy: 96.59%, Train IoU: 0.8368, Train IoU Loss: 0.1632\n"
     ]
    },
    {
     "name": "stderr",
     "output_type": "stream",
     "text": [
      "                                                             \r"
     ]
    },
    {
     "name": "stdout",
     "output_type": "stream",
     "text": [
      "Val Loss:   0.1072, Val Accuracy:   95.94%, Val IoU:   0.8672, Val IoU Loss:   0.1328\n",
      "\n",
      "[Unet-ST] Epoch 31/100\n"
     ]
    },
    {
     "name": "stderr",
     "output_type": "stream",
     "text": [
      "                                                           \r"
     ]
    },
    {
     "name": "stdout",
     "output_type": "stream",
     "text": [
      "Train Loss: 0.0983, Train Accuracy: 96.44%, Train IoU: 0.8339, Train IoU Loss: 0.1661\n"
     ]
    },
    {
     "name": "stderr",
     "output_type": "stream",
     "text": [
      "                                                             \r"
     ]
    },
    {
     "name": "stdout",
     "output_type": "stream",
     "text": [
      "Val Loss:   0.1208, Val Accuracy:   95.20%, Val IoU:   0.8501, Val IoU Loss:   0.1499\n",
      "\n",
      "[Unet-ST] Epoch 32/100\n"
     ]
    },
    {
     "name": "stderr",
     "output_type": "stream",
     "text": [
      "                                                           \r"
     ]
    },
    {
     "name": "stdout",
     "output_type": "stream",
     "text": [
      "Train Loss: 0.0938, Train Accuracy: 96.59%, Train IoU: 0.8353, Train IoU Loss: 0.1647\n"
     ]
    },
    {
     "name": "stderr",
     "output_type": "stream",
     "text": [
      "                                                             \r"
     ]
    },
    {
     "name": "stdout",
     "output_type": "stream",
     "text": [
      "Val Loss:   0.1558, Val Accuracy:   93.64%, Val IoU:   0.7922, Val IoU Loss:   0.2078\n",
      "\n",
      "[Unet-ST] Epoch 33/100\n"
     ]
    },
    {
     "name": "stderr",
     "output_type": "stream",
     "text": [
      "                                                           \r"
     ]
    },
    {
     "name": "stdout",
     "output_type": "stream",
     "text": [
      "Train Loss: 0.0923, Train Accuracy: 96.65%, Train IoU: 0.8362, Train IoU Loss: 0.1638\n"
     ]
    },
    {
     "name": "stderr",
     "output_type": "stream",
     "text": [
      "                                                             \r"
     ]
    },
    {
     "name": "stdout",
     "output_type": "stream",
     "text": [
      "Val Loss:   0.1227, Val Accuracy:   95.28%, Val IoU:   0.8536, Val IoU Loss:   0.1464\n",
      "\n",
      "[Unet-ST] Epoch 34/100\n"
     ]
    },
    {
     "name": "stderr",
     "output_type": "stream",
     "text": [
      "                                                           \r"
     ]
    },
    {
     "name": "stdout",
     "output_type": "stream",
     "text": [
      "Train Loss: 0.0934, Train Accuracy: 96.60%, Train IoU: 0.8374, Train IoU Loss: 0.1626\n"
     ]
    },
    {
     "name": "stderr",
     "output_type": "stream",
     "text": [
      "                                                             \r"
     ]
    },
    {
     "name": "stdout",
     "output_type": "stream",
     "text": [
      "Val Loss:   0.1084, Val Accuracy:   95.92%, Val IoU:   0.8664, Val IoU Loss:   0.1336\n",
      "\n",
      "[Unet-ST] Epoch 35/100\n"
     ]
    },
    {
     "name": "stderr",
     "output_type": "stream",
     "text": [
      "                                                           \r"
     ]
    },
    {
     "name": "stdout",
     "output_type": "stream",
     "text": [
      "Train Loss: 0.0910, Train Accuracy: 96.70%, Train IoU: 0.8378, Train IoU Loss: 0.1622\n"
     ]
    },
    {
     "name": "stderr",
     "output_type": "stream",
     "text": [
      "                                                             \r"
     ]
    },
    {
     "name": "stdout",
     "output_type": "stream",
     "text": [
      "Val Loss:   0.1339, Val Accuracy:   94.59%, Val IoU:   0.8361, Val IoU Loss:   0.1639\n",
      "  [!] Early stopping for Unet-ST\n",
      "  Metrics saved to Unet-ST/Training_Metrics.xlsx\n",
      "Done training Unet-ST.\n",
      "\n",
      "\n",
      "[Unet-SCSE] Epoch 1/100\n"
     ]
    },
    {
     "name": "stderr",
     "output_type": "stream",
     "text": [
      "                                                           \r"
     ]
    },
    {
     "name": "stdout",
     "output_type": "stream",
     "text": [
      "Train Loss: 0.4957, Train Accuracy: 79.96%, Train IoU: 0.4699, Train IoU Loss: 0.5301\n"
     ]
    },
    {
     "name": "stderr",
     "output_type": "stream",
     "text": [
      "                                                             \r"
     ]
    },
    {
     "name": "stdout",
     "output_type": "stream",
     "text": [
      "Val Loss:   0.2825, Val Accuracy:   88.51%, Val IoU:   0.6708, Val IoU Loss:   0.3292\n",
      "  [*] Best model saved at Unet-SCSE/unet_best_model.pth\n",
      "\n",
      "[Unet-SCSE] Epoch 2/100\n"
     ]
    },
    {
     "name": "stderr",
     "output_type": "stream",
     "text": [
      "                                                           \r"
     ]
    },
    {
     "name": "stdout",
     "output_type": "stream",
     "text": [
      "Train Loss: 0.2328, Train Accuracy: 90.99%, Train IoU: 0.6717, Train IoU Loss: 0.3283\n"
     ]
    },
    {
     "name": "stderr",
     "output_type": "stream",
     "text": [
      "                                                             \r"
     ]
    },
    {
     "name": "stdout",
     "output_type": "stream",
     "text": [
      "Val Loss:   0.9523, Val Accuracy:   78.22%, Val IoU:   0.5512, Val IoU Loss:   0.4488\n",
      "\n",
      "[Unet-SCSE] Epoch 3/100\n"
     ]
    },
    {
     "name": "stderr",
     "output_type": "stream",
     "text": [
      "                                                           \r"
     ]
    },
    {
     "name": "stdout",
     "output_type": "stream",
     "text": [
      "Train Loss: 11.5565, Train Accuracy: 63.24%, Train IoU: 0.2777, Train IoU Loss: 0.7223\n"
     ]
    },
    {
     "name": "stderr",
     "output_type": "stream",
     "text": [
      "                                                             \r"
     ]
    },
    {
     "name": "stdout",
     "output_type": "stream",
     "text": [
      "Val Loss:   0.9638, Val Accuracy:   57.22%, Val IoU:   0.1907, Val IoU Loss:   0.8093\n",
      "\n",
      "[Unet-SCSE] Epoch 4/100\n"
     ]
    },
    {
     "name": "stderr",
     "output_type": "stream",
     "text": [
      "                                                           \r"
     ]
    },
    {
     "name": "stdout",
     "output_type": "stream",
     "text": [
      "Train Loss: 0.8532, Train Accuracy: 59.15%, Train IoU: 0.1972, Train IoU Loss: 0.8028\n"
     ]
    },
    {
     "name": "stderr",
     "output_type": "stream",
     "text": [
      "                                                             \r"
     ]
    },
    {
     "name": "stdout",
     "output_type": "stream",
     "text": [
      "Val Loss:   0.9694, Val Accuracy:   57.22%, Val IoU:   0.1907, Val IoU Loss:   0.8093\n",
      "\n",
      "[Unet-SCSE] Epoch 5/100\n"
     ]
    },
    {
     "name": "stderr",
     "output_type": "stream",
     "text": [
      "                                                           \r"
     ]
    },
    {
     "name": "stdout",
     "output_type": "stream",
     "text": [
      "Train Loss: 0.8534, Train Accuracy: 59.15%, Train IoU: 0.1971, Train IoU Loss: 0.8029\n"
     ]
    },
    {
     "name": "stderr",
     "output_type": "stream",
     "text": [
      "                                                             \r"
     ]
    },
    {
     "name": "stdout",
     "output_type": "stream",
     "text": [
      "Val Loss:   0.9673, Val Accuracy:   57.22%, Val IoU:   0.1907, Val IoU Loss:   0.8093\n",
      "\n",
      "[Unet-SCSE] Epoch 6/100\n"
     ]
    },
    {
     "name": "stderr",
     "output_type": "stream",
     "text": [
      "                                                           \r"
     ]
    },
    {
     "name": "stdout",
     "output_type": "stream",
     "text": [
      "Train Loss: 0.8534, Train Accuracy: 59.15%, Train IoU: 0.1972, Train IoU Loss: 0.8028\n"
     ]
    },
    {
     "name": "stderr",
     "output_type": "stream",
     "text": [
      "                                                             \r"
     ]
    },
    {
     "name": "stdout",
     "output_type": "stream",
     "text": [
      "Val Loss:   0.9667, Val Accuracy:   57.22%, Val IoU:   0.1907, Val IoU Loss:   0.8093\n",
      "\n",
      "[Unet-SCSE] Epoch 7/100\n"
     ]
    },
    {
     "name": "stderr",
     "output_type": "stream",
     "text": [
      "                                                           \r"
     ]
    },
    {
     "name": "stdout",
     "output_type": "stream",
     "text": [
      "Train Loss: 0.8537, Train Accuracy: 59.15%, Train IoU: 0.1971, Train IoU Loss: 0.8029\n"
     ]
    },
    {
     "name": "stderr",
     "output_type": "stream",
     "text": [
      "                                                             \r"
     ]
    },
    {
     "name": "stdout",
     "output_type": "stream",
     "text": [
      "Val Loss:   0.9671, Val Accuracy:   57.22%, Val IoU:   0.1907, Val IoU Loss:   0.8093\n",
      "\n",
      "[Unet-SCSE] Epoch 8/100\n"
     ]
    },
    {
     "name": "stderr",
     "output_type": "stream",
     "text": [
      "                                                           \r"
     ]
    },
    {
     "name": "stdout",
     "output_type": "stream",
     "text": [
      "Train Loss: 0.8534, Train Accuracy: 59.15%, Train IoU: 0.1972, Train IoU Loss: 0.8028\n"
     ]
    },
    {
     "name": "stderr",
     "output_type": "stream",
     "text": [
      "                                                             \r"
     ]
    },
    {
     "name": "stdout",
     "output_type": "stream",
     "text": [
      "Val Loss:   0.9699, Val Accuracy:   57.22%, Val IoU:   0.1907, Val IoU Loss:   0.8093\n",
      "\n",
      "[Unet-SCSE] Epoch 9/100\n"
     ]
    },
    {
     "name": "stderr",
     "output_type": "stream",
     "text": [
      "                                                           \r"
     ]
    },
    {
     "name": "stdout",
     "output_type": "stream",
     "text": [
      "Train Loss: 0.8535, Train Accuracy: 59.15%, Train IoU: 0.1972, Train IoU Loss: 0.8028\n"
     ]
    },
    {
     "name": "stderr",
     "output_type": "stream",
     "text": [
      "                                                             \r"
     ]
    },
    {
     "name": "stdout",
     "output_type": "stream",
     "text": [
      "Val Loss:   0.9688, Val Accuracy:   57.22%, Val IoU:   0.1907, Val IoU Loss:   0.8093\n",
      "\n",
      "[Unet-SCSE] Epoch 10/100\n"
     ]
    },
    {
     "name": "stderr",
     "output_type": "stream",
     "text": [
      "                                                           \r"
     ]
    },
    {
     "name": "stdout",
     "output_type": "stream",
     "text": [
      "Train Loss: 0.8537, Train Accuracy: 59.15%, Train IoU: 0.1973, Train IoU Loss: 0.8027\n"
     ]
    },
    {
     "name": "stderr",
     "output_type": "stream",
     "text": [
      "                                                             \r"
     ]
    },
    {
     "name": "stdout",
     "output_type": "stream",
     "text": [
      "Val Loss:   0.9685, Val Accuracy:   57.22%, Val IoU:   0.1907, Val IoU Loss:   0.8093\n",
      "\n",
      "[Unet-SCSE] Epoch 11/100\n"
     ]
    },
    {
     "name": "stderr",
     "output_type": "stream",
     "text": [
      "                                                           \r"
     ]
    },
    {
     "name": "stdout",
     "output_type": "stream",
     "text": [
      "Train Loss: 0.8537, Train Accuracy: 59.15%, Train IoU: 0.1971, Train IoU Loss: 0.8029\n"
     ]
    },
    {
     "name": "stderr",
     "output_type": "stream",
     "text": [
      "                                                             \r"
     ]
    },
    {
     "name": "stdout",
     "output_type": "stream",
     "text": [
      "Val Loss:   0.9669, Val Accuracy:   57.22%, Val IoU:   0.1907, Val IoU Loss:   0.8093\n",
      "  [!] Early stopping for Unet-SCSE\n",
      "  Metrics saved to Unet-SCSE/Training_Metrics.xlsx\n",
      "Done training Unet-SCSE.\n",
      "\n",
      "\n",
      "[Unet-DA] Epoch 1/100\n"
     ]
    },
    {
     "name": "stderr",
     "output_type": "stream",
     "text": [
      "                                                           \r"
     ]
    },
    {
     "name": "stdout",
     "output_type": "stream",
     "text": [
      "Train Loss: 0.4331, Train Accuracy: 82.14%, Train IoU: 0.4786, Train IoU Loss: 0.5214\n"
     ]
    },
    {
     "name": "stderr",
     "output_type": "stream",
     "text": [
      "                                                             \r"
     ]
    },
    {
     "name": "stdout",
     "output_type": "stream",
     "text": [
      "Val Loss:   0.2650, Val Accuracy:   89.64%, Val IoU:   0.7181, Val IoU Loss:   0.2819\n",
      "  [*] Best model saved at Unet-DA/unet_best_model.pth\n",
      "\n",
      "[Unet-DA] Epoch 2/100\n"
     ]
    },
    {
     "name": "stderr",
     "output_type": "stream",
     "text": [
      "                                                           \r"
     ]
    },
    {
     "name": "stdout",
     "output_type": "stream",
     "text": [
      "Train Loss: 0.1822, Train Accuracy: 92.79%, Train IoU: 0.7561, Train IoU Loss: 0.2439\n"
     ]
    },
    {
     "name": "stderr",
     "output_type": "stream",
     "text": [
      "                                                             \r"
     ]
    },
    {
     "name": "stdout",
     "output_type": "stream",
     "text": [
      "Val Loss:   0.1431, Val Accuracy:   94.42%, Val IoU:   0.8559, Val IoU Loss:   0.1441\n",
      "  [*] Best model saved at Unet-DA/unet_best_model.pth\n",
      "\n",
      "[Unet-DA] Epoch 3/100\n"
     ]
    },
    {
     "name": "stderr",
     "output_type": "stream",
     "text": [
      "                                                           \r"
     ]
    },
    {
     "name": "stdout",
     "output_type": "stream",
     "text": [
      "Train Loss: 0.1245, Train Accuracy: 95.22%, Train IoU: 0.8337, Train IoU Loss: 0.1663\n"
     ]
    },
    {
     "name": "stderr",
     "output_type": "stream",
     "text": [
      "                                                             \r"
     ]
    },
    {
     "name": "stdout",
     "output_type": "stream",
     "text": [
      "Val Loss:   0.1229, Val Accuracy:   95.29%, Val IoU:   0.8685, Val IoU Loss:   0.1315\n",
      "  [*] Best model saved at Unet-DA/unet_best_model.pth\n",
      "\n",
      "[Unet-DA] Epoch 4/100\n"
     ]
    },
    {
     "name": "stderr",
     "output_type": "stream",
     "text": [
      "                                                           \r"
     ]
    },
    {
     "name": "stdout",
     "output_type": "stream",
     "text": [
      "Train Loss: 0.1016, Train Accuracy: 96.23%, Train IoU: 0.8601, Train IoU Loss: 0.1399\n"
     ]
    },
    {
     "name": "stderr",
     "output_type": "stream",
     "text": [
      "                                                             \r"
     ]
    },
    {
     "name": "stdout",
     "output_type": "stream",
     "text": [
      "Val Loss:   0.1044, Val Accuracy:   96.14%, Val IoU:   0.8877, Val IoU Loss:   0.1123\n",
      "  [*] Best model saved at Unet-DA/unet_best_model.pth\n",
      "\n",
      "[Unet-DA] Epoch 5/100\n"
     ]
    },
    {
     "name": "stderr",
     "output_type": "stream",
     "text": [
      "                                                           \r"
     ]
    },
    {
     "name": "stdout",
     "output_type": "stream",
     "text": [
      "Train Loss: 0.0942, Train Accuracy: 96.54%, Train IoU: 0.8716, Train IoU Loss: 0.1284\n"
     ]
    },
    {
     "name": "stderr",
     "output_type": "stream",
     "text": [
      "                                                             \r"
     ]
    },
    {
     "name": "stdout",
     "output_type": "stream",
     "text": [
      "Val Loss:   0.1043, Val Accuracy:   96.07%, Val IoU:   0.8872, Val IoU Loss:   0.1128\n",
      "  [*] Best model saved at Unet-DA/unet_best_model.pth\n",
      "\n",
      "[Unet-DA] Epoch 6/100\n"
     ]
    },
    {
     "name": "stderr",
     "output_type": "stream",
     "text": [
      "                                                           \r"
     ]
    },
    {
     "name": "stdout",
     "output_type": "stream",
     "text": [
      "Train Loss: 0.0873, Train Accuracy: 96.83%, Train IoU: 0.8782, Train IoU Loss: 0.1218\n"
     ]
    },
    {
     "name": "stderr",
     "output_type": "stream",
     "text": [
      "                                                             \r"
     ]
    },
    {
     "name": "stdout",
     "output_type": "stream",
     "text": [
      "Val Loss:   0.1102, Val Accuracy:   95.73%, Val IoU:   0.8804, Val IoU Loss:   0.1196\n",
      "\n",
      "[Unet-DA] Epoch 7/100\n"
     ]
    },
    {
     "name": "stderr",
     "output_type": "stream",
     "text": [
      "                                                           \r"
     ]
    },
    {
     "name": "stdout",
     "output_type": "stream",
     "text": [
      "Train Loss: 0.0822, Train Accuracy: 97.05%, Train IoU: 0.8880, Train IoU Loss: 0.1120\n"
     ]
    },
    {
     "name": "stderr",
     "output_type": "stream",
     "text": [
      "                                                             \r"
     ]
    },
    {
     "name": "stdout",
     "output_type": "stream",
     "text": [
      "Val Loss:   0.0852, Val Accuracy:   96.83%, Val IoU:   0.9069, Val IoU Loss:   0.0931\n",
      "  [*] Best model saved at Unet-DA/unet_best_model.pth\n",
      "\n",
      "[Unet-DA] Epoch 8/100\n"
     ]
    },
    {
     "name": "stderr",
     "output_type": "stream",
     "text": [
      "                                                           \r"
     ]
    },
    {
     "name": "stdout",
     "output_type": "stream",
     "text": [
      "Train Loss: 0.0788, Train Accuracy: 97.14%, Train IoU: 0.8924, Train IoU Loss: 0.1076\n"
     ]
    },
    {
     "name": "stderr",
     "output_type": "stream",
     "text": [
      "                                                             \r"
     ]
    },
    {
     "name": "stdout",
     "output_type": "stream",
     "text": [
      "Val Loss:   0.0926, Val Accuracy:   96.63%, Val IoU:   0.8974, Val IoU Loss:   0.1026\n",
      "\n",
      "[Unet-DA] Epoch 9/100\n"
     ]
    },
    {
     "name": "stderr",
     "output_type": "stream",
     "text": [
      "                                                           \r"
     ]
    },
    {
     "name": "stdout",
     "output_type": "stream",
     "text": [
      "Train Loss: 0.0726, Train Accuracy: 97.44%, Train IoU: 0.9001, Train IoU Loss: 0.0999\n"
     ]
    },
    {
     "name": "stderr",
     "output_type": "stream",
     "text": [
      "                                                             \r"
     ]
    },
    {
     "name": "stdout",
     "output_type": "stream",
     "text": [
      "Val Loss:   0.0814, Val Accuracy:   97.01%, Val IoU:   0.9097, Val IoU Loss:   0.0903\n",
      "  [*] Best model saved at Unet-DA/unet_best_model.pth\n",
      "\n",
      "[Unet-DA] Epoch 10/100\n"
     ]
    },
    {
     "name": "stderr",
     "output_type": "stream",
     "text": [
      "                                                           \r"
     ]
    },
    {
     "name": "stdout",
     "output_type": "stream",
     "text": [
      "Train Loss: 0.0711, Train Accuracy: 97.49%, Train IoU: 0.9006, Train IoU Loss: 0.0994\n"
     ]
    },
    {
     "name": "stderr",
     "output_type": "stream",
     "text": [
      "                                                             \r"
     ]
    },
    {
     "name": "stdout",
     "output_type": "stream",
     "text": [
      "Val Loss:   0.0826, Val Accuracy:   96.98%, Val IoU:   0.9098, Val IoU Loss:   0.0902\n",
      "\n",
      "[Unet-DA] Epoch 11/100\n"
     ]
    },
    {
     "name": "stderr",
     "output_type": "stream",
     "text": [
      "                                                           \r"
     ]
    },
    {
     "name": "stdout",
     "output_type": "stream",
     "text": [
      "Train Loss: 0.0716, Train Accuracy: 97.45%, Train IoU: 0.9002, Train IoU Loss: 0.0998\n"
     ]
    },
    {
     "name": "stderr",
     "output_type": "stream",
     "text": [
      "                                                             \r"
     ]
    },
    {
     "name": "stdout",
     "output_type": "stream",
     "text": [
      "Val Loss:   0.1011, Val Accuracy:   96.35%, Val IoU:   0.8838, Val IoU Loss:   0.1162\n",
      "\n",
      "[Unet-DA] Epoch 12/100\n"
     ]
    },
    {
     "name": "stderr",
     "output_type": "stream",
     "text": [
      "                                                           \r"
     ]
    },
    {
     "name": "stdout",
     "output_type": "stream",
     "text": [
      "Train Loss: 0.0693, Train Accuracy: 97.53%, Train IoU: 0.9023, Train IoU Loss: 0.0977\n"
     ]
    },
    {
     "name": "stderr",
     "output_type": "stream",
     "text": [
      "                                                             \r"
     ]
    },
    {
     "name": "stdout",
     "output_type": "stream",
     "text": [
      "Val Loss:   0.1002, Val Accuracy:   96.28%, Val IoU:   0.8970, Val IoU Loss:   0.1030\n",
      "\n",
      "[Unet-DA] Epoch 13/100\n"
     ]
    },
    {
     "name": "stderr",
     "output_type": "stream",
     "text": [
      "                                                           \r"
     ]
    },
    {
     "name": "stdout",
     "output_type": "stream",
     "text": [
      "Train Loss: 0.0698, Train Accuracy: 97.51%, Train IoU: 0.9052, Train IoU Loss: 0.0948\n"
     ]
    },
    {
     "name": "stderr",
     "output_type": "stream",
     "text": [
      "                                                             \r"
     ]
    },
    {
     "name": "stdout",
     "output_type": "stream",
     "text": [
      "Val Loss:   0.0682, Val Accuracy:   97.47%, Val IoU:   0.9242, Val IoU Loss:   0.0758\n",
      "  [*] Best model saved at Unet-DA/unet_best_model.pth\n",
      "\n",
      "[Unet-DA] Epoch 14/100\n"
     ]
    },
    {
     "name": "stderr",
     "output_type": "stream",
     "text": [
      "                                                           \r"
     ]
    },
    {
     "name": "stdout",
     "output_type": "stream",
     "text": [
      "Train Loss: 0.0638, Train Accuracy: 97.73%, Train IoU: 0.9107, Train IoU Loss: 0.0893\n"
     ]
    },
    {
     "name": "stderr",
     "output_type": "stream",
     "text": [
      "                                                             \r"
     ]
    },
    {
     "name": "stdout",
     "output_type": "stream",
     "text": [
      "Val Loss:   0.0766, Val Accuracy:   97.22%, Val IoU:   0.9192, Val IoU Loss:   0.0808\n",
      "\n",
      "[Unet-DA] Epoch 15/100\n"
     ]
    },
    {
     "name": "stderr",
     "output_type": "stream",
     "text": [
      "                                                           \r"
     ]
    },
    {
     "name": "stdout",
     "output_type": "stream",
     "text": [
      "Train Loss: 0.0615, Train Accuracy: 97.83%, Train IoU: 0.9132, Train IoU Loss: 0.0868\n"
     ]
    },
    {
     "name": "stderr",
     "output_type": "stream",
     "text": [
      "                                                             \r"
     ]
    },
    {
     "name": "stdout",
     "output_type": "stream",
     "text": [
      "Val Loss:   0.0665, Val Accuracy:   97.53%, Val IoU:   0.9233, Val IoU Loss:   0.0767\n",
      "  [*] Best model saved at Unet-DA/unet_best_model.pth\n",
      "\n",
      "[Unet-DA] Epoch 16/100\n"
     ]
    },
    {
     "name": "stderr",
     "output_type": "stream",
     "text": [
      "                                                           \r"
     ]
    },
    {
     "name": "stdout",
     "output_type": "stream",
     "text": [
      "Train Loss: 0.0620, Train Accuracy: 97.80%, Train IoU: 0.9133, Train IoU Loss: 0.0867\n"
     ]
    },
    {
     "name": "stderr",
     "output_type": "stream",
     "text": [
      "                                                             \r"
     ]
    },
    {
     "name": "stdout",
     "output_type": "stream",
     "text": [
      "Val Loss:   0.2905, Val Accuracy:   90.53%, Val IoU:   0.7108, Val IoU Loss:   0.2892\n",
      "\n",
      "[Unet-DA] Epoch 17/100\n"
     ]
    },
    {
     "name": "stderr",
     "output_type": "stream",
     "text": [
      "                                                           \r"
     ]
    },
    {
     "name": "stdout",
     "output_type": "stream",
     "text": [
      "Train Loss: 0.0621, Train Accuracy: 97.79%, Train IoU: 0.9116, Train IoU Loss: 0.0884\n"
     ]
    },
    {
     "name": "stderr",
     "output_type": "stream",
     "text": [
      "                                                             \r"
     ]
    },
    {
     "name": "stdout",
     "output_type": "stream",
     "text": [
      "Val Loss:   0.0636, Val Accuracy:   97.65%, Val IoU:   0.9279, Val IoU Loss:   0.0721\n",
      "  [*] Best model saved at Unet-DA/unet_best_model.pth\n",
      "\n",
      "[Unet-DA] Epoch 18/100\n"
     ]
    },
    {
     "name": "stderr",
     "output_type": "stream",
     "text": [
      "                                                           \r"
     ]
    },
    {
     "name": "stdout",
     "output_type": "stream",
     "text": [
      "Train Loss: 0.0642, Train Accuracy: 97.75%, Train IoU: 0.9119, Train IoU Loss: 0.0881\n"
     ]
    },
    {
     "name": "stderr",
     "output_type": "stream",
     "text": [
      "                                                             \r"
     ]
    },
    {
     "name": "stdout",
     "output_type": "stream",
     "text": [
      "Val Loss:   0.0647, Val Accuracy:   97.64%, Val IoU:   0.9279, Val IoU Loss:   0.0721\n",
      "\n",
      "[Unet-DA] Epoch 19/100\n"
     ]
    },
    {
     "name": "stderr",
     "output_type": "stream",
     "text": [
      "                                                           \r"
     ]
    },
    {
     "name": "stdout",
     "output_type": "stream",
     "text": [
      "Train Loss: 0.0592, Train Accuracy: 97.90%, Train IoU: 0.9187, Train IoU Loss: 0.0813\n"
     ]
    },
    {
     "name": "stderr",
     "output_type": "stream",
     "text": [
      "                                                             \r"
     ]
    },
    {
     "name": "stdout",
     "output_type": "stream",
     "text": [
      "Val Loss:   0.0768, Val Accuracy:   97.50%, Val IoU:   0.9239, Val IoU Loss:   0.0761\n",
      "\n",
      "[Unet-DA] Epoch 20/100\n"
     ]
    },
    {
     "name": "stderr",
     "output_type": "stream",
     "text": [
      "                                                           \r"
     ]
    },
    {
     "name": "stdout",
     "output_type": "stream",
     "text": [
      "Train Loss: 0.0565, Train Accuracy: 98.00%, Train IoU: 0.9181, Train IoU Loss: 0.0819\n"
     ]
    },
    {
     "name": "stderr",
     "output_type": "stream",
     "text": [
      "                                                             \r"
     ]
    },
    {
     "name": "stdout",
     "output_type": "stream",
     "text": [
      "Val Loss:   0.0586, Val Accuracy:   97.83%, Val IoU:   0.9334, Val IoU Loss:   0.0666\n",
      "  [*] Best model saved at Unet-DA/unet_best_model.pth\n",
      "\n",
      "[Unet-DA] Epoch 21/100\n"
     ]
    },
    {
     "name": "stderr",
     "output_type": "stream",
     "text": [
      "                                                           \r"
     ]
    },
    {
     "name": "stdout",
     "output_type": "stream",
     "text": [
      "Train Loss: 0.0575, Train Accuracy: 97.98%, Train IoU: 0.9203, Train IoU Loss: 0.0797\n"
     ]
    },
    {
     "name": "stderr",
     "output_type": "stream",
     "text": [
      "                                                             \r"
     ]
    },
    {
     "name": "stdout",
     "output_type": "stream",
     "text": [
      "Val Loss:   0.0608, Val Accuracy:   97.76%, Val IoU:   0.9319, Val IoU Loss:   0.0681\n",
      "\n",
      "[Unet-DA] Epoch 22/100\n"
     ]
    },
    {
     "name": "stderr",
     "output_type": "stream",
     "text": [
      "                                                           \r"
     ]
    },
    {
     "name": "stdout",
     "output_type": "stream",
     "text": [
      "Train Loss: 0.0539, Train Accuracy: 98.11%, Train IoU: 0.9242, Train IoU Loss: 0.0758\n"
     ]
    },
    {
     "name": "stderr",
     "output_type": "stream",
     "text": [
      "                                                             \r"
     ]
    },
    {
     "name": "stdout",
     "output_type": "stream",
     "text": [
      "Val Loss:   0.0647, Val Accuracy:   97.72%, Val IoU:   0.9293, Val IoU Loss:   0.0707\n",
      "\n",
      "[Unet-DA] Epoch 23/100\n"
     ]
    },
    {
     "name": "stderr",
     "output_type": "stream",
     "text": [
      "                                                           \r"
     ]
    },
    {
     "name": "stdout",
     "output_type": "stream",
     "text": [
      "Train Loss: 0.0514, Train Accuracy: 98.22%, Train IoU: 0.9252, Train IoU Loss: 0.0748\n"
     ]
    },
    {
     "name": "stderr",
     "output_type": "stream",
     "text": [
      "                                                             \r"
     ]
    },
    {
     "name": "stdout",
     "output_type": "stream",
     "text": [
      "Val Loss:   0.1068, Val Accuracy:   96.21%, Val IoU:   0.8941, Val IoU Loss:   0.1059\n",
      "\n",
      "[Unet-DA] Epoch 24/100\n"
     ]
    },
    {
     "name": "stderr",
     "output_type": "stream",
     "text": [
      "                                                           \r"
     ]
    },
    {
     "name": "stdout",
     "output_type": "stream",
     "text": [
      "Train Loss: 0.0531, Train Accuracy: 98.15%, Train IoU: 0.9237, Train IoU Loss: 0.0763\n"
     ]
    },
    {
     "name": "stderr",
     "output_type": "stream",
     "text": [
      "                                                             \r"
     ]
    },
    {
     "name": "stdout",
     "output_type": "stream",
     "text": [
      "Val Loss:   0.0672, Val Accuracy:   97.52%, Val IoU:   0.9240, Val IoU Loss:   0.0760\n",
      "\n",
      "[Unet-DA] Epoch 25/100\n"
     ]
    },
    {
     "name": "stderr",
     "output_type": "stream",
     "text": [
      "                                                           \r"
     ]
    },
    {
     "name": "stdout",
     "output_type": "stream",
     "text": [
      "Train Loss: 0.0525, Train Accuracy: 98.16%, Train IoU: 0.9240, Train IoU Loss: 0.0760\n"
     ]
    },
    {
     "name": "stderr",
     "output_type": "stream",
     "text": [
      "                                                             \r"
     ]
    },
    {
     "name": "stdout",
     "output_type": "stream",
     "text": [
      "Val Loss:   0.0636, Val Accuracy:   97.60%, Val IoU:   0.9244, Val IoU Loss:   0.0756\n",
      "\n",
      "[Unet-DA] Epoch 26/100\n"
     ]
    },
    {
     "name": "stderr",
     "output_type": "stream",
     "text": [
      "                                                           \r"
     ]
    },
    {
     "name": "stdout",
     "output_type": "stream",
     "text": [
      "Train Loss: 0.0543, Train Accuracy: 98.11%, Train IoU: 0.9224, Train IoU Loss: 0.0776\n"
     ]
    },
    {
     "name": "stderr",
     "output_type": "stream",
     "text": [
      "                                                             \r"
     ]
    },
    {
     "name": "stdout",
     "output_type": "stream",
     "text": [
      "Val Loss:   0.0761, Val Accuracy:   97.02%, Val IoU:   0.9078, Val IoU Loss:   0.0922\n",
      "\n",
      "[Unet-DA] Epoch 27/100\n"
     ]
    },
    {
     "name": "stderr",
     "output_type": "stream",
     "text": [
      "                                                           \r"
     ]
    },
    {
     "name": "stdout",
     "output_type": "stream",
     "text": [
      "Train Loss: 0.0500, Train Accuracy: 98.28%, Train IoU: 0.9276, Train IoU Loss: 0.0724\n"
     ]
    },
    {
     "name": "stderr",
     "output_type": "stream",
     "text": [
      "                                                             \r"
     ]
    },
    {
     "name": "stdout",
     "output_type": "stream",
     "text": [
      "Val Loss:   0.0675, Val Accuracy:   97.48%, Val IoU:   0.9205, Val IoU Loss:   0.0795\n",
      "\n",
      "[Unet-DA] Epoch 28/100\n"
     ]
    },
    {
     "name": "stderr",
     "output_type": "stream",
     "text": [
      "                                                           \r"
     ]
    },
    {
     "name": "stdout",
     "output_type": "stream",
     "text": [
      "Train Loss: 0.0542, Train Accuracy: 98.11%, Train IoU: 0.9211, Train IoU Loss: 0.0789\n"
     ]
    },
    {
     "name": "stderr",
     "output_type": "stream",
     "text": [
      "                                                             \r"
     ]
    },
    {
     "name": "stdout",
     "output_type": "stream",
     "text": [
      "Val Loss:   0.0748, Val Accuracy:   97.16%, Val IoU:   0.9148, Val IoU Loss:   0.0852\n",
      "\n",
      "[Unet-DA] Epoch 29/100\n"
     ]
    },
    {
     "name": "stderr",
     "output_type": "stream",
     "text": [
      "                                                           \r"
     ]
    },
    {
     "name": "stdout",
     "output_type": "stream",
     "text": [
      "Train Loss: 0.0493, Train Accuracy: 98.28%, Train IoU: 0.9267, Train IoU Loss: 0.0733\n"
     ]
    },
    {
     "name": "stderr",
     "output_type": "stream",
     "text": [
      "                                                             \r"
     ]
    },
    {
     "name": "stdout",
     "output_type": "stream",
     "text": [
      "Val Loss:   0.0663, Val Accuracy:   97.61%, Val IoU:   0.9243, Val IoU Loss:   0.0757\n",
      "\n",
      "[Unet-DA] Epoch 30/100\n"
     ]
    },
    {
     "name": "stderr",
     "output_type": "stream",
     "text": [
      "                                                           \r"
     ]
    },
    {
     "name": "stdout",
     "output_type": "stream",
     "text": [
      "Train Loss: 0.0500, Train Accuracy: 98.24%, Train IoU: 0.9270, Train IoU Loss: 0.0730\n"
     ]
    },
    {
     "name": "stderr",
     "output_type": "stream",
     "text": [
      "                                                             \r"
     ]
    },
    {
     "name": "stdout",
     "output_type": "stream",
     "text": [
      "Val Loss:   0.0692, Val Accuracy:   97.55%, Val IoU:   0.9219, Val IoU Loss:   0.0781\n",
      "  [!] Early stopping for Unet-DA\n",
      "  Metrics saved to Unet-DA/Training_Metrics.xlsx\n",
      "Done training Unet-DA.\n",
      "\n",
      "\n",
      "[Unet-RA] Epoch 1/100\n"
     ]
    },
    {
     "name": "stderr",
     "output_type": "stream",
     "text": [
      "                                                           \r"
     ]
    },
    {
     "name": "stdout",
     "output_type": "stream",
     "text": [
      "Train Loss: 1.2767, Train Accuracy: 78.64%, Train IoU: 0.4562, Train IoU Loss: 0.5438\n"
     ]
    },
    {
     "name": "stderr",
     "output_type": "stream",
     "text": [
      "                                                             \r"
     ]
    },
    {
     "name": "stdout",
     "output_type": "stream",
     "text": [
      "Val Loss:   0.4300, Val Accuracy:   79.95%, Val IoU:   0.4674, Val IoU Loss:   0.5326\n",
      "  [*] Best model saved at Unet-RA/unet_best_model.pth\n",
      "\n",
      "[Unet-RA] Epoch 2/100\n"
     ]
    },
    {
     "name": "stderr",
     "output_type": "stream",
     "text": [
      "                                                           \r"
     ]
    },
    {
     "name": "stdout",
     "output_type": "stream",
     "text": [
      "Train Loss: 0.2888, Train Accuracy: 88.39%, Train IoU: 0.5631, Train IoU Loss: 0.4369\n"
     ]
    },
    {
     "name": "stderr",
     "output_type": "stream",
     "text": [
      "                                                             \r"
     ]
    },
    {
     "name": "stdout",
     "output_type": "stream",
     "text": [
      "Val Loss:   0.3185, Val Accuracy:   84.66%, Val IoU:   0.5532, Val IoU Loss:   0.4468\n",
      "  [*] Best model saved at Unet-RA/unet_best_model.pth\n",
      "\n",
      "[Unet-RA] Epoch 3/100\n"
     ]
    },
    {
     "name": "stderr",
     "output_type": "stream",
     "text": [
      "                                                           \r"
     ]
    },
    {
     "name": "stdout",
     "output_type": "stream",
     "text": [
      "Train Loss: 0.2379, Train Accuracy: 90.53%, Train IoU: 0.6432, Train IoU Loss: 0.3568\n"
     ]
    },
    {
     "name": "stderr",
     "output_type": "stream",
     "text": [
      "                                                             \r"
     ]
    },
    {
     "name": "stdout",
     "output_type": "stream",
     "text": [
      "Val Loss:   0.3455, Val Accuracy:   84.39%, Val IoU:   0.5338, Val IoU Loss:   0.4662\n",
      "\n",
      "[Unet-RA] Epoch 4/100\n"
     ]
    },
    {
     "name": "stderr",
     "output_type": "stream",
     "text": [
      "                                                           \r"
     ]
    },
    {
     "name": "stdout",
     "output_type": "stream",
     "text": [
      "Train Loss: 0.2140, Train Accuracy: 91.55%, Train IoU: 0.6722, Train IoU Loss: 0.3278\n"
     ]
    },
    {
     "name": "stderr",
     "output_type": "stream",
     "text": [
      "                                                             \r"
     ]
    },
    {
     "name": "stdout",
     "output_type": "stream",
     "text": [
      "Val Loss:   0.2524, Val Accuracy:   90.14%, Val IoU:   0.7079, Val IoU Loss:   0.2921\n",
      "  [*] Best model saved at Unet-RA/unet_best_model.pth\n",
      "\n",
      "[Unet-RA] Epoch 5/100\n"
     ]
    },
    {
     "name": "stderr",
     "output_type": "stream",
     "text": [
      "                                                           \r"
     ]
    },
    {
     "name": "stdout",
     "output_type": "stream",
     "text": [
      "Train Loss: 0.2251, Train Accuracy: 91.45%, Train IoU: 0.6736, Train IoU Loss: 0.3264\n"
     ]
    },
    {
     "name": "stderr",
     "output_type": "stream",
     "text": [
      "                                                             \r"
     ]
    },
    {
     "name": "stdout",
     "output_type": "stream",
     "text": [
      "Val Loss:   0.2905, Val Accuracy:   85.81%, Val IoU:   0.5594, Val IoU Loss:   0.4406\n",
      "\n",
      "[Unet-RA] Epoch 6/100\n"
     ]
    },
    {
     "name": "stderr",
     "output_type": "stream",
     "text": [
      "                                                           \r"
     ]
    },
    {
     "name": "stdout",
     "output_type": "stream",
     "text": [
      "Train Loss: 0.1861, Train Accuracy: 92.67%, Train IoU: 0.6923, Train IoU Loss: 0.3077\n"
     ]
    },
    {
     "name": "stderr",
     "output_type": "stream",
     "text": [
      "                                                             \r"
     ]
    },
    {
     "name": "stdout",
     "output_type": "stream",
     "text": [
      "Val Loss:   0.2137, Val Accuracy:   91.21%, Val IoU:   0.7482, Val IoU Loss:   0.2518\n",
      "  [*] Best model saved at Unet-RA/unet_best_model.pth\n",
      "\n",
      "[Unet-RA] Epoch 7/100\n"
     ]
    },
    {
     "name": "stderr",
     "output_type": "stream",
     "text": [
      "                                                           \r"
     ]
    },
    {
     "name": "stdout",
     "output_type": "stream",
     "text": [
      "Train Loss: 0.1749, Train Accuracy: 93.25%, Train IoU: 0.7078, Train IoU Loss: 0.2922\n"
     ]
    },
    {
     "name": "stderr",
     "output_type": "stream",
     "text": [
      "                                                             \r"
     ]
    },
    {
     "name": "stdout",
     "output_type": "stream",
     "text": [
      "Val Loss:   0.2355, Val Accuracy:   89.76%, Val IoU:   0.6773, Val IoU Loss:   0.3227\n",
      "\n",
      "[Unet-RA] Epoch 8/100\n"
     ]
    },
    {
     "name": "stderr",
     "output_type": "stream",
     "text": [
      "                                                           \r"
     ]
    },
    {
     "name": "stdout",
     "output_type": "stream",
     "text": [
      "Train Loss: 0.1670, Train Accuracy: 93.53%, Train IoU: 0.7133, Train IoU Loss: 0.2867\n"
     ]
    },
    {
     "name": "stderr",
     "output_type": "stream",
     "text": [
      "                                                             \r"
     ]
    },
    {
     "name": "stdout",
     "output_type": "stream",
     "text": [
      "Val Loss:   0.1964, Val Accuracy:   91.46%, Val IoU:   0.7536, Val IoU Loss:   0.2464\n",
      "  [*] Best model saved at Unet-RA/unet_best_model.pth\n",
      "\n",
      "[Unet-RA] Epoch 9/100\n"
     ]
    },
    {
     "name": "stderr",
     "output_type": "stream",
     "text": [
      "                                                           \r"
     ]
    },
    {
     "name": "stdout",
     "output_type": "stream",
     "text": [
      "Train Loss: 0.1602, Train Accuracy: 93.83%, Train IoU: 0.7199, Train IoU Loss: 0.2801\n"
     ]
    },
    {
     "name": "stderr",
     "output_type": "stream",
     "text": [
      "                                                             \r"
     ]
    },
    {
     "name": "stdout",
     "output_type": "stream",
     "text": [
      "Val Loss:   0.1908, Val Accuracy:   92.18%, Val IoU:   0.7580, Val IoU Loss:   0.2420\n",
      "  [*] Best model saved at Unet-RA/unet_best_model.pth\n",
      "\n",
      "[Unet-RA] Epoch 10/100\n"
     ]
    },
    {
     "name": "stderr",
     "output_type": "stream",
     "text": [
      "                                                           \r"
     ]
    },
    {
     "name": "stdout",
     "output_type": "stream",
     "text": [
      "Train Loss: 0.1569, Train Accuracy: 93.96%, Train IoU: 0.7230, Train IoU Loss: 0.2770\n"
     ]
    },
    {
     "name": "stderr",
     "output_type": "stream",
     "text": [
      "                                                             \r"
     ]
    },
    {
     "name": "stdout",
     "output_type": "stream",
     "text": [
      "Val Loss:   0.1823, Val Accuracy:   92.41%, Val IoU:   0.7622, Val IoU Loss:   0.2378\n",
      "  [*] Best model saved at Unet-RA/unet_best_model.pth\n",
      "\n",
      "[Unet-RA] Epoch 11/100\n"
     ]
    },
    {
     "name": "stderr",
     "output_type": "stream",
     "text": [
      "                                                           \r"
     ]
    },
    {
     "name": "stdout",
     "output_type": "stream",
     "text": [
      "Train Loss: 0.1546, Train Accuracy: 94.03%, Train IoU: 0.7249, Train IoU Loss: 0.2751\n"
     ]
    },
    {
     "name": "stderr",
     "output_type": "stream",
     "text": [
      "                                                             \r"
     ]
    },
    {
     "name": "stdout",
     "output_type": "stream",
     "text": [
      "Val Loss:   0.2087, Val Accuracy:   91.37%, Val IoU:   0.7179, Val IoU Loss:   0.2821\n",
      "\n",
      "[Unet-RA] Epoch 12/100\n"
     ]
    },
    {
     "name": "stderr",
     "output_type": "stream",
     "text": [
      "                                                           \r"
     ]
    },
    {
     "name": "stdout",
     "output_type": "stream",
     "text": [
      "Train Loss: 0.1479, Train Accuracy: 94.28%, Train IoU: 0.7376, Train IoU Loss: 0.2624\n"
     ]
    },
    {
     "name": "stderr",
     "output_type": "stream",
     "text": [
      "                                                             \r"
     ]
    },
    {
     "name": "stdout",
     "output_type": "stream",
     "text": [
      "Val Loss:   0.1980, Val Accuracy:   91.99%, Val IoU:   0.7404, Val IoU Loss:   0.2596\n",
      "\n",
      "[Unet-RA] Epoch 13/100\n"
     ]
    },
    {
     "name": "stderr",
     "output_type": "stream",
     "text": [
      "                                                           \r"
     ]
    },
    {
     "name": "stdout",
     "output_type": "stream",
     "text": [
      "Train Loss: 0.1491, Train Accuracy: 94.21%, Train IoU: 0.7361, Train IoU Loss: 0.2639\n"
     ]
    },
    {
     "name": "stderr",
     "output_type": "stream",
     "text": [
      "                                                             \r"
     ]
    },
    {
     "name": "stdout",
     "output_type": "stream",
     "text": [
      "Val Loss:   0.1781, Val Accuracy:   92.29%, Val IoU:   0.7735, Val IoU Loss:   0.2265\n",
      "  [*] Best model saved at Unet-RA/unet_best_model.pth\n",
      "\n",
      "[Unet-RA] Epoch 14/100\n"
     ]
    },
    {
     "name": "stderr",
     "output_type": "stream",
     "text": [
      "                                                           \r"
     ]
    },
    {
     "name": "stdout",
     "output_type": "stream",
     "text": [
      "Train Loss: 0.1439, Train Accuracy: 94.43%, Train IoU: 0.7412, Train IoU Loss: 0.2588\n"
     ]
    },
    {
     "name": "stderr",
     "output_type": "stream",
     "text": [
      "                                                             \r"
     ]
    },
    {
     "name": "stdout",
     "output_type": "stream",
     "text": [
      "Val Loss:   0.1667, Val Accuracy:   92.97%, Val IoU:   0.7794, Val IoU Loss:   0.2206\n",
      "  [*] Best model saved at Unet-RA/unet_best_model.pth\n",
      "\n",
      "[Unet-RA] Epoch 15/100\n"
     ]
    },
    {
     "name": "stderr",
     "output_type": "stream",
     "text": [
      "                                                           \r"
     ]
    },
    {
     "name": "stdout",
     "output_type": "stream",
     "text": [
      "Train Loss: 0.1405, Train Accuracy: 94.59%, Train IoU: 0.7513, Train IoU Loss: 0.2487\n"
     ]
    },
    {
     "name": "stderr",
     "output_type": "stream",
     "text": [
      "                                                             \r"
     ]
    },
    {
     "name": "stdout",
     "output_type": "stream",
     "text": [
      "Val Loss:   0.1774, Val Accuracy:   92.40%, Val IoU:   0.7712, Val IoU Loss:   0.2288\n",
      "\n",
      "[Unet-RA] Epoch 16/100\n"
     ]
    },
    {
     "name": "stderr",
     "output_type": "stream",
     "text": [
      "                                                           \r"
     ]
    },
    {
     "name": "stdout",
     "output_type": "stream",
     "text": [
      "Train Loss: 0.1391, Train Accuracy: 94.64%, Train IoU: 0.7532, Train IoU Loss: 0.2468\n"
     ]
    },
    {
     "name": "stderr",
     "output_type": "stream",
     "text": [
      "                                                             \r"
     ]
    },
    {
     "name": "stdout",
     "output_type": "stream",
     "text": [
      "Val Loss:   0.2654, Val Accuracy:   88.74%, Val IoU:   0.6281, Val IoU Loss:   0.3719\n",
      "\n",
      "[Unet-RA] Epoch 17/100\n"
     ]
    },
    {
     "name": "stderr",
     "output_type": "stream",
     "text": [
      "                                                           \r"
     ]
    },
    {
     "name": "stdout",
     "output_type": "stream",
     "text": [
      "Train Loss: 0.1332, Train Accuracy: 94.92%, Train IoU: 0.7627, Train IoU Loss: 0.2373\n"
     ]
    },
    {
     "name": "stderr",
     "output_type": "stream",
     "text": [
      "                                                             \r"
     ]
    },
    {
     "name": "stdout",
     "output_type": "stream",
     "text": [
      "Val Loss:   0.1789, Val Accuracy:   92.58%, Val IoU:   0.7875, Val IoU Loss:   0.2125\n",
      "\n",
      "[Unet-RA] Epoch 18/100\n"
     ]
    },
    {
     "name": "stderr",
     "output_type": "stream",
     "text": [
      "                                                           \r"
     ]
    },
    {
     "name": "stdout",
     "output_type": "stream",
     "text": [
      "Train Loss: 0.1331, Train Accuracy: 94.93%, Train IoU: 0.7624, Train IoU Loss: 0.2376\n"
     ]
    },
    {
     "name": "stderr",
     "output_type": "stream",
     "text": [
      "                                                             \r"
     ]
    },
    {
     "name": "stdout",
     "output_type": "stream",
     "text": [
      "Val Loss:   0.1567, Val Accuracy:   93.67%, Val IoU:   0.7968, Val IoU Loss:   0.2032\n",
      "  [*] Best model saved at Unet-RA/unet_best_model.pth\n",
      "\n",
      "[Unet-RA] Epoch 19/100\n"
     ]
    },
    {
     "name": "stderr",
     "output_type": "stream",
     "text": [
      "                                                           \r"
     ]
    },
    {
     "name": "stdout",
     "output_type": "stream",
     "text": [
      "Train Loss: 0.1314, Train Accuracy: 94.99%, Train IoU: 0.7702, Train IoU Loss: 0.2298\n"
     ]
    },
    {
     "name": "stderr",
     "output_type": "stream",
     "text": [
      "                                                             \r"
     ]
    },
    {
     "name": "stdout",
     "output_type": "stream",
     "text": [
      "Val Loss:   0.1547, Val Accuracy:   93.71%, Val IoU:   0.8007, Val IoU Loss:   0.1993\n",
      "  [*] Best model saved at Unet-RA/unet_best_model.pth\n",
      "\n",
      "[Unet-RA] Epoch 20/100\n"
     ]
    },
    {
     "name": "stderr",
     "output_type": "stream",
     "text": [
      "                                                           \r"
     ]
    },
    {
     "name": "stdout",
     "output_type": "stream",
     "text": [
      "Train Loss: 0.1318, Train Accuracy: 94.96%, Train IoU: 0.7687, Train IoU Loss: 0.2313\n"
     ]
    },
    {
     "name": "stderr",
     "output_type": "stream",
     "text": [
      "                                                             \r"
     ]
    },
    {
     "name": "stdout",
     "output_type": "stream",
     "text": [
      "Val Loss:   0.1688, Val Accuracy:   93.26%, Val IoU:   0.7812, Val IoU Loss:   0.2188\n",
      "\n",
      "[Unet-RA] Epoch 21/100\n"
     ]
    },
    {
     "name": "stderr",
     "output_type": "stream",
     "text": [
      "                                                           \r"
     ]
    },
    {
     "name": "stdout",
     "output_type": "stream",
     "text": [
      "Train Loss: 0.1240, Train Accuracy: 95.34%, Train IoU: 0.7803, Train IoU Loss: 0.2197\n"
     ]
    },
    {
     "name": "stderr",
     "output_type": "stream",
     "text": [
      "                                                             \r"
     ]
    },
    {
     "name": "stdout",
     "output_type": "stream",
     "text": [
      "Val Loss:   0.1412, Val Accuracy:   94.39%, Val IoU:   0.8277, Val IoU Loss:   0.1723\n",
      "  [*] Best model saved at Unet-RA/unet_best_model.pth\n",
      "\n",
      "[Unet-RA] Epoch 22/100\n"
     ]
    },
    {
     "name": "stderr",
     "output_type": "stream",
     "text": [
      "                                                           \r"
     ]
    },
    {
     "name": "stdout",
     "output_type": "stream",
     "text": [
      "Train Loss: 0.1213, Train Accuracy: 95.47%, Train IoU: 0.7881, Train IoU Loss: 0.2119\n"
     ]
    },
    {
     "name": "stderr",
     "output_type": "stream",
     "text": [
      "                                                             \r"
     ]
    },
    {
     "name": "stdout",
     "output_type": "stream",
     "text": [
      "Val Loss:   0.1335, Val Accuracy:   94.83%, Val IoU:   0.8398, Val IoU Loss:   0.1602\n",
      "  [*] Best model saved at Unet-RA/unet_best_model.pth\n",
      "\n",
      "[Unet-RA] Epoch 23/100\n"
     ]
    },
    {
     "name": "stderr",
     "output_type": "stream",
     "text": [
      "                                                           \r"
     ]
    },
    {
     "name": "stdout",
     "output_type": "stream",
     "text": [
      "Train Loss: 0.1213, Train Accuracy: 95.49%, Train IoU: 0.7881, Train IoU Loss: 0.2119\n"
     ]
    },
    {
     "name": "stderr",
     "output_type": "stream",
     "text": [
      "                                                             \r"
     ]
    },
    {
     "name": "stdout",
     "output_type": "stream",
     "text": [
      "Val Loss:   0.1410, Val Accuracy:   94.37%, Val IoU:   0.8292, Val IoU Loss:   0.1708\n",
      "\n",
      "[Unet-RA] Epoch 24/100\n"
     ]
    },
    {
     "name": "stderr",
     "output_type": "stream",
     "text": [
      "                                                           \r"
     ]
    },
    {
     "name": "stdout",
     "output_type": "stream",
     "text": [
      "Train Loss: 0.1205, Train Accuracy: 95.51%, Train IoU: 0.7880, Train IoU Loss: 0.2120\n"
     ]
    },
    {
     "name": "stderr",
     "output_type": "stream",
     "text": [
      "                                                             \r"
     ]
    },
    {
     "name": "stdout",
     "output_type": "stream",
     "text": [
      "Val Loss:   0.1530, Val Accuracy:   93.99%, Val IoU:   0.8060, Val IoU Loss:   0.1940\n",
      "\n",
      "[Unet-RA] Epoch 25/100\n"
     ]
    },
    {
     "name": "stderr",
     "output_type": "stream",
     "text": [
      "                                                           \r"
     ]
    },
    {
     "name": "stdout",
     "output_type": "stream",
     "text": [
      "Train Loss: 0.1180, Train Accuracy: 95.61%, Train IoU: 0.7943, Train IoU Loss: 0.2057\n"
     ]
    },
    {
     "name": "stderr",
     "output_type": "stream",
     "text": [
      "                                                             \r"
     ]
    },
    {
     "name": "stdout",
     "output_type": "stream",
     "text": [
      "Val Loss:   0.1601, Val Accuracy:   93.38%, Val IoU:   0.7916, Val IoU Loss:   0.2084\n",
      "\n",
      "[Unet-RA] Epoch 26/100\n"
     ]
    },
    {
     "name": "stderr",
     "output_type": "stream",
     "text": [
      "                                                           \r"
     ]
    },
    {
     "name": "stdout",
     "output_type": "stream",
     "text": [
      "Train Loss: 0.1138, Train Accuracy: 95.79%, Train IoU: 0.8030, Train IoU Loss: 0.1970\n"
     ]
    },
    {
     "name": "stderr",
     "output_type": "stream",
     "text": [
      "                                                             \r"
     ]
    },
    {
     "name": "stdout",
     "output_type": "stream",
     "text": [
      "Val Loss:   0.1273, Val Accuracy:   95.17%, Val IoU:   0.8474, Val IoU Loss:   0.1526\n",
      "  [*] Best model saved at Unet-RA/unet_best_model.pth\n",
      "\n",
      "[Unet-RA] Epoch 27/100\n"
     ]
    },
    {
     "name": "stderr",
     "output_type": "stream",
     "text": [
      "                                                           \r"
     ]
    },
    {
     "name": "stdout",
     "output_type": "stream",
     "text": [
      "Train Loss: 0.1166, Train Accuracy: 95.67%, Train IoU: 0.7960, Train IoU Loss: 0.2040\n"
     ]
    },
    {
     "name": "stderr",
     "output_type": "stream",
     "text": [
      "                                                             \r"
     ]
    },
    {
     "name": "stdout",
     "output_type": "stream",
     "text": [
      "Val Loss:   0.1584, Val Accuracy:   93.67%, Val IoU:   0.7959, Val IoU Loss:   0.2041\n",
      "\n",
      "[Unet-RA] Epoch 28/100\n"
     ]
    },
    {
     "name": "stderr",
     "output_type": "stream",
     "text": [
      "                                                           \r"
     ]
    },
    {
     "name": "stdout",
     "output_type": "stream",
     "text": [
      "Train Loss: 0.1121, Train Accuracy: 95.88%, Train IoU: 0.8041, Train IoU Loss: 0.1959\n"
     ]
    },
    {
     "name": "stderr",
     "output_type": "stream",
     "text": [
      "                                                             \r"
     ]
    },
    {
     "name": "stdout",
     "output_type": "stream",
     "text": [
      "Val Loss:   0.1320, Val Accuracy:   94.95%, Val IoU:   0.8426, Val IoU Loss:   0.1574\n",
      "\n",
      "[Unet-RA] Epoch 29/100\n"
     ]
    },
    {
     "name": "stderr",
     "output_type": "stream",
     "text": [
      "                                                           \r"
     ]
    },
    {
     "name": "stdout",
     "output_type": "stream",
     "text": [
      "Train Loss: 0.1104, Train Accuracy: 95.95%, Train IoU: 0.8066, Train IoU Loss: 0.1934\n"
     ]
    },
    {
     "name": "stderr",
     "output_type": "stream",
     "text": [
      "                                                             \r"
     ]
    },
    {
     "name": "stdout",
     "output_type": "stream",
     "text": [
      "Val Loss:   0.1272, Val Accuracy:   95.18%, Val IoU:   0.8442, Val IoU Loss:   0.1558\n",
      "  [*] Best model saved at Unet-RA/unet_best_model.pth\n",
      "\n",
      "[Unet-RA] Epoch 30/100\n"
     ]
    },
    {
     "name": "stderr",
     "output_type": "stream",
     "text": [
      "                                                           \r"
     ]
    },
    {
     "name": "stdout",
     "output_type": "stream",
     "text": [
      "Train Loss: 0.1105, Train Accuracy: 95.94%, Train IoU: 0.8076, Train IoU Loss: 0.1924\n"
     ]
    },
    {
     "name": "stderr",
     "output_type": "stream",
     "text": [
      "                                                             \r"
     ]
    },
    {
     "name": "stdout",
     "output_type": "stream",
     "text": [
      "Val Loss:   0.1207, Val Accuracy:   95.45%, Val IoU:   0.8500, Val IoU Loss:   0.1500\n",
      "  [*] Best model saved at Unet-RA/unet_best_model.pth\n",
      "\n",
      "[Unet-RA] Epoch 31/100\n"
     ]
    },
    {
     "name": "stderr",
     "output_type": "stream",
     "text": [
      "                                                           \r"
     ]
    },
    {
     "name": "stdout",
     "output_type": "stream",
     "text": [
      "Train Loss: 0.1108, Train Accuracy: 95.92%, Train IoU: 0.8085, Train IoU Loss: 0.1915\n"
     ]
    },
    {
     "name": "stderr",
     "output_type": "stream",
     "text": [
      "                                                             \r"
     ]
    },
    {
     "name": "stdout",
     "output_type": "stream",
     "text": [
      "Val Loss:   0.1329, Val Accuracy:   94.88%, Val IoU:   0.8310, Val IoU Loss:   0.1690\n",
      "\n",
      "[Unet-RA] Epoch 32/100\n"
     ]
    },
    {
     "name": "stderr",
     "output_type": "stream",
     "text": [
      "                                                           \r"
     ]
    },
    {
     "name": "stdout",
     "output_type": "stream",
     "text": [
      "Train Loss: 0.1078, Train Accuracy: 96.03%, Train IoU: 0.8104, Train IoU Loss: 0.1896\n"
     ]
    },
    {
     "name": "stderr",
     "output_type": "stream",
     "text": [
      "                                                             \r"
     ]
    },
    {
     "name": "stdout",
     "output_type": "stream",
     "text": [
      "Val Loss:   0.1203, Val Accuracy:   95.55%, Val IoU:   0.8548, Val IoU Loss:   0.1452\n",
      "  [*] Best model saved at Unet-RA/unet_best_model.pth\n",
      "\n",
      "[Unet-RA] Epoch 33/100\n"
     ]
    },
    {
     "name": "stderr",
     "output_type": "stream",
     "text": [
      "                                                           \r"
     ]
    },
    {
     "name": "stdout",
     "output_type": "stream",
     "text": [
      "Train Loss: 0.1071, Train Accuracy: 96.08%, Train IoU: 0.8114, Train IoU Loss: 0.1886\n"
     ]
    },
    {
     "name": "stderr",
     "output_type": "stream",
     "text": [
      "                                                             \r"
     ]
    },
    {
     "name": "stdout",
     "output_type": "stream",
     "text": [
      "Val Loss:   0.1634, Val Accuracy:   92.98%, Val IoU:   0.8002, Val IoU Loss:   0.1998\n",
      "\n",
      "[Unet-RA] Epoch 34/100\n"
     ]
    },
    {
     "name": "stderr",
     "output_type": "stream",
     "text": [
      "                                                           \r"
     ]
    },
    {
     "name": "stdout",
     "output_type": "stream",
     "text": [
      "Train Loss: 0.1061, Train Accuracy: 96.11%, Train IoU: 0.8147, Train IoU Loss: 0.1853\n"
     ]
    },
    {
     "name": "stderr",
     "output_type": "stream",
     "text": [
      "                                                             \r"
     ]
    },
    {
     "name": "stdout",
     "output_type": "stream",
     "text": [
      "Val Loss:   0.1294, Val Accuracy:   95.08%, Val IoU:   0.8361, Val IoU Loss:   0.1639\n",
      "\n",
      "[Unet-RA] Epoch 35/100\n"
     ]
    },
    {
     "name": "stderr",
     "output_type": "stream",
     "text": [
      "                                                           \r"
     ]
    },
    {
     "name": "stdout",
     "output_type": "stream",
     "text": [
      "Train Loss: 0.1045, Train Accuracy: 96.18%, Train IoU: 0.8147, Train IoU Loss: 0.1853\n"
     ]
    },
    {
     "name": "stderr",
     "output_type": "stream",
     "text": [
      "                                                             \r"
     ]
    },
    {
     "name": "stdout",
     "output_type": "stream",
     "text": [
      "Val Loss:   0.1260, Val Accuracy:   95.05%, Val IoU:   0.8465, Val IoU Loss:   0.1535\n",
      "\n",
      "[Unet-RA] Epoch 36/100\n"
     ]
    },
    {
     "name": "stderr",
     "output_type": "stream",
     "text": [
      "                                                           \r"
     ]
    },
    {
     "name": "stdout",
     "output_type": "stream",
     "text": [
      "Train Loss: 0.1047, Train Accuracy: 96.16%, Train IoU: 0.8146, Train IoU Loss: 0.1854\n"
     ]
    },
    {
     "name": "stderr",
     "output_type": "stream",
     "text": [
      "                                                             \r"
     ]
    },
    {
     "name": "stdout",
     "output_type": "stream",
     "text": [
      "Val Loss:   0.1187, Val Accuracy:   95.46%, Val IoU:   0.8540, Val IoU Loss:   0.1460\n",
      "  [*] Best model saved at Unet-RA/unet_best_model.pth\n",
      "\n",
      "[Unet-RA] Epoch 37/100\n"
     ]
    },
    {
     "name": "stderr",
     "output_type": "stream",
     "text": [
      "                                                           \r"
     ]
    },
    {
     "name": "stdout",
     "output_type": "stream",
     "text": [
      "Train Loss: 0.1027, Train Accuracy: 96.25%, Train IoU: 0.8179, Train IoU Loss: 0.1821\n"
     ]
    },
    {
     "name": "stderr",
     "output_type": "stream",
     "text": [
      "                                                             \r"
     ]
    },
    {
     "name": "stdout",
     "output_type": "stream",
     "text": [
      "Val Loss:   0.1134, Val Accuracy:   95.75%, Val IoU:   0.8620, Val IoU Loss:   0.1380\n",
      "  [*] Best model saved at Unet-RA/unet_best_model.pth\n",
      "\n",
      "[Unet-RA] Epoch 38/100\n"
     ]
    },
    {
     "name": "stderr",
     "output_type": "stream",
     "text": [
      "                                                           \r"
     ]
    },
    {
     "name": "stdout",
     "output_type": "stream",
     "text": [
      "Train Loss: 0.1032, Train Accuracy: 96.23%, Train IoU: 0.8186, Train IoU Loss: 0.1814\n"
     ]
    },
    {
     "name": "stderr",
     "output_type": "stream",
     "text": [
      "                                                             \r"
     ]
    },
    {
     "name": "stdout",
     "output_type": "stream",
     "text": [
      "Val Loss:   0.1281, Val Accuracy:   95.03%, Val IoU:   0.8477, Val IoU Loss:   0.1523\n",
      "\n",
      "[Unet-RA] Epoch 39/100\n"
     ]
    },
    {
     "name": "stderr",
     "output_type": "stream",
     "text": [
      "                                                           \r"
     ]
    },
    {
     "name": "stdout",
     "output_type": "stream",
     "text": [
      "Train Loss: 0.1041, Train Accuracy: 96.19%, Train IoU: 0.8161, Train IoU Loss: 0.1839\n"
     ]
    },
    {
     "name": "stderr",
     "output_type": "stream",
     "text": [
      "                                                             \r"
     ]
    },
    {
     "name": "stdout",
     "output_type": "stream",
     "text": [
      "Val Loss:   0.1212, Val Accuracy:   95.46%, Val IoU:   0.8526, Val IoU Loss:   0.1474\n",
      "\n",
      "[Unet-RA] Epoch 40/100\n"
     ]
    },
    {
     "name": "stderr",
     "output_type": "stream",
     "text": [
      "                                                           \r"
     ]
    },
    {
     "name": "stdout",
     "output_type": "stream",
     "text": [
      "Train Loss: 0.1002, Train Accuracy: 96.35%, Train IoU: 0.8233, Train IoU Loss: 0.1767\n"
     ]
    },
    {
     "name": "stderr",
     "output_type": "stream",
     "text": [
      "                                                             \r"
     ]
    },
    {
     "name": "stdout",
     "output_type": "stream",
     "text": [
      "Val Loss:   0.1189, Val Accuracy:   95.58%, Val IoU:   0.8541, Val IoU Loss:   0.1459\n",
      "\n",
      "[Unet-RA] Epoch 41/100\n"
     ]
    },
    {
     "name": "stderr",
     "output_type": "stream",
     "text": [
      "                                                           \r"
     ]
    },
    {
     "name": "stdout",
     "output_type": "stream",
     "text": [
      "Train Loss: 0.0995, Train Accuracy: 96.38%, Train IoU: 0.8209, Train IoU Loss: 0.1791\n"
     ]
    },
    {
     "name": "stderr",
     "output_type": "stream",
     "text": [
      "                                                             \r"
     ]
    },
    {
     "name": "stdout",
     "output_type": "stream",
     "text": [
      "Val Loss:   0.1193, Val Accuracy:   95.61%, Val IoU:   0.8554, Val IoU Loss:   0.1446\n",
      "\n",
      "[Unet-RA] Epoch 42/100\n"
     ]
    },
    {
     "name": "stderr",
     "output_type": "stream",
     "text": [
      "                                                           \r"
     ]
    },
    {
     "name": "stdout",
     "output_type": "stream",
     "text": [
      "Train Loss: 0.0991, Train Accuracy: 96.40%, Train IoU: 0.8230, Train IoU Loss: 0.1770\n"
     ]
    },
    {
     "name": "stderr",
     "output_type": "stream",
     "text": [
      "                                                             \r"
     ]
    },
    {
     "name": "stdout",
     "output_type": "stream",
     "text": [
      "Val Loss:   0.1225, Val Accuracy:   95.37%, Val IoU:   0.8447, Val IoU Loss:   0.1553\n",
      "\n",
      "[Unet-RA] Epoch 43/100\n"
     ]
    },
    {
     "name": "stderr",
     "output_type": "stream",
     "text": [
      "                                                           \r"
     ]
    },
    {
     "name": "stdout",
     "output_type": "stream",
     "text": [
      "Train Loss: 0.0979, Train Accuracy: 96.45%, Train IoU: 0.8248, Train IoU Loss: 0.1752\n"
     ]
    },
    {
     "name": "stderr",
     "output_type": "stream",
     "text": [
      "                                                             \r"
     ]
    },
    {
     "name": "stdout",
     "output_type": "stream",
     "text": [
      "Val Loss:   0.1256, Val Accuracy:   95.27%, Val IoU:   0.8404, Val IoU Loss:   0.1596\n",
      "\n",
      "[Unet-RA] Epoch 44/100\n"
     ]
    },
    {
     "name": "stderr",
     "output_type": "stream",
     "text": [
      "                                                           \r"
     ]
    },
    {
     "name": "stdout",
     "output_type": "stream",
     "text": [
      "Train Loss: 0.0979, Train Accuracy: 96.46%, Train IoU: 0.8259, Train IoU Loss: 0.1741\n"
     ]
    },
    {
     "name": "stderr",
     "output_type": "stream",
     "text": [
      "                                                             \r"
     ]
    },
    {
     "name": "stdout",
     "output_type": "stream",
     "text": [
      "Val Loss:   0.1286, Val Accuracy:   94.78%, Val IoU:   0.8423, Val IoU Loss:   0.1577\n",
      "\n",
      "[Unet-RA] Epoch 45/100\n"
     ]
    },
    {
     "name": "stderr",
     "output_type": "stream",
     "text": [
      "                                                           \r"
     ]
    },
    {
     "name": "stdout",
     "output_type": "stream",
     "text": [
      "Train Loss: 0.0974, Train Accuracy: 96.46%, Train IoU: 0.8271, Train IoU Loss: 0.1729\n"
     ]
    },
    {
     "name": "stderr",
     "output_type": "stream",
     "text": [
      "                                                             \r"
     ]
    },
    {
     "name": "stdout",
     "output_type": "stream",
     "text": [
      "Val Loss:   0.1140, Val Accuracy:   95.86%, Val IoU:   0.8596, Val IoU Loss:   0.1404\n",
      "\n",
      "[Unet-RA] Epoch 46/100\n"
     ]
    },
    {
     "name": "stderr",
     "output_type": "stream",
     "text": [
      "                                                           \r"
     ]
    },
    {
     "name": "stdout",
     "output_type": "stream",
     "text": [
      "Train Loss: 0.0965, Train Accuracy: 96.53%, Train IoU: 0.8280, Train IoU Loss: 0.1720\n"
     ]
    },
    {
     "name": "stderr",
     "output_type": "stream",
     "text": [
      "                                                             \r"
     ]
    },
    {
     "name": "stdout",
     "output_type": "stream",
     "text": [
      "Val Loss:   0.1131, Val Accuracy:   95.66%, Val IoU:   0.8587, Val IoU Loss:   0.1413\n",
      "  [*] Best model saved at Unet-RA/unet_best_model.pth\n",
      "\n",
      "[Unet-RA] Epoch 47/100\n"
     ]
    },
    {
     "name": "stderr",
     "output_type": "stream",
     "text": [
      "                                                           \r"
     ]
    },
    {
     "name": "stdout",
     "output_type": "stream",
     "text": [
      "Train Loss: 0.0963, Train Accuracy: 96.53%, Train IoU: 0.8287, Train IoU Loss: 0.1713\n"
     ]
    },
    {
     "name": "stderr",
     "output_type": "stream",
     "text": [
      "                                                             \r"
     ]
    },
    {
     "name": "stdout",
     "output_type": "stream",
     "text": [
      "Val Loss:   0.1114, Val Accuracy:   95.91%, Val IoU:   0.8635, Val IoU Loss:   0.1365\n",
      "  [*] Best model saved at Unet-RA/unet_best_model.pth\n",
      "\n",
      "[Unet-RA] Epoch 48/100\n"
     ]
    },
    {
     "name": "stderr",
     "output_type": "stream",
     "text": [
      "                                                           \r"
     ]
    },
    {
     "name": "stdout",
     "output_type": "stream",
     "text": [
      "Train Loss: 0.0964, Train Accuracy: 96.53%, Train IoU: 0.8277, Train IoU Loss: 0.1723\n"
     ]
    },
    {
     "name": "stderr",
     "output_type": "stream",
     "text": [
      "                                                             \r"
     ]
    },
    {
     "name": "stdout",
     "output_type": "stream",
     "text": [
      "Val Loss:   0.1209, Val Accuracy:   95.87%, Val IoU:   0.8638, Val IoU Loss:   0.1362\n",
      "\n",
      "[Unet-RA] Epoch 49/100\n"
     ]
    },
    {
     "name": "stderr",
     "output_type": "stream",
     "text": [
      "                                                           \r"
     ]
    },
    {
     "name": "stdout",
     "output_type": "stream",
     "text": [
      "Train Loss: 0.0962, Train Accuracy: 96.52%, Train IoU: 0.8287, Train IoU Loss: 0.1713\n"
     ]
    },
    {
     "name": "stderr",
     "output_type": "stream",
     "text": [
      "                                                             \r"
     ]
    },
    {
     "name": "stdout",
     "output_type": "stream",
     "text": [
      "Val Loss:   0.1334, Val Accuracy:   94.59%, Val IoU:   0.8181, Val IoU Loss:   0.1819\n",
      "\n",
      "[Unet-RA] Epoch 50/100\n"
     ]
    },
    {
     "name": "stderr",
     "output_type": "stream",
     "text": [
      "                                                           \r"
     ]
    },
    {
     "name": "stdout",
     "output_type": "stream",
     "text": [
      "Train Loss: 0.0932, Train Accuracy: 96.66%, Train IoU: 0.8343, Train IoU Loss: 0.1657\n"
     ]
    },
    {
     "name": "stderr",
     "output_type": "stream",
     "text": [
      "                                                             \r"
     ]
    },
    {
     "name": "stdout",
     "output_type": "stream",
     "text": [
      "Val Loss:   0.1159, Val Accuracy:   95.68%, Val IoU:   0.8535, Val IoU Loss:   0.1465\n",
      "\n",
      "[Unet-RA] Epoch 51/100\n"
     ]
    },
    {
     "name": "stderr",
     "output_type": "stream",
     "text": [
      "                                                           \r"
     ]
    },
    {
     "name": "stdout",
     "output_type": "stream",
     "text": [
      "Train Loss: 0.0943, Train Accuracy: 96.61%, Train IoU: 0.8308, Train IoU Loss: 0.1692\n"
     ]
    },
    {
     "name": "stderr",
     "output_type": "stream",
     "text": [
      "                                                             \r"
     ]
    },
    {
     "name": "stdout",
     "output_type": "stream",
     "text": [
      "Val Loss:   0.1108, Val Accuracy:   95.72%, Val IoU:   0.8620, Val IoU Loss:   0.1380\n",
      "  [*] Best model saved at Unet-RA/unet_best_model.pth\n",
      "\n",
      "[Unet-RA] Epoch 52/100\n"
     ]
    },
    {
     "name": "stderr",
     "output_type": "stream",
     "text": [
      "                                                           \r"
     ]
    },
    {
     "name": "stdout",
     "output_type": "stream",
     "text": [
      "Train Loss: 0.0976, Train Accuracy: 96.48%, Train IoU: 0.8273, Train IoU Loss: 0.1727\n"
     ]
    },
    {
     "name": "stderr",
     "output_type": "stream",
     "text": [
      "                                                             \r"
     ]
    },
    {
     "name": "stdout",
     "output_type": "stream",
     "text": [
      "Val Loss:   0.1324, Val Accuracy:   95.08%, Val IoU:   0.8312, Val IoU Loss:   0.1688\n",
      "\n",
      "[Unet-RA] Epoch 53/100\n"
     ]
    },
    {
     "name": "stderr",
     "output_type": "stream",
     "text": [
      "                                                           \r"
     ]
    },
    {
     "name": "stdout",
     "output_type": "stream",
     "text": [
      "Train Loss: 0.0961, Train Accuracy: 96.53%, Train IoU: 0.8280, Train IoU Loss: 0.1720\n"
     ]
    },
    {
     "name": "stderr",
     "output_type": "stream",
     "text": [
      "                                                             \r"
     ]
    },
    {
     "name": "stdout",
     "output_type": "stream",
     "text": [
      "Val Loss:   0.1148, Val Accuracy:   95.55%, Val IoU:   0.8580, Val IoU Loss:   0.1420\n",
      "\n",
      "[Unet-RA] Epoch 54/100\n"
     ]
    },
    {
     "name": "stderr",
     "output_type": "stream",
     "text": [
      "                                                           \r"
     ]
    },
    {
     "name": "stdout",
     "output_type": "stream",
     "text": [
      "Train Loss: 0.0936, Train Accuracy: 96.64%, Train IoU: 0.8328, Train IoU Loss: 0.1672\n"
     ]
    },
    {
     "name": "stderr",
     "output_type": "stream",
     "text": [
      "                                                             \r"
     ]
    },
    {
     "name": "stdout",
     "output_type": "stream",
     "text": [
      "Val Loss:   0.1194, Val Accuracy:   95.53%, Val IoU:   0.8476, Val IoU Loss:   0.1524\n",
      "\n",
      "[Unet-RA] Epoch 55/100\n"
     ]
    },
    {
     "name": "stderr",
     "output_type": "stream",
     "text": [
      "                                                           \r"
     ]
    },
    {
     "name": "stdout",
     "output_type": "stream",
     "text": [
      "Train Loss: 0.0920, Train Accuracy: 96.70%, Train IoU: 0.8334, Train IoU Loss: 0.1666\n"
     ]
    },
    {
     "name": "stderr",
     "output_type": "stream",
     "text": [
      "                                                             \r"
     ]
    },
    {
     "name": "stdout",
     "output_type": "stream",
     "text": [
      "Val Loss:   0.1177, Val Accuracy:   95.52%, Val IoU:   0.8507, Val IoU Loss:   0.1493\n",
      "\n",
      "[Unet-RA] Epoch 56/100\n"
     ]
    },
    {
     "name": "stderr",
     "output_type": "stream",
     "text": [
      "                                                           \r"
     ]
    },
    {
     "name": "stdout",
     "output_type": "stream",
     "text": [
      "Train Loss: 0.0925, Train Accuracy: 96.69%, Train IoU: 0.8332, Train IoU Loss: 0.1668\n"
     ]
    },
    {
     "name": "stderr",
     "output_type": "stream",
     "text": [
      "                                                             \r"
     ]
    },
    {
     "name": "stdout",
     "output_type": "stream",
     "text": [
      "Val Loss:   0.1201, Val Accuracy:   95.40%, Val IoU:   0.8493, Val IoU Loss:   0.1507\n",
      "\n",
      "[Unet-RA] Epoch 57/100\n"
     ]
    },
    {
     "name": "stderr",
     "output_type": "stream",
     "text": [
      "                                                           \r"
     ]
    },
    {
     "name": "stdout",
     "output_type": "stream",
     "text": [
      "Train Loss: 0.0929, Train Accuracy: 96.67%, Train IoU: 0.8342, Train IoU Loss: 0.1658\n"
     ]
    },
    {
     "name": "stderr",
     "output_type": "stream",
     "text": [
      "                                                             \r"
     ]
    },
    {
     "name": "stdout",
     "output_type": "stream",
     "text": [
      "Val Loss:   0.1072, Val Accuracy:   96.11%, Val IoU:   0.8709, Val IoU Loss:   0.1291\n",
      "  [*] Best model saved at Unet-RA/unet_best_model.pth\n",
      "\n",
      "[Unet-RA] Epoch 58/100\n"
     ]
    },
    {
     "name": "stderr",
     "output_type": "stream",
     "text": [
      "                                                           \r"
     ]
    },
    {
     "name": "stdout",
     "output_type": "stream",
     "text": [
      "Train Loss: 0.0920, Train Accuracy: 96.71%, Train IoU: 0.8329, Train IoU Loss: 0.1671\n"
     ]
    },
    {
     "name": "stderr",
     "output_type": "stream",
     "text": [
      "                                                             \r"
     ]
    },
    {
     "name": "stdout",
     "output_type": "stream",
     "text": [
      "Val Loss:   0.1083, Val Accuracy:   95.97%, Val IoU:   0.8667, Val IoU Loss:   0.1333\n",
      "\n",
      "[Unet-RA] Epoch 59/100\n"
     ]
    },
    {
     "name": "stderr",
     "output_type": "stream",
     "text": [
      "                                                           \r"
     ]
    },
    {
     "name": "stdout",
     "output_type": "stream",
     "text": [
      "Train Loss: 0.0915, Train Accuracy: 96.72%, Train IoU: 0.8353, Train IoU Loss: 0.1647\n"
     ]
    },
    {
     "name": "stderr",
     "output_type": "stream",
     "text": [
      "                                                             \r"
     ]
    },
    {
     "name": "stdout",
     "output_type": "stream",
     "text": [
      "Val Loss:   0.1089, Val Accuracy:   95.88%, Val IoU:   0.8646, Val IoU Loss:   0.1354\n",
      "\n",
      "[Unet-RA] Epoch 60/100\n"
     ]
    },
    {
     "name": "stderr",
     "output_type": "stream",
     "text": [
      "                                                           \r"
     ]
    },
    {
     "name": "stdout",
     "output_type": "stream",
     "text": [
      "Train Loss: 0.0906, Train Accuracy: 96.78%, Train IoU: 0.8375, Train IoU Loss: 0.1625\n"
     ]
    },
    {
     "name": "stderr",
     "output_type": "stream",
     "text": [
      "                                                             \r"
     ]
    },
    {
     "name": "stdout",
     "output_type": "stream",
     "text": [
      "Val Loss:   0.1354, Val Accuracy:   94.71%, Val IoU:   0.8208, Val IoU Loss:   0.1792\n",
      "\n",
      "[Unet-RA] Epoch 61/100\n"
     ]
    },
    {
     "name": "stderr",
     "output_type": "stream",
     "text": [
      "                                                           \r"
     ]
    },
    {
     "name": "stdout",
     "output_type": "stream",
     "text": [
      "Train Loss: 0.0911, Train Accuracy: 96.74%, Train IoU: 0.8341, Train IoU Loss: 0.1659\n"
     ]
    },
    {
     "name": "stderr",
     "output_type": "stream",
     "text": [
      "                                                             \r"
     ]
    },
    {
     "name": "stdout",
     "output_type": "stream",
     "text": [
      "Val Loss:   0.1156, Val Accuracy:   95.56%, Val IoU:   0.8603, Val IoU Loss:   0.1397\n",
      "\n",
      "[Unet-RA] Epoch 62/100\n"
     ]
    },
    {
     "name": "stderr",
     "output_type": "stream",
     "text": [
      "                                                           \r"
     ]
    },
    {
     "name": "stdout",
     "output_type": "stream",
     "text": [
      "Train Loss: 0.0928, Train Accuracy: 96.67%, Train IoU: 0.8345, Train IoU Loss: 0.1655\n"
     ]
    },
    {
     "name": "stderr",
     "output_type": "stream",
     "text": [
      "                                                             \r"
     ]
    },
    {
     "name": "stdout",
     "output_type": "stream",
     "text": [
      "Val Loss:   0.1143, Val Accuracy:   95.57%, Val IoU:   0.8560, Val IoU Loss:   0.1440\n",
      "\n",
      "[Unet-RA] Epoch 63/100\n"
     ]
    },
    {
     "name": "stderr",
     "output_type": "stream",
     "text": [
      "                                                           \r"
     ]
    },
    {
     "name": "stdout",
     "output_type": "stream",
     "text": [
      "Train Loss: 0.0905, Train Accuracy: 96.77%, Train IoU: 0.8358, Train IoU Loss: 0.1642\n"
     ]
    },
    {
     "name": "stderr",
     "output_type": "stream",
     "text": [
      "                                                             \r"
     ]
    },
    {
     "name": "stdout",
     "output_type": "stream",
     "text": [
      "Val Loss:   0.1122, Val Accuracy:   95.71%, Val IoU:   0.8618, Val IoU Loss:   0.1382\n",
      "\n",
      "[Unet-RA] Epoch 64/100\n"
     ]
    },
    {
     "name": "stderr",
     "output_type": "stream",
     "text": [
      "                                                           \r"
     ]
    },
    {
     "name": "stdout",
     "output_type": "stream",
     "text": [
      "Train Loss: 0.0915, Train Accuracy: 96.73%, Train IoU: 0.8343, Train IoU Loss: 0.1657\n"
     ]
    },
    {
     "name": "stderr",
     "output_type": "stream",
     "text": [
      "                                                             \r"
     ]
    },
    {
     "name": "stdout",
     "output_type": "stream",
     "text": [
      "Val Loss:   0.1161, Val Accuracy:   95.62%, Val IoU:   0.8579, Val IoU Loss:   0.1421\n",
      "\n",
      "[Unet-RA] Epoch 65/100\n"
     ]
    },
    {
     "name": "stderr",
     "output_type": "stream",
     "text": [
      "                                                           \r"
     ]
    },
    {
     "name": "stdout",
     "output_type": "stream",
     "text": [
      "Train Loss: 0.0887, Train Accuracy: 96.85%, Train IoU: 0.8379, Train IoU Loss: 0.1621\n"
     ]
    },
    {
     "name": "stderr",
     "output_type": "stream",
     "text": [
      "                                                             \r"
     ]
    },
    {
     "name": "stdout",
     "output_type": "stream",
     "text": [
      "Val Loss:   0.1072, Val Accuracy:   95.98%, Val IoU:   0.8662, Val IoU Loss:   0.1338\n",
      "\n",
      "[Unet-RA] Epoch 66/100\n"
     ]
    },
    {
     "name": "stderr",
     "output_type": "stream",
     "text": [
      "                                                           \r"
     ]
    },
    {
     "name": "stdout",
     "output_type": "stream",
     "text": [
      "Train Loss: 0.0887, Train Accuracy: 96.84%, Train IoU: 0.8406, Train IoU Loss: 0.1594\n"
     ]
    },
    {
     "name": "stderr",
     "output_type": "stream",
     "text": [
      "                                                             \r"
     ]
    },
    {
     "name": "stdout",
     "output_type": "stream",
     "text": [
      "Val Loss:   0.1002, Val Accuracy:   96.27%, Val IoU:   0.8738, Val IoU Loss:   0.1262\n",
      "  [*] Best model saved at Unet-RA/unet_best_model.pth\n",
      "\n",
      "[Unet-RA] Epoch 67/100\n"
     ]
    },
    {
     "name": "stderr",
     "output_type": "stream",
     "text": [
      "                                                           \r"
     ]
    },
    {
     "name": "stdout",
     "output_type": "stream",
     "text": [
      "Train Loss: 0.0900, Train Accuracy: 96.80%, Train IoU: 0.8390, Train IoU Loss: 0.1610\n"
     ]
    },
    {
     "name": "stderr",
     "output_type": "stream",
     "text": [
      "                                                             \r"
     ]
    },
    {
     "name": "stdout",
     "output_type": "stream",
     "text": [
      "Val Loss:   0.1141, Val Accuracy:   95.65%, Val IoU:   0.8602, Val IoU Loss:   0.1398\n",
      "\n",
      "[Unet-RA] Epoch 68/100\n"
     ]
    },
    {
     "name": "stderr",
     "output_type": "stream",
     "text": [
      "                                                           \r"
     ]
    },
    {
     "name": "stdout",
     "output_type": "stream",
     "text": [
      "Train Loss: 0.0875, Train Accuracy: 96.90%, Train IoU: 0.8399, Train IoU Loss: 0.1601\n"
     ]
    },
    {
     "name": "stderr",
     "output_type": "stream",
     "text": [
      "                                                             \r"
     ]
    },
    {
     "name": "stdout",
     "output_type": "stream",
     "text": [
      "Val Loss:   0.1073, Val Accuracy:   96.02%, Val IoU:   0.8660, Val IoU Loss:   0.1340\n",
      "\n",
      "[Unet-RA] Epoch 69/100\n"
     ]
    },
    {
     "name": "stderr",
     "output_type": "stream",
     "text": [
      "                                                           \r"
     ]
    },
    {
     "name": "stdout",
     "output_type": "stream",
     "text": [
      "Train Loss: 0.0899, Train Accuracy: 96.78%, Train IoU: 0.8371, Train IoU Loss: 0.1629\n"
     ]
    },
    {
     "name": "stderr",
     "output_type": "stream",
     "text": [
      "                                                             \r"
     ]
    },
    {
     "name": "stdout",
     "output_type": "stream",
     "text": [
      "Val Loss:   0.1115, Val Accuracy:   95.80%, Val IoU:   0.8608, Val IoU Loss:   0.1392\n",
      "\n",
      "[Unet-RA] Epoch 70/100\n"
     ]
    },
    {
     "name": "stderr",
     "output_type": "stream",
     "text": [
      "                                                           \r"
     ]
    },
    {
     "name": "stdout",
     "output_type": "stream",
     "text": [
      "Train Loss: 0.0876, Train Accuracy: 96.90%, Train IoU: 0.8409, Train IoU Loss: 0.1591\n"
     ]
    },
    {
     "name": "stderr",
     "output_type": "stream",
     "text": [
      "                                                             \r"
     ]
    },
    {
     "name": "stdout",
     "output_type": "stream",
     "text": [
      "Val Loss:   0.1080, Val Accuracy:   95.96%, Val IoU:   0.8629, Val IoU Loss:   0.1371\n",
      "\n",
      "[Unet-RA] Epoch 71/100\n"
     ]
    },
    {
     "name": "stderr",
     "output_type": "stream",
     "text": [
      "                                                           \r"
     ]
    },
    {
     "name": "stdout",
     "output_type": "stream",
     "text": [
      "Train Loss: 0.0876, Train Accuracy: 96.88%, Train IoU: 0.8406, Train IoU Loss: 0.1594\n"
     ]
    },
    {
     "name": "stderr",
     "output_type": "stream",
     "text": [
      "                                                             \r"
     ]
    },
    {
     "name": "stdout",
     "output_type": "stream",
     "text": [
      "Val Loss:   0.1034, Val Accuracy:   96.18%, Val IoU:   0.8695, Val IoU Loss:   0.1305\n",
      "\n",
      "[Unet-RA] Epoch 72/100\n"
     ]
    },
    {
     "name": "stderr",
     "output_type": "stream",
     "text": [
      "                                                           \r"
     ]
    },
    {
     "name": "stdout",
     "output_type": "stream",
     "text": [
      "Train Loss: 0.0896, Train Accuracy: 96.81%, Train IoU: 0.8373, Train IoU Loss: 0.1627\n"
     ]
    },
    {
     "name": "stderr",
     "output_type": "stream",
     "text": [
      "                                                             \r"
     ]
    },
    {
     "name": "stdout",
     "output_type": "stream",
     "text": [
      "Val Loss:   0.1331, Val Accuracy:   94.57%, Val IoU:   0.8348, Val IoU Loss:   0.1652\n",
      "\n",
      "[Unet-RA] Epoch 73/100\n"
     ]
    },
    {
     "name": "stderr",
     "output_type": "stream",
     "text": [
      "                                                           \r"
     ]
    },
    {
     "name": "stdout",
     "output_type": "stream",
     "text": [
      "Train Loss: 0.0863, Train Accuracy: 96.94%, Train IoU: 0.8432, Train IoU Loss: 0.1568\n"
     ]
    },
    {
     "name": "stderr",
     "output_type": "stream",
     "text": [
      "                                                             \r"
     ]
    },
    {
     "name": "stdout",
     "output_type": "stream",
     "text": [
      "Val Loss:   0.1038, Val Accuracy:   96.19%, Val IoU:   0.8736, Val IoU Loss:   0.1264\n",
      "\n",
      "[Unet-RA] Epoch 74/100\n"
     ]
    },
    {
     "name": "stderr",
     "output_type": "stream",
     "text": [
      "                                                           \r"
     ]
    },
    {
     "name": "stdout",
     "output_type": "stream",
     "text": [
      "Train Loss: 0.0870, Train Accuracy: 96.91%, Train IoU: 0.8401, Train IoU Loss: 0.1599\n"
     ]
    },
    {
     "name": "stderr",
     "output_type": "stream",
     "text": [
      "                                                             \r"
     ]
    },
    {
     "name": "stdout",
     "output_type": "stream",
     "text": [
      "Val Loss:   0.1047, Val Accuracy:   96.09%, Val IoU:   0.8691, Val IoU Loss:   0.1309\n",
      "\n",
      "[Unet-RA] Epoch 75/100\n"
     ]
    },
    {
     "name": "stderr",
     "output_type": "stream",
     "text": [
      "                                                           \r"
     ]
    },
    {
     "name": "stdout",
     "output_type": "stream",
     "text": [
      "Train Loss: 0.0881, Train Accuracy: 96.86%, Train IoU: 0.8394, Train IoU Loss: 0.1606\n"
     ]
    },
    {
     "name": "stderr",
     "output_type": "stream",
     "text": [
      "                                                             \r"
     ]
    },
    {
     "name": "stdout",
     "output_type": "stream",
     "text": [
      "Val Loss:   0.1145, Val Accuracy:   95.47%, Val IoU:   0.8574, Val IoU Loss:   0.1426\n",
      "\n",
      "[Unet-RA] Epoch 76/100\n"
     ]
    },
    {
     "name": "stderr",
     "output_type": "stream",
     "text": [
      "                                                           \r"
     ]
    },
    {
     "name": "stdout",
     "output_type": "stream",
     "text": [
      "Train Loss: 0.0879, Train Accuracy: 96.88%, Train IoU: 0.8398, Train IoU Loss: 0.1602\n"
     ]
    },
    {
     "name": "stderr",
     "output_type": "stream",
     "text": [
      "                                                             \r"
     ]
    },
    {
     "name": "stdout",
     "output_type": "stream",
     "text": [
      "Val Loss:   0.1068, Val Accuracy:   96.01%, Val IoU:   0.8641, Val IoU Loss:   0.1359\n",
      "  [!] Early stopping for Unet-RA\n",
      "  Metrics saved to Unet-RA/Training_Metrics.xlsx\n",
      "Done training Unet-RA.\n",
      "\n"
     ]
    }
   ],
   "source": [
    "import os\n",
    "import numpy as np\n",
    "import torch\n",
    "import torch.nn as nn\n",
    "import torch.optim as optim\n",
    "from torch.utils.data import Dataset, DataLoader\n",
    "import torchvision.transforms as transforms\n",
    "import pandas as pd\n",
    "from tqdm import tqdm\n",
    "from PIL import Image\n",
    "import gc  # For garbage collection\n",
    "\n",
    "IMG_HEIGHT = 640\n",
    "IMG_WIDTH = 640\n",
    "BATCH_SIZE = 2\n",
    "EPOCHS = 100\n",
    "NUM_CLASSES = 3\n",
    "LEARNING_RATE = 0.001\n",
    "PATIENCE = 10  # Early stopping\n",
    "DEVICE = torch.device('cuda' if torch.cuda.is_available() else 'cpu')\n",
    "\n",
    "IMAGE_DIR = 'CWD-3HSV/train/images'\n",
    "MASK_DIR  = 'CWD-3HSV/train/Morphed_Images'\n",
    "VALID_IMAGE_DIR = 'CWD-3HSV/valid/images'\n",
    "VALID_MASK_DIR  = 'CWD-3HSV/valid/Morphed_Images'\n",
    "\n",
    "class SegmentationDataset(Dataset):\n",
    "    def __init__(self, image_files, mask_files, transform=None):\n",
    "        self.image_files = image_files\n",
    "        self.mask_files  = mask_files\n",
    "        self.transform   = transform\n",
    "\n",
    "    def __len__(self):\n",
    "        return len(self.image_files)\n",
    "\n",
    "    def __getitem__(self, idx):\n",
    "        img_path  = self.image_files[idx]\n",
    "        mask_path = self.mask_files[idx]\n",
    "        image = Image.open(img_path).convert('RGB')\n",
    "        mask  = Image.open(mask_path).convert('L')\n",
    "\n",
    "        # Resize\n",
    "        image = image.resize((IMG_WIDTH, IMG_HEIGHT))\n",
    "        mask  = mask.resize((IMG_WIDTH, IMG_HEIGHT))\n",
    "\n",
    "        if self.transform:\n",
    "            image = self.transform(image)\n",
    "            mask  = torch.tensor(np.array(mask), dtype=torch.long)\n",
    "\n",
    "        return image, mask\n",
    "\n",
    "# Prepare training file paths\n",
    "image_files = [f for f in os.listdir(IMAGE_DIR) if f.endswith('.jpg')]\n",
    "mask_files  = [f.replace('.jpg', '_morphed.png') for f in image_files]\n",
    "\n",
    "valid_image_files = []\n",
    "valid_mask_files  = []\n",
    "for img_file in image_files:\n",
    "    mask_file = img_file.replace('.jpg', '_morphed.png')\n",
    "    if mask_file in os.listdir(MASK_DIR):\n",
    "        valid_image_files.append(os.path.join(IMAGE_DIR, img_file))\n",
    "        valid_mask_files.append(os.path.join(MASK_DIR,  mask_file))\n",
    "\n",
    "val_image_files = [os.path.join(VALID_IMAGE_DIR, f) for f in os.listdir(VALID_IMAGE_DIR) if f.endswith('.jpg')]\n",
    "val_mask_files  = [os.path.join(VALID_MASK_DIR,  f.replace('.jpg', '_morphed.png'))\n",
    "                   for f in os.listdir(VALID_IMAGE_DIR) if f.endswith('.jpg')]\n",
    "\n",
    "transform = transforms.Compose([transforms.ToTensor()])\n",
    "\n",
    "train_dataset = SegmentationDataset(valid_image_files, valid_mask_files, transform=transform)\n",
    "val_dataset   = SegmentationDataset(val_image_files,   val_mask_files,   transform=transform)\n",
    "\n",
    "train_loader  = DataLoader(train_dataset, batch_size=BATCH_SIZE, shuffle=True)\n",
    "val_loader    = DataLoader(val_dataset,   batch_size=BATCH_SIZE, shuffle=False)\n",
    "\n",
    "def calculate_iou(outputs, masks, num_classes):\n",
    "    # outputs: (B, num_classes, H, W)\n",
    "    outputs = torch.argmax(outputs, dim=1)\n",
    "    iou_per_class = []\n",
    "    for cls in range(num_classes):\n",
    "        intersection = ((outputs == cls) & (masks == cls)).sum().item()\n",
    "        union        = ((outputs == cls) | (masks == cls)).sum().item()\n",
    "        if union == 0:\n",
    "            iou_per_class.append(float('nan'))\n",
    "        else:\n",
    "            iou_per_class.append(intersection / union)\n",
    "    return np.nanmean(iou_per_class)\n",
    "\n",
    "def calculate_iou_loss(outputs, masks, num_classes):\n",
    "    # 1 - mean IoU\n",
    "    iou = calculate_iou(outputs, masks, num_classes)\n",
    "    return 1 - iou\n",
    "\n",
    "def train_epoch(model, data_loader, optimizer, criterion):\n",
    "    model.train()\n",
    "    running_loss     = 0.0\n",
    "    running_iou_loss = 0.0\n",
    "    correct          = 0\n",
    "    total            = 0\n",
    "    iou_score        = 0\n",
    "\n",
    "    for images, masks in tqdm(data_loader, desc=\"Training\", leave=False):\n",
    "        images, masks = images.to(DEVICE), masks.to(DEVICE)\n",
    "\n",
    "        optimizer.zero_grad()\n",
    "        outputs  = model(images)\n",
    "        loss     = criterion(outputs, masks)\n",
    "        iou_loss = calculate_iou_loss(outputs, masks, NUM_CLASSES)\n",
    "\n",
    "        loss.backward()\n",
    "        optimizer.step()\n",
    "\n",
    "        running_loss     += loss.item()\n",
    "        running_iou_loss += iou_loss\n",
    "        _, predicted     = torch.max(outputs, 1)\n",
    "        total           += masks.numel()\n",
    "        correct         += (predicted == masks).sum().item()\n",
    "        iou_score       += calculate_iou(outputs, masks, NUM_CLASSES)\n",
    "\n",
    "    epoch_loss      = running_loss / len(data_loader)\n",
    "    epoch_iou_loss  = running_iou_loss / len(data_loader)\n",
    "    epoch_accuracy  = correct / total * 100\n",
    "    epoch_iou       = iou_score / len(data_loader)\n",
    "    return epoch_loss, epoch_accuracy, epoch_iou, epoch_iou_loss\n",
    "\n",
    "def evaluate(model, data_loader, criterion):\n",
    "    model.eval()\n",
    "    running_loss     = 0.0\n",
    "    running_iou_loss = 0.0\n",
    "    correct          = 0\n",
    "    total            = 0\n",
    "    iou_score        = 0\n",
    "\n",
    "    with torch.no_grad():\n",
    "        for images, masks in tqdm(data_loader, desc=\"Validation\", leave=False):\n",
    "            images, masks = images.to(DEVICE), masks.to(DEVICE)\n",
    "\n",
    "            outputs  = model(images)\n",
    "            loss     = criterion(outputs, masks)\n",
    "            iou_loss = calculate_iou_loss(outputs, masks, NUM_CLASSES)\n",
    "\n",
    "            running_loss     += loss.item()\n",
    "            running_iou_loss += iou_loss\n",
    "            _, predicted     = torch.max(outputs, 1)\n",
    "            total           += masks.numel()\n",
    "            correct         += (predicted == masks).sum().item()\n",
    "            iou_score       += calculate_iou(outputs, masks, NUM_CLASSES)\n",
    "\n",
    "    epoch_loss      = running_loss / len(data_loader)\n",
    "    epoch_iou_loss  = running_iou_loss / len(data_loader)\n",
    "    epoch_accuracy  = correct / total * 100\n",
    "    epoch_iou       = iou_score / len(data_loader)\n",
    "    return epoch_loss, epoch_accuracy, epoch_iou, epoch_iou_loss\n",
    "\n",
    "def train_and_evaluate_model(model_name, model_class, \n",
    "                             train_loader, val_loader,\n",
    "                             epochs=EPOCHS, patience=PATIENCE):\n",
    "    \"\"\"\n",
    "    Train a given model with the specified name/class \n",
    "    and store best model + metrics in a separate folder.\n",
    "    \"\"\"\n",
    "    # 1) Create directory for this model\n",
    "    model_dir = model_name\n",
    "    os.makedirs(model_dir, exist_ok=True)\n",
    "\n",
    "    # 2) Instantiate model + move to device\n",
    "    model = model_class(in_channels=3, out_channels=NUM_CLASSES).to(DEVICE)\n",
    "\n",
    "    # 3) Define optimizer + loss\n",
    "    optimizer = optim.Adam(model.parameters(), lr=LEARNING_RATE)\n",
    "    criterion = nn.CrossEntropyLoss()\n",
    "\n",
    "    best_val_loss   = float('inf')\n",
    "    best_model_path = None\n",
    "    patience_counter= 0\n",
    "    records         = []\n",
    "\n",
    "    for epoch in range(epochs):\n",
    "        print(f\"\\n[{model_name}] Epoch {epoch+1}/{epochs}\")\n",
    "\n",
    "        train_loss, train_accuracy, train_iou, train_iou_loss = train_epoch(model, train_loader, optimizer, criterion)\n",
    "        print(f\"Train Loss: {train_loss:.4f}, Train Accuracy: {train_accuracy:.2f}%, \"\n",
    "              f\"Train IoU: {train_iou:.4f}, Train IoU Loss: {train_iou_loss:.4f}\")\n",
    "\n",
    "        val_loss, val_accuracy, val_iou, val_iou_loss = evaluate(model, val_loader, criterion)\n",
    "        print(f\"Val Loss:   {val_loss:.4f}, Val Accuracy:   {val_accuracy:.2f}%, \"\n",
    "              f\"Val IoU:   {val_iou:.4f}, Val IoU Loss:   {val_iou_loss:.4f}\")\n",
    "\n",
    "        records.append([\n",
    "            epoch+1, \n",
    "            train_loss, \n",
    "            train_accuracy, \n",
    "            val_loss, \n",
    "            val_accuracy, \n",
    "            train_iou_loss, \n",
    "            train_iou, \n",
    "            val_iou_loss, \n",
    "            val_iou\n",
    "        ])\n",
    "\n",
    "        # Early stopping\n",
    "        if val_loss < best_val_loss:\n",
    "            best_val_loss = val_loss\n",
    "            best_model_path = os.path.join(model_dir, \"unet_best_model.pth\")\n",
    "            torch.save(model, best_model_path)\n",
    "            print(f\"  [*] Best model saved at {best_model_path}\")\n",
    "            patience_counter = 0\n",
    "        else:\n",
    "            patience_counter += 1\n",
    "\n",
    "        if patience_counter >= patience:\n",
    "            print(f\"  [!] Early stopping for {model_name}\")\n",
    "            break\n",
    "\n",
    "    # 4) Save Training_Metrics.xlsx in model_dir\n",
    "    excel_path = os.path.join(model_dir, \"Training_Metrics.xlsx\")\n",
    "    columns = [\n",
    "        \"Epoch\", \n",
    "        \"Training Loss\", \n",
    "        \"Training Accuracy\", \n",
    "        \"Validation Loss\", \n",
    "        \"Validation Accuracy\", \n",
    "        \"Training IoU loss\", \n",
    "        \"Mean Training IoU\", \n",
    "        \"Validation IoU loss\", \n",
    "        \"Mean Validation IoU\"\n",
    "    ]\n",
    "    df = pd.DataFrame(records, columns=columns)\n",
    "    df.to_excel(excel_path, index=False)\n",
    "    print(f\"  Metrics saved to {excel_path}\")\n",
    "\n",
    "    print(f\"Done training {model_name}.\\n\")\n",
    "\n",
    "    # Free up GPU memory after training this model\n",
    "    del model\n",
    "    gc.collect()  # Force garbage collection\n",
    "    torch.cuda.empty_cache()\n",
    "\n",
    "if __name__ == \"__main__\":\n",
    "    # List of models you want to train\n",
    "    models_to_train = {\n",
    "        \"Unet-AT\"   : UNet_AT,\n",
    "        \"Unet-SE\"   : UNet_SE,\n",
    "        \"Unet-CBAM\" : UNet_CBAM,\n",
    "        \"Unet-ST\"   : UNet_ST,\n",
    "        \"Unet-SCSE\" : UNet_SCSE,\n",
    "        \"Unet-DA\"   : UNet_DA,\n",
    "        \"Unet-RA\"   : UNet_RA,\n",
    "    }\n",
    "\n",
    "    for model_name, model_class in models_to_train.items():\n",
    "        train_and_evaluate_model(model_name, model_class, \n",
    "                                 train_loader, val_loader,\n",
    "                                 epochs=EPOCHS, patience=PATIENCE)\n",
    "        # Extra precaution: free any residual CUDA memory after each model training\n",
    "        gc.collect()\n",
    "        torch.cuda.empty_cache()\n"
   ]
  },
  {
   "cell_type": "markdown",
   "metadata": {},
   "source": [
    "# Saving Prediction Images Of Each Model"
   ]
  },
  {
   "cell_type": "code",
   "execution_count": 9,
   "metadata": {},
   "outputs": [
    {
     "name": "stderr",
     "output_type": "stream",
     "text": [
      "/tmp/ipykernel_4204/2188687900.py:27: FutureWarning: You are using `torch.load` with `weights_only=False` (the current default value), which uses the default pickle module implicitly. It is possible to construct malicious pickle data which will execute arbitrary code during unpickling (See https://github.com/pytorch/pytorch/blob/main/SECURITY.md#untrusted-models for more details). In a future release, the default value for `weights_only` will be flipped to `True`. This limits the functions that could be executed during unpickling. Arbitrary objects will no longer be allowed to be loaded via this mode unless they are explicitly allowlisted by the user via `torch.serialization.add_safe_globals`. We recommend you start setting `weights_only=True` for any use case where you don't have full control of the loaded file. Please open an issue on GitHub for any issues related to this experimental feature.\n",
      "  model = torch.load(model_path, map_location=DEVICE)\n"
     ]
    }
   ],
   "source": [
    "import os\n",
    "import random\n",
    "import numpy as np\n",
    "import torch\n",
    "from torchvision import transforms\n",
    "from PIL import Image\n",
    "import matplotlib.pyplot as plt\n",
    "\n",
    "import matplotlib\n",
    "matplotlib.use('Agg')  # Turn off interactive backend (no pop-up windows)\n",
    "\n",
    "TEST_IMAGE_FOLDER       = 'CWD-3HSV/test/images'\n",
    "GROUND_TRUTH_MASK_FOLDER= 'CWD-3HSV/test/Morphed_Images'\n",
    "IMG_HEIGHT              = 640\n",
    "IMG_WIDTH               = 640\n",
    "NUM_CLASSES             = 3\n",
    "DEVICE                  = torch.device('cuda' if torch.cuda.is_available() else 'cpu')\n",
    "\n",
    "\n",
    "transform = transforms.Compose([\n",
    "    transforms.Resize((IMG_HEIGHT, IMG_WIDTH)),\n",
    "    transforms.ToTensor(),\n",
    "])\n",
    "\n",
    "\n",
    "def load_full_model(model_path):\n",
    "    model = torch.load(model_path, map_location=DEVICE)\n",
    "    model = model.to(DEVICE)\n",
    "    model.eval()\n",
    "    return model\n",
    "\n",
    "def preprocess_image(image_path):\n",
    "    image = Image.open(image_path).convert('RGB')\n",
    "    image = transform(image).unsqueeze(0).to(DEVICE)\n",
    "    return image\n",
    "\n",
    "\n",
    "def load_ground_truth_mask(mask_path):\n",
    "    mask = Image.open(mask_path).convert('L')\n",
    "    mask = mask.resize((IMG_WIDTH, IMG_HEIGHT), Image.NEAREST)\n",
    "    return np.array(mask)\n",
    "\n",
    "\n",
    "def generate_segmentation_mask(model, image):\n",
    "    with torch.no_grad():\n",
    "        output = model(image)        # (B, NUM_CLASSES, H, W)\n",
    "        pred   = torch.argmax(output, dim=1)\n",
    "        return pred.squeeze().cpu().numpy()\n",
    "\n",
    "\n",
    "def visualize_and_save_comparison(\n",
    "    model, input_image, gt_mask, class_rgb_mapping, input_image_path,\n",
    "    save_folder, save_predictions=True\n",
    "):\n",
    "    # Load the original image for visualization\n",
    "    original_image = Image.open(input_image_path).convert('RGB')\n",
    "    original_image = original_image.resize((IMG_WIDTH, IMG_HEIGHT))\n",
    "\n",
    "    # Generate predicted mask\n",
    "    pred_mask = generate_segmentation_mask(model, input_image)\n",
    "\n",
    "    # Map predicted mask to RGB\n",
    "    rgb_pred_mask = np.zeros((pred_mask.shape[0], pred_mask.shape[1], 3), dtype=np.uint8)\n",
    "    for class_id, rgb_value in class_rgb_mapping.items():\n",
    "        rgb_pred_mask[pred_mask == class_id] = rgb_value\n",
    "\n",
    "    # Map ground truth to RGB\n",
    "    rgb_gt_mask = np.zeros((gt_mask.shape[0], gt_mask.shape[1], 3), dtype=np.uint8)\n",
    "    for class_id, rgb_value in class_rgb_mapping.items():\n",
    "        rgb_gt_mask[gt_mask == class_id] = rgb_value\n",
    "\n",
    "    # Plot side-by-side\n",
    "    fig, axes = plt.subplots(1, 3, figsize=(18, 6))\n",
    "    axes[0].imshow(original_image)\n",
    "    axes[0].set_title('Original')\n",
    "    axes[0].axis('off')\n",
    "\n",
    "    axes[1].imshow(rgb_gt_mask)\n",
    "    axes[1].set_title('Ground Truth')\n",
    "    axes[1].axis('off')\n",
    "\n",
    "    axes[2].imshow(rgb_pred_mask)\n",
    "    axes[2].set_title('Predicted')\n",
    "    axes[2].axis('off')\n",
    "\n",
    "    fig.tight_layout()\n",
    "\n",
    "    # Save the figure (no plt.show())\n",
    "    if save_predictions:\n",
    "        # For the figure\n",
    "        fig_filename = os.path.splitext(os.path.basename(input_image_path))[0] + '_compare.png'\n",
    "        fig_save_path= os.path.join(save_folder, fig_filename)\n",
    "        fig.savefig(fig_save_path, bbox_inches='tight')\n",
    "\n",
    "        # For the predicted mask alone\n",
    "        pred_mask_img = Image.fromarray(rgb_pred_mask)\n",
    "        pred_filename = os.path.splitext(os.path.basename(input_image_path))[0] + '_predmask.png'\n",
    "        pred_save_path= os.path.join(save_folder, pred_filename)\n",
    "        pred_mask_img.save(pred_save_path)\n",
    "\n",
    "    plt.close(fig)\n",
    "\n",
    "# -------------------------------------------------------------------\n",
    "# Class-to-RGB mapping\n",
    "# -------------------------------------------------------------------\n",
    "class_rgb_mapping = {\n",
    "    0: (0, 0, 0),    # black\n",
    "    1: (0, 255, 0),  # green\n",
    "    2: (255, 0, 0),  # red\n",
    "}\n",
    "\n",
    "# -------------------------------------------------------------------\n",
    "# MAIN: \n",
    "# 1) Find all \"Unet-...\" directories\n",
    "# 2) For each, load \"unet_best_model.pth\"\n",
    "# 3) Randomly pick 5 test images, generate predictions\n",
    "# 4) Save side-by-side figure + predicted mask\n",
    "# -------------------------------------------------------------------\n",
    "if __name__ == \"__main__\":\n",
    "    # Silence any console printing\n",
    "    # (Here we can reassign print to a no-op if needed)\n",
    "    def no_op(*args, **kwargs):\n",
    "        pass\n",
    "    print = no_op\n",
    "\n",
    "    # 1) Find directories that start with \"Unet-\"\n",
    "    all_dirs = [d for d in os.listdir('.') if os.path.isdir(d) and d.startswith(\"Unet\")]\n",
    "\n",
    "    # 2) For each directory, load unet_best_model.pth\n",
    "    # and do random predictions\n",
    "    test_image_files = [\n",
    "        f for f in os.listdir(TEST_IMAGE_FOLDER)\n",
    "        if f.endswith('.jpg') or f.endswith('.jpeg') or f.endswith('.png')\n",
    "    ]\n",
    "    # If <5 images exist, use them all\n",
    "    if len(test_image_files) <= 5:\n",
    "        selected_images = test_image_files\n",
    "    else:\n",
    "        selected_images = random.sample(test_image_files, 5)\n",
    "\n",
    "    for model_dir in all_dirs:\n",
    "        model_path = os.path.join(model_dir, \"unet_best_model.pth\")\n",
    "        if not os.path.isfile(model_path):\n",
    "            continue  # skip if no best model in that dir\n",
    "\n",
    "        # Create a subfolder \"Predictions\" inside model_dir\n",
    "        pred_save_folder = os.path.join(model_dir, \"Predictions\")\n",
    "        os.makedirs(pred_save_folder, exist_ok=True)\n",
    "\n",
    "        # Load model\n",
    "        model = load_full_model(model_path)\n",
    "\n",
    "        # For each selected image, compare\n",
    "        for image_file in selected_images:\n",
    "            input_image_path = os.path.join(TEST_IMAGE_FOLDER, image_file)\n",
    "            # ground truth\n",
    "            gt_mask_name = os.path.splitext(image_file)[0] + '_morphed.png'\n",
    "            gt_mask_path = os.path.join(GROUND_TRUTH_MASK_FOLDER, gt_mask_name)\n",
    "\n",
    "            input_image = preprocess_image(input_image_path)\n",
    "            ground_truth_mask = load_ground_truth_mask(gt_mask_path)\n",
    "\n",
    "            # Visualize and save\n",
    "            visualize_and_save_comparison(\n",
    "                model=model,\n",
    "                input_image=input_image,\n",
    "                gt_mask=ground_truth_mask,\n",
    "                class_rgb_mapping=class_rgb_mapping,\n",
    "                input_image_path=input_image_path,\n",
    "                save_folder=pred_save_folder,\n",
    "                save_predictions=True\n",
    "            )\n"
   ]
  },
  {
   "cell_type": "markdown",
   "metadata": {},
   "source": [
    "# Evaluating Each Model"
   ]
  },
  {
   "cell_type": "code",
   "execution_count": 10,
   "metadata": {},
   "outputs": [
    {
     "name": "stderr",
     "output_type": "stream",
     "text": [
      "/tmp/ipykernel_4204/3703382463.py:38: FutureWarning: You are using `torch.load` with `weights_only=False` (the current default value), which uses the default pickle module implicitly. It is possible to construct malicious pickle data which will execute arbitrary code during unpickling (See https://github.com/pytorch/pytorch/blob/main/SECURITY.md#untrusted-models for more details). In a future release, the default value for `weights_only` will be flipped to `True`. This limits the functions that could be executed during unpickling. Arbitrary objects will no longer be allowed to be loaded via this mode unless they are explicitly allowlisted by the user via `torch.serialization.add_safe_globals`. We recommend you start setting `weights_only=True` for any use case where you don't have full control of the loaded file. Please open an issue on GitHub for any issues related to this experimental feature.\n",
      "  model = torch.load(model_path, map_location=DEVICE)\n",
      "/tmp/ipykernel_4204/3703382463.py:38: FutureWarning: You are using `torch.load` with `weights_only=False` (the current default value), which uses the default pickle module implicitly. It is possible to construct malicious pickle data which will execute arbitrary code during unpickling (See https://github.com/pytorch/pytorch/blob/main/SECURITY.md#untrusted-models for more details). In a future release, the default value for `weights_only` will be flipped to `True`. This limits the functions that could be executed during unpickling. Arbitrary objects will no longer be allowed to be loaded via this mode unless they are explicitly allowlisted by the user via `torch.serialization.add_safe_globals`. We recommend you start setting `weights_only=True` for any use case where you don't have full control of the loaded file. Please open an issue on GitHub for any issues related to this experimental feature.\n",
      "  model = torch.load(model_path, map_location=DEVICE)\n",
      "/tmp/ipykernel_4204/3703382463.py:38: FutureWarning: You are using `torch.load` with `weights_only=False` (the current default value), which uses the default pickle module implicitly. It is possible to construct malicious pickle data which will execute arbitrary code during unpickling (See https://github.com/pytorch/pytorch/blob/main/SECURITY.md#untrusted-models for more details). In a future release, the default value for `weights_only` will be flipped to `True`. This limits the functions that could be executed during unpickling. Arbitrary objects will no longer be allowed to be loaded via this mode unless they are explicitly allowlisted by the user via `torch.serialization.add_safe_globals`. We recommend you start setting `weights_only=True` for any use case where you don't have full control of the loaded file. Please open an issue on GitHub for any issues related to this experimental feature.\n",
      "  model = torch.load(model_path, map_location=DEVICE)\n",
      "/tmp/ipykernel_4204/3703382463.py:38: FutureWarning: You are using `torch.load` with `weights_only=False` (the current default value), which uses the default pickle module implicitly. It is possible to construct malicious pickle data which will execute arbitrary code during unpickling (See https://github.com/pytorch/pytorch/blob/main/SECURITY.md#untrusted-models for more details). In a future release, the default value for `weights_only` will be flipped to `True`. This limits the functions that could be executed during unpickling. Arbitrary objects will no longer be allowed to be loaded via this mode unless they are explicitly allowlisted by the user via `torch.serialization.add_safe_globals`. We recommend you start setting `weights_only=True` for any use case where you don't have full control of the loaded file. Please open an issue on GitHub for any issues related to this experimental feature.\n",
      "  model = torch.load(model_path, map_location=DEVICE)\n",
      "/tmp/ipykernel_4204/3703382463.py:38: FutureWarning: You are using `torch.load` with `weights_only=False` (the current default value), which uses the default pickle module implicitly. It is possible to construct malicious pickle data which will execute arbitrary code during unpickling (See https://github.com/pytorch/pytorch/blob/main/SECURITY.md#untrusted-models for more details). In a future release, the default value for `weights_only` will be flipped to `True`. This limits the functions that could be executed during unpickling. Arbitrary objects will no longer be allowed to be loaded via this mode unless they are explicitly allowlisted by the user via `torch.serialization.add_safe_globals`. We recommend you start setting `weights_only=True` for any use case where you don't have full control of the loaded file. Please open an issue on GitHub for any issues related to this experimental feature.\n",
      "  model = torch.load(model_path, map_location=DEVICE)\n",
      "/tmp/ipykernel_4204/3703382463.py:38: FutureWarning: You are using `torch.load` with `weights_only=False` (the current default value), which uses the default pickle module implicitly. It is possible to construct malicious pickle data which will execute arbitrary code during unpickling (See https://github.com/pytorch/pytorch/blob/main/SECURITY.md#untrusted-models for more details). In a future release, the default value for `weights_only` will be flipped to `True`. This limits the functions that could be executed during unpickling. Arbitrary objects will no longer be allowed to be loaded via this mode unless they are explicitly allowlisted by the user via `torch.serialization.add_safe_globals`. We recommend you start setting `weights_only=True` for any use case where you don't have full control of the loaded file. Please open an issue on GitHub for any issues related to this experimental feature.\n",
      "  model = torch.load(model_path, map_location=DEVICE)\n",
      "/tmp/ipykernel_4204/3703382463.py:38: FutureWarning: You are using `torch.load` with `weights_only=False` (the current default value), which uses the default pickle module implicitly. It is possible to construct malicious pickle data which will execute arbitrary code during unpickling (See https://github.com/pytorch/pytorch/blob/main/SECURITY.md#untrusted-models for more details). In a future release, the default value for `weights_only` will be flipped to `True`. This limits the functions that could be executed during unpickling. Arbitrary objects will no longer be allowed to be loaded via this mode unless they are explicitly allowlisted by the user via `torch.serialization.add_safe_globals`. We recommend you start setting `weights_only=True` for any use case where you don't have full control of the loaded file. Please open an issue on GitHub for any issues related to this experimental feature.\n",
      "  model = torch.load(model_path, map_location=DEVICE)\n"
     ]
    }
   ],
   "source": [
    "import os\n",
    "import numpy as np\n",
    "import torch\n",
    "import torch.nn as nn\n",
    "from torch.utils.data import Dataset, DataLoader\n",
    "import torchvision.transforms as transforms\n",
    "import pandas as pd\n",
    "from tqdm import tqdm\n",
    "from PIL import Image\n",
    "import time\n",
    "\n",
    "from sklearn.metrics import precision_score, recall_score, f1_score\n",
    "import matplotlib\n",
    "matplotlib.use('Agg')  # Turn off interactive display\n",
    "import matplotlib.pyplot as plt\n",
    "import seaborn as sns\n",
    "\n",
    "\n",
    "TEST_IMAGES_DIR = 'CWD-3HSV/test/images'\n",
    "TEST_MASKS_DIR  = 'CWD-3HSV/test/Morphed_Images'\n",
    "IMG_HEIGHT      = 640\n",
    "IMG_WIDTH       = 640\n",
    "NUM_CLASSES     = 3\n",
    "DEVICE          = torch.device('cuda' if torch.cuda.is_available() else 'cpu')\n",
    "\n",
    "# Suppress console output\n",
    "def no_op(*args, **kwargs):\n",
    "    pass\n",
    "print = no_op  # Overwrite default print\n",
    "\n",
    "transform = transforms.Compose([\n",
    "    transforms.Resize((IMG_HEIGHT, IMG_WIDTH)),\n",
    "    transforms.ToTensor(),\n",
    "])\n",
    "\n",
    "\n",
    "def load_model(model_path):\n",
    "    model = torch.load(model_path, map_location=DEVICE)\n",
    "    model.to(DEVICE)\n",
    "    model.eval()\n",
    "    return model\n",
    "\n",
    "def preprocess_image(image_path):\n",
    "    image = Image.open(image_path).convert('RGB')\n",
    "    return transform(image).unsqueeze(0).to(DEVICE)\n",
    "\n",
    "def preprocess_mask(mask_path):\n",
    "    mask = Image.open(mask_path).convert('L')\n",
    "    mask = mask.resize((IMG_WIDTH, IMG_HEIGHT), Image.NEAREST)\n",
    "    return np.array(mask)\n",
    "\n",
    "\n",
    "def generate_predictions(model, image):\n",
    "    with torch.no_grad():\n",
    "        output = model(image)            # [B, NUM_CLASSES, H, W]\n",
    "        pred   = torch.argmax(output, 1) # pick class with max logit\n",
    "        return pred.squeeze().cpu().numpy()\n",
    "\n",
    "\n",
    "def calculate_iou(pred_mask, gt_mask, num_classes):\n",
    "    iou_per_class = []\n",
    "    for cls in range(num_classes):\n",
    "        intersection = np.logical_and(pred_mask == cls, gt_mask == cls).sum()\n",
    "        union        = np.logical_or(pred_mask == cls, gt_mask == cls).sum()\n",
    "        iou = intersection / union if union > 0 else 0\n",
    "        iou_per_class.append(iou)\n",
    "    return iou_per_class\n",
    "\n",
    "def calculate_dice(pred_mask, gt_mask, num_classes):\n",
    "    dice_per_class = []\n",
    "    for cls in range(num_classes):\n",
    "        intersection = np.logical_and(pred_mask == cls, gt_mask == cls).sum()\n",
    "        denom        = (np.sum(pred_mask == cls) + np.sum(gt_mask == cls))\n",
    "        dice         = 2.0 * intersection / denom if denom > 0 else 0\n",
    "        dice_per_class.append(dice)\n",
    "    return dice_per_class\n",
    "\n",
    "def calculate_jaccard(pred_mask, gt_mask, num_classes):\n",
    "    jaccard_per_class = []\n",
    "    for cls in range(num_classes):\n",
    "        intersection = np.logical_and(pred_mask == cls, gt_mask == cls).sum()\n",
    "        union        = np.logical_or(pred_mask == cls, gt_mask == cls).sum()\n",
    "        jaccard      = intersection / union if union > 0 else 0\n",
    "        jaccard_per_class.append(jaccard)\n",
    "    return jaccard_per_class\n",
    "\n",
    "\n",
    "def plot_confusion_matrix(cm, class_names, save_path, title=\"Confusion Matrix\", fmt='d'):\n",
    "    \"\"\"\n",
    "    'fmt': 'd' for counts, '.2f' for percentages\n",
    "    Saves the figure to 'save_path'.\n",
    "    \"\"\"\n",
    "    fig, ax = plt.subplots(figsize=(6,6))\n",
    "    sns.heatmap(cm, annot=True, fmt=fmt, cmap='Blues',\n",
    "                xticklabels=class_names, yticklabels=class_names)\n",
    "    ax.set_xlabel(\"Predicted\")\n",
    "    ax.set_ylabel(\"Actual\")\n",
    "    ax.set_title(title)\n",
    "    plt.tight_layout()\n",
    "    fig.savefig(save_path, bbox_inches='tight')\n",
    "    plt.close(fig)\n",
    "\n",
    "\n",
    "def evaluate_model(model, test_images_dir, test_masks_dir, num_classes, results_dir):\n",
    "    all_pred = []\n",
    "    all_gt   = []\n",
    "\n",
    "    iou_per_class       = np.zeros(num_classes)\n",
    "    dice_per_class      = np.zeros(num_classes)\n",
    "    jaccard_per_class   = np.zeros(num_classes)\n",
    "    accuracy_per_class  = np.zeros(num_classes)\n",
    "    precision_per_class = np.zeros(num_classes)\n",
    "    recall_per_class    = np.zeros(num_classes)\n",
    "    f1_per_class        = np.zeros(num_classes)\n",
    "\n",
    "    image_files  = [img for img in os.listdir(test_images_dir) if img.endswith('.jpg')]\n",
    "    total_samples= 0\n",
    "\n",
    "    for img_name in image_files:\n",
    "        image_path = os.path.join(test_images_dir, img_name)\n",
    "        mask_name  = img_name.replace('.jpg', '_morphed.png')\n",
    "        mask_path  = os.path.join(test_masks_dir, mask_name)\n",
    "\n",
    "        image   = preprocess_image(image_path)\n",
    "        gt_mask = preprocess_mask(mask_path)\n",
    "        pred_mask= generate_predictions(model, image)\n",
    "\n",
    "        # Flatten\n",
    "        all_pred.extend(pred_mask.flatten())\n",
    "        all_gt.extend(gt_mask.flatten())\n",
    "\n",
    "        # iou/dice/jaccard\n",
    "        iou_sample     = calculate_iou(pred_mask,     gt_mask, num_classes)\n",
    "        dice_sample    = calculate_dice(pred_mask,    gt_mask, num_classes)\n",
    "        jaccard_sample = calculate_jaccard(pred_mask, gt_mask, num_classes)\n",
    "\n",
    "        iou_per_class     += np.array(iou_sample)\n",
    "        dice_per_class    += np.array(dice_sample)\n",
    "        jaccard_per_class += np.array(jaccard_sample)\n",
    "\n",
    "        # per-class metrics\n",
    "        for cls in range(num_classes):\n",
    "            tp = np.sum((pred_mask == cls) & (gt_mask == cls))\n",
    "            fp = np.sum((pred_mask == cls) & (gt_mask != cls))\n",
    "            fn = np.sum((pred_mask != cls) & (gt_mask == cls))\n",
    "            total_class_pixels= np.sum(gt_mask == cls)\n",
    "            accuracy_per_class[cls] += tp / (total_class_pixels + 1e-6)\n",
    "\n",
    "            precision_per_class[cls]+= tp / (tp + fp + 1e-6)\n",
    "            recall_per_class[cls]   += tp / (tp + fn + 1e-6)\n",
    "            f1_per_class[cls]       += 2*tp / (2*tp + fp + fn + 1e-6)\n",
    "\n",
    "        total_samples += 1\n",
    "\n",
    "    # Normalize\n",
    "    accuracy_per_class  /= total_samples\n",
    "    precision_per_class /= total_samples\n",
    "    recall_per_class    /= total_samples\n",
    "    f1_per_class        /= total_samples\n",
    "    iou_per_class       /= total_samples\n",
    "    dice_per_class      /= total_samples\n",
    "    jaccard_per_class   /= total_samples\n",
    "\n",
    "    mean_dice     = np.mean(dice_per_class)\n",
    "    mean_jaccard  = np.mean(jaccard_per_class)\n",
    "\n",
    "    # freq weighted iou\n",
    "    all_gt_arr = np.array(all_gt)\n",
    "    class_counts= np.bincount(all_gt_arr, minlength=num_classes)\n",
    "    frequency_weighted_iou= np.average(iou_per_class, weights=class_counts)\n",
    "\n",
    "    # overall metrics\n",
    "    all_pred_arr = np.array(all_pred)\n",
    "    accuracy = (all_pred_arr == all_gt_arr).sum()/len(all_gt_arr)\n",
    "    precision= precision_score(all_gt_arr, all_pred_arr, average='weighted', zero_division=1)\n",
    "    recall   = recall_score(all_gt_arr,    all_pred_arr, average='weighted', zero_division=1)\n",
    "    f1       = f1_score(all_gt_arr,        all_pred_arr, average='weighted', zero_division=1)\n",
    "\n",
    "    mean_iou    = np.mean(iou_per_class)\n",
    "    weighted_iou= np.average(iou_per_class, weights=np.bincount(all_gt_arr))\n",
    "\n",
    "    # confusion matrix\n",
    "    confusion_matrix_counts= np.zeros((num_classes, num_classes), dtype=np.int64)\n",
    "    for gt_val, pr_val in zip(all_gt_arr, all_pred_arr):\n",
    "        confusion_matrix_counts[gt_val, pr_val]+=1\n",
    "\n",
    "    confusion_matrix_percent= np.zeros_like(confusion_matrix_counts, dtype=float)\n",
    "    for r in range(num_classes):\n",
    "        row_sum = confusion_matrix_counts[r,:].sum()\n",
    "        if row_sum > 0:\n",
    "            confusion_matrix_percent[r,:] = (confusion_matrix_counts[r,:]/ row_sum)*100\n",
    "\n",
    "    class_names= [f\"Class {i}\" for i in range(num_classes)]\n",
    "\n",
    "    # Save confusion matrices as PNG\n",
    "    cm_counts_path  = os.path.join(results_dir, \"Confusion_Matrix_Counts.png\")\n",
    "    cm_percent_path = os.path.join(results_dir, \"Confusion_Matrix_Percent.png\")\n",
    "    plot_confusion_matrix(confusion_matrix_counts,  class_names, save_path=cm_counts_path,  title=\"Confusion Matrix (Counts)\", fmt='d')\n",
    "    plot_confusion_matrix(confusion_matrix_percent, class_names, save_path=cm_percent_path, title=\"Confusion Matrix (Percent)\", fmt='.2f')\n",
    "\n",
    "    return (\n",
    "        accuracy, accuracy_per_class, precision, precision_per_class,\n",
    "        recall, recall_per_class, f1, f1_per_class,\n",
    "        iou_per_class, mean_iou, weighted_iou, frequency_weighted_iou,\n",
    "        dice_per_class, jaccard_per_class, mean_dice, mean_jaccard\n",
    "    )\n",
    "\n",
    "def save_results_to_excel(\n",
    "    model_name,\n",
    "    accuracy, accuracy_per_class,\n",
    "    precision, precision_per_class,\n",
    "    recall, recall_per_class,\n",
    "    f1, f1_per_class,\n",
    "    iou_per_class, mean_iou,\n",
    "    weighted_iou, frequency_weighted_iou,\n",
    "    dice_per_class, jaccard_per_class,\n",
    "    mean_dice, mean_jaccard,\n",
    "    save_directory\n",
    "):\n",
    "    # We'll store the final xlsx in the same directory as the model\n",
    "    excel_path = os.path.join(save_directory, \"Performance_Evaluation_Metrics.xlsx\")\n",
    "\n",
    "    columns = (\n",
    "        ['Model Name', 'Accuracy']\n",
    "        + [f'Accuracy Class {i}' for i in range(len(accuracy_per_class))]\n",
    "        + ['Precision'] + [f'Precision Class {i}' for i in range(len(precision_per_class))]\n",
    "        + ['Recall'] + [f'Recall Class {i}' for i in range(len(recall_per_class))]\n",
    "        + ['F1 Score'] + [f'F1 Score Class {i}' for i in range(len(f1_per_class))]\n",
    "        + [f'IoU Class {i}' for i in range(len(iou_per_class))]\n",
    "        + ['Mean IoU', 'Weighted IoU', 'Frequency Weighted IoU']\n",
    "        + [f'Dice Coefficient Class {i}' for i in range(len(dice_per_class))]\n",
    "        + ['Mean Dice']\n",
    "        + [f'Jaccard Index Class {i}' for i in range(len(jaccard_per_class))]\n",
    "        + ['Mean Jaccard']\n",
    "    )\n",
    "\n",
    "    new_row = {\n",
    "        'Model Name': model_name,\n",
    "        'Accuracy': accuracy,\n",
    "        **{f'Accuracy Class {i}': acc for i, acc in enumerate(accuracy_per_class)},\n",
    "        'Precision': precision,\n",
    "        **{f'Precision Class {i}': prec for i, prec in enumerate(precision_per_class)},\n",
    "        'Recall': recall,\n",
    "        **{f'Recall Class {i}': r for i, r in enumerate(recall_per_class)},\n",
    "        'F1 Score': f1,\n",
    "        **{f'F1 Score Class {i}': f1c for i, f1c in enumerate(f1_per_class)},\n",
    "        **{f'IoU Class {i}': iou for i, iou in enumerate(iou_per_class)},\n",
    "        'Mean IoU': mean_iou,\n",
    "        'Weighted IoU': weighted_iou,\n",
    "        'Frequency Weighted IoU': frequency_weighted_iou,\n",
    "        **{f'Dice Coefficient Class {i}': d for i, d in enumerate(dice_per_class)},\n",
    "        'Mean Dice': mean_dice,\n",
    "        **{f'Jaccard Index Class {i}': j for i, j in enumerate(jaccard_per_class)},\n",
    "        'Mean Jaccard': mean_jaccard,\n",
    "    }\n",
    "\n",
    "    new_data = pd.DataFrame([new_row], columns=columns)\n",
    "\n",
    "    # Overwrite any existing file to store only the last row\n",
    "    new_data.to_excel(excel_path, index=False, header=True)\n",
    "\n",
    "if __name__ == \"__main__\":\n",
    "    # Suppress console output\n",
    "    def no_op(*args, **kwargs):\n",
    "        pass\n",
    "    print = no_op  # Overwrite default print\n",
    "\n",
    "    # 1) Find all directories that match \"Unet-<backbone>\"\n",
    "    all_dirs = [d for d in os.listdir('.') if os.path.isdir(d) and d.startswith(\"Unet\")]\n",
    "\n",
    "    for model_dir in all_dirs:\n",
    "        # 2) Load \"unet_best_model.pth\" in that directory, if exists\n",
    "        model_path = os.path.join(model_dir, \"unet_best_model.pth\")\n",
    "        if not os.path.isfile(model_path):\n",
    "            continue  # skip if no best model found\n",
    "\n",
    "        model = load_model(model_path)\n",
    "\n",
    "        # 3) Evaluate\n",
    "        results = evaluate_model(\n",
    "            model=model,\n",
    "            test_images_dir=TEST_IMAGES_DIR,\n",
    "            test_masks_dir=TEST_MASKS_DIR,\n",
    "            num_classes=NUM_CLASSES,\n",
    "            results_dir=model_dir  # store confusion matrix PNG in same directory\n",
    "        )\n",
    "\n",
    "        # 4) Unpack\n",
    "        (\n",
    "            accuracy, accuracy_per_class,\n",
    "            precision, precision_per_class,\n",
    "            recall, recall_per_class,\n",
    "            f1, f1_per_class,\n",
    "            iou_per_class, mean_iou,\n",
    "            weighted_iou, frequency_weighted_iou,\n",
    "            dice_per_class, jaccard_per_class,\n",
    "            mean_dice, mean_jaccard\n",
    "        ) = results\n",
    "\n",
    "        # 5) Save row to \"Performance_Evaluation_Metrics.xlsx\" in model_dir\n",
    "        save_results_to_excel(\n",
    "            model_name=model_dir,\n",
    "            accuracy=accuracy,\n",
    "            accuracy_per_class=accuracy_per_class,\n",
    "            precision=precision,\n",
    "            precision_per_class=precision_per_class,\n",
    "            recall=recall,\n",
    "            recall_per_class=recall_per_class,\n",
    "            f1=f1,\n",
    "            f1_per_class=f1_per_class,\n",
    "            iou_per_class=iou_per_class,\n",
    "            mean_iou=mean_iou,\n",
    "            weighted_iou=weighted_iou,\n",
    "            frequency_weighted_iou=frequency_weighted_iou,\n",
    "            dice_per_class=dice_per_class,\n",
    "            jaccard_per_class=jaccard_per_class,\n",
    "            mean_dice=mean_dice,\n",
    "            mean_jaccard=mean_jaccard,\n",
    "            save_directory=model_dir\n",
    "        )\n"
   ]
  },
  {
   "cell_type": "markdown",
   "metadata": {},
   "source": [
    "# Saving Training Curves Of Each Model"
   ]
  },
  {
   "cell_type": "code",
   "execution_count": 11,
   "metadata": {},
   "outputs": [],
   "source": [
    "import os\n",
    "import pandas as pd\n",
    "import matplotlib\n",
    "matplotlib.use('Agg')  # So figures don't pop up; they are just saved\n",
    "import matplotlib.pyplot as plt\n",
    "\n",
    "def plot_training_curves_for_model(excel_path, output_dir):\n",
    "    \"\"\"\n",
    "    Reads Training_Metrics.xlsx from excel_path and saves four plots in output_dir.\n",
    "    \"\"\"\n",
    "    # Read Excel\n",
    "    df = pd.read_excel(excel_path)\n",
    "\n",
    "    # Extract columns\n",
    "    epochs            = df['Epoch']\n",
    "    train_loss        = df['Training Loss']\n",
    "    val_loss          = df['Validation Loss']\n",
    "    train_acc         = df['Training Accuracy']\n",
    "    val_acc           = df['Validation Accuracy']\n",
    "    train_iou_loss    = df['Training IoU loss']\n",
    "    val_iou_loss      = df['Validation IoU loss']\n",
    "    mean_train_iou    = df['Mean Training IoU']\n",
    "    mean_val_iou      = df['Mean Validation IoU']\n",
    "\n",
    "    # 1) Training vs Validation Loss\n",
    "    plt.figure(figsize=(8,6))\n",
    "    plt.plot(epochs, train_loss, label='Training Loss', marker='o')\n",
    "    plt.plot(epochs, val_loss,   label='Validation Loss', marker='s')\n",
    "    plt.title('Training vs Validation Loss')\n",
    "    plt.xlabel('Epoch')\n",
    "    plt.ylabel('Loss')\n",
    "    plt.legend()\n",
    "    plt.grid(True)\n",
    "\n",
    "    loss_plot_path = os.path.join(output_dir, 'Train_vs_Val_Loss.png')\n",
    "    plt.savefig(loss_plot_path, bbox_inches='tight')\n",
    "    plt.close()\n",
    "\n",
    "    # 2) Training vs Validation Accuracy\n",
    "    plt.figure(figsize=(8,6))\n",
    "    plt.plot(epochs, train_acc, label='Training Accuracy', marker='o')\n",
    "    plt.plot(epochs, val_acc,   label='Validation Accuracy', marker='s')\n",
    "    plt.title('Training vs Validation Accuracy')\n",
    "    plt.xlabel('Epoch')\n",
    "    plt.ylabel('Accuracy (%)')\n",
    "    plt.legend()\n",
    "    plt.grid(True)\n",
    "\n",
    "    acc_plot_path = os.path.join(output_dir, 'Train_vs_Val_Accuracy.png')\n",
    "    plt.savefig(acc_plot_path, bbox_inches='tight')\n",
    "    plt.close()\n",
    "\n",
    "    # 3) Training IoU Loss vs Validation IoU Loss\n",
    "    plt.figure(figsize=(8,6))\n",
    "    plt.plot(epochs, train_iou_loss, label='Training IoU Loss', marker='o')\n",
    "    plt.plot(epochs, val_iou_loss,   label='Validation IoU Loss', marker='s')\n",
    "    plt.title('Training vs Validation IoU Loss')\n",
    "    plt.xlabel('Epoch')\n",
    "    plt.ylabel('IoU Loss')\n",
    "    plt.legend()\n",
    "    plt.grid(True)\n",
    "\n",
    "    iou_loss_plot_path = os.path.join(output_dir, 'Train_vs_Val_IoU_Loss.png')\n",
    "    plt.savefig(iou_loss_plot_path, bbox_inches='tight')\n",
    "    plt.close()\n",
    "\n",
    "    # 4) Mean Training IoU vs Mean Validation IoU\n",
    "    plt.figure(figsize=(8,6))\n",
    "    plt.plot(epochs, mean_train_iou, label='Mean Training IoU', marker='o')\n",
    "    plt.plot(epochs, mean_val_iou,   label='Mean Validation IoU', marker='s')\n",
    "    plt.title('Mean Training IoU vs Mean Validation IoU')\n",
    "    plt.xlabel('Epoch')\n",
    "    plt.ylabel('IoU')\n",
    "    plt.legend()\n",
    "    plt.grid(True)\n",
    "\n",
    "    iou_plot_path = os.path.join(output_dir, 'Mean_Train_vs_Val_IoU.png')\n",
    "    plt.savefig(iou_plot_path, bbox_inches='tight')\n",
    "    plt.close()\n",
    "\n",
    "def main():\n",
    "    # 1) Find directories named \"Unet-...\"\n",
    "    unet_dirs = [d for d in os.listdir('.') if os.path.isdir(d) and d.startswith('Unet')]\n",
    "\n",
    "    for unet_dir in unet_dirs:\n",
    "        # 2) The path to the Training_Metrics.xlsx\n",
    "        excel_path = os.path.join(unet_dir, 'Training_Metrics.xlsx')\n",
    "        if not os.path.isfile(excel_path):\n",
    "            continue  # skip if no metrics file\n",
    "\n",
    "        # 3) Create \"Training_Curves\" subdir\n",
    "        curves_dir = os.path.join(unet_dir, 'Training_Curves')\n",
    "        os.makedirs(curves_dir, exist_ok=True)\n",
    "\n",
    "        # 4) Generate + save plots\n",
    "        plot_training_curves_for_model(excel_path, curves_dir)\n",
    "\n",
    "if __name__ == \"__main__\":\n",
    "    main()\n"
   ]
  },
  {
   "cell_type": "markdown",
   "metadata": {},
   "source": [
    "# All Models Performance Evaluation Sheet"
   ]
  },
  {
   "cell_type": "code",
   "execution_count": 12,
   "metadata": {},
   "outputs": [],
   "source": [
    "import os\n",
    "import pandas as pd\n",
    "\n",
    "# 1) Automatically discover directories named \"Unet-...\"\n",
    "model_directories = [\n",
    "    d for d in os.listdir('.') \n",
    "    if os.path.isdir(d) and d.startswith(\"Unet\")\n",
    "]\n",
    "\n",
    "# 2) Each directory's Excel file name\n",
    "excel_filename = \"Performance_Evaluation_Metrics.xlsx\"\n",
    "\n",
    "# 3) Where to save the merged file\n",
    "results_folder = \"Results\"\n",
    "os.makedirs(results_folder, exist_ok=True)\n",
    "merged_excel_path = os.path.join(results_folder, \"All_Models_Performance_Evaluation_Metrics.xlsx\")\n",
    "\n",
    "# 4) Create an empty list to hold the last rows from each subdirectory\n",
    "merged_rows = []\n",
    "\n",
    "# 5) Loop over each Unet-<backbone> directory\n",
    "for model_dir in model_directories:\n",
    "    excel_path = os.path.join(model_dir, excel_filename)\n",
    "\n",
    "    # Check if the file exists\n",
    "    if not os.path.isfile(excel_path):\n",
    "        print(f\"Warning: {excel_path} not found. Skipping.\")\n",
    "        continue\n",
    "\n",
    "    # Read entire Excel file\n",
    "    df = pd.read_excel(excel_path)\n",
    "\n",
    "    if df.empty:\n",
    "        print(f\"Warning: {excel_path} is empty. Skipping.\")\n",
    "        continue\n",
    "\n",
    "    # Get the last (bottom) row\n",
    "    last_row = df.iloc[[-1]].copy()\n",
    "    merged_rows.append(last_row)\n",
    "\n",
    "# 6) If we have rows, concatenate them; otherwise create empty DataFrame\n",
    "if len(merged_rows) > 0:\n",
    "    merged_df = pd.concat(merged_rows, ignore_index=True)\n",
    "else:\n",
    "    merged_df = pd.DataFrame()\n",
    "\n",
    "# 7) Overwrite the final Excel file with these rows\n",
    "merged_df.to_excel(merged_excel_path, index=False)\n",
    "print(f\"Merged file saved to: {merged_excel_path}\")\n",
    "\n"
   ]
  },
  {
   "cell_type": "markdown",
   "metadata": {},
   "source": [
    "# Saving Predictions For All Models"
   ]
  },
  {
   "cell_type": "code",
   "execution_count": 13,
   "metadata": {},
   "outputs": [
    {
     "name": "stderr",
     "output_type": "stream",
     "text": [
      "/tmp/ipykernel_4204/1757816287.py:41: FutureWarning: You are using `torch.load` with `weights_only=False` (the current default value), which uses the default pickle module implicitly. It is possible to construct malicious pickle data which will execute arbitrary code during unpickling (See https://github.com/pytorch/pytorch/blob/main/SECURITY.md#untrusted-models for more details). In a future release, the default value for `weights_only` will be flipped to `True`. This limits the functions that could be executed during unpickling. Arbitrary objects will no longer be allowed to be loaded via this mode unless they are explicitly allowlisted by the user via `torch.serialization.add_safe_globals`. We recommend you start setting `weights_only=True` for any use case where you don't have full control of the loaded file. Please open an issue on GitHub for any issues related to this experimental feature.\n",
      "  model = torch.load(model_path, map_location=DEVICE)\n",
      "/tmp/ipykernel_4204/1757816287.py:144: UserWarning: FigureCanvasAgg is non-interactive, and thus cannot be shown\n",
      "  plt.show()\n"
     ]
    }
   ],
   "source": [
    "import os\n",
    "import random\n",
    "import numpy as np\n",
    "import torch\n",
    "from torchvision import transforms\n",
    "from PIL import Image\n",
    "import matplotlib.pyplot as plt\n",
    "\n",
    "# ------------------------------------------------------------------------------\n",
    "# 1) Automatically gather all directories starting with \"Unet-\"\n",
    "# ------------------------------------------------------------------------------\n",
    "all_dirs = [d for d in os.listdir('.') if os.path.isdir(d)]\n",
    "model_dirs = [d for d in all_dirs if d.startswith(\"Unet-\")]\n",
    "models_info = [(d, os.path.join(d, \"unet_best_model.pth\")) for d in model_dirs]\n",
    "\n",
    "# ------------------------------------------------------------------------------\n",
    "# 2) Define directories / file paths and hyperparameters\n",
    "# ------------------------------------------------------------------------------\n",
    "TEST_IMAGE_FOLDER        = 'CWD-3HSV/test/images/'\n",
    "GROUND_TRUTH_MASK_FOLDER = 'CWD-3HSV/test/Morphed_Images/'\n",
    "PREDICTION_SAVE_FOLDER   = 'Predictions'\n",
    "os.makedirs(PREDICTION_SAVE_FOLDER, exist_ok=True)\n",
    "\n",
    "IMG_HEIGHT  = 640\n",
    "IMG_WIDTH   = 640\n",
    "NUM_CLASSES = 3\n",
    "DEVICE      = torch.device('cuda' if torch.cuda.is_available() else 'cpu')\n",
    "\n",
    "# ------------------------------------------------------------------------------\n",
    "# 3) Define transformation (as used during training)\n",
    "# ------------------------------------------------------------------------------\n",
    "transform = transforms.Compose([\n",
    "    transforms.Resize((IMG_HEIGHT, IMG_WIDTH)),\n",
    "    transforms.ToTensor(),\n",
    "])\n",
    "\n",
    "# ------------------------------------------------------------------------------\n",
    "# 4) Helper functions\n",
    "# ------------------------------------------------------------------------------\n",
    "def load_full_model(model_path):\n",
    "    model = torch.load(model_path, map_location=DEVICE)\n",
    "    model = model.to(DEVICE)\n",
    "    model.eval()\n",
    "    return model\n",
    "\n",
    "def preprocess_image(image_path):\n",
    "    image = Image.open(image_path).convert('RGB')\n",
    "    image = transform(image).unsqueeze(0).to(DEVICE)\n",
    "    return image\n",
    "\n",
    "def load_ground_truth_mask(mask_path):\n",
    "    mask = Image.open(mask_path).convert('L')\n",
    "    mask = mask.resize((IMG_WIDTH, IMG_HEIGHT), Image.NEAREST)\n",
    "    return np.array(mask)\n",
    "\n",
    "def generate_segmentation_mask(model, image_tensor):\n",
    "    with torch.no_grad():\n",
    "        output = model(image_tensor)  # shape: (B, NUM_CLASSES, H, W)\n",
    "        pred = torch.argmax(output, dim=1)\n",
    "        return pred.squeeze().cpu().numpy()  # shape: (H, W)\n",
    "\n",
    "def mask_to_rgb(mask_array):\n",
    "    h, w = mask_array.shape\n",
    "    rgb_image = np.zeros((h, w, 3), dtype=np.uint8)\n",
    "    # Define the mapping for 3 classes\n",
    "    class_rgb_mapping = {\n",
    "        0: (0, 0, 0),      # Black for background (or class 0)\n",
    "        1: (0, 255, 0),    # Green for class 1\n",
    "        2: (255, 0, 0)     # Red for class 2\n",
    "    }\n",
    "    for cls, color in class_rgb_mapping.items():\n",
    "        rgb_image[mask_array == cls] = color\n",
    "    return rgb_image\n",
    "\n",
    "# ------------------------------------------------------------------------------\n",
    "# 5) Main execution: load models, select images, and create merged figure\n",
    "# ------------------------------------------------------------------------------\n",
    "if __name__ == \"__main__\":\n",
    "    # Load all models\n",
    "    loaded_models = []\n",
    "    for model_name, model_path in models_info:\n",
    "        if not os.path.isfile(model_path):\n",
    "            continue\n",
    "        model = load_full_model(model_path)\n",
    "        loaded_models.append((model_name, model))\n",
    "    if len(loaded_models) == 0:\n",
    "        exit(0)\n",
    "    \n",
    "    # Gather test images\n",
    "    test_image_files = [f for f in os.listdir(TEST_IMAGE_FOLDER) if f.lower().endswith(('.jpg','.jpeg','.png'))]\n",
    "    if len(test_image_files) == 0:\n",
    "        exit(0)\n",
    "    \n",
    "    # Randomly select up to 5 images\n",
    "    selected_images = random.sample(test_image_files, 5) if len(test_image_files) >= 5 else test_image_files\n",
    "\n",
    "    # Set up figure:\n",
    "    n_rows = len(selected_images)\n",
    "    n_cols = 2 + len(loaded_models)  # 1: Input, 1: GT, rest: each model's prediction\n",
    "    fig, axes = plt.subplots(n_rows, n_cols, figsize=(4 * n_cols, 4.2 * n_rows))\n",
    "    if n_rows == 1:\n",
    "        axes = [axes]  # ensure axes is a list of rows\n",
    "\n",
    "    # Process each image:\n",
    "    for row_idx, image_file in enumerate(selected_images):\n",
    "        input_image_path = os.path.join(TEST_IMAGE_FOLDER, image_file)\n",
    "        gt_mask_name = os.path.splitext(image_file)[0] + '_morphed.png'\n",
    "        gt_mask_path = os.path.join(GROUND_TRUTH_MASK_FOLDER, gt_mask_name)\n",
    "\n",
    "        # Load and resize input image and ground truth mask for display\n",
    "        original_image = Image.open(input_image_path).resize((IMG_WIDTH, IMG_HEIGHT))\n",
    "        gt_mask_np = load_ground_truth_mask(gt_mask_path)\n",
    "        gt_rgb = mask_to_rgb(gt_mask_np)\n",
    "\n",
    "        # Preprocess image for model inference\n",
    "        input_tensor = preprocess_image(input_image_path)\n",
    "\n",
    "        # Column 0: Input image\n",
    "        axes[row_idx][0].imshow(original_image)\n",
    "        if row_idx == 0:\n",
    "            axes[row_idx][0].set_title(\"Input Image\", fontsize=27)\n",
    "        axes[row_idx][0].axis('off')\n",
    "\n",
    "        # Column 1: Ground truth mask\n",
    "        axes[row_idx][1].imshow(gt_rgb)\n",
    "        if row_idx == 0:\n",
    "            axes[row_idx][1].set_title(\"Ground Truth Mask\", fontsize=27)\n",
    "        axes[row_idx][1].axis('off')\n",
    "\n",
    "        # Next columns: Predictions from each model\n",
    "        for model_i, (model_name, model_obj) in enumerate(loaded_models):\n",
    "            pred_mask = generate_segmentation_mask(model_obj, input_tensor)\n",
    "            pred_rgb = mask_to_rgb(pred_mask)\n",
    "            col_idx = 2 + model_i\n",
    "            axes[row_idx][col_idx].imshow(pred_rgb)\n",
    "            if row_idx == 0:\n",
    "                axes[row_idx][col_idx].set_title(f\"{model_name} \\nPredicted Mask\", fontsize=27)\n",
    "            axes[row_idx][col_idx].axis('off')\n",
    "\n",
    "    plt.tight_layout()\n",
    "    merged_filename = os.path.join(PREDICTION_SAVE_FOLDER, \"All_Models_Predictions.png\")\n",
    "    plt.savefig(merged_filename, bbox_inches='tight',dpi=200)\n",
    "    # Uncomment the next line if you wish to display the figure interactively\n",
    "    plt.show()\n"
   ]
  },
  {
   "cell_type": "markdown",
   "metadata": {},
   "source": [
    "# Saving Predictions of Each Model"
   ]
  },
  {
   "cell_type": "code",
   "execution_count": 14,
   "metadata": {},
   "outputs": [
    {
     "name": "stderr",
     "output_type": "stream",
     "text": [
      "/tmp/ipykernel_4204/3991625222.py:41: FutureWarning: You are using `torch.load` with `weights_only=False` (the current default value), which uses the default pickle module implicitly. It is possible to construct malicious pickle data which will execute arbitrary code during unpickling (See https://github.com/pytorch/pytorch/blob/main/SECURITY.md#untrusted-models for more details). In a future release, the default value for `weights_only` will be flipped to `True`. This limits the functions that could be executed during unpickling. Arbitrary objects will no longer be allowed to be loaded via this mode unless they are explicitly allowlisted by the user via `torch.serialization.add_safe_globals`. We recommend you start setting `weights_only=True` for any use case where you don't have full control of the loaded file. Please open an issue on GitHub for any issues related to this experimental feature.\n",
      "  model = torch.load(model_path, map_location=DEVICE)\n"
     ]
    }
   ],
   "source": [
    "import os\n",
    "import random\n",
    "import numpy as np\n",
    "import torch\n",
    "from torchvision import transforms\n",
    "from PIL import Image\n",
    "import matplotlib.pyplot as plt\n",
    "\n",
    "# ------------------------------------------------------------------------------\n",
    "# 1) Automatically gather all directories starting with \"Unet-\"\n",
    "# ------------------------------------------------------------------------------\n",
    "model_dirs = [d for d in os.listdir('.') if os.path.isdir(d) and d.startswith(\"Unet\")]\n",
    "\n",
    "# ------------------------------------------------------------------------------\n",
    "# 2) Define directories and hyperparameters\n",
    "# ------------------------------------------------------------------------------\n",
    "TEST_IMAGE_FOLDER        = 'CWD-3HSV/test/images/'\n",
    "GROUND_TRUTH_MASK_FOLDER = 'CWD-3HSV/test/Morphed_Images/'\n",
    "# (The merged prediction figure for each model will be saved in a \"Predictions\" subfolder of that model directory.)\n",
    "IMG_HEIGHT  = 640\n",
    "IMG_WIDTH   = 640\n",
    "NUM_CLASSES = 3\n",
    "DEVICE      = torch.device('cuda' if torch.cuda.is_available() else 'cpu')\n",
    "\n",
    "# ------------------------------------------------------------------------------\n",
    "# 3) Define the transformation (as used during training)\n",
    "# ------------------------------------------------------------------------------\n",
    "transform = transforms.Compose([\n",
    "    transforms.Resize((IMG_HEIGHT, IMG_WIDTH)),\n",
    "    transforms.ToTensor(),\n",
    "])\n",
    "\n",
    "# ------------------------------------------------------------------------------\n",
    "# 4) Helper functions\n",
    "# ------------------------------------------------------------------------------\n",
    "def load_full_model(model_dir):\n",
    "    \"\"\"Load the full model from <model_dir>/unet_best_model.pth.\"\"\"\n",
    "    model_path = os.path.join(model_dir, \"unet_best_model.pth\")\n",
    "    if not os.path.isfile(model_path):\n",
    "        return None\n",
    "    model = torch.load(model_path, map_location=DEVICE)\n",
    "    model = model.to(DEVICE)\n",
    "    model.eval()\n",
    "    return model\n",
    "\n",
    "def preprocess_image(image_path):\n",
    "    image = Image.open(image_path).convert('RGB')\n",
    "    image = transform(image).unsqueeze(0).to(DEVICE)\n",
    "    return image\n",
    "\n",
    "def load_ground_truth_mask(mask_path):\n",
    "    mask = Image.open(mask_path).convert('L')\n",
    "    mask = mask.resize((IMG_WIDTH, IMG_HEIGHT), Image.NEAREST)\n",
    "    return np.array(mask)\n",
    "\n",
    "def generate_segmentation_mask(model, image_tensor):\n",
    "    with torch.no_grad():\n",
    "        # model outputs logits of shape (B, NUM_CLASSES, H, W)\n",
    "        output = model(image_tensor)\n",
    "        pred = torch.argmax(output, dim=1)\n",
    "        return pred.squeeze().cpu().numpy()  # shape: (H, W)\n",
    "\n",
    "def mask_to_rgb(mask_array):\n",
    "    h, w = mask_array.shape\n",
    "    rgb_image = np.zeros((h, w, 3), dtype=np.uint8)\n",
    "    # Fixed mapping for 3 classes\n",
    "    class_rgb_mapping = {\n",
    "        0: (0, 0, 0),      # Black\n",
    "        1: (0, 255, 0),    # Green\n",
    "        2: (255, 0, 0)     # Red\n",
    "    }\n",
    "    for cls, color in class_rgb_mapping.items():\n",
    "        rgb_image[mask_array == cls] = color\n",
    "    return rgb_image\n",
    "\n",
    "# ------------------------------------------------------------------------------\n",
    "# 5) Main execution: Process each model directory\n",
    "# ------------------------------------------------------------------------------\n",
    "if __name__ == \"__main__\":\n",
    "    # Gather test images (all jpg/jpeg/png)\n",
    "    test_image_files = [f for f in os.listdir(TEST_IMAGE_FOLDER) if f.lower().endswith(('.jpg','.jpeg','.png'))]\n",
    "    if len(test_image_files) == 0:\n",
    "        exit(0)\n",
    "    \n",
    "    # Randomly select up to 5 images\n",
    "    selected_images = random.sample(test_image_files, 5) if len(test_image_files) >= 5 else test_image_files\n",
    "\n",
    "    # Process each model directory that starts with \"Unet-\"\n",
    "    for model_dir in model_dirs:\n",
    "        model = load_full_model(model_dir)\n",
    "        if model is None:\n",
    "            continue\n",
    "        \n",
    "        # Create a Predictions subfolder inside the model directory\n",
    "        predictions_dir = os.path.join(model_dir, \"Predictions\")\n",
    "        os.makedirs(predictions_dir, exist_ok=True)\n",
    "        \n",
    "        # Set up a figure with one row per image and 3 columns (Input, Ground Truth, Predicted)\n",
    "        n_rows = len(selected_images)\n",
    "        n_cols = 3\n",
    "        fig, axes = plt.subplots(nrows=n_rows, ncols=n_cols, figsize=(4 * n_cols, 4.2 * n_rows))\n",
    "        if n_rows == 1:\n",
    "            axes = [axes]  # Ensure axes is a list of rows\n",
    "\n",
    "        for row_idx, image_file in enumerate(selected_images):\n",
    "            input_image_path = os.path.join(TEST_IMAGE_FOLDER, image_file)\n",
    "            gt_mask_name = os.path.splitext(image_file)[0] + '_morphed.png'\n",
    "            gt_mask_path = os.path.join(GROUND_TRUTH_MASK_FOLDER, gt_mask_name)\n",
    "            \n",
    "            # Load original image and ground truth for display\n",
    "            original_image = Image.open(input_image_path).resize((IMG_WIDTH, IMG_HEIGHT))\n",
    "            gt_mask_np = load_ground_truth_mask(gt_mask_path)\n",
    "            gt_rgb = mask_to_rgb(gt_mask_np)\n",
    "            \n",
    "            # Preprocess image for inference\n",
    "            input_tensor = preprocess_image(input_image_path)\n",
    "            \n",
    "            # Column 0: Input image\n",
    "            axes[row_idx][0].imshow(original_image)\n",
    "            if row_idx == 0:\n",
    "                axes[row_idx][0].set_title(\"Input Image\", fontsize=27)\n",
    "            axes[row_idx][0].axis('off')\n",
    "            \n",
    "            # Column 1: Ground truth mask\n",
    "            axes[row_idx][1].imshow(gt_rgb)\n",
    "            if row_idx == 0:\n",
    "                axes[row_idx][1].set_title(\"Ground Truth Mask\", fontsize=27)\n",
    "            axes[row_idx][1].axis('off')\n",
    "            \n",
    "            # Column 2: Predicted mask from this model\n",
    "            pred_mask = generate_segmentation_mask(model, input_tensor)\n",
    "            pred_rgb = mask_to_rgb(pred_mask)\n",
    "            axes[row_idx][2].imshow(pred_rgb)\n",
    "            if row_idx == 0:\n",
    "                axes[row_idx][2].set_title(f\"{model_dir} \\nPredicted Mask\", fontsize=27)\n",
    "            axes[row_idx][2].axis('off')\n",
    "        \n",
    "        plt.tight_layout()\n",
    "        merged_filename = os.path.join(predictions_dir, \"All_Models_Predictions.png\")\n",
    "        # Save the figure at high resolution\n",
    "        plt.savefig(merged_filename, bbox_inches='tight', dpi=300)\n",
    "        plt.close(fig)\n"
   ]
  },
  {
   "cell_type": "markdown",
   "metadata": {},
   "source": [
    "# Saving Results of each model"
   ]
  },
  {
   "cell_type": "code",
   "execution_count": 15,
   "metadata": {},
   "outputs": [],
   "source": [
    "import os\n",
    "import pandas as pd\n",
    "\n",
    "# ------------------------------------------------------------------------------\n",
    "# 1) Automatically gather all directories starting with \"Unet-\"\n",
    "# ------------------------------------------------------------------------------\n",
    "model_directories = [d for d in os.listdir('.') if os.path.isdir(d) and d.startswith(\"Unet\")]\n",
    "\n",
    "# Name of the Excel file in each model directory\n",
    "excel_filename = \"Performance_Evaluation_Metrics.xlsx\"\n",
    "\n",
    "# Loop over each found model directory\n",
    "for model_dir in model_directories:\n",
    "    # Construct the full path to the Excel file\n",
    "    excel_path = os.path.join(model_dir, excel_filename)\n",
    "    \n",
    "    # Skip this directory if the file does not exist\n",
    "    if not os.path.isfile(excel_path):\n",
    "        continue\n",
    "    \n",
    "    # Read the Excel file into a DataFrame\n",
    "    df = pd.read_excel(excel_path)\n",
    "    if df.empty:\n",
    "        continue\n",
    "\n",
    "    # Get the last (bottom) row from the DataFrame\n",
    "    last_row = df.iloc[-1]\n",
    "    \n",
    "    # ------------------ Overall Metrics ------------------\n",
    "    overall_metrics = {\n",
    "        \"Metric\": [\n",
    "            \"Accuracy\",\n",
    "            \"Precision\",\n",
    "            \"Recall\",\n",
    "            \"F1 Score\",\n",
    "            \"Mean IoU\",\n",
    "            \"Frequency Weighted IoU\",\n",
    "            \"Mean Dice\",\n",
    "            \"Mean Jaccard\"\n",
    "        ],\n",
    "        \"Value\": [\n",
    "            last_row[\"Accuracy\"],\n",
    "            last_row[\"Precision\"],\n",
    "            last_row[\"Recall\"],\n",
    "            last_row[\"F1 Score\"],\n",
    "            last_row[\"Mean IoU\"],\n",
    "            last_row[\"Frequency Weighted IoU\"],\n",
    "            last_row[\"Mean Dice\"],\n",
    "            last_row[\"Mean Jaccard\"]\n",
    "        ]\n",
    "    }\n",
    "    overall_df = pd.DataFrame(overall_metrics)\n",
    "    \n",
    "    # ------------------ Per-Class Metrics ------------------\n",
    "    per_class_data = {\n",
    "        \"Class\": [\"Class 0\", \"Class 1\", \"Class 2\"],\n",
    "        \"Accuracy\": [\n",
    "            last_row[\"Accuracy Class 0\"],\n",
    "            last_row[\"Accuracy Class 1\"],\n",
    "            last_row[\"Accuracy Class 2\"]\n",
    "        ],\n",
    "        \"Precision\": [\n",
    "            last_row[\"Precision Class 0\"],\n",
    "            last_row[\"Precision Class 1\"],\n",
    "            last_row[\"Precision Class 2\"]\n",
    "        ],\n",
    "        \"Recall\": [\n",
    "            last_row[\"Recall Class 0\"],\n",
    "            last_row[\"Recall Class 1\"],\n",
    "            last_row[\"Recall Class 2\"]\n",
    "        ],\n",
    "        \"F1 Score\": [\n",
    "            last_row[\"F1 Score Class 0\"],\n",
    "            last_row[\"F1 Score Class 1\"],\n",
    "            last_row[\"F1 Score Class 2\"]\n",
    "        ],\n",
    "        \"IoU\": [\n",
    "            last_row[\"IoU Class 0\"],\n",
    "            last_row[\"IoU Class 1\"],\n",
    "            last_row[\"IoU Class 2\"]\n",
    "        ],\n",
    "        \"Dice\": [\n",
    "            last_row[\"Dice Coefficient Class 0\"],\n",
    "            last_row[\"Dice Coefficient Class 1\"],\n",
    "            last_row[\"Dice Coefficient Class 2\"]\n",
    "        ],\n",
    "        \"Jaccard\": [\n",
    "            last_row[\"Jaccard Index Class 0\"],\n",
    "            last_row[\"Jaccard Index Class 1\"],\n",
    "            last_row[\"Jaccard Index Class 2\"]\n",
    "        ]\n",
    "    }\n",
    "    per_class_df = pd.DataFrame(per_class_data)\n",
    "    \n",
    "    # ------------------------------------------------------------------------------\n",
    "    # 3) Save the new Excel files in a Results subfolder of the model directory\n",
    "    # ------------------------------------------------------------------------------\n",
    "    results_dir = os.path.join(model_dir, \"Results\")\n",
    "    os.makedirs(results_dir, exist_ok=True)\n",
    "    \n",
    "    overall_excel_path = os.path.join(results_dir, \"Overall_Metrics.xlsx\")\n",
    "    per_class_excel_path = os.path.join(results_dir, \"Per_Class_Metrics.xlsx\")\n",
    "    \n",
    "    overall_df.to_excel(overall_excel_path, index=False)\n",
    "    per_class_df.to_excel(per_class_excel_path, index=False)\n"
   ]
  },
  {
   "cell_type": "markdown",
   "metadata": {},
   "source": [
    "# Seperating All Models Perdormance Evaluation Sheet"
   ]
  },
  {
   "cell_type": "code",
   "execution_count": 16,
   "metadata": {},
   "outputs": [],
   "source": [
    "import os\n",
    "import pandas as pd\n",
    "\n",
    "# ------------------------------------------------------------------------------\n",
    "# 1) Path to the merged Excel file\n",
    "# ------------------------------------------------------------------------------\n",
    "merged_excel_path = os.path.join(\"Results\", \"All_Models_Performance_Evaluation_Metrics.xlsx\")\n",
    "\n",
    "# ------------------------------------------------------------------------------\n",
    "# 2) Read the Excel file into a DataFrame\n",
    "# ------------------------------------------------------------------------------\n",
    "df = pd.read_excel(merged_excel_path)\n",
    "\n",
    "# ------------------------------------------------------------------------------\n",
    "# 3) Mapping to change model names\n",
    "# ------------------------------------------------------------------------------\n",
    "name_mapping = {\n",
    "    \"unet_best_model.pth\": \"Unet\",\n",
    "    \"unetplusplus_best_model.pth\": \"Unet++\",\n",
    "    \"manet_best_model.pth\": \"MAnet\",\n",
    "    \"linknet_best_model.pth\": \"Linknet\",\n",
    "    \"fpn_best_model.pth\": \"FPN\",\n",
    "    \"pspnet_best_model.pth\": \"PSPNet\",\n",
    "    \"pan_best_model.pth\": \"PAN\",\n",
    "    \"deeplabv3_best_model.pth\": \"DeepLabV3\",\n",
    "    \"deeplabv3plus_best_model.pth\": \"DeepLabV3+\",\n",
    "    \"upernet_best_model.pth\": \"UPerNet\",\n",
    "    \"segformer_best_model.pth\": \"Segformer\"\n",
    "}\n",
    "\n",
    "# Update the \"Model Name\" column based on the mapping.\n",
    "# If a model name is not found in the mapping, leave it unchanged.\n",
    "df[\"Model Name\"] = df[\"Model Name\"].apply(lambda x: name_mapping.get(x, x))\n",
    "\n",
    "# ------------------------------------------------------------------------------\n",
    "# 4) Create Overall Metrics DataFrame\n",
    "# ------------------------------------------------------------------------------\n",
    "overall_columns = [\n",
    "    \"Model Name\",\n",
    "    \"Accuracy\",\n",
    "    \"Precision\",\n",
    "    \"Recall\",\n",
    "    \"F1 Score\",\n",
    "    \"Mean IoU\",\n",
    "    \"Weighted IoU\",\n",
    "    \"Frequency Weighted IoU\",\n",
    "    \"Mean Dice\",\n",
    "    \"Mean Jaccard\"\n",
    "]\n",
    "overall_df = df[overall_columns].copy()\n",
    "\n",
    "# ------------------------------------------------------------------------------\n",
    "# 5) Create Per-Class Metrics DataFrame\n",
    "# ------------------------------------------------------------------------------\n",
    "per_class_columns = [\n",
    "    \"Model Name\",\n",
    "    \"Accuracy Class 0\", \"Accuracy Class 1\", \"Accuracy Class 2\",\n",
    "    \"Precision Class 0\", \"Precision Class 1\", \"Precision Class 2\",\n",
    "    \"Recall Class 0\", \"Recall Class 1\", \"Recall Class 2\",\n",
    "    \"F1 Score Class 0\", \"F1 Score Class 1\", \"F1 Score Class 2\",\n",
    "    \"IoU Class 0\", \"IoU Class 1\", \"IoU Class 2\",\n",
    "    \"Dice Coefficient Class 0\", \"Dice Coefficient Class 1\", \"Dice Coefficient Class 2\",\n",
    "    \"Jaccard Index Class 0\", \"Jaccard Index Class 1\", \"Jaccard Index Class 2\"\n",
    "]\n",
    "per_class_df = df[per_class_columns].copy()\n",
    "\n",
    "# ------------------------------------------------------------------------------\n",
    "# 6) Save the two DataFrames to Excel (overwrite if re-executed)\n",
    "# ------------------------------------------------------------------------------\n",
    "overall_excel_path = os.path.join(\"Results\", \"Overall_Metrics.xlsx\")\n",
    "per_class_excel_path = os.path.join(\"Results\", \"Per_Class_Metrics.xlsx\")\n",
    "\n",
    "overall_df.to_excel(overall_excel_path, index=False)\n",
    "per_class_df.to_excel(per_class_excel_path, index=False)\n",
    "\n",
    "print(f\"Saved overall metrics to: {overall_excel_path}\")\n",
    "print(f\"Saved per-class metrics to: {per_class_excel_path}\")\n"
   ]
  }
 ],
 "metadata": {
  "kernelspec": {
   "display_name": "Python 3",
   "language": "python",
   "name": "python3"
  },
  "language_info": {
   "codemirror_mode": {
    "name": "ipython",
    "version": 3
   },
   "file_extension": ".py",
   "mimetype": "text/x-python",
   "name": "python",
   "nbconvert_exporter": "python",
   "pygments_lexer": "ipython3",
   "version": "3.10.12"
  }
 },
 "nbformat": 4,
 "nbformat_minor": 2
}
